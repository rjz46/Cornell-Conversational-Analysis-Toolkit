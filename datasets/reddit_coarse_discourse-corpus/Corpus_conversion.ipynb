{
 "cells": [
  {
   "cell_type": "markdown",
   "metadata": {
    "colab_type": "text",
    "id": "Lw_Wr7Evp6dO"
   },
   "source": [
    "#Imports"
   ]
  },
  {
   "cell_type": "markdown",
   "metadata": {
    "colab_type": "text",
    "id": "view-in-github"
   },
   "source": [
    "<a href=\"https://colab.research.google.com/github/rjz46/Cornell-Conversational-Analysis-Toolkit/blob/master/datasets/reddit_coarse_discourse/Corpus_conversion.ipynb\" target=\"_parent\"><img src=\"https://colab.research.google.com/assets/colab-badge.svg\" alt=\"Open In Colab\"/></a>"
   ]
  },
  {
   "cell_type": "code",
   "execution_count": 1,
   "metadata": {
    "colab": {
     "base_uri": "https://localhost:8080/",
     "height": 1000
    },
    "colab_type": "code",
    "id": "U4lPXUFEECJv",
    "outputId": "fdd73b70-2c72-4f7d-e136-2bb8466520d7"
   },
   "outputs": [
    {
     "data": {
      "text/plain": [
       "['Corpus_conversion.ipynb',\n",
       " '.DS_Store',\n",
       " 'corpus',\n",
       " 'fetch_toxicity.ipynb',\n",
       " '.ipynb_checkpoints',\n",
       " 'toxicity_dictionary.json',\n",
       " 'readme.rst']"
      ]
     },
     "execution_count": 1,
     "metadata": {},
     "output_type": "execute_result"
    }
   ],
   "source": [
    "import os\n",
    "os.listdir()\n"
   ]
  },
  {
   "cell_type": "code",
   "execution_count": 2,
   "metadata": {},
   "outputs": [],
   "source": [
    "os.chdir('../..')"
   ]
  },
  {
   "cell_type": "code",
   "execution_count": 3,
   "metadata": {},
   "outputs": [
    {
     "data": {
      "text/plain": [
       "['LICENSE.md',\n",
       " 'convokit',\n",
       " '.DS_Store',\n",
       " 'requirements.txt',\n",
       " 'Makefile',\n",
       " 'website',\n",
       " 'datasets',\n",
       " 'tests',\n",
       " 'README.md',\n",
       " 'setup.py',\n",
       " '.gitignore',\n",
       " 'CONTRIBUTING.md',\n",
       " 'examples',\n",
       " 'doc',\n",
       " '.git']"
      ]
     },
     "execution_count": 3,
     "metadata": {},
     "output_type": "execute_result"
    }
   ],
   "source": [
    "os.listdir()"
   ]
  },
  {
   "cell_type": "code",
   "execution_count": 7,
   "metadata": {},
   "outputs": [],
   "source": [
    "import convokit"
   ]
  },
  {
   "cell_type": "code",
   "execution_count": 8,
   "metadata": {},
   "outputs": [
    {
     "data": {
      "text/plain": [
       "<module 'convokit' from '/Users/andrewsemmes/Documents/coarsediscoursegit/Cornell-Conversational-Analysis-Toolkit/convokit/__init__.py'>"
      ]
     },
     "execution_count": 8,
     "metadata": {},
     "output_type": "execute_result"
    }
   ],
   "source": [
    "convokit"
   ]
  },
  {
   "cell_type": "code",
   "execution_count": 9,
   "metadata": {
    "colab": {
     "base_uri": "https://localhost:8080/",
     "height": 119
    },
    "colab_type": "code",
    "id": "gv0S3-_bEybB",
    "outputId": "4371c65f-a9bb-44cd-86d8-8071f3a35f84"
   },
   "outputs": [
    {
     "ename": "ModuleNotFoundError",
     "evalue": "No module named 'google.colab'",
     "output_type": "error",
     "traceback": [
      "\u001b[0;31m---------------------------------------------------------------------------\u001b[0m",
      "\u001b[0;31mModuleNotFoundError\u001b[0m                       Traceback (most recent call last)",
      "\u001b[0;32m<ipython-input-9-04c2400e66c7>\u001b[0m in \u001b[0;36m<module>\u001b[0;34m\u001b[0m\n\u001b[1;32m      1\u001b[0m \u001b[0;32mimport\u001b[0m \u001b[0mgoogle\u001b[0m\u001b[0;34m\u001b[0m\u001b[0;34m\u001b[0m\u001b[0m\n\u001b[0;32m----> 2\u001b[0;31m \u001b[0;32mfrom\u001b[0m \u001b[0mgoogle\u001b[0m\u001b[0;34m.\u001b[0m\u001b[0mcolab\u001b[0m \u001b[0;32mimport\u001b[0m \u001b[0mdrive\u001b[0m\u001b[0;34m\u001b[0m\u001b[0;34m\u001b[0m\u001b[0m\n\u001b[0m\u001b[1;32m      3\u001b[0m \u001b[0mdrive\u001b[0m\u001b[0;34m.\u001b[0m\u001b[0mmount\u001b[0m\u001b[0;34m(\u001b[0m\u001b[0;34m'/content/gdrive'\u001b[0m\u001b[0;34m)\u001b[0m\u001b[0;34m\u001b[0m\u001b[0;34m\u001b[0m\u001b[0m\n",
      "\u001b[0;31mModuleNotFoundError\u001b[0m: No module named 'google.colab'"
     ]
    }
   ],
   "source": [
    "import google\n",
    "from google.colab import drive\n",
    "drive.mount('/content/gdrive')"
   ]
  },
  {
   "cell_type": "code",
   "execution_count": 10,
   "metadata": {},
   "outputs": [],
   "source": [
    "import convokit"
   ]
  },
  {
   "cell_type": "code",
   "execution_count": 11,
   "metadata": {
    "colab": {},
    "colab_type": "code",
    "id": "VHJBebM8qF0m"
   },
   "outputs": [],
   "source": [
    "from IPython.display import display as disp\n",
    "from zipfile import ZipFile\n",
    "\n",
    "import json\n",
    "import matplotlib.pyplot as plt\n",
    "import pandas as pd\n",
    "import os\n",
    "import seaborn as sns\n",
    "\n",
    "sns.set_style('white')"
   ]
  },
  {
   "cell_type": "markdown",
   "metadata": {
    "colab_type": "text",
    "id": "74FCvanlQ2d0"
   },
   "source": [
    "#Users: initialization"
   ]
  },
  {
   "cell_type": "code",
   "execution_count": 12,
   "metadata": {
    "cellView": "code",
    "colab": {
     "base_uri": "https://localhost:8080/",
     "height": 34
    },
    "colab_type": "code",
    "id": "zRcql6DNp08l",
    "outputId": "7ed3da30-ffd4-4f89-e471-a13d50e2bdb9"
   },
   "outputs": [
    {
     "ename": "FileNotFoundError",
     "evalue": "[Errno 2] No such file or directory: 'gdrive/My Drive/CS6742/coarse_discourse_dump_reddit_with_votes.json'",
     "output_type": "error",
     "traceback": [
      "\u001b[0;31m---------------------------------------------------------------------------\u001b[0m",
      "\u001b[0;31mFileNotFoundError\u001b[0m                         Traceback (most recent call last)",
      "\u001b[0;32m<ipython-input-12-f691257b93ff>\u001b[0m in \u001b[0;36m<module>\u001b[0;34m\u001b[0m\n\u001b[1;32m      3\u001b[0m \u001b[0mDELETED_USER_NAME\u001b[0m \u001b[0;34m=\u001b[0m \u001b[0;34m'[deleted]'\u001b[0m\u001b[0;34m\u001b[0m\u001b[0;34m\u001b[0m\u001b[0m\n\u001b[1;32m      4\u001b[0m \u001b[0;34m\u001b[0m\u001b[0m\n\u001b[0;32m----> 5\u001b[0;31m \u001b[0;32mwith\u001b[0m \u001b[0mopen\u001b[0m\u001b[0;34m(\u001b[0m\u001b[0;34m'gdrive/My Drive/CS6742/coarse_discourse_dump_reddit_with_votes.json'\u001b[0m\u001b[0;34m,\u001b[0m \u001b[0;34m'r'\u001b[0m\u001b[0;34m)\u001b[0m \u001b[0;32mas\u001b[0m \u001b[0mf\u001b[0m\u001b[0;34m:\u001b[0m\u001b[0;34m\u001b[0m\u001b[0;34m\u001b[0m\u001b[0m\n\u001b[0m\u001b[1;32m      6\u001b[0m   \u001b[0;32mfor\u001b[0m \u001b[0mline\u001b[0m \u001b[0;32min\u001b[0m \u001b[0mf\u001b[0m\u001b[0;34m:\u001b[0m\u001b[0;34m\u001b[0m\u001b[0;34m\u001b[0m\u001b[0m\n\u001b[1;32m      7\u001b[0m     \u001b[0mjson_obj\u001b[0m \u001b[0;34m=\u001b[0m \u001b[0mjson\u001b[0m\u001b[0;34m.\u001b[0m\u001b[0mloads\u001b[0m\u001b[0;34m(\u001b[0m\u001b[0mline\u001b[0m\u001b[0;34m)\u001b[0m\u001b[0;34m\u001b[0m\u001b[0;34m\u001b[0m\u001b[0m\n",
      "\u001b[0;31mFileNotFoundError\u001b[0m: [Errno 2] No such file or directory: 'gdrive/My Drive/CS6742/coarse_discourse_dump_reddit_with_votes.json'"
     ]
    }
   ],
   "source": [
    "#@title Load json and make dict called \"all_users\" \n",
    "user_names = set()\n",
    "DELETED_USER_NAME = '[deleted]'\n",
    "\n",
    "with open('gdrive/My Drive/CS6742/coarse_discourse_dump_reddit_with_votes.json', 'r') as f:\n",
    "  for line in f:\n",
    "    json_obj = json.loads(line)\n",
    "    for post in json_obj['posts']:\n",
    "      if 'author' in post:\n",
    "        user_names.add(post['author'])\n",
    "      else:\n",
    "        # I spot checked a post and comment, and it seems that a missing 'author' means it was deleted (post: t3_29mjj7, comment: t1_crzi5yt in reply to t3_391dim)\n",
    "        user_names.add(DELETED_USER_NAME)\n",
    "\n",
    "all_users = {user_name: convokit.User(name=user_name) for user_name in user_names}\n",
    "\n",
    "print(\"Created {} users\".format(len(all_users)))\n"
   ]
  },
  {
   "cell_type": "code",
   "execution_count": 0,
   "metadata": {
    "colab": {
     "base_uri": "https://localhost:8080/",
     "height": 102
    },
    "colab_type": "code",
    "id": "Gc4D92xkx2UG",
    "outputId": "56d4da80-1af8-482e-ad7a-4fa4c98b5066"
   },
   "outputs": [
    {
     "name": "stdout",
     "output_type": "stream",
     "text": [
      "\n",
      "Sample users:\n"
     ]
    },
    {
     "data": {
      "text/plain": [
       "[('BiLaKaifa', User([('name', 'BiLaKaifa')])),\n",
       " ('nats15', User([('name', 'nats15')])),\n",
       " ('onnela', User([('name', 'onnela')]))]"
      ]
     },
     "metadata": {
      "tags": []
     },
     "output_type": "display_data"
    }
   ],
   "source": [
    "#@title Check results\n",
    "print(\"\\nSample users:\")\n",
    "disp(list(all_users.items())[:3])"
   ]
  },
  {
   "cell_type": "markdown",
   "metadata": {
    "colab_type": "text",
    "id": "s6rBMo6JQ6gs"
   },
   "source": [
    "#Utterances"
   ]
  },
  {
   "cell_type": "code",
   "execution_count": 0,
   "metadata": {
    "cellView": "code",
    "colab": {},
    "colab_type": "code",
    "id": "6HllJBAYQ7wi"
   },
   "outputs": [],
   "source": [
    "#@title Make \"utterance_corpus\" dict\n",
    "'''\n",
    "\n",
    "id: index of the utterance\n",
    "user: the user who author the utterance\n",
    "root: index of the conversation root of the utterance\n",
    "reply_to: index of the utterance to which this utterance replies to (None if the utterance is not a reply)\n",
    "timestamp: time of the utterance\n",
    "text: textual content of the utterance\n",
    "\n",
    "meta: dictionary of utterance metadata\n",
    "    post_depth, \n",
    "    majority type\n",
    "    ann_types\n",
    "    majority_linkann_links\n",
    "    ups\n",
    "    \n",
    "'''\n",
    "user_names = set()\n",
    "DELETED_USER_NAME = '[deleted]'\n",
    "\n",
    "with open('gdrive/My Drive/CS6742/coarse_discourse_dump_reddit_with_votes.json', 'r') as f:\n",
    "  for line in f:\n",
    "    json_obj = json.loads(line)\n",
    "    for post in json_obj['posts']:\n",
    "      if 'author' in post:\n",
    "        user_names.add(post['author'])\n",
    "      else:\n",
    "        # I spot checked a post and comment, and it seems that a missing 'author' means it was deleted (post: t3_29mjj7, comment: t1_crzi5yt in reply to t3_391dim)\n",
    "        user_names.add(DELETED_USER_NAME)\n",
    "\n",
    "all_users = {user_name: convokit.User(name=user_name) for user_name in user_names}\n",
    "\n",
    "utterance_corpus = {}\n",
    "      \n",
    "with open('gdrive/My Drive/CS6742/coarse_discourse_dump_reddit_with_votes.json', 'r') as f:\n",
    "    for line in f:\n",
    "      json_obj = json.loads(line)\n",
    "\n",
    "      root = json_obj['posts'][0]['id']\n",
    "\n",
    "      for post in json_obj['posts']:\n",
    "        \n",
    "        idx = post['id'] \n",
    "        text = post['body'] if 'body' in post else None\n",
    "        user, post_depth, in_reply_to = None, None, None\n",
    "        \n",
    "        if 'author' in post:\n",
    "          user = post['author']\n",
    "        else:\n",
    "          user = DELETED_USER_NAME\n",
    "\n",
    "        if 'is_first_post' in post:\n",
    "          in_reply_to = None\n",
    "          post_depth = 0\n",
    "        else:\n",
    "          in_reply_to = post['in_reply_to']\n",
    "          post_depth = post['post_depth']\n",
    "\n",
    "        annotations = post['annotations']  \n",
    "  \n",
    "        metadata = {\n",
    "          'post_depth': post_depth,\n",
    "          'majority_type': post['majority_type'] if 'majority_type' in post else None,\n",
    "          'majority_link': post['majority_link'] if 'majority_link' in post else None,\n",
    "          'annotation-types': [annotation['main_type'] for annotation in annotations],\n",
    "          'annotation-links': [annotation['link_to_post'] if 'link_to_post' in annotation else None for annotation in annotations],\n",
    "          'ups': post['ups'] if 'ups' in post else None\n",
    "\n",
    "        }\n",
    "\n",
    "        utterance_corpus[idx] = convokit.Utterance(idx, all_users[user], root, in_reply_to, None, text, meta=metadata)\n",
    "      \n",
    "    "
   ]
  },
  {
   "cell_type": "code",
   "execution_count": 0,
   "metadata": {
    "colab": {
     "base_uri": "https://localhost:8080/",
     "height": 411
    },
    "colab_type": "code",
    "id": "5AzgTHJ19N0O",
    "outputId": "5d3e3e8a-589e-48c3-c6fb-0b23e0da759f"
   },
   "outputs": [
    {
     "name": "stdout",
     "output_type": "stream",
     "text": [
      "63573\n",
      "115827\n"
     ]
    },
    {
     "data": {
      "text/plain": [
       "[('t3_1bx6qw',\n",
       "  Utterance({'id': 't3_1bx6qw', 'user': User([('name', 'DTX120')]), 'root': 't3_1bx6qw', 'reply_to': None, 'timestamp': None, 'text': \"4/7/13  \\n\\n7/27/12  \\n\\nhttp://www.imdb.com/title/tt0073440/reference\\n\\nIt was only a few minutes into Robert Altman's homespun epic *Nashville* that I got the feeling I was watching a great movie. By the end it could not be denied. Now I'm sure it helps that I'm a musician, since this created an immediate connection to the subject matter. I spent a portion of the movie with my Telecaster in my lap trying to play along with the characters who all seem to be really playing and singing these songs. However I also am *not* a fan of country western, so that could have easily been a turn off.  \\n\\nTo begin describing the action in the film is daunting. I can't even process a lot of what I saw. This movie is extremely dense, and the first 30 minutes or so are spent just trying to figure out who people are. Their relationships to one another - some of which are purely incidental - slowly become clear as things progress. It's an ensemble cast with no clear lead and lots of overlapping conversations. Some developments all tie together in the end. Some seem to be kind of loose ends. There is throughout, however, a very keen sense about people. These naturalistic performances are believable and so is the world they inhabit. It feels like a film that doesn't exaggerate - rather, it downplays some of the outrageousness which just makes it seem all the more outrageous. Consider for example Shelley Duvall's wig or Jeff Goldblum's entire character.  \\n\\nI feel I should mention this. Jeff Goldblum is in this film. He never speaks, and he is awesome.  \\n\\n*Nashville* is a musical. There is reportedly around an hour of music in its 150+ minute run time. I believe it. Sometimes these songs, most if not all of which are original, seem to speak pointedly to or about a character. Sometimes it's all about the shifts and glances in the audience. There are many memorable scenes, such as when a fragile country starlet spaces out on stage and begins rambling between numbers, or a disenchanted housewife waits at the back of a bar for a womanizing folk singer, or a poor deceived waitress is goaded into a striptease by a raucous crowd and still refuses to believe that she can't actually sing.   \\n\\nThis is rich film, a complex tapestry perfectly suited to a moment in time (the US Bicentennial) that seems as though it will reward additional viewings. I sometimes become fidgety during long movies but I was never bored with *Nashville*. It swept me along with its quirky and interesting characters to a climax that maybe I should have seen coming.  \\n\\n8/10\", 'meta': {'post_depth': 0, 'majority_type': 'announcement', 'majority_link': 'none', 'annotation-types': ['announcement', 'announcement', 'announcement'], 'annotation-links': ['none', 'none', 'none'], 'ups': 3}})),\n",
       " ('t1_c9b2nyd',\n",
       "  Utterance({'id': 't1_c9b2nyd', 'user': User([('name', 'mcgrewf10')]), 'root': 't3_1bx6qw', 'reply_to': 't3_1bx6qw', 'timestamp': None, 'text': \"I've wanted to watch this for a long time. I was also turned off by the country western aspect.\", 'meta': {'post_depth': 1, 'majority_type': 'elaboration', 'majority_link': 't3_1bx6qw', 'annotation-types': ['agreement', 'elaboration', 'elaboration'], 'annotation-links': ['t3_1bx6qw', 't3_1bx6qw', 't3_1bx6qw'], 'ups': 2}})),\n",
       " ('t1_c9b30i1',\n",
       "  Utterance({'id': 't1_c9b30i1', 'user': User([('name', 'DTX120')]), 'root': 't3_1bx6qw', 'reply_to': 't1_c9b2nyd', 'timestamp': None, 'text': \"You strike me as the type who would appreciate it. I would give it a go. This is also my first Altman film so I didn't really know what to expect, except that people always compare PTA's Boogie Nights and Magnolia as being influenced by Altman. Magnolia is probably the best analog in terms of structure (having no lead character) but it is stylistically very different, much more melodramatic and transparently earnest. \", 'meta': {'post_depth': 2, 'majority_type': 'elaboration', 'majority_link': 't1_c9b2nyd', 'annotation-types': ['elaboration', 'elaboration', 'elaboration'], 'annotation-links': ['t1_c9b2nyd', 't1_c9b2nyd', 't1_c9b2nyd'], 'ups': 1}})),\n",
       " ('t1_c9b6sj0',\n",
       "  Utterance({'id': 't1_c9b6sj0', 'user': User([('name', 'mcgrewf10')]), 'root': 't3_1bx6qw', 'reply_to': 't1_c9b30i1', 'timestamp': None, 'text': \"Yeah, I've always heard that Altman was famous for his ensemble casts. But I, too, have never seen an Altman.\", 'meta': {'post_depth': 3, 'majority_type': 'elaboration', 'majority_link': 't1_c9b30i1', 'annotation-types': ['agreement', 'elaboration', 'elaboration'], 'annotation-links': ['t1_c9b30i1', 't1_c9b30i1', 't1_c9b30i1'], 'ups': 1}})),\n",
       " ('t3_omv7p',\n",
       "  Utterance({'id': 't3_omv7p', 'user': User([('name', 'Keatonus')]), 'root': 't3_omv7p', 'reply_to': None, 'timestamp': None, 'text': \"Alright guys, little background about myself. I'm a good looking, 23 year old male, have had modest success in the past with women, but have decided that modest just isn't good enough anymore.\\n\\nThe problem has never been a lack of attention, or opportunity. It's just been not having the killer instinct and extreme AA, to the point where women will basically EYE FUCK me, and I still don't have the testicular fortitude to say anything unless they say something first.\\n\\nMy goal is to approach 100 sets by the end of April, and hopefully break my AA.\", 'meta': {'post_depth': 0, 'majority_type': 'announcement', 'majority_link': 'none', 'annotation-types': ['announcement', 'announcement', 'announcement'], 'annotation-links': ['none', 'none', 'none'], 'ups': 6}})),\n",
       " ('t1_c3igqif',\n",
       "  Utterance({'id': 't1_c3igqif', 'user': User([('name', 'Keatonus')]), 'root': 't3_omv7p', 'reply_to': 't3_omv7p', 'timestamp': None, 'text': '**January 16th 3 Sets:** \\nWent out shopping with my grandma as I visited her. We go to a Factory store. Opened 3 sets.\\n\\n* First Set: was the changing room gal, HB 6 cute asian gal. Asked her a lot of questions about what i was wearing. Made her laugh several times with corny jokes, introduced her to my grandma, and we all talked for a minute after I was done picking out the clothes I wanted and left. \\n\\n* Second set: was this older gal, mid 40\\'s. Wouldn\\'t give her an HB because it was more of just a casual chat about the outfit I put on. She said she didn\\'t like it, I responded with \"aw, I\\'m not attractive?!\" and she said \"I never said that haha\" and grinned. I gave her a wink as she continued laughing and went into her stall.\\n\\n* Third set:  **NUMBER CLOSE** As me and my Grandma are waiting in line to be helped checking out, and HB7 walks to the register and helps us. We IMMEDIATELY small talk. Exchanging intellectual talking points such as martyrs and assassinations, making her laugh with jokes, poking fun at her, transitioned to talking about movies, and she suggested I watch one. The Darjeeling Limited, I gave her a queer look, she then rolled out some receipt to write it down. I asked her to put her name down there too. She did, and then said \"Want my number so you can tell me when you watch it?\" I obliged her saying \"Yeah, that could work\". It was only after I got her number she even ACKNOWLEDGED my grandmother being ONE FOOT next to me the whole time! HAHA. She asked who she was, I said my Grandmother. Mind you I look completely white, and my grandmother is full Japanese. We talked for a bit about my grandma and the war, and how my grandma was bombed etc. Then I take my leave and text her about an hour later. We have been talking since.\\n\\nTL;DR: Got a number with my Grandma right next to me!', 'meta': {'post_depth': 1, 'majority_type': 'elaboration', 'majority_link': 't3_omv7p', 'annotation-types': ['elaboration', 'elaboration', 'elaboration'], 'annotation-links': ['t3_omv7p', 't3_omv7p', 't3_omv7p'], 'ups': 5}})),\n",
       " ('t1_c3imrkb',\n",
       "  Utterance({'id': 't1_c3imrkb', 'user': User([('name', 'rakendrachen')]), 'root': 't3_omv7p', 'reply_to': 't1_c3igqif', 'timestamp': None, 'text': 'grandmas are the best wingmen.', 'meta': {'post_depth': 2, 'majority_type': 'humor', 'majority_link': 't1_c3igqif', 'annotation-types': ['humor', 'appreciation', 'humor'], 'annotation-links': ['t1_c3igqif', 't1_c3igqif', 't1_c3igqif'], 'ups': 3}})),\n",
       " ('t1_c3ij8z0',\n",
       "  Utterance({'id': 't1_c3ij8z0', 'user': User([('name', 'answerorreply')]), 'root': 't3_omv7p', 'reply_to': 't3_omv7p', 'timestamp': None, 'text': \"dude, these sets are awesome. You're doing great. Sounds like you're a natural at meeting people once you get past the AA.\", 'meta': {'post_depth': 1, 'majority_type': 'appreciation', 'majority_link': 't3_omv7p', 'annotation-types': ['appreciation', 'appreciation', 'appreciation'], 'annotation-links': ['t3_omv7p', 't3_omv7p', 't3_omv7p'], 'ups': 2}})),\n",
       " ('t1_c3inx9t',\n",
       "  Utterance({'id': 't1_c3inx9t', 'user': User([('name', 'Keatonus')]), 'root': 't3_omv7p', 'reply_to': 't1_c3ij8z0', 'timestamp': None, 'text': 'Thanks man! Yeah I\\'m trying to just keep the \"who cares have fun\" attitude on. Because normally I freak out about what to say. But I find if I just bring a subject up and get some momentum going, I\\'m actually a pretty good conversationalist.', 'meta': {'post_depth': 2, 'majority_type': 'appreciation', 'majority_link': 't1_c3ij8z0', 'annotation-types': ['appreciation', 'appreciation', 'appreciation'], 'annotation-links': ['t1_c3ij8z0', 't1_c3ij8z0', 't1_c3ij8z0'], 'ups': 1}})),\n",
       " ('t1_c3k2lc1',\n",
       "  Utterance({'id': 't1_c3k2lc1', 'user': User([('name', 'Keatonus')]), 'root': 't3_omv7p', 'reply_to': 't3_omv7p', 'timestamp': None, 'text': \"Ok. Update! Sorry I haven't been doing this day to day like I should be. Let me see what I can remember\\n\\n**January 17-23 Sets:** Various sets I remember opening, unfortunately no number closes. Just good old fashioned chit chatting.\\n\\n* 4th set: During the 49ers and Giants game I went to grab a bite to eat at the local burger joint. Before ordering since no line was behind me I decided to small talk with the Female at the register HB5. Mostly talked about sports, a little about myself, and her coworker HB6 joined in the conversation. This lasted about 5 minutes, learned both had boyfriends through small talk and proceeded to order.\\n\\n* 5th set: Also small talked with the female who works at my local grocery chain. She was new there, we talked about the rain of all things haha. Male coworker semi interrupted us, still small talked with both. Then ordered my drink.\\n\\nBlahhh, I know there's more than this...Hence why I should try to update every day. Be back soon guys.\", 'meta': {'post_depth': 1, 'majority_type': 'elaboration', 'majority_link': 't3_omv7p', 'annotation-types': ['elaboration', 'elaboration', 'elaboration'], 'annotation-links': ['t3_omv7p', 't3_omv7p', 't3_omv7p'], 'ups': 1}}))]"
      ]
     },
     "metadata": {
      "tags": []
     },
     "output_type": "display_data"
    }
   ],
   "source": [
    "print(len(user_names))\n",
    "print(len(utterance_corpus))\n",
    "disp(list(utterance_corpus.items())[:10])"
   ]
  },
  {
   "cell_type": "markdown",
   "metadata": {
    "colab_type": "text",
    "id": "aWyST0CERBu4"
   },
   "source": [
    "#Conversation"
   ]
  },
  {
   "cell_type": "code",
   "execution_count": 0,
   "metadata": {
    "cellView": "code",
    "colab": {},
    "colab_type": "code",
    "id": "EnGlyyKJREmd"
   },
   "outputs": [],
   "source": [
    "#@title Make \"conversation_corpus\" dict\n",
    "\n",
    "conversation_corpus = {}\n",
    "with open('gdrive/My Drive/CS6742/coarse_discourse_dump_reddit_with_votes.json', 'r') as f:\n",
    "  for line in f:\n",
    "    json_obj = json.loads(line)\n",
    "    \n",
    "    posts = json_obj[\"posts\"]\n",
    "    first = posts[0]\n",
    "    \n",
    "    #print(first)\n",
    "    \n",
    "    if(first.get('author')!=None):\n",
    "      owner = first['author']\n",
    "    else:\n",
    "      owner = '[deleted]'\n",
    "    \n",
    "    convo_id = first['id'][:]\n",
    "    \n",
    "    comments = []\n",
    "    \n",
    "    for comment in posts[:]:\n",
    "      comments.append(comment['id'][:])\n",
    "    \n",
    "    meta_data = {\n",
    "        \"subreddit\": json_obj['subreddit'], \n",
    "        \"url\": json_obj['url'],\n",
    "        \"title\": json_obj['title']}\n",
    "    \n",
    "    conversation_corpus[convo_id] = convokit.Conversation(owner, convo_id, comments, meta_data)\n",
    "    "
   ]
  },
  {
   "cell_type": "code",
   "execution_count": 0,
   "metadata": {
    "colab": {
     "base_uri": "https://localhost:8080/",
     "height": 54
    },
    "colab_type": "code",
    "id": "hSkmNrNeti-f",
    "outputId": "6d7a2277-df5f-4cfa-c016-8bbb5d875131"
   },
   "outputs": [
    {
     "name": "stdout",
     "output_type": "stream",
     "text": [
      "Conversation({'_owner': 'DTX120', '_id': 't3_1bx6qw', '_utterance_ids': ['t3_1bx6qw', 't1_c9b2nyd', 't1_c9b30i1', 't1_c9b6sj0'], '_usernames': None, '_meta': {'subreddit': '100movies365days', 'url': 'https://www.reddit.com/r/100movies365days/comments/1bx6qw/dtx120_87_nashville/', 'title': 'DTX120: #87 - Nashville'}})\n"
     ]
    }
   ],
   "source": [
    "print(conversation_corpus['t3_1bx6qw'])"
   ]
  },
  {
   "cell_type": "markdown",
   "metadata": {
    "colab_type": "text",
    "id": "JtIeE635wzTH"
   },
   "source": [
    "# Users: add utterances"
   ]
  },
  {
   "cell_type": "code",
   "execution_count": 0,
   "metadata": {
    "cellView": "code",
    "colab": {
     "base_uri": "https://localhost:8080/",
     "height": 255
    },
    "colab_type": "code",
    "id": "-LFLT3tLxNC-",
    "outputId": "fd8f6aae-91a8-4e1b-c36f-1e106e6b67cc"
   },
   "outputs": [
    {
     "name": "stdout",
     "output_type": "stream",
     "text": [
      "All test users, with associated utterance keys:\n",
      "\tUser ID: user1 \tUtterance keys: ['id1.1', 'id1.2']\n",
      "\tUser ID: user2 \tUtterance keys: ['id2.1']\n",
      "\tUser ID: user3 \tUtterance keys: []\n",
      "\n",
      "All test users, with associated convo keys:\n",
      "\tUser ID: user1 \tConvo keys: ['id1.1', 'id1.2']\n",
      "\tUser ID: user2 \tConvo keys: []\n",
      "\tUser ID: user3 \tConvo keys: []\n",
      "\n",
      "All test utterances, with associated user, and user's associated utterance keys:\n",
      "\tUtt. ID: id1.1 \tUser ID: user1 \tUser's utt. keys: ['id1.1', 'id1.2']\n",
      "\tUtt. ID: id1.2 \tUser ID: user1 \tUser's utt. keys: ['id1.1', 'id1.2']\n",
      "\tUtt. ID: id2.1 \tUser ID: user2 \tUser's utt. keys: ['id2.1']\n"
     ]
    }
   ],
   "source": [
    "#@title Test that adding utterances to users also updates user object attached to utterances\n",
    "\n",
    "test_users = {user_name: convokit.User(name=user_name) for user_name in ['user1', 'user2', 'user3']}\n",
    "\n",
    "test_utterances = {\n",
    "    'id1.1': convokit.Utterance('id1.1', test_users['user1'], None, None, None, 'some_text'),\n",
    "    'id1.2': convokit.Utterance('id1.2', test_users['user1'], None, None, None, 'some_text'),\n",
    "    'id2.1': convokit.Utterance('id2.1', test_users['user2'], None, None, None, 'some_text'),\n",
    "}\n",
    "\n",
    "test_convos = {\n",
    "    'id1.1': convokit.Conversation(owner=None, id=\"id1.1\", utterances=['id1.1', 'id2.1']),\n",
    "    'id1.2': convokit.Conversation(owner=None, id=\"id1.2\", utterances=['id1.2'])\n",
    "    \n",
    "}\n",
    "\n",
    "\n",
    "for utt in test_utterances.values():\n",
    "  utt.user.utterances[utt.id] = utt\n",
    "  \n",
    "for i, convo in enumerate(test_convos.values()):\n",
    "  top_post = test_utterances[convo.id]\n",
    "  top_post.user.conversations[convo.id] = convo\n",
    "\n",
    "print(\"All test users, with associated utterance keys:\")\n",
    "for uid, user in test_users.items():\n",
    "  print(\"\\tUser ID: {} \\tUtterance keys: {}\".format(uid, list(user.utterances.keys())))\n",
    "  \n",
    "print()\n",
    "\n",
    "print(\"All test users, with associated convo keys:\")\n",
    "for uid, user in test_users.items():\n",
    "  print(\"\\tUser ID: {} \\tConvo keys: {}\".format(uid, list(user.conversations.keys())))\n",
    "  \n",
    "print()\n",
    "\n",
    "print(\"All test utterances, with associated user, and user's associated utterance keys:\")\n",
    "for utt_id, utt in test_utterances.items():\n",
    "  print(\"\\tUtt. ID: {} \\tUser ID: {} \\tUser's utt. keys: {}\".format(utt_id, utt.user.name, list(utt.user.utterances.keys())))"
   ]
  },
  {
   "cell_type": "code",
   "execution_count": 0,
   "metadata": {
    "cellView": "code",
    "colab": {
     "base_uri": "https://localhost:8080/",
     "height": 34
    },
    "colab_type": "code",
    "id": "B68lLhOL7lZe",
    "outputId": "8caeaa98-0216-4748-9df7-cbbc90930c55"
   },
   "outputs": [
    {
     "name": "stdout",
     "output_type": "stream",
     "text": [
      "Added 115827 utterances to all_users\n"
     ]
    }
   ],
   "source": [
    "#@title Add utterances to all_users\n",
    "\n",
    "for i, utt in enumerate(utterance_corpus.values()):\n",
    "  utt.user.utterances[utt.id] = utt\n",
    "  \n",
    "print(\"Added {} utterances to all_users\".format(i+1))"
   ]
  },
  {
   "cell_type": "code",
   "execution_count": 0,
   "metadata": {
    "cellView": "code",
    "colab": {
     "base_uri": "https://localhost:8080/",
     "height": 34
    },
    "colab_type": "code",
    "id": "l_s8hr3s8L5C",
    "outputId": "e207aad9-b3c8-479f-80d3-c5319e6ca4c1"
   },
   "outputs": [
    {
     "name": "stdout",
     "output_type": "stream",
     "text": [
      "Added 9483 convos to all_users\n"
     ]
    }
   ],
   "source": [
    "#@title Add convos to all_users\n",
    "for i, convo in enumerate(conversation_corpus.values()):\n",
    "  top_post = utterance_corpus[convo.id]\n",
    "  top_post.user.conversations[convo.id] = convo\n",
    "  \n",
    "print(\"Added {} convos to all_users\".format(i+1))"
   ]
  },
  {
   "cell_type": "markdown",
   "metadata": {
    "colab_type": "text",
    "id": "uZjT-W8hRFBq"
   },
   "source": [
    "#Corpus"
   ]
  },
  {
   "cell_type": "code",
   "execution_count": 0,
   "metadata": {
    "colab": {
     "base_uri": "https://localhost:8080/",
     "height": 207
    },
    "colab_type": "code",
    "id": "mOuhP1JPRG8t",
    "outputId": "bd8e74a3-f0f5-482c-a588-72f1f9f86526"
   },
   "outputs": [
    {
     "name": "stdout",
     "output_type": "stream",
     "text": [
      "sample conversation t3_1bx6qw:\n",
      "Meta:  {'subreddit': '100movies365days', 'url': 'https://www.reddit.com/r/100movies365days/comments/1bx6qw/dtx120_87_nashville/', 'title': 'DTX120: #87 - Nashville'}\n",
      "sample conversation t3_omv7p:\n",
      "Meta:  {'subreddit': '100sets', 'url': 'https://www.reddit.com/r/100sets/comments/omv7p/male_23_years_old_going_for_100_sets/', 'title': 'Male, 23 years old. Going for 100 sets!'}\n",
      "sample conversation t3_259tbh:\n",
      "Meta:  {'subreddit': '1200isplenty', 'url': 'https://www.reddit.com/r/1200isplenty/comments/259tbh/122cal_black_currant_cheesecake/', 'title': '122cal black currant cheesecake!'}\n",
      "sample conversation t3_16h61h:\n",
      "Meta:  {'subreddit': '1911', 'url': 'https://www.reddit.com/r/1911/comments/16h61h/need_help_finding_a_springfield/', 'title': 'Need help finding a Springfield!'}\n",
      "sample conversation t3_35igzp:\n",
      "Meta:  {'subreddit': '1911', 'url': 'https://www.reddit.com/r/1911/comments/35igzp/help_with_a_possible_trade/', 'title': 'Help with a possible trade?'}\n"
     ]
    }
   ],
   "source": [
    "#@title Create corpus and add conversation metadata\n",
    "utterance_list = [utterance for k,utterance in utterance_corpus.items()]\n",
    "reddit_corpus = convokit.Corpus(utterances=utterance_list, version=1)\n",
    "\n",
    "for convo_id in reddit_corpus.get_conversation_ids():\n",
    "  reddit_corpus.get_conversation(convo_id).meta = conversation_corpus[convo_id].meta\n",
    "\n",
    "convo_ids = reddit_corpus.get_conversation_ids()\n",
    "for i, convo_idx in enumerate(convo_ids[0:5]):\n",
    "    print(\"sample conversation {}:\".format(convo_idx))\n",
    "    convo = reddit_corpus.get_conversation(convo_idx)\n",
    "    user_id = convo.get_utterance(convo.id).user.name\n",
    "    print(\"Meta: \", convo.meta)\n"
   ]
  },
  {
   "cell_type": "code",
   "execution_count": 0,
   "metadata": {
    "cellView": "code",
    "colab": {
     "base_uri": "https://localhost:8080/",
     "height": 395
    },
    "colab_type": "code",
    "id": "0E0LEGX1QsBN",
    "outputId": "2a04d5c0-418f-4c3a-b9d3-2d28a8ca5091"
   },
   "outputs": [
    {
     "ename": "KeyboardInterrupt",
     "evalue": "ignored",
     "output_type": "error",
     "traceback": [
      "\u001b[0;31m---------------------------------------------------------------------------\u001b[0m",
      "\u001b[0;31mKeyboardInterrupt\u001b[0m                         Traceback (most recent call last)",
      "\u001b[0;32m<ipython-input-19-968303756e32>\u001b[0m in \u001b[0;36m<module>\u001b[0;34m()\u001b[0m\n\u001b[0;32m----> 1\u001b[0;31m \u001b[0mreddit_corpus\u001b[0m\u001b[0;34m.\u001b[0m\u001b[0mdump\u001b[0m\u001b[0;34m(\u001b[0m\u001b[0;34m\"reddit_coarse_discourse\"\u001b[0m\u001b[0;34m,\u001b[0m \u001b[0mbase_path\u001b[0m \u001b[0;34m=\u001b[0m \u001b[0;34m\"gdrive/My Drive/CS6742/\"\u001b[0m\u001b[0;34m)\u001b[0m\u001b[0;34m\u001b[0m\u001b[0;34m\u001b[0m\u001b[0m\n\u001b[0m\u001b[1;32m      2\u001b[0m \u001b[0;34m\u001b[0m\u001b[0m\n\u001b[1;32m      3\u001b[0m \u001b[0;32mwith\u001b[0m \u001b[0mZipFile\u001b[0m\u001b[0;34m(\u001b[0m\u001b[0;34m\"gdrive/My Drive/CS6742/reddit_coarse_discourse.zip\"\u001b[0m\u001b[0;34m,\u001b[0m \u001b[0;34m'w'\u001b[0m\u001b[0;34m)\u001b[0m \u001b[0;32mas\u001b[0m \u001b[0mzip_f\u001b[0m\u001b[0;34m:\u001b[0m\u001b[0;34m\u001b[0m\u001b[0;34m\u001b[0m\u001b[0m\n\u001b[1;32m      4\u001b[0m   \u001b[0;32mfor\u001b[0m \u001b[0mfname\u001b[0m \u001b[0;32min\u001b[0m \u001b[0mos\u001b[0m\u001b[0;34m.\u001b[0m\u001b[0mlistdir\u001b[0m\u001b[0;34m(\u001b[0m\u001b[0;34m\"gdrive/My Drive/CS6742/reddit_coarse_discourse\"\u001b[0m\u001b[0;34m)\u001b[0m\u001b[0;34m:\u001b[0m\u001b[0;34m\u001b[0m\u001b[0;34m\u001b[0m\u001b[0m\n\u001b[1;32m      5\u001b[0m     \u001b[0mzip_f\u001b[0m\u001b[0;34m.\u001b[0m\u001b[0mwrite\u001b[0m\u001b[0;34m(\u001b[0m\u001b[0;34m\"gdrive/My Drive/CS6742/reddit_coarse_discourse/\"\u001b[0m\u001b[0;34m+\u001b[0m\u001b[0mfname\u001b[0m\u001b[0;34m)\u001b[0m\u001b[0;34m\u001b[0m\u001b[0;34m\u001b[0m\u001b[0m\n",
      "\u001b[0;32m/usr/local/lib/python3.6/dist-packages/convokit/model/corpus.py\u001b[0m in \u001b[0;36mdump\u001b[0;34m(self, name, base_path, save_to_existing_path)\u001b[0m\n\u001b[1;32m    328\u001b[0m                     \u001b[0mKeyTimestamp\u001b[0m\u001b[0;34m:\u001b[0m \u001b[0mut\u001b[0m\u001b[0;34m.\u001b[0m\u001b[0mtimestamp\u001b[0m\u001b[0;34m\u001b[0m\u001b[0;34m\u001b[0m\u001b[0m\n\u001b[1;32m    329\u001b[0m                 }\n\u001b[0;32m--> 330\u001b[0;31m                 \u001b[0mjson\u001b[0m\u001b[0;34m.\u001b[0m\u001b[0mdump\u001b[0m\u001b[0;34m(\u001b[0m\u001b[0mut_obj\u001b[0m\u001b[0;34m,\u001b[0m \u001b[0mf\u001b[0m\u001b[0;34m)\u001b[0m\u001b[0;34m\u001b[0m\u001b[0;34m\u001b[0m\u001b[0m\n\u001b[0m\u001b[1;32m    331\u001b[0m                 \u001b[0mf\u001b[0m\u001b[0;34m.\u001b[0m\u001b[0mwrite\u001b[0m\u001b[0;34m(\u001b[0m\u001b[0;34m\"\\n\"\u001b[0m\u001b[0;34m)\u001b[0m\u001b[0;34m\u001b[0m\u001b[0;34m\u001b[0m\u001b[0m\n\u001b[1;32m    332\u001b[0m \u001b[0;34m\u001b[0m\u001b[0m\n",
      "\u001b[0;32m/usr/lib/python3.6/json/__init__.py\u001b[0m in \u001b[0;36mdump\u001b[0;34m(obj, fp, skipkeys, ensure_ascii, check_circular, allow_nan, cls, indent, separators, default, sort_keys, **kw)\u001b[0m\n\u001b[1;32m    178\u001b[0m     \u001b[0;31m# a debuggability cost\u001b[0m\u001b[0;34m\u001b[0m\u001b[0;34m\u001b[0m\u001b[0;34m\u001b[0m\u001b[0m\n\u001b[1;32m    179\u001b[0m     \u001b[0;32mfor\u001b[0m \u001b[0mchunk\u001b[0m \u001b[0;32min\u001b[0m \u001b[0miterable\u001b[0m\u001b[0;34m:\u001b[0m\u001b[0;34m\u001b[0m\u001b[0;34m\u001b[0m\u001b[0m\n\u001b[0;32m--> 180\u001b[0;31m         \u001b[0mfp\u001b[0m\u001b[0;34m.\u001b[0m\u001b[0mwrite\u001b[0m\u001b[0;34m(\u001b[0m\u001b[0mchunk\u001b[0m\u001b[0;34m)\u001b[0m\u001b[0;34m\u001b[0m\u001b[0;34m\u001b[0m\u001b[0m\n\u001b[0m\u001b[1;32m    181\u001b[0m \u001b[0;34m\u001b[0m\u001b[0m\n\u001b[1;32m    182\u001b[0m \u001b[0;34m\u001b[0m\u001b[0m\n",
      "\u001b[0;31mKeyboardInterrupt\u001b[0m: "
     ]
    }
   ],
   "source": [
    "# @title Save to file and zip\n",
    "reddit_corpus.dump(\"reddit_coarse_discourse\", base_path = \"gdrive/My Drive/CS6742/\")\n",
    "\n",
    "with ZipFile(\"gdrive/My Drive/CS6742/reddit_coarse_discourse.zip\", 'w') as zip_f:\n",
    "  for fname in os.listdir(\"gdrive/My Drive/CS6742/reddit_coarse_discourse\"):\n",
    "    zip_f.write(\"gdrive/My Drive/CS6742/reddit_coarse_discourse/\"+fname)"
   ]
  },
  {
   "cell_type": "code",
   "execution_count": 0,
   "metadata": {
    "cellView": "form",
    "colab": {
     "base_uri": "https://localhost:8080/",
     "height": 119
    },
    "colab_type": "code",
    "id": "rirZ-FNFfVal",
    "outputId": "0d5512f4-0da7-4f98-b60b-3bba68ee36c6"
   },
   "outputs": [
    {
     "name": "stdout",
     "output_type": "stream",
     "text": [
      "115827\n",
      "9483\n",
      "63573\n",
      "Number of Users: 63573\n",
      "Number of Utterances: 115827\n",
      "Number of Conversations: 9483\n"
     ]
    }
   ],
   "source": [
    "#@title Show stats\n",
    "\n",
    "print(len(reddit_corpus.get_utterance_ids()))\n",
    "print(len(reddit_corpus.get_conversation_ids()))\n",
    "print(len(reddit_corpus.get_usernames()))\n",
    "reddit_corpus.print_summary_stats()"
   ]
  },
  {
   "cell_type": "markdown",
   "metadata": {
    "colab_type": "text",
    "id": "p3_-wTJ-ftnN"
   },
   "source": [
    "# Part D: Stats and politeness transform"
   ]
  },
  {
   "cell_type": "markdown",
   "metadata": {
    "colab_type": "text",
    "id": "o5ZGJxemEfVz"
   },
   "source": [
    "##Discourse type stats"
   ]
  },
  {
   "cell_type": "code",
   "execution_count": 0,
   "metadata": {
    "colab": {},
    "colab_type": "code",
    "id": "_8vnE_4zvgd2"
   },
   "outputs": [],
   "source": [
    "type_corpus = {}\n",
    "type_list = []\n",
    "\n",
    "for x in utterance_corpus:\n",
    "  #type_corpus[x] = utterance_corpus[x].meta[\"majority_type\"]\n",
    "  if(utterance_corpus[x].meta[\"majority_type\"]==None):\n",
    "    type_list.append(\"no consensus\")\n",
    "  else:\n",
    "    type_list.append(utterance_corpus[x].meta[\"majority_type\"])\n",
    "  \n",
    "#print(type_list)\n",
    "\n",
    "from collections import Counter\n",
    "\n",
    "ctrdata = Counter(type_list)"
   ]
  },
  {
   "cell_type": "code",
   "execution_count": 0,
   "metadata": {
    "colab": {
     "base_uri": "https://localhost:8080/",
     "height": 442
    },
    "colab_type": "code",
    "id": "qwIIIVs8ySGU",
    "outputId": "eded14bc-5bb7-4c3e-8121-6d334ec04b9c"
   },
   "outputs": [
    {
     "name": "stdout",
     "output_type": "stream",
     "text": [
      "announcement 2002 1.73%\n",
      "elaboration 19258 16.63%\n",
      "humor 2417 2.09%\n",
      "appreciation 8710 7.52%\n",
      "question 17594 15.19%\n",
      "answer 41162 35.54%\n",
      "no consensus 12277 10.6%\n",
      "agreement 5040 4.35%\n",
      "negativereaction 1896 1.64%\n",
      "disagreement 3422 2.95%\n",
      "other 2049 1.77%\n"
     ]
    },
    {
     "data": {
      "image/png": "[encoded data removed]",
      "text/plain": [
       "<Figure size 432x288 with 1 Axes>"
      ]
     },
     "metadata": {
      "tags": []
     },
     "output_type": "display_data"
    }
   ],
   "source": [
    "#https://pythontic.com/visualization/charts/piechart\n",
    "import matplotlib.pyplot as plotter\n",
    "\n",
    "for x in ctrdata:\n",
    "  y = ctrdata[x]\n",
    "  percenty = y / 115827 * 100;\n",
    "  print(x + \" \" + str(y) + \" \" + str(round(percenty,2)) + \"%\")\n",
    "\n",
    "uttlabels = ctrdata.keys()\n",
    "data = ctrdata.values()\n",
    "\n",
    "explode = (0.8, 0.0, 0.6, 0.0, 0.0, 0.0, 0.0, 0.0, 0.2, 0.4, 0.6)\n",
    "\n",
    "figureObject, axesObject = plotter.subplots()\n",
    "\n",
    "# Draw the pie chart\n",
    "\n",
    "axesObject.pie(data,explode=explode,\n",
    "\n",
    "        labels=uttlabels,\n",
    "\n",
    "        autopct='%1.2f',\n",
    "\n",
    "        startangle=90)\n",
    "\n",
    " \n",
    "\n",
    "# Aspect ratio - equal means pie is a circle\n",
    "\n",
    "axesObject.axis('equal')\n",
    "\n",
    " \n",
    "\n",
    "plotter.show()"
   ]
  },
  {
   "cell_type": "markdown",
   "metadata": {
    "colab_type": "text",
    "id": "JSgoPLK6EZja"
   },
   "source": [
    "## Politeness transform"
   ]
  },
  {
   "cell_type": "code",
   "execution_count": 0,
   "metadata": {
    "colab": {},
    "colab_type": "code",
    "id": "Fw6NFPBaFIkJ"
   },
   "outputs": [],
   "source": [
    "#@title Prep corpus by running parser\n",
    "parser = convokit.Parser()\n",
    "reddit_corpus = parser.transform(reddit_corpus)"
   ]
  },
  {
   "cell_type": "code",
   "execution_count": 0,
   "metadata": {
    "colab": {},
    "colab_type": "code",
    "id": "eVlqbUhbFIkM"
   },
   "outputs": [],
   "source": [
    "# @title Save again\n",
    "reddit_corpus.dump(\"reddit_coarse_discourse_with_parsed\", base_path = \"gdrive/My Drive/CS6742/\")\n",
    "\n",
    "with ZipFile(\"gdrive/My Drive/CS6742/reddit_coarse_discourse_with_parsed.zip\", 'w') as zip_f:\n",
    "  for fname in os.listdir(\"gdrive/My Drive/CS6742/reddit_coarse_discourse_with_parsed\"):\n",
    "    zip_f.write(\"gdrive/My Drive/CS6742/reddit_coarse_discourse_with_parsed/\"+fname)"
   ]
  },
  {
   "cell_type": "code",
   "execution_count": 0,
   "metadata": {
    "colab": {},
    "colab_type": "code",
    "id": "U2CzWW1kFIkO"
   },
   "outputs": [],
   "source": [
    "#@title Get politeness strategies\n",
    "\n",
    "ps = convokit.PolitenessStrategies()\n",
    "reddit_corpus = ps.transform(reddit_corpus)"
   ]
  },
  {
   "cell_type": "code",
   "execution_count": 0,
   "metadata": {
    "colab": {},
    "colab_type": "code",
    "id": "oHNlirW3Esxh"
   },
   "outputs": [],
   "source": [
    "# @title Save one more time\n",
    "reddit_corpus.dump(\"reddit_coarse_discourse_with_parsed_and_politeness\", base_path = \"gdrive/My Drive/CS6742/\")\n",
    "\n",
    "with ZipFile(\"gdrive/My Drive/CS6742/reddit_coarse_discourse_with_parsed_and_politeness.zip\", 'w') as zip_f:\n",
    "  for fname in os.listdir(\"gdrive/My Drive/CS6742/reddit_coarse_discourse_with_parsed_and_politeness\"):\n",
    "    zip_f.write(\"gdrive/My Drive/CS6742/reddit_coarse_discourse_with_parsed_and_politeness/\"+fname)"
   ]
  },
  {
   "cell_type": "code",
   "execution_count": 0,
   "metadata": {
    "colab": {},
    "colab_type": "code",
    "id": "sBW7HjMaGg04"
   },
   "outputs": [],
   "source": [
    "#@title Load from file\n",
    "reddit_corpus = convokit.Corpus(filename=\"gdrive/My Drive/CS6742/reddit_coarse_discourse_with_parsed_and_politeness\")"
   ]
  },
  {
   "cell_type": "code",
   "execution_count": 29,
   "metadata": {
    "colab": {
     "base_uri": "https://localhost:8080/",
     "height": 351
    },
    "colab_type": "code",
    "id": "iqvAAHzxoteL",
    "outputId": "32975d52-f3e9-4d02-801c-57a8286047a9"
   },
   "outputs": [
    {
     "data": {
      "text/html": [
       "<div>\n",
       "<style scoped>\n",
       "    .dataframe tbody tr th:only-of-type {\n",
       "        vertical-align: middle;\n",
       "    }\n",
       "\n",
       "    .dataframe tbody tr th {\n",
       "        vertical-align: top;\n",
       "    }\n",
       "\n",
       "    .dataframe thead th {\n",
       "        text-align: right;\n",
       "    }\n",
       "</style>\n",
       "<table border=\"1\" class=\"dataframe\">\n",
       "  <thead>\n",
       "    <tr style=\"text-align: right;\">\n",
       "      <th></th>\n",
       "      <th>1st_person</th>\n",
       "      <th>1st_person_pl.</th>\n",
       "      <th>1st_person_start</th>\n",
       "      <th>2nd_person</th>\n",
       "      <th>2nd_person_start</th>\n",
       "      <th>Apologizing</th>\n",
       "      <th>Deference</th>\n",
       "      <th>Direct_question</th>\n",
       "      <th>Direct_start</th>\n",
       "      <th>Factuality</th>\n",
       "      <th>Gratitude</th>\n",
       "      <th>HASHEDGE</th>\n",
       "      <th>HASNEGATIVE</th>\n",
       "      <th>HASPOSITIVE</th>\n",
       "      <th>Hedges</th>\n",
       "      <th>INDICATIVE</th>\n",
       "      <th>Indirect_(btw)</th>\n",
       "      <th>Indirect_(greeting)</th>\n",
       "      <th>Please</th>\n",
       "      <th>Please_start</th>\n",
       "      <th>SUBJUNCTIVE</th>\n",
       "      <th>discourse_cat</th>\n",
       "    </tr>\n",
       "  </thead>\n",
       "  <tbody>\n",
       "    <tr>\n",
       "      <th>t3_1bx6qw</th>\n",
       "      <td>1</td>\n",
       "      <td>1</td>\n",
       "      <td>1</td>\n",
       "      <td>0</td>\n",
       "      <td>0</td>\n",
       "      <td>0</td>\n",
       "      <td>0</td>\n",
       "      <td>0</td>\n",
       "      <td>1</td>\n",
       "      <td>1</td>\n",
       "      <td>0</td>\n",
       "      <td>1</td>\n",
       "      <td>1</td>\n",
       "      <td>1</td>\n",
       "      <td>1</td>\n",
       "      <td>0</td>\n",
       "      <td>0</td>\n",
       "      <td>0</td>\n",
       "      <td>0</td>\n",
       "      <td>0</td>\n",
       "      <td>0</td>\n",
       "      <td>announcement</td>\n",
       "    </tr>\n",
       "    <tr>\n",
       "      <th>t1_c9b2nyd</th>\n",
       "      <td>0</td>\n",
       "      <td>0</td>\n",
       "      <td>1</td>\n",
       "      <td>0</td>\n",
       "      <td>0</td>\n",
       "      <td>0</td>\n",
       "      <td>0</td>\n",
       "      <td>0</td>\n",
       "      <td>0</td>\n",
       "      <td>0</td>\n",
       "      <td>0</td>\n",
       "      <td>0</td>\n",
       "      <td>0</td>\n",
       "      <td>0</td>\n",
       "      <td>0</td>\n",
       "      <td>0</td>\n",
       "      <td>0</td>\n",
       "      <td>0</td>\n",
       "      <td>0</td>\n",
       "      <td>0</td>\n",
       "      <td>0</td>\n",
       "      <td>elaboration</td>\n",
       "    </tr>\n",
       "    <tr>\n",
       "      <th>t1_c9b30i1</th>\n",
       "      <td>1</td>\n",
       "      <td>0</td>\n",
       "      <td>1</td>\n",
       "      <td>0</td>\n",
       "      <td>1</td>\n",
       "      <td>0</td>\n",
       "      <td>0</td>\n",
       "      <td>0</td>\n",
       "      <td>1</td>\n",
       "      <td>1</td>\n",
       "      <td>0</td>\n",
       "      <td>1</td>\n",
       "      <td>1</td>\n",
       "      <td>1</td>\n",
       "      <td>0</td>\n",
       "      <td>0</td>\n",
       "      <td>0</td>\n",
       "      <td>0</td>\n",
       "      <td>0</td>\n",
       "      <td>0</td>\n",
       "      <td>0</td>\n",
       "      <td>elaboration</td>\n",
       "    </tr>\n",
       "    <tr>\n",
       "      <th>t1_c9b6sj0</th>\n",
       "      <td>1</td>\n",
       "      <td>0</td>\n",
       "      <td>0</td>\n",
       "      <td>0</td>\n",
       "      <td>0</td>\n",
       "      <td>0</td>\n",
       "      <td>0</td>\n",
       "      <td>0</td>\n",
       "      <td>1</td>\n",
       "      <td>0</td>\n",
       "      <td>0</td>\n",
       "      <td>0</td>\n",
       "      <td>0</td>\n",
       "      <td>1</td>\n",
       "      <td>0</td>\n",
       "      <td>0</td>\n",
       "      <td>0</td>\n",
       "      <td>0</td>\n",
       "      <td>0</td>\n",
       "      <td>0</td>\n",
       "      <td>0</td>\n",
       "      <td>elaboration</td>\n",
       "    </tr>\n",
       "    <tr>\n",
       "      <th>t3_omv7p</th>\n",
       "      <td>1</td>\n",
       "      <td>0</td>\n",
       "      <td>1</td>\n",
       "      <td>0</td>\n",
       "      <td>0</td>\n",
       "      <td>0</td>\n",
       "      <td>0</td>\n",
       "      <td>0</td>\n",
       "      <td>0</td>\n",
       "      <td>1</td>\n",
       "      <td>0</td>\n",
       "      <td>0</td>\n",
       "      <td>1</td>\n",
       "      <td>1</td>\n",
       "      <td>0</td>\n",
       "      <td>0</td>\n",
       "      <td>0</td>\n",
       "      <td>0</td>\n",
       "      <td>0</td>\n",
       "      <td>0</td>\n",
       "      <td>0</td>\n",
       "      <td>announcement</td>\n",
       "    </tr>\n",
       "    <tr>\n",
       "      <th>t1_c3igqif</th>\n",
       "      <td>1</td>\n",
       "      <td>1</td>\n",
       "      <td>1</td>\n",
       "      <td>1</td>\n",
       "      <td>0</td>\n",
       "      <td>0</td>\n",
       "      <td>0</td>\n",
       "      <td>0</td>\n",
       "      <td>1</td>\n",
       "      <td>0</td>\n",
       "      <td>0</td>\n",
       "      <td>1</td>\n",
       "      <td>1</td>\n",
       "      <td>1</td>\n",
       "      <td>1</td>\n",
       "      <td>0</td>\n",
       "      <td>0</td>\n",
       "      <td>0</td>\n",
       "      <td>0</td>\n",
       "      <td>0</td>\n",
       "      <td>0</td>\n",
       "      <td>elaboration</td>\n",
       "    </tr>\n",
       "    <tr>\n",
       "      <th>t1_c3imrkb</th>\n",
       "      <td>0</td>\n",
       "      <td>0</td>\n",
       "      <td>0</td>\n",
       "      <td>0</td>\n",
       "      <td>0</td>\n",
       "      <td>0</td>\n",
       "      <td>0</td>\n",
       "      <td>0</td>\n",
       "      <td>0</td>\n",
       "      <td>0</td>\n",
       "      <td>0</td>\n",
       "      <td>0</td>\n",
       "      <td>0</td>\n",
       "      <td>1</td>\n",
       "      <td>0</td>\n",
       "      <td>0</td>\n",
       "      <td>0</td>\n",
       "      <td>0</td>\n",
       "      <td>0</td>\n",
       "      <td>0</td>\n",
       "      <td>0</td>\n",
       "      <td>humor</td>\n",
       "    </tr>\n",
       "    <tr>\n",
       "      <th>t1_c3ij8z0</th>\n",
       "      <td>0</td>\n",
       "      <td>0</td>\n",
       "      <td>0</td>\n",
       "      <td>1</td>\n",
       "      <td>1</td>\n",
       "      <td>0</td>\n",
       "      <td>0</td>\n",
       "      <td>0</td>\n",
       "      <td>0</td>\n",
       "      <td>0</td>\n",
       "      <td>0</td>\n",
       "      <td>0</td>\n",
       "      <td>0</td>\n",
       "      <td>1</td>\n",
       "      <td>0</td>\n",
       "      <td>0</td>\n",
       "      <td>0</td>\n",
       "      <td>0</td>\n",
       "      <td>0</td>\n",
       "      <td>0</td>\n",
       "      <td>0</td>\n",
       "      <td>appreciation</td>\n",
       "    </tr>\n",
       "    <tr>\n",
       "      <th>t1_c3inx9t</th>\n",
       "      <td>1</td>\n",
       "      <td>0</td>\n",
       "      <td>0</td>\n",
       "      <td>0</td>\n",
       "      <td>0</td>\n",
       "      <td>0</td>\n",
       "      <td>0</td>\n",
       "      <td>0</td>\n",
       "      <td>1</td>\n",
       "      <td>1</td>\n",
       "      <td>1</td>\n",
       "      <td>0</td>\n",
       "      <td>1</td>\n",
       "      <td>1</td>\n",
       "      <td>0</td>\n",
       "      <td>0</td>\n",
       "      <td>0</td>\n",
       "      <td>0</td>\n",
       "      <td>0</td>\n",
       "      <td>0</td>\n",
       "      <td>0</td>\n",
       "      <td>appreciation</td>\n",
       "    </tr>\n",
       "    <tr>\n",
       "      <th>t1_c3k2lc1</th>\n",
       "      <td>1</td>\n",
       "      <td>1</td>\n",
       "      <td>0</td>\n",
       "      <td>0</td>\n",
       "      <td>0</td>\n",
       "      <td>1</td>\n",
       "      <td>0</td>\n",
       "      <td>1</td>\n",
       "      <td>1</td>\n",
       "      <td>0</td>\n",
       "      <td>0</td>\n",
       "      <td>1</td>\n",
       "      <td>1</td>\n",
       "      <td>1</td>\n",
       "      <td>0</td>\n",
       "      <td>0</td>\n",
       "      <td>0</td>\n",
       "      <td>0</td>\n",
       "      <td>0</td>\n",
       "      <td>0</td>\n",
       "      <td>0</td>\n",
       "      <td>elaboration</td>\n",
       "    </tr>\n",
       "  </tbody>\n",
       "</table>\n",
       "</div>"
      ],
      "text/plain": [
       "            1st_person  1st_person_pl.  ...  SUBJUNCTIVE  discourse_cat\n",
       "t3_1bx6qw            1               1  ...            0   announcement\n",
       "t1_c9b2nyd           0               0  ...            0    elaboration\n",
       "t1_c9b30i1           1               0  ...            0    elaboration\n",
       "t1_c9b6sj0           1               0  ...            0    elaboration\n",
       "t3_omv7p             1               0  ...            0   announcement\n",
       "t1_c3igqif           1               1  ...            0    elaboration\n",
       "t1_c3imrkb           0               0  ...            0          humor\n",
       "t1_c3ij8z0           0               0  ...            0   appreciation\n",
       "t1_c3inx9t           1               0  ...            0   appreciation\n",
       "t1_c3k2lc1           1               1  ...            0    elaboration\n",
       "\n",
       "[10 rows x 22 columns]"
      ]
     },
     "execution_count": 29,
     "metadata": {
      "tags": []
     },
     "output_type": "execute_result"
    }
   ],
   "source": [
    "utterance_ids = reddit_corpus.get_utterance_ids()\n",
    "rows = []\n",
    "for uid in utterance_ids:\n",
    "    meta = reddit_corpus.get_utterance(uid).meta[\"politeness_strategies\"]\n",
    "    meta = {k.split('==')[1]: v for k, v in meta.items()}\n",
    "    majority_type = reddit_corpus.get_utterance(uid).meta['majority_type']\n",
    "    meta['discourse_cat'] = majority_type if majority_type else \"NO CONSENSUS\"\n",
    "    rows.append(meta)\n",
    "politeness_strategies = pd.DataFrame(rows, index=utterance_ids)\n",
    "politeness_strategies.head(10)"
   ]
  },
  {
   "cell_type": "code",
   "execution_count": 54,
   "metadata": {
    "colab": {
     "base_uri": "https://localhost:8080/",
     "height": 425
    },
    "colab_type": "code",
    "id": "MLZ_uAF9rc9h",
    "outputId": "e5bb2024-edc5-4af2-838e-063d0c36db36"
   },
   "outputs": [
    {
     "data": {
      "text/html": [
       "<div>\n",
       "<style scoped>\n",
       "    .dataframe tbody tr th:only-of-type {\n",
       "        vertical-align: middle;\n",
       "    }\n",
       "\n",
       "    .dataframe tbody tr th {\n",
       "        vertical-align: top;\n",
       "    }\n",
       "\n",
       "    .dataframe thead th {\n",
       "        text-align: right;\n",
       "    }\n",
       "</style>\n",
       "<table border=\"1\" class=\"dataframe\">\n",
       "  <thead>\n",
       "    <tr style=\"text-align: right;\">\n",
       "      <th></th>\n",
       "      <th>1st_person</th>\n",
       "      <th>1st_person_pl.</th>\n",
       "      <th>1st_person_start</th>\n",
       "      <th>2nd_person</th>\n",
       "      <th>2nd_person_start</th>\n",
       "      <th>Apologizing</th>\n",
       "      <th>Deference</th>\n",
       "      <th>Direct_question</th>\n",
       "      <th>Direct_start</th>\n",
       "      <th>Factuality</th>\n",
       "      <th>Gratitude</th>\n",
       "      <th>HASHEDGE</th>\n",
       "      <th>HASNEGATIVE</th>\n",
       "      <th>HASPOSITIVE</th>\n",
       "      <th>Hedges</th>\n",
       "      <th>INDICATIVE</th>\n",
       "      <th>Indirect_(btw)</th>\n",
       "      <th>Indirect_(greeting)</th>\n",
       "      <th>Please</th>\n",
       "      <th>Please_start</th>\n",
       "      <th>SUBJUNCTIVE</th>\n",
       "    </tr>\n",
       "    <tr>\n",
       "      <th>discourse_cat</th>\n",
       "      <th></th>\n",
       "      <th></th>\n",
       "      <th></th>\n",
       "      <th></th>\n",
       "      <th></th>\n",
       "      <th></th>\n",
       "      <th></th>\n",
       "      <th></th>\n",
       "      <th></th>\n",
       "      <th></th>\n",
       "      <th></th>\n",
       "      <th></th>\n",
       "      <th></th>\n",
       "      <th></th>\n",
       "      <th></th>\n",
       "      <th></th>\n",
       "      <th></th>\n",
       "      <th></th>\n",
       "      <th></th>\n",
       "      <th></th>\n",
       "      <th></th>\n",
       "    </tr>\n",
       "  </thead>\n",
       "  <tbody>\n",
       "    <tr>\n",
       "      <th>NO CONSENSUS</th>\n",
       "      <td>4294</td>\n",
       "      <td>1159</td>\n",
       "      <td>4109</td>\n",
       "      <td>3350</td>\n",
       "      <td>833</td>\n",
       "      <td>217</td>\n",
       "      <td>283</td>\n",
       "      <td>632</td>\n",
       "      <td>1753</td>\n",
       "      <td>1229</td>\n",
       "      <td>379</td>\n",
       "      <td>3568</td>\n",
       "      <td>5468</td>\n",
       "      <td>6379</td>\n",
       "      <td>1721</td>\n",
       "      <td>42</td>\n",
       "      <td>5</td>\n",
       "      <td>90</td>\n",
       "      <td>94</td>\n",
       "      <td>61</td>\n",
       "      <td>49</td>\n",
       "    </tr>\n",
       "    <tr>\n",
       "      <th>agreement</th>\n",
       "      <td>2258</td>\n",
       "      <td>466</td>\n",
       "      <td>2155</td>\n",
       "      <td>1195</td>\n",
       "      <td>270</td>\n",
       "      <td>26</td>\n",
       "      <td>86</td>\n",
       "      <td>145</td>\n",
       "      <td>807</td>\n",
       "      <td>585</td>\n",
       "      <td>72</td>\n",
       "      <td>1751</td>\n",
       "      <td>2280</td>\n",
       "      <td>3119</td>\n",
       "      <td>920</td>\n",
       "      <td>6</td>\n",
       "      <td>1</td>\n",
       "      <td>13</td>\n",
       "      <td>13</td>\n",
       "      <td>6</td>\n",
       "      <td>5</td>\n",
       "    </tr>\n",
       "    <tr>\n",
       "      <th>announcement</th>\n",
       "      <td>865</td>\n",
       "      <td>430</td>\n",
       "      <td>738</td>\n",
       "      <td>647</td>\n",
       "      <td>159</td>\n",
       "      <td>85</td>\n",
       "      <td>30</td>\n",
       "      <td>148</td>\n",
       "      <td>507</td>\n",
       "      <td>315</td>\n",
       "      <td>161</td>\n",
       "      <td>804</td>\n",
       "      <td>946</td>\n",
       "      <td>1107</td>\n",
       "      <td>444</td>\n",
       "      <td>12</td>\n",
       "      <td>1</td>\n",
       "      <td>73</td>\n",
       "      <td>76</td>\n",
       "      <td>37</td>\n",
       "      <td>9</td>\n",
       "    </tr>\n",
       "    <tr>\n",
       "      <th>answer</th>\n",
       "      <td>16409</td>\n",
       "      <td>3649</td>\n",
       "      <td>15508</td>\n",
       "      <td>14933</td>\n",
       "      <td>4267</td>\n",
       "      <td>467</td>\n",
       "      <td>595</td>\n",
       "      <td>1679</td>\n",
       "      <td>7381</td>\n",
       "      <td>5420</td>\n",
       "      <td>431</td>\n",
       "      <td>16235</td>\n",
       "      <td>19844</td>\n",
       "      <td>24772</td>\n",
       "      <td>6801</td>\n",
       "      <td>114</td>\n",
       "      <td>11</td>\n",
       "      <td>181</td>\n",
       "      <td>173</td>\n",
       "      <td>104</td>\n",
       "      <td>121</td>\n",
       "    </tr>\n",
       "    <tr>\n",
       "      <th>appreciation</th>\n",
       "      <td>3035</td>\n",
       "      <td>429</td>\n",
       "      <td>2892</td>\n",
       "      <td>1938</td>\n",
       "      <td>440</td>\n",
       "      <td>66</td>\n",
       "      <td>949</td>\n",
       "      <td>204</td>\n",
       "      <td>805</td>\n",
       "      <td>752</td>\n",
       "      <td>4051</td>\n",
       "      <td>1761</td>\n",
       "      <td>2187</td>\n",
       "      <td>6125</td>\n",
       "      <td>870</td>\n",
       "      <td>18</td>\n",
       "      <td>0</td>\n",
       "      <td>78</td>\n",
       "      <td>28</td>\n",
       "      <td>19</td>\n",
       "      <td>25</td>\n",
       "    </tr>\n",
       "    <tr>\n",
       "      <th>disagreement</th>\n",
       "      <td>1153</td>\n",
       "      <td>447</td>\n",
       "      <td>1185</td>\n",
       "      <td>1241</td>\n",
       "      <td>382</td>\n",
       "      <td>53</td>\n",
       "      <td>19</td>\n",
       "      <td>195</td>\n",
       "      <td>694</td>\n",
       "      <td>563</td>\n",
       "      <td>32</td>\n",
       "      <td>1454</td>\n",
       "      <td>2060</td>\n",
       "      <td>2134</td>\n",
       "      <td>723</td>\n",
       "      <td>7</td>\n",
       "      <td>3</td>\n",
       "      <td>6</td>\n",
       "      <td>9</td>\n",
       "      <td>11</td>\n",
       "      <td>11</td>\n",
       "    </tr>\n",
       "    <tr>\n",
       "      <th>elaboration</th>\n",
       "      <td>8185</td>\n",
       "      <td>2034</td>\n",
       "      <td>7547</td>\n",
       "      <td>5861</td>\n",
       "      <td>1407</td>\n",
       "      <td>293</td>\n",
       "      <td>313</td>\n",
       "      <td>655</td>\n",
       "      <td>3645</td>\n",
       "      <td>2583</td>\n",
       "      <td>397</td>\n",
       "      <td>7529</td>\n",
       "      <td>9726</td>\n",
       "      <td>11407</td>\n",
       "      <td>3400</td>\n",
       "      <td>30</td>\n",
       "      <td>9</td>\n",
       "      <td>92</td>\n",
       "      <td>97</td>\n",
       "      <td>63</td>\n",
       "      <td>40</td>\n",
       "    </tr>\n",
       "    <tr>\n",
       "      <th>humor</th>\n",
       "      <td>452</td>\n",
       "      <td>111</td>\n",
       "      <td>381</td>\n",
       "      <td>497</td>\n",
       "      <td>138</td>\n",
       "      <td>22</td>\n",
       "      <td>12</td>\n",
       "      <td>101</td>\n",
       "      <td>156</td>\n",
       "      <td>58</td>\n",
       "      <td>21</td>\n",
       "      <td>288</td>\n",
       "      <td>740</td>\n",
       "      <td>685</td>\n",
       "      <td>118</td>\n",
       "      <td>5</td>\n",
       "      <td>0</td>\n",
       "      <td>22</td>\n",
       "      <td>11</td>\n",
       "      <td>4</td>\n",
       "      <td>6</td>\n",
       "    </tr>\n",
       "    <tr>\n",
       "      <th>negativereaction</th>\n",
       "      <td>438</td>\n",
       "      <td>135</td>\n",
       "      <td>394</td>\n",
       "      <td>556</td>\n",
       "      <td>201</td>\n",
       "      <td>31</td>\n",
       "      <td>42</td>\n",
       "      <td>142</td>\n",
       "      <td>201</td>\n",
       "      <td>148</td>\n",
       "      <td>29</td>\n",
       "      <td>393</td>\n",
       "      <td>1175</td>\n",
       "      <td>750</td>\n",
       "      <td>145</td>\n",
       "      <td>5</td>\n",
       "      <td>1</td>\n",
       "      <td>9</td>\n",
       "      <td>8</td>\n",
       "      <td>16</td>\n",
       "      <td>3</td>\n",
       "    </tr>\n",
       "    <tr>\n",
       "      <th>other</th>\n",
       "      <td>475</td>\n",
       "      <td>130</td>\n",
       "      <td>425</td>\n",
       "      <td>378</td>\n",
       "      <td>98</td>\n",
       "      <td>52</td>\n",
       "      <td>35</td>\n",
       "      <td>49</td>\n",
       "      <td>157</td>\n",
       "      <td>85</td>\n",
       "      <td>54</td>\n",
       "      <td>304</td>\n",
       "      <td>600</td>\n",
       "      <td>705</td>\n",
       "      <td>139</td>\n",
       "      <td>2</td>\n",
       "      <td>0</td>\n",
       "      <td>49</td>\n",
       "      <td>64</td>\n",
       "      <td>51</td>\n",
       "      <td>3</td>\n",
       "    </tr>\n",
       "    <tr>\n",
       "      <th>question</th>\n",
       "      <td>7394</td>\n",
       "      <td>1671</td>\n",
       "      <td>6890</td>\n",
       "      <td>6597</td>\n",
       "      <td>691</td>\n",
       "      <td>299</td>\n",
       "      <td>160</td>\n",
       "      <td>4374</td>\n",
       "      <td>4045</td>\n",
       "      <td>2026</td>\n",
       "      <td>1298</td>\n",
       "      <td>6036</td>\n",
       "      <td>7219</td>\n",
       "      <td>9112</td>\n",
       "      <td>2935</td>\n",
       "      <td>357</td>\n",
       "      <td>14</td>\n",
       "      <td>787</td>\n",
       "      <td>316</td>\n",
       "      <td>186</td>\n",
       "      <td>457</td>\n",
       "    </tr>\n",
       "  </tbody>\n",
       "</table>\n",
       "</div>"
      ],
      "text/plain": [
       "                  1st_person  1st_person_pl.  ...  Please_start  SUBJUNCTIVE\n",
       "discourse_cat                                 ...                           \n",
       "NO CONSENSUS            4294            1159  ...            61           49\n",
       "agreement               2258             466  ...             6            5\n",
       "announcement             865             430  ...            37            9\n",
       "answer                 16409            3649  ...           104          121\n",
       "appreciation            3035             429  ...            19           25\n",
       "disagreement            1153             447  ...            11           11\n",
       "elaboration             8185            2034  ...            63           40\n",
       "humor                    452             111  ...             4            6\n",
       "negativereaction         438             135  ...            16            3\n",
       "other                    475             130  ...            51            3\n",
       "question                7394            1671  ...           186          457\n",
       "\n",
       "[11 rows x 21 columns]"
      ]
     },
     "metadata": {
      "tags": []
     },
     "output_type": "display_data"
    }
   ],
   "source": [
    "#@title Table of politeness strategies by discourse category\n",
    "politeness_counts = politeness_strategies.groupby('discourse_cat').sum()\n",
    "disp(politeness_counts)\n"
   ]
  },
  {
   "cell_type": "code",
   "execution_count": 50,
   "metadata": {
    "colab": {
     "base_uri": "https://localhost:8080/",
     "height": 1000
    },
    "colab_type": "code",
    "id": "LDgn-GIHs4tv",
    "outputId": "968dd1a2-e4b7-47a3-949c-76582379ea1f"
   },
   "outputs": [
    {
     "data": {
      "text/plain": [
       "<matplotlib.axes._subplots.AxesSubplot at 0x7fae1d1c5c88>"
      ]
     },
     "execution_count": 50,
     "metadata": {
      "tags": []
     },
     "output_type": "execute_result"
    },
    {
     "data": {
      "image/png": "[encoded data removed]",
      "text/plain": [
       "<Figure size 1440x2160 with 1 Axes>"
      ]
     },
     "metadata": {
      "tags": []
     },
     "output_type": "display_data"
    },
    {
     "data": {
      "image/png": "[encoded data removed]",
      "text/plain": [
       "<Figure size 1440x2160 with 1 Axes>"
      ]
     },
     "metadata": {
      "tags": []
     },
     "output_type": "display_data"
    }
   ],
   "source": [
    "#@title Bar plots by politeness strategy and discourse category\n",
    "politeness_counts_melted = politeness_counts.reset_index().melt(id_vars=\"discourse_cat\")\n",
    "\n",
    "fig, ax = plt.subplots(1,1, figsize=(20,30))\n",
    "sns.barplot(\n",
    "    data=politeness_counts_melted,\n",
    "    y=\"variable\", # politeness cat\n",
    "    x='value',\n",
    "    hue='discourse_cat',\n",
    "    ax=ax\n",
    "    )\n",
    "\n",
    "fig, ax = plt.subplots(1,1, figsize=(20,30))\n",
    "sns.barplot(\n",
    "    data=politeness_counts_melted,\n",
    "    y=\"discourse_cat\", # politeness cat\n",
    "    x='value',\n",
    "    hue='variable',\n",
    "    ax=ax\n",
    "    )\n"
   ]
  }
 ],
 "metadata": {
  "colab": {
   "collapsed_sections": [],
   "include_colab_link": true,
   "name": "Corpus conversion",
   "provenance": [],
   "toc_visible": true,
   "version": "0.3.2"
  },
  "kernelspec": {
   "display_name": "Python 3",
   "language": "python",
   "name": "python3"
  },
  "language_info": {
   "codemirror_mode": {
    "name": "ipython",
    "version": 3
   },
   "file_extension": ".py",
   "mimetype": "text/x-python",
   "name": "python",
   "nbconvert_exporter": "python",
   "pygments_lexer": "ipython3",
   "version": "3.7.3"
  }
 },
 "nbformat": 4,
 "nbformat_minor": 1
}
