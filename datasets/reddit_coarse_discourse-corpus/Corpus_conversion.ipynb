{
 "cells": [
  {
   "cell_type": "markdown",
   "metadata": {
    "colab_type": "text",
    "id": "Lw_Wr7Evp6dO"
   },
   "source": [
    "#Imports"
   ]
  },
  {
   "cell_type": "markdown",
   "metadata": {
    "colab_type": "text",
    "id": "view-in-github"
   },
   "source": [
    "<a href=\"https://colab.research.google.com/github/rjz46/Cornell-Conversational-Analysis-Toolkit/blob/master/datasets/reddit_coarse_discourse/Corpus_conversion.ipynb\" target=\"_parent\"><img src=\"https://colab.research.google.com/assets/colab-badge.svg\" alt=\"Open In Colab\"/></a>"
   ]
  },
  {
   "cell_type": "code",
   "execution_count": 1,
   "metadata": {
    "colab": {
     "base_uri": "https://localhost:8080/",
     "height": 1000
    },
    "colab_type": "code",
    "id": "U4lPXUFEECJv",
    "outputId": "fdd73b70-2c72-4f7d-e136-2bb8466520d7"
   },
   "outputs": [
    {
     "data": {
      "text/plain": [
       "['Corpus_conversion.ipynb',\n",
       " '.DS_Store',\n",
       " 'corpus',\n",
       " 'fetch_toxicity.ipynb',\n",
       " '.ipynb_checkpoints',\n",
       " 'toxicity_dictionary.json',\n",
       " 'readme.rst']"
      ]
     },
     "execution_count": 1,
     "metadata": {},
     "output_type": "execute_result"
    }
   ],
   "source": [
    "import os\n",
    "os.listdir()\n"
   ]
  },
  {
   "cell_type": "code",
   "execution_count": 2,
   "metadata": {},
   "outputs": [],
   "source": [
    "os.chdir('../..')"
   ]
  },
  {
   "cell_type": "code",
   "execution_count": 21,
   "metadata": {},
   "outputs": [
    {
     "data": {
      "text/plain": [
       "['LICENSE.md',\n",
       " 'convokit',\n",
       " '.DS_Store',\n",
       " 'requirements.txt',\n",
       " 'Makefile',\n",
       " 'website',\n",
       " 'datasets',\n",
       " 'tests',\n",
       " 'README.md',\n",
       " 'setup.py',\n",
       " '.gitignore',\n",
       " 'CONTRIBUTING.md',\n",
       " 'examples',\n",
       " 'doc',\n",
       " '.git']"
      ]
     },
     "execution_count": 21,
     "metadata": {},
     "output_type": "execute_result"
    }
   ],
   "source": [
    "os.listdir()"
   ]
  },
  {
   "cell_type": "code",
   "execution_count": 7,
   "metadata": {},
   "outputs": [],
   "source": [
    "import convokit"
   ]
  },
  {
   "cell_type": "code",
   "execution_count": 34,
   "metadata": {},
   "outputs": [
    {
     "data": {
      "text/plain": [
       "['coarse_discourse_dump_reddit_with_votes.json',\n",
       " 'Corpus_conversion.ipynb',\n",
       " '.DS_Store',\n",
       " 'corpus',\n",
       " 'fetch_toxicity.ipynb',\n",
       " '.ipynb_checkpoints',\n",
       " 'toxicity_dictionary.json',\n",
       " 'readme.rst']"
      ]
     },
     "execution_count": 34,
     "metadata": {},
     "output_type": "execute_result"
    }
   ],
   "source": [
    "os.chdir(\"reddit_coarse_discourse-corpus\")\n",
    "os.listdir()"
   ]
  },
  {
   "cell_type": "code",
   "execution_count": 35,
   "metadata": {
    "colab": {},
    "colab_type": "code",
    "id": "VHJBebM8qF0m"
   },
   "outputs": [],
   "source": [
    "from IPython.display import display as disp\n",
    "from zipfile import ZipFile\n",
    "\n",
    "import json\n",
    "import matplotlib.pyplot as plt\n",
    "import pandas as pd\n",
    "import os\n",
    "import seaborn as sns\n",
    "\n",
    "sns.set_style('white')"
   ]
  },
  {
   "cell_type": "markdown",
   "metadata": {
    "colab_type": "text",
    "id": "74FCvanlQ2d0"
   },
   "source": [
    "#Users: initialization"
   ]
  },
  {
   "cell_type": "code",
   "execution_count": 36,
   "metadata": {
    "cellView": "code",
    "colab": {
     "base_uri": "https://localhost:8080/",
     "height": 34
    },
    "colab_type": "code",
    "id": "zRcql6DNp08l",
    "outputId": "7ed3da30-ffd4-4f89-e471-a13d50e2bdb9"
   },
   "outputs": [
    {
     "name": "stdout",
     "output_type": "stream",
     "text": [
      "Created 63573 users\n"
     ]
    }
   ],
   "source": [
    "os.listdir()\n",
    "\n",
    "#@title Load json and make dict called \"all_users\" \n",
    "user_names = set()\n",
    "DELETED_USER_NAME = '[deleted]'\n",
    "\n",
    "with open('coarse_discourse_dump_reddit_with_votes.json', 'r') as f:\n",
    "    for line in f:\n",
    "        json_obj = json.loads(line)\n",
    "        for post in json_obj['posts']:\n",
    "            if 'author' in post:\n",
    "                user_names.add(post['author'])\n",
    "            else:\n",
    "                # I spot checked a post and comment, and it seems that a missing 'author' means it was deleted (post: t3_29mjj7, comment: t1_crzi5yt in reply to t3_391dim)\n",
    "                user_names.add(DELETED_USER_NAME)\n",
    "\n",
    "all_users = {user_name: convokit.User(name=user_name) for user_name in user_names}\n",
    "\n",
    "print(\"Created {} users\".format(len(all_users)))\n"
   ]
  },
  {
   "cell_type": "code",
   "execution_count": 37,
   "metadata": {
    "colab": {
     "base_uri": "https://localhost:8080/",
     "height": 102
    },
    "colab_type": "code",
    "id": "Gc4D92xkx2UG",
    "outputId": "56d4da80-1af8-482e-ad7a-4fa4c98b5066"
   },
   "outputs": [
    {
     "name": "stdout",
     "output_type": "stream",
     "text": [
      "\n",
      "Sample users:\n"
     ]
    },
    {
     "data": {
      "text/plain": [
       "[('Youshotahostage', User([('name', 'Youshotahostage')])),\n",
       " ('StoneCypher', User([('name', 'StoneCypher')])),\n",
       " ('biverboy', User([('name', 'biverboy')]))]"
      ]
     },
     "metadata": {},
     "output_type": "display_data"
    }
   ],
   "source": [
    "#@title Check results\n",
    "print(\"\\nSample users:\")\n",
    "disp(list(all_users.items())[:3])"
   ]
  },
  {
   "cell_type": "markdown",
   "metadata": {
    "colab_type": "text",
    "id": "s6rBMo6JQ6gs"
   },
   "source": [
    "#Utterances"
   ]
  },
  {
   "cell_type": "code",
   "execution_count": 69,
   "metadata": {
    "cellView": "code",
    "colab": {},
    "colab_type": "code",
    "id": "6HllJBAYQ7wi"
   },
   "outputs": [],
   "source": [
    "#@title Make \"utterance_corpus\" dict\n",
    "'''\n",
    "\n",
    "id: index of the utterance\n",
    "user: the user who author the utterance\n",
    "root: index of the conversation root of the utterance\n",
    "reply_to: index of the utterance to which this utterance replies to (None if the utterance is not a reply)\n",
    "timestamp: time of the utterance\n",
    "text: textual content of the utterance\n",
    "\n",
    "meta: dictionary of utterance metadata\n",
    "    post_depth, \n",
    "    majority type\n",
    "    ann_types\n",
    "    majority_linkann_links\n",
    "    ups\n",
    "    \n",
    "'''\n",
    "user_names = set()\n",
    "DELETED_USER_NAME = '[deleted]'\n",
    "\n",
    "with open('coarse_discourse_dump_reddit_with_votes.json', 'r') as f:\n",
    "  for line in f:\n",
    "    json_obj = json.loads(line)\n",
    "    for post in json_obj['posts']:\n",
    "      if 'author' in post:\n",
    "        user_names.add(post['author'])\n",
    "      else:\n",
    "        # I spot checked a post and comment, and it seems that a missing 'author' means it was deleted (post: t3_29mjj7, comment: t1_crzi5yt in reply to t3_391dim)\n",
    "        user_names.add(DELETED_USER_NAME)\n",
    "\n",
    "all_users = {user_name: convokit.User(name=user_name) for user_name in user_names}\n",
    "\n",
    "utterance_corpus = {}\n",
    "      \n",
    "with open('coarse_discourse_dump_reddit_with_votes.json', 'r') as f:\n",
    "    for line in f:\n",
    "      json_obj = json.loads(line)\n",
    "\n",
    "      root = json_obj['posts'][0]['id']\n",
    "\n",
    "      for post in json_obj['posts']:\n",
    "        \n",
    "        idx = post['id'] \n",
    "        text = post['body'] if 'body' in post else \"\"\n",
    "        user, post_depth, in_reply_to = None, None, None\n",
    "        \n",
    "        if 'author' in post:\n",
    "          user = post['author']\n",
    "        else:\n",
    "          user = DELETED_USER_NAME\n",
    "\n",
    "        if 'is_first_post' in post:\n",
    "          in_reply_to = None\n",
    "          post_depth = 0\n",
    "        else:\n",
    "          in_reply_to = post['in_reply_to']\n",
    "          post_depth = post['post_depth']\n",
    "\n",
    "        annotations = post['annotations']  \n",
    "  \n",
    "        metadata = {\n",
    "          'post_depth': post_depth,\n",
    "          'majority_type': post['majority_type'] if 'majority_type' in post else None,\n",
    "          'majority_link': post['majority_link'] if 'majority_link' in post else None,\n",
    "          'annotation-types': [annotation['main_type'] for annotation in annotations],\n",
    "          'annotation-links': [annotation['link_to_post'] if 'link_to_post' in annotation else None for annotation in annotations],\n",
    "          'ups': post['ups'] if 'ups' in post else None\n",
    "\n",
    "        }\n",
    "\n",
    "        utterance_corpus[idx] = convokit.Utterance(idx, all_users[user], root, in_reply_to, None, text, meta=metadata)\n",
    "      \n",
    "    "
   ]
  },
  {
   "cell_type": "code",
   "execution_count": 70,
   "metadata": {
    "colab": {
     "base_uri": "https://localhost:8080/",
     "height": 411
    },
    "colab_type": "code",
    "id": "5AzgTHJ19N0O",
    "outputId": "5d3e3e8a-589e-48c3-c6fb-0b23e0da759f"
   },
   "outputs": [
    {
     "name": "stdout",
     "output_type": "stream",
     "text": [
      "63573\n",
      "115827\n"
     ]
    },
    {
     "data": {
      "text/plain": [
       "[('t3_1bx6qw',\n",
       "  Utterance({'id': 't3_1bx6qw', 'user': User([('name', 'DTX120')]), 'root': 't3_1bx6qw', 'reply_to': None, 'timestamp': None, 'text': \"4/7/13  \\n\\n7/27/12  \\n\\nhttp://www.imdb.com/title/tt0073440/reference\\n\\nIt was only a few minutes into Robert Altman's homespun epic *Nashville* that I got the feeling I was watching a great movie. By the end it could not be denied. Now I'm sure it helps that I'm a musician, since this created an immediate connection to the subject matter. I spent a portion of the movie with my Telecaster in my lap trying to play along with the characters who all seem to be really playing and singing these songs. However I also am *not* a fan of country western, so that could have easily been a turn off.  \\n\\nTo begin describing the action in the film is daunting. I can't even process a lot of what I saw. This movie is extremely dense, and the first 30 minutes or so are spent just trying to figure out who people are. Their relationships to one another - some of which are purely incidental - slowly become clear as things progress. It's an ensemble cast with no clear lead and lots of overlapping conversations. Some developments all tie together in the end. Some seem to be kind of loose ends. There is throughout, however, a very keen sense about people. These naturalistic performances are believable and so is the world they inhabit. It feels like a film that doesn't exaggerate - rather, it downplays some of the outrageousness which just makes it seem all the more outrageous. Consider for example Shelley Duvall's wig or Jeff Goldblum's entire character.  \\n\\nI feel I should mention this. Jeff Goldblum is in this film. He never speaks, and he is awesome.  \\n\\n*Nashville* is a musical. There is reportedly around an hour of music in its 150+ minute run time. I believe it. Sometimes these songs, most if not all of which are original, seem to speak pointedly to or about a character. Sometimes it's all about the shifts and glances in the audience. There are many memorable scenes, such as when a fragile country starlet spaces out on stage and begins rambling between numbers, or a disenchanted housewife waits at the back of a bar for a womanizing folk singer, or a poor deceived waitress is goaded into a striptease by a raucous crowd and still refuses to believe that she can't actually sing.   \\n\\nThis is rich film, a complex tapestry perfectly suited to a moment in time (the US Bicentennial) that seems as though it will reward additional viewings. I sometimes become fidgety during long movies but I was never bored with *Nashville*. It swept me along with its quirky and interesting characters to a climax that maybe I should have seen coming.  \\n\\n8/10\", 'meta': {'post_depth': 0, 'majority_type': 'announcement', 'majority_link': 'none', 'annotation-types': ['announcement', 'announcement', 'announcement'], 'annotation-links': ['none', 'none', 'none'], 'ups': 3}})),\n",
       " ('t1_c9b2nyd',\n",
       "  Utterance({'id': 't1_c9b2nyd', 'user': User([('name', 'mcgrewf10')]), 'root': 't3_1bx6qw', 'reply_to': 't3_1bx6qw', 'timestamp': None, 'text': \"I've wanted to watch this for a long time. I was also turned off by the country western aspect.\", 'meta': {'post_depth': 1, 'majority_type': 'elaboration', 'majority_link': 't3_1bx6qw', 'annotation-types': ['agreement', 'elaboration', 'elaboration'], 'annotation-links': ['t3_1bx6qw', 't3_1bx6qw', 't3_1bx6qw'], 'ups': 2}})),\n",
       " ('t1_c9b30i1',\n",
       "  Utterance({'id': 't1_c9b30i1', 'user': User([('name', 'DTX120')]), 'root': 't3_1bx6qw', 'reply_to': 't1_c9b2nyd', 'timestamp': None, 'text': \"You strike me as the type who would appreciate it. I would give it a go. This is also my first Altman film so I didn't really know what to expect, except that people always compare PTA's Boogie Nights and Magnolia as being influenced by Altman. Magnolia is probably the best analog in terms of structure (having no lead character) but it is stylistically very different, much more melodramatic and transparently earnest. \", 'meta': {'post_depth': 2, 'majority_type': 'elaboration', 'majority_link': 't1_c9b2nyd', 'annotation-types': ['elaboration', 'elaboration', 'elaboration'], 'annotation-links': ['t1_c9b2nyd', 't1_c9b2nyd', 't1_c9b2nyd'], 'ups': 1}})),\n",
       " ('t1_c9b6sj0',\n",
       "  Utterance({'id': 't1_c9b6sj0', 'user': User([('name', 'mcgrewf10')]), 'root': 't3_1bx6qw', 'reply_to': 't1_c9b30i1', 'timestamp': None, 'text': \"Yeah, I've always heard that Altman was famous for his ensemble casts. But I, too, have never seen an Altman.\", 'meta': {'post_depth': 3, 'majority_type': 'elaboration', 'majority_link': 't1_c9b30i1', 'annotation-types': ['agreement', 'elaboration', 'elaboration'], 'annotation-links': ['t1_c9b30i1', 't1_c9b30i1', 't1_c9b30i1'], 'ups': 1}})),\n",
       " ('t3_omv7p',\n",
       "  Utterance({'id': 't3_omv7p', 'user': User([('name', 'Keatonus')]), 'root': 't3_omv7p', 'reply_to': None, 'timestamp': None, 'text': \"Alright guys, little background about myself. I'm a good looking, 23 year old male, have had modest success in the past with women, but have decided that modest just isn't good enough anymore.\\n\\nThe problem has never been a lack of attention, or opportunity. It's just been not having the killer instinct and extreme AA, to the point where women will basically EYE FUCK me, and I still don't have the testicular fortitude to say anything unless they say something first.\\n\\nMy goal is to approach 100 sets by the end of April, and hopefully break my AA.\", 'meta': {'post_depth': 0, 'majority_type': 'announcement', 'majority_link': 'none', 'annotation-types': ['announcement', 'announcement', 'announcement'], 'annotation-links': ['none', 'none', 'none'], 'ups': 6}})),\n",
       " ('t1_c3igqif',\n",
       "  Utterance({'id': 't1_c3igqif', 'user': User([('name', 'Keatonus')]), 'root': 't3_omv7p', 'reply_to': 't3_omv7p', 'timestamp': None, 'text': '**January 16th 3 Sets:** \\nWent out shopping with my grandma as I visited her. We go to a Factory store. Opened 3 sets.\\n\\n* First Set: was the changing room gal, HB 6 cute asian gal. Asked her a lot of questions about what i was wearing. Made her laugh several times with corny jokes, introduced her to my grandma, and we all talked for a minute after I was done picking out the clothes I wanted and left. \\n\\n* Second set: was this older gal, mid 40\\'s. Wouldn\\'t give her an HB because it was more of just a casual chat about the outfit I put on. She said she didn\\'t like it, I responded with \"aw, I\\'m not attractive?!\" and she said \"I never said that haha\" and grinned. I gave her a wink as she continued laughing and went into her stall.\\n\\n* Third set:  **NUMBER CLOSE** As me and my Grandma are waiting in line to be helped checking out, and HB7 walks to the register and helps us. We IMMEDIATELY small talk. Exchanging intellectual talking points such as martyrs and assassinations, making her laugh with jokes, poking fun at her, transitioned to talking about movies, and she suggested I watch one. The Darjeeling Limited, I gave her a queer look, she then rolled out some receipt to write it down. I asked her to put her name down there too. She did, and then said \"Want my number so you can tell me when you watch it?\" I obliged her saying \"Yeah, that could work\". It was only after I got her number she even ACKNOWLEDGED my grandmother being ONE FOOT next to me the whole time! HAHA. She asked who she was, I said my Grandmother. Mind you I look completely white, and my grandmother is full Japanese. We talked for a bit about my grandma and the war, and how my grandma was bombed etc. Then I take my leave and text her about an hour later. We have been talking since.\\n\\nTL;DR: Got a number with my Grandma right next to me!', 'meta': {'post_depth': 1, 'majority_type': 'elaboration', 'majority_link': 't3_omv7p', 'annotation-types': ['elaboration', 'elaboration', 'elaboration'], 'annotation-links': ['t3_omv7p', 't3_omv7p', 't3_omv7p'], 'ups': 5}})),\n",
       " ('t1_c3imrkb',\n",
       "  Utterance({'id': 't1_c3imrkb', 'user': User([('name', 'rakendrachen')]), 'root': 't3_omv7p', 'reply_to': 't1_c3igqif', 'timestamp': None, 'text': 'grandmas are the best wingmen.', 'meta': {'post_depth': 2, 'majority_type': 'humor', 'majority_link': 't1_c3igqif', 'annotation-types': ['humor', 'appreciation', 'humor'], 'annotation-links': ['t1_c3igqif', 't1_c3igqif', 't1_c3igqif'], 'ups': 3}})),\n",
       " ('t1_c3ij8z0',\n",
       "  Utterance({'id': 't1_c3ij8z0', 'user': User([('name', 'answerorreply')]), 'root': 't3_omv7p', 'reply_to': 't3_omv7p', 'timestamp': None, 'text': \"dude, these sets are awesome. You're doing great. Sounds like you're a natural at meeting people once you get past the AA.\", 'meta': {'post_depth': 1, 'majority_type': 'appreciation', 'majority_link': 't3_omv7p', 'annotation-types': ['appreciation', 'appreciation', 'appreciation'], 'annotation-links': ['t3_omv7p', 't3_omv7p', 't3_omv7p'], 'ups': 2}})),\n",
       " ('t1_c3inx9t',\n",
       "  Utterance({'id': 't1_c3inx9t', 'user': User([('name', 'Keatonus')]), 'root': 't3_omv7p', 'reply_to': 't1_c3ij8z0', 'timestamp': None, 'text': 'Thanks man! Yeah I\\'m trying to just keep the \"who cares have fun\" attitude on. Because normally I freak out about what to say. But I find if I just bring a subject up and get some momentum going, I\\'m actually a pretty good conversationalist.', 'meta': {'post_depth': 2, 'majority_type': 'appreciation', 'majority_link': 't1_c3ij8z0', 'annotation-types': ['appreciation', 'appreciation', 'appreciation'], 'annotation-links': ['t1_c3ij8z0', 't1_c3ij8z0', 't1_c3ij8z0'], 'ups': 1}})),\n",
       " ('t1_c3k2lc1',\n",
       "  Utterance({'id': 't1_c3k2lc1', 'user': User([('name', 'Keatonus')]), 'root': 't3_omv7p', 'reply_to': 't3_omv7p', 'timestamp': None, 'text': \"Ok. Update! Sorry I haven't been doing this day to day like I should be. Let me see what I can remember\\n\\n**January 17-23 Sets:** Various sets I remember opening, unfortunately no number closes. Just good old fashioned chit chatting.\\n\\n* 4th set: During the 49ers and Giants game I went to grab a bite to eat at the local burger joint. Before ordering since no line was behind me I decided to small talk with the Female at the register HB5. Mostly talked about sports, a little about myself, and her coworker HB6 joined in the conversation. This lasted about 5 minutes, learned both had boyfriends through small talk and proceeded to order.\\n\\n* 5th set: Also small talked with the female who works at my local grocery chain. She was new there, we talked about the rain of all things haha. Male coworker semi interrupted us, still small talked with both. Then ordered my drink.\\n\\nBlahhh, I know there's more than this...Hence why I should try to update every day. Be back soon guys.\", 'meta': {'post_depth': 1, 'majority_type': 'elaboration', 'majority_link': 't3_omv7p', 'annotation-types': ['elaboration', 'elaboration', 'elaboration'], 'annotation-links': ['t3_omv7p', 't3_omv7p', 't3_omv7p'], 'ups': 1}}))]"
      ]
     },
     "metadata": {},
     "output_type": "display_data"
    }
   ],
   "source": [
    "print(len(user_names))\n",
    "print(len(utterance_corpus))\n",
    "disp(list(utterance_corpus.items())[:10])"
   ]
  },
  {
   "cell_type": "markdown",
   "metadata": {
    "colab_type": "text",
    "id": "aWyST0CERBu4"
   },
   "source": [
    "#Conversation"
   ]
  },
  {
   "cell_type": "code",
   "execution_count": 71,
   "metadata": {
    "cellView": "code",
    "colab": {},
    "colab_type": "code",
    "id": "EnGlyyKJREmd"
   },
   "outputs": [],
   "source": [
    "#@title Make \"conversation_corpus\" dict\n",
    "\n",
    "conversation_corpus = {}\n",
    "with open('coarse_discourse_dump_reddit_with_votes.json', 'r') as f:\n",
    "  for line in f:\n",
    "    json_obj = json.loads(line)\n",
    "    \n",
    "    posts = json_obj[\"posts\"]\n",
    "    first = posts[0]\n",
    "    \n",
    "    #print(first)\n",
    "    \n",
    "    if(first.get('author')!=None):\n",
    "      owner = first['author']\n",
    "    else:\n",
    "      owner = '[deleted]'\n",
    "    \n",
    "    convo_id = first['id'][:]\n",
    "    \n",
    "    comments = []\n",
    "    \n",
    "    for comment in posts[:]:\n",
    "      comments.append(comment['id'][:])\n",
    "    \n",
    "    meta_data = {\n",
    "        \"subreddit\": json_obj['subreddit'], \n",
    "        \"url\": json_obj['url'],\n",
    "        \"title\": json_obj['title']}\n",
    "    \n",
    "    conversation_corpus[convo_id] = convokit.Conversation(owner, convo_id, comments, meta_data)\n",
    "    "
   ]
  },
  {
   "cell_type": "code",
   "execution_count": 72,
   "metadata": {
    "colab": {
     "base_uri": "https://localhost:8080/",
     "height": 54
    },
    "colab_type": "code",
    "id": "hSkmNrNeti-f",
    "outputId": "6d7a2277-df5f-4cfa-c016-8bbb5d875131"
   },
   "outputs": [
    {
     "name": "stdout",
     "output_type": "stream",
     "text": [
      "Conversation({'_owner': 'DTX120', '_id': 't3_1bx6qw', '_utterance_ids': ['t3_1bx6qw', 't1_c9b2nyd', 't1_c9b30i1', 't1_c9b6sj0'], '_usernames': None, '_meta': {'subreddit': '100movies365days', 'url': 'https://www.reddit.com/r/100movies365days/comments/1bx6qw/dtx120_87_nashville/', 'title': 'DTX120: #87 - Nashville'}})\n"
     ]
    }
   ],
   "source": [
    "print(conversation_corpus['t3_1bx6qw'])"
   ]
  },
  {
   "cell_type": "markdown",
   "metadata": {
    "colab_type": "text",
    "id": "JtIeE635wzTH"
   },
   "source": [
    "# Users: add utterances"
   ]
  },
  {
   "cell_type": "code",
   "execution_count": 73,
   "metadata": {
    "cellView": "code",
    "colab": {
     "base_uri": "https://localhost:8080/",
     "height": 255
    },
    "colab_type": "code",
    "id": "-LFLT3tLxNC-",
    "outputId": "fd8f6aae-91a8-4e1b-c36f-1e106e6b67cc"
   },
   "outputs": [
    {
     "name": "stdout",
     "output_type": "stream",
     "text": [
      "All test users, with associated utterance keys:\n",
      "\tUser ID: user1 \tUtterance keys: ['id1.1', 'id1.2']\n",
      "\tUser ID: user2 \tUtterance keys: ['id2.1']\n",
      "\tUser ID: user3 \tUtterance keys: []\n",
      "\n",
      "All test users, with associated convo keys:\n",
      "\tUser ID: user1 \tConvo keys: ['id1.1', 'id1.2']\n",
      "\tUser ID: user2 \tConvo keys: []\n",
      "\tUser ID: user3 \tConvo keys: []\n",
      "\n",
      "All test utterances, with associated user, and user's associated utterance keys:\n",
      "\tUtt. ID: id1.1 \tUser ID: user1 \tUser's utt. keys: ['id1.1', 'id1.2']\n",
      "\tUtt. ID: id1.2 \tUser ID: user1 \tUser's utt. keys: ['id1.1', 'id1.2']\n",
      "\tUtt. ID: id2.1 \tUser ID: user2 \tUser's utt. keys: ['id2.1']\n"
     ]
    }
   ],
   "source": [
    "#@title Test that adding utterances to users also updates user object attached to utterances\n",
    "\n",
    "test_users = {user_name: convokit.User(name=user_name) for user_name in ['user1', 'user2', 'user3']}\n",
    "\n",
    "test_utterances = {\n",
    "    'id1.1': convokit.Utterance('id1.1', test_users['user1'], None, None, None, 'some_text'),\n",
    "    'id1.2': convokit.Utterance('id1.2', test_users['user1'], None, None, None, 'some_text'),\n",
    "    'id2.1': convokit.Utterance('id2.1', test_users['user2'], None, None, None, 'some_text'),\n",
    "}\n",
    "\n",
    "test_convos = {\n",
    "    'id1.1': convokit.Conversation(owner=None, id=\"id1.1\", utterances=['id1.1', 'id2.1']),\n",
    "    'id1.2': convokit.Conversation(owner=None, id=\"id1.2\", utterances=['id1.2'])\n",
    "    \n",
    "}\n",
    "\n",
    "\n",
    "for utt in test_utterances.values():\n",
    "  utt.user.utterances[utt.id] = utt\n",
    "  \n",
    "for i, convo in enumerate(test_convos.values()):\n",
    "  top_post = test_utterances[convo.id]\n",
    "  top_post.user.conversations[convo.id] = convo\n",
    "\n",
    "print(\"All test users, with associated utterance keys:\")\n",
    "for uid, user in test_users.items():\n",
    "  print(\"\\tUser ID: {} \\tUtterance keys: {}\".format(uid, list(user.utterances.keys())))\n",
    "  \n",
    "print()\n",
    "\n",
    "print(\"All test users, with associated convo keys:\")\n",
    "for uid, user in test_users.items():\n",
    "  print(\"\\tUser ID: {} \\tConvo keys: {}\".format(uid, list(user.conversations.keys())))\n",
    "  \n",
    "print()\n",
    "\n",
    "print(\"All test utterances, with associated user, and user's associated utterance keys:\")\n",
    "for utt_id, utt in test_utterances.items():\n",
    "  print(\"\\tUtt. ID: {} \\tUser ID: {} \\tUser's utt. keys: {}\".format(utt_id, utt.user.name, list(utt.user.utterances.keys())))"
   ]
  },
  {
   "cell_type": "code",
   "execution_count": 74,
   "metadata": {
    "cellView": "code",
    "colab": {
     "base_uri": "https://localhost:8080/",
     "height": 34
    },
    "colab_type": "code",
    "id": "B68lLhOL7lZe",
    "outputId": "8caeaa98-0216-4748-9df7-cbbc90930c55"
   },
   "outputs": [
    {
     "name": "stdout",
     "output_type": "stream",
     "text": [
      "Added 115827 utterances to all_users\n"
     ]
    }
   ],
   "source": [
    "#@title Add utterances to all_users\n",
    "\n",
    "for i, utt in enumerate(utterance_corpus.values()):\n",
    "  utt.user.utterances[utt.id] = utt\n",
    "  \n",
    "print(\"Added {} utterances to all_users\".format(i+1))"
   ]
  },
  {
   "cell_type": "code",
   "execution_count": 75,
   "metadata": {
    "cellView": "code",
    "colab": {
     "base_uri": "https://localhost:8080/",
     "height": 34
    },
    "colab_type": "code",
    "id": "l_s8hr3s8L5C",
    "outputId": "e207aad9-b3c8-479f-80d3-c5319e6ca4c1"
   },
   "outputs": [
    {
     "name": "stdout",
     "output_type": "stream",
     "text": [
      "Added 9483 convos to all_users\n"
     ]
    }
   ],
   "source": [
    "#@title Add convos to all_users\n",
    "for i, convo in enumerate(conversation_corpus.values()):\n",
    "  top_post = utterance_corpus[convo.id]\n",
    "  top_post.user.conversations[convo.id] = convo\n",
    "  \n",
    "print(\"Added {} convos to all_users\".format(i+1))"
   ]
  },
  {
   "cell_type": "markdown",
   "metadata": {
    "colab_type": "text",
    "id": "uZjT-W8hRFBq"
   },
   "source": [
    "#Corpus"
   ]
  },
  {
   "cell_type": "code",
   "execution_count": 76,
   "metadata": {
    "colab": {
     "base_uri": "https://localhost:8080/",
     "height": 207
    },
    "colab_type": "code",
    "id": "mOuhP1JPRG8t",
    "outputId": "bd8e74a3-f0f5-482c-a588-72f1f9f86526"
   },
   "outputs": [
    {
     "name": "stdout",
     "output_type": "stream",
     "text": [
      "sample conversation t3_1bx6qw:\n",
      "Meta:  {'subreddit': '100movies365days', 'url': 'https://www.reddit.com/r/100movies365days/comments/1bx6qw/dtx120_87_nashville/', 'title': 'DTX120: #87 - Nashville'}\n",
      "sample conversation t3_omv7p:\n",
      "Meta:  {'subreddit': '100sets', 'url': 'https://www.reddit.com/r/100sets/comments/omv7p/male_23_years_old_going_for_100_sets/', 'title': 'Male, 23 years old. Going for 100 sets!'}\n",
      "sample conversation t3_259tbh:\n",
      "Meta:  {'subreddit': '1200isplenty', 'url': 'https://www.reddit.com/r/1200isplenty/comments/259tbh/122cal_black_currant_cheesecake/', 'title': '122cal black currant cheesecake!'}\n",
      "sample conversation t3_16h61h:\n",
      "Meta:  {'subreddit': '1911', 'url': 'https://www.reddit.com/r/1911/comments/16h61h/need_help_finding_a_springfield/', 'title': 'Need help finding a Springfield!'}\n",
      "sample conversation t3_35igzp:\n",
      "Meta:  {'subreddit': '1911', 'url': 'https://www.reddit.com/r/1911/comments/35igzp/help_with_a_possible_trade/', 'title': 'Help with a possible trade?'}\n"
     ]
    }
   ],
   "source": [
    "#@title Create corpus and add conversation metadata\n",
    "utterance_list = [utterance for k,utterance in utterance_corpus.items()]\n",
    "reddit_corpus = convokit.Corpus(utterances=utterance_list, version=1)\n",
    "\n",
    "for convo_id in reddit_corpus.get_conversation_ids():\n",
    "  reddit_corpus.get_conversation(convo_id).meta = conversation_corpus[convo_id].meta\n",
    "\n",
    "convo_ids = reddit_corpus.get_conversation_ids()\n",
    "for i, convo_idx in enumerate(convo_ids[0:5]):\n",
    "    print(\"sample conversation {}:\".format(convo_idx))\n",
    "    convo = reddit_corpus.get_conversation(convo_idx)\n",
    "    user_id = convo.get_utterance(convo.id).user.name\n",
    "    print(\"Meta: \", convo.meta)\n"
   ]
  },
  {
   "cell_type": "code",
   "execution_count": 77,
   "metadata": {
    "cellView": "code",
    "colab": {
     "base_uri": "https://localhost:8080/",
     "height": 395
    },
    "colab_type": "code",
    "id": "0E0LEGX1QsBN",
    "outputId": "2a04d5c0-418f-4c3a-b9d3-2d28a8ca5091"
   },
   "outputs": [],
   "source": [
    "# @title Save to file and zip\n",
    "reddit_corpus.dump(\"reddit_coarse_discourse\", base_path = \"\")\n",
    "\n",
    "with ZipFile(\"reddit_coarse_discourse.zip\", 'w') as zip_f:\n",
    "  for fname in os.listdir(\"reddit_coarse_discourse\"):\n",
    "    zip_f.write(\"reddit_coarse_discourse/\"+fname)"
   ]
  },
  {
   "cell_type": "code",
   "execution_count": 78,
   "metadata": {
    "cellView": "form",
    "colab": {
     "base_uri": "https://localhost:8080/",
     "height": 119
    },
    "colab_type": "code",
    "id": "rirZ-FNFfVal",
    "outputId": "0d5512f4-0da7-4f98-b60b-3bba68ee36c6"
   },
   "outputs": [
    {
     "name": "stdout",
     "output_type": "stream",
     "text": [
      "115827\n",
      "9483\n",
      "63573\n",
      "Number of Users: 63573\n",
      "Number of Utterances: 115827\n",
      "Number of Conversations: 9483\n"
     ]
    }
   ],
   "source": [
    "#@title Show stats\n",
    "\n",
    "print(len(reddit_corpus.get_utterance_ids()))\n",
    "print(len(reddit_corpus.get_conversation_ids()))\n",
    "print(len(reddit_corpus.get_usernames()))\n",
    "reddit_corpus.print_summary_stats()"
   ]
  },
  {
   "cell_type": "markdown",
   "metadata": {
    "colab_type": "text",
    "id": "p3_-wTJ-ftnN"
   },
   "source": [
    "# Part D: Stats and politeness transform"
   ]
  },
  {
   "cell_type": "markdown",
   "metadata": {
    "colab_type": "text",
    "id": "o5ZGJxemEfVz"
   },
   "source": [
    "##Discourse type stats"
   ]
  },
  {
   "cell_type": "code",
   "execution_count": 79,
   "metadata": {
    "colab": {},
    "colab_type": "code",
    "id": "_8vnE_4zvgd2"
   },
   "outputs": [],
   "source": [
    "type_corpus = {}\n",
    "type_list = []\n",
    "\n",
    "for x in utterance_corpus:\n",
    "  #type_corpus[x] = utterance_corpus[x].meta[\"majority_type\"]\n",
    "  if(utterance_corpus[x].meta[\"majority_type\"]==None):\n",
    "    type_list.append(\"no consensus\")\n",
    "  else:\n",
    "    type_list.append(utterance_corpus[x].meta[\"majority_type\"])\n",
    "  \n",
    "#print(type_list)\n",
    "\n",
    "from collections import Counter\n",
    "\n",
    "ctrdata = Counter(type_list)"
   ]
  },
  {
   "cell_type": "code",
   "execution_count": 80,
   "metadata": {
    "colab": {
     "base_uri": "https://localhost:8080/",
     "height": 442
    },
    "colab_type": "code",
    "id": "qwIIIVs8ySGU",
    "outputId": "eded14bc-5bb7-4c3e-8121-6d334ec04b9c"
   },
   "outputs": [
    {
     "name": "stdout",
     "output_type": "stream",
     "text": [
      "announcement 2002 1.73%\n",
      "elaboration 19258 16.63%\n",
      "humor 2417 2.09%\n",
      "appreciation 8710 7.52%\n",
      "question 17594 15.19%\n",
      "answer 41162 35.54%\n",
      "no consensus 12277 10.6%\n",
      "agreement 5040 4.35%\n",
      "negativereaction 1896 1.64%\n",
      "disagreement 3422 2.95%\n",
      "other 2049 1.77%\n"
     ]
    },
    {
     "data": {
      "image/png": "[encoded data removed]",
      "text/plain": [
       "<Figure size 432x288 with 1 Axes>"
      ]
     },
     "metadata": {},
     "output_type": "display_data"
    }
   ],
   "source": [
    "#https://pythontic.com/visualization/charts/piechart\n",
    "import matplotlib.pyplot as plotter\n",
    "\n",
    "for x in ctrdata:\n",
    "  y = ctrdata[x]\n",
    "  percenty = y / 115827 * 100;\n",
    "  print(x + \" \" + str(y) + \" \" + str(round(percenty,2)) + \"%\")\n",
    "\n",
    "uttlabels = ctrdata.keys()\n",
    "data = ctrdata.values()\n",
    "\n",
    "explode = (0.8, 0.0, 0.6, 0.0, 0.0, 0.0, 0.0, 0.0, 0.2, 0.4, 0.6)\n",
    "\n",
    "figureObject, axesObject = plotter.subplots()\n",
    "\n",
    "# Draw the pie chart\n",
    "\n",
    "axesObject.pie(data,explode=explode,\n",
    "\n",
    "        labels=uttlabels,\n",
    "\n",
    "        autopct='%1.2f',\n",
    "\n",
    "        startangle=90)\n",
    "\n",
    " \n",
    "\n",
    "# Aspect ratio - equal means pie is a circle\n",
    "\n",
    "axesObject.axis('equal')\n",
    "\n",
    " \n",
    "\n",
    "plotter.show()"
   ]
  },
  {
   "cell_type": "markdown",
   "metadata": {
    "colab_type": "text",
    "id": "JSgoPLK6EZja"
   },
   "source": [
    "# Politeness transform - don't need to run this"
   ]
  },
  {
   "cell_type": "code",
   "execution_count": 81,
   "metadata": {
    "colab": {},
    "colab_type": "code",
    "id": "Fw6NFPBaFIkJ"
   },
   "outputs": [
    {
     "ename": "KeyboardInterrupt",
     "evalue": "",
     "output_type": "error",
     "traceback": [
      "\u001b[0;31m---------------------------------------------------------------------------\u001b[0m",
      "\u001b[0;31mKeyboardInterrupt\u001b[0m                         Traceback (most recent call last)",
      "\u001b[0;32m<ipython-input-81-71c85e188752>\u001b[0m in \u001b[0;36m<module>\u001b[0;34m\u001b[0m\n\u001b[1;32m      2\u001b[0m \u001b[0;32mimport\u001b[0m \u001b[0mconvokit\u001b[0m\u001b[0;34m\u001b[0m\u001b[0;34m\u001b[0m\u001b[0m\n\u001b[1;32m      3\u001b[0m \u001b[0mparser\u001b[0m \u001b[0;34m=\u001b[0m \u001b[0mconvokit\u001b[0m\u001b[0;34m.\u001b[0m\u001b[0mParser\u001b[0m\u001b[0;34m(\u001b[0m\u001b[0;34m)\u001b[0m\u001b[0;34m\u001b[0m\u001b[0;34m\u001b[0m\u001b[0m\n\u001b[0;32m----> 4\u001b[0;31m \u001b[0mreddit_corpus\u001b[0m \u001b[0;34m=\u001b[0m \u001b[0mparser\u001b[0m\u001b[0;34m.\u001b[0m\u001b[0mtransform\u001b[0m\u001b[0;34m(\u001b[0m\u001b[0mreddit_corpus\u001b[0m\u001b[0;34m)\u001b[0m\u001b[0;34m\u001b[0m\u001b[0;34m\u001b[0m\u001b[0m\n\u001b[0m",
      "\u001b[0;32m~/Documents/coarsediscoursegit/Cornell-Conversational-Analysis-Toolkit/convokit/parser/parser.py\u001b[0m in \u001b[0;36mtransform\u001b[0;34m(self, corpus)\u001b[0m\n\u001b[1;32m     49\u001b[0m             \u001b[0mspacy_iter\u001b[0m \u001b[0;34m=\u001b[0m \u001b[0mself\u001b[0m\u001b[0;34m.\u001b[0m\u001b[0mspacy_nlp\u001b[0m\u001b[0;34m.\u001b[0m\u001b[0mpipe\u001b[0m\u001b[0;34m(\u001b[0m\u001b[0;34m(\u001b[0m\u001b[0mcorpus\u001b[0m\u001b[0;34m.\u001b[0m\u001b[0mget_utterance\u001b[0m\u001b[0;34m(\u001b[0m\u001b[0mutt_id\u001b[0m\u001b[0;34m)\u001b[0m\u001b[0;34m.\u001b[0m\u001b[0mtext\u001b[0m \u001b[0;32mfor\u001b[0m \u001b[0mutt_id\u001b[0m \u001b[0;32min\u001b[0m \u001b[0mutt_ids\u001b[0m\u001b[0;34m)\u001b[0m\u001b[0;34m,\u001b[0m \u001b[0mn_threads\u001b[0m\u001b[0;34m=\u001b[0m\u001b[0mself\u001b[0m\u001b[0;34m.\u001b[0m\u001b[0mn_threads\u001b[0m\u001b[0;34m)\u001b[0m\u001b[0;34m\u001b[0m\u001b[0;34m\u001b[0m\u001b[0m\n\u001b[1;32m     50\u001b[0m         \u001b[0;31m# add the spacy parses to the utterance metadata\u001b[0m\u001b[0;34m\u001b[0m\u001b[0;34m\u001b[0m\u001b[0;34m\u001b[0m\u001b[0m\n\u001b[0;32m---> 51\u001b[0;31m         \u001b[0;32mfor\u001b[0m \u001b[0mutt_id\u001b[0m\u001b[0;34m,\u001b[0m \u001b[0mparsed\u001b[0m \u001b[0;32min\u001b[0m \u001b[0mzip\u001b[0m\u001b[0;34m(\u001b[0m\u001b[0mutt_ids\u001b[0m\u001b[0;34m,\u001b[0m \u001b[0mspacy_iter\u001b[0m\u001b[0;34m)\u001b[0m\u001b[0;34m:\u001b[0m\u001b[0;34m\u001b[0m\u001b[0;34m\u001b[0m\u001b[0m\n\u001b[0m\u001b[1;32m     52\u001b[0m             \u001b[0mcorpus\u001b[0m\u001b[0;34m.\u001b[0m\u001b[0mget_utterance\u001b[0m\u001b[0;34m(\u001b[0m\u001b[0mutt_id\u001b[0m\u001b[0;34m)\u001b[0m\u001b[0;34m.\u001b[0m\u001b[0mmeta\u001b[0m\u001b[0;34m[\u001b[0m\u001b[0mself\u001b[0m\u001b[0;34m.\u001b[0m\u001b[0mATTR_NAME\u001b[0m\u001b[0;34m]\u001b[0m \u001b[0;34m=\u001b[0m \u001b[0m_remove_tensor\u001b[0m\u001b[0;34m(\u001b[0m\u001b[0mparsed\u001b[0m\u001b[0;34m)\u001b[0m\u001b[0;34m\u001b[0m\u001b[0;34m\u001b[0m\u001b[0m\n\u001b[1;32m     53\u001b[0m         \u001b[0;32mreturn\u001b[0m \u001b[0mcorpus\u001b[0m\u001b[0;34m\u001b[0m\u001b[0;34m\u001b[0m\u001b[0m\n",
      "\u001b[0;32m~/Documents/coarsediscoursegit/Cornell-Conversational-Analysis-Toolkit/convokit/parser/parser.py\u001b[0m in \u001b[0;36m<genexpr>\u001b[0;34m(.0)\u001b[0m\n\u001b[1;32m     45\u001b[0m         \u001b[0;31m# using spacy.pipe. Otherwise we will operate sequentially.\u001b[0m\u001b[0;34m\u001b[0m\u001b[0;34m\u001b[0m\u001b[0;34m\u001b[0m\u001b[0m\n\u001b[1;32m     46\u001b[0m         \u001b[0;32mif\u001b[0m \u001b[0mself\u001b[0m\u001b[0;34m.\u001b[0m\u001b[0mn_threads\u001b[0m \u001b[0;34m==\u001b[0m \u001b[0;36m1\u001b[0m\u001b[0;34m:\u001b[0m\u001b[0;34m\u001b[0m\u001b[0;34m\u001b[0m\u001b[0m\n\u001b[0;32m---> 47\u001b[0;31m             \u001b[0mspacy_iter\u001b[0m \u001b[0;34m=\u001b[0m \u001b[0;34m(\u001b[0m\u001b[0mself\u001b[0m\u001b[0;34m.\u001b[0m\u001b[0mspacy_nlp\u001b[0m\u001b[0;34m(\u001b[0m\u001b[0mcorpus\u001b[0m\u001b[0;34m.\u001b[0m\u001b[0mget_utterance\u001b[0m\u001b[0;34m(\u001b[0m\u001b[0mutt_id\u001b[0m\u001b[0;34m)\u001b[0m\u001b[0;34m.\u001b[0m\u001b[0mtext\u001b[0m\u001b[0;34m)\u001b[0m \u001b[0;32mfor\u001b[0m \u001b[0mutt_id\u001b[0m \u001b[0;32min\u001b[0m \u001b[0mutt_ids\u001b[0m\u001b[0;34m)\u001b[0m\u001b[0;34m\u001b[0m\u001b[0;34m\u001b[0m\u001b[0m\n\u001b[0m\u001b[1;32m     48\u001b[0m         \u001b[0;32melse\u001b[0m\u001b[0;34m:\u001b[0m\u001b[0;34m\u001b[0m\u001b[0;34m\u001b[0m\u001b[0m\n\u001b[1;32m     49\u001b[0m             \u001b[0mspacy_iter\u001b[0m \u001b[0;34m=\u001b[0m \u001b[0mself\u001b[0m\u001b[0;34m.\u001b[0m\u001b[0mspacy_nlp\u001b[0m\u001b[0;34m.\u001b[0m\u001b[0mpipe\u001b[0m\u001b[0;34m(\u001b[0m\u001b[0;34m(\u001b[0m\u001b[0mcorpus\u001b[0m\u001b[0;34m.\u001b[0m\u001b[0mget_utterance\u001b[0m\u001b[0;34m(\u001b[0m\u001b[0mutt_id\u001b[0m\u001b[0;34m)\u001b[0m\u001b[0;34m.\u001b[0m\u001b[0mtext\u001b[0m \u001b[0;32mfor\u001b[0m \u001b[0mutt_id\u001b[0m \u001b[0;32min\u001b[0m \u001b[0mutt_ids\u001b[0m\u001b[0;34m)\u001b[0m\u001b[0;34m,\u001b[0m \u001b[0mn_threads\u001b[0m\u001b[0;34m=\u001b[0m\u001b[0mself\u001b[0m\u001b[0;34m.\u001b[0m\u001b[0mn_threads\u001b[0m\u001b[0;34m)\u001b[0m\u001b[0;34m\u001b[0m\u001b[0;34m\u001b[0m\u001b[0m\n",
      "\u001b[0;32m~/anaconda3/lib/python3.7/site-packages/spacy/language.py\u001b[0m in \u001b[0;36m__call__\u001b[0;34m(self, text, disable)\u001b[0m\n\u001b[1;32m    350\u001b[0m             \u001b[0;32mif\u001b[0m \u001b[0;32mnot\u001b[0m \u001b[0mhasattr\u001b[0m\u001b[0;34m(\u001b[0m\u001b[0mproc\u001b[0m\u001b[0;34m,\u001b[0m \u001b[0;34m'__call__'\u001b[0m\u001b[0;34m)\u001b[0m\u001b[0;34m:\u001b[0m\u001b[0;34m\u001b[0m\u001b[0;34m\u001b[0m\u001b[0m\n\u001b[1;32m    351\u001b[0m                 \u001b[0;32mraise\u001b[0m \u001b[0mValueError\u001b[0m\u001b[0;34m(\u001b[0m\u001b[0mErrors\u001b[0m\u001b[0;34m.\u001b[0m\u001b[0mE003\u001b[0m\u001b[0;34m.\u001b[0m\u001b[0mformat\u001b[0m\u001b[0;34m(\u001b[0m\u001b[0mcomponent\u001b[0m\u001b[0;34m=\u001b[0m\u001b[0mtype\u001b[0m\u001b[0;34m(\u001b[0m\u001b[0mproc\u001b[0m\u001b[0;34m)\u001b[0m\u001b[0;34m,\u001b[0m \u001b[0mname\u001b[0m\u001b[0;34m=\u001b[0m\u001b[0mname\u001b[0m\u001b[0;34m)\u001b[0m\u001b[0;34m)\u001b[0m\u001b[0;34m\u001b[0m\u001b[0;34m\u001b[0m\u001b[0m\n\u001b[0;32m--> 352\u001b[0;31m             \u001b[0mdoc\u001b[0m \u001b[0;34m=\u001b[0m \u001b[0mproc\u001b[0m\u001b[0;34m(\u001b[0m\u001b[0mdoc\u001b[0m\u001b[0;34m)\u001b[0m\u001b[0;34m\u001b[0m\u001b[0;34m\u001b[0m\u001b[0m\n\u001b[0m\u001b[1;32m    353\u001b[0m             \u001b[0;32mif\u001b[0m \u001b[0mdoc\u001b[0m \u001b[0;32mis\u001b[0m \u001b[0;32mNone\u001b[0m\u001b[0;34m:\u001b[0m\u001b[0;34m\u001b[0m\u001b[0;34m\u001b[0m\u001b[0m\n\u001b[1;32m    354\u001b[0m                 \u001b[0;32mraise\u001b[0m \u001b[0mValueError\u001b[0m\u001b[0;34m(\u001b[0m\u001b[0mErrors\u001b[0m\u001b[0;34m.\u001b[0m\u001b[0mE005\u001b[0m\u001b[0;34m.\u001b[0m\u001b[0mformat\u001b[0m\u001b[0;34m(\u001b[0m\u001b[0mname\u001b[0m\u001b[0;34m=\u001b[0m\u001b[0mname\u001b[0m\u001b[0;34m)\u001b[0m\u001b[0;34m)\u001b[0m\u001b[0;34m\u001b[0m\u001b[0;34m\u001b[0m\u001b[0m\n",
      "\u001b[0;32mpipeline.pyx\u001b[0m in \u001b[0;36mspacy.pipeline.Tagger.__call__\u001b[0;34m()\u001b[0m\n",
      "\u001b[0;32mpipeline.pyx\u001b[0m in \u001b[0;36mspacy.pipeline.Tagger.predict\u001b[0;34m()\u001b[0m\n",
      "\u001b[0;32m~/anaconda3/lib/python3.7/site-packages/thinc/neural/_classes/model.py\u001b[0m in \u001b[0;36m__call__\u001b[0;34m(self, x)\u001b[0m\n\u001b[1;32m    159\u001b[0m             \u001b[0mMust\u001b[0m \u001b[0mmatch\u001b[0m \u001b[0mexpected\u001b[0m \u001b[0mshape\u001b[0m\u001b[0;34m\u001b[0m\u001b[0;34m\u001b[0m\u001b[0m\n\u001b[1;32m    160\u001b[0m         '''\n\u001b[0;32m--> 161\u001b[0;31m         \u001b[0;32mreturn\u001b[0m \u001b[0mself\u001b[0m\u001b[0;34m.\u001b[0m\u001b[0mpredict\u001b[0m\u001b[0;34m(\u001b[0m\u001b[0mx\u001b[0m\u001b[0;34m)\u001b[0m\u001b[0;34m\u001b[0m\u001b[0;34m\u001b[0m\u001b[0m\n\u001b[0m\u001b[1;32m    162\u001b[0m \u001b[0;34m\u001b[0m\u001b[0m\n\u001b[1;32m    163\u001b[0m     \u001b[0;32mdef\u001b[0m \u001b[0mpipe\u001b[0m\u001b[0;34m(\u001b[0m\u001b[0mself\u001b[0m\u001b[0;34m,\u001b[0m \u001b[0mstream\u001b[0m\u001b[0;34m,\u001b[0m \u001b[0mbatch_size\u001b[0m\u001b[0;34m=\u001b[0m\u001b[0;36m128\u001b[0m\u001b[0;34m)\u001b[0m\u001b[0;34m:\u001b[0m\u001b[0;34m\u001b[0m\u001b[0;34m\u001b[0m\u001b[0m\n",
      "\u001b[0;32m~/anaconda3/lib/python3.7/site-packages/thinc/api.py\u001b[0m in \u001b[0;36mpredict\u001b[0;34m(self, X)\u001b[0m\n\u001b[1;32m     53\u001b[0m     \u001b[0;32mdef\u001b[0m \u001b[0mpredict\u001b[0m\u001b[0;34m(\u001b[0m\u001b[0mself\u001b[0m\u001b[0;34m,\u001b[0m \u001b[0mX\u001b[0m\u001b[0;34m)\u001b[0m\u001b[0;34m:\u001b[0m\u001b[0;34m\u001b[0m\u001b[0;34m\u001b[0m\u001b[0m\n\u001b[1;32m     54\u001b[0m         \u001b[0;32mfor\u001b[0m \u001b[0mlayer\u001b[0m \u001b[0;32min\u001b[0m \u001b[0mself\u001b[0m\u001b[0;34m.\u001b[0m\u001b[0m_layers\u001b[0m\u001b[0;34m:\u001b[0m\u001b[0;34m\u001b[0m\u001b[0;34m\u001b[0m\u001b[0m\n\u001b[0;32m---> 55\u001b[0;31m             \u001b[0mX\u001b[0m \u001b[0;34m=\u001b[0m \u001b[0mlayer\u001b[0m\u001b[0;34m(\u001b[0m\u001b[0mX\u001b[0m\u001b[0;34m)\u001b[0m\u001b[0;34m\u001b[0m\u001b[0;34m\u001b[0m\u001b[0m\n\u001b[0m\u001b[1;32m     56\u001b[0m         \u001b[0;32mreturn\u001b[0m \u001b[0mX\u001b[0m\u001b[0;34m\u001b[0m\u001b[0;34m\u001b[0m\u001b[0m\n\u001b[1;32m     57\u001b[0m \u001b[0;34m\u001b[0m\u001b[0m\n",
      "\u001b[0;32m~/anaconda3/lib/python3.7/site-packages/thinc/neural/_classes/model.py\u001b[0m in \u001b[0;36m__call__\u001b[0;34m(self, x)\u001b[0m\n\u001b[1;32m    159\u001b[0m             \u001b[0mMust\u001b[0m \u001b[0mmatch\u001b[0m \u001b[0mexpected\u001b[0m \u001b[0mshape\u001b[0m\u001b[0;34m\u001b[0m\u001b[0;34m\u001b[0m\u001b[0m\n\u001b[1;32m    160\u001b[0m         '''\n\u001b[0;32m--> 161\u001b[0;31m         \u001b[0;32mreturn\u001b[0m \u001b[0mself\u001b[0m\u001b[0;34m.\u001b[0m\u001b[0mpredict\u001b[0m\u001b[0;34m(\u001b[0m\u001b[0mx\u001b[0m\u001b[0;34m)\u001b[0m\u001b[0;34m\u001b[0m\u001b[0;34m\u001b[0m\u001b[0m\n\u001b[0m\u001b[1;32m    162\u001b[0m \u001b[0;34m\u001b[0m\u001b[0m\n\u001b[1;32m    163\u001b[0m     \u001b[0;32mdef\u001b[0m \u001b[0mpipe\u001b[0m\u001b[0;34m(\u001b[0m\u001b[0mself\u001b[0m\u001b[0;34m,\u001b[0m \u001b[0mstream\u001b[0m\u001b[0;34m,\u001b[0m \u001b[0mbatch_size\u001b[0m\u001b[0;34m=\u001b[0m\u001b[0;36m128\u001b[0m\u001b[0;34m)\u001b[0m\u001b[0;34m:\u001b[0m\u001b[0;34m\u001b[0m\u001b[0;34m\u001b[0m\u001b[0m\n",
      "\u001b[0;32m~/anaconda3/lib/python3.7/site-packages/thinc/api.py\u001b[0m in \u001b[0;36mpredict\u001b[0;34m(seqs_in)\u001b[0m\n\u001b[1;32m    291\u001b[0m     \u001b[0;32mdef\u001b[0m \u001b[0mpredict\u001b[0m\u001b[0;34m(\u001b[0m\u001b[0mseqs_in\u001b[0m\u001b[0;34m)\u001b[0m\u001b[0;34m:\u001b[0m\u001b[0;34m\u001b[0m\u001b[0;34m\u001b[0m\u001b[0m\n\u001b[1;32m    292\u001b[0m         \u001b[0mlengths\u001b[0m \u001b[0;34m=\u001b[0m \u001b[0mlayer\u001b[0m\u001b[0;34m.\u001b[0m\u001b[0mops\u001b[0m\u001b[0;34m.\u001b[0m\u001b[0masarray\u001b[0m\u001b[0;34m(\u001b[0m\u001b[0;34m[\u001b[0m\u001b[0mlen\u001b[0m\u001b[0;34m(\u001b[0m\u001b[0mseq\u001b[0m\u001b[0;34m)\u001b[0m \u001b[0;32mfor\u001b[0m \u001b[0mseq\u001b[0m \u001b[0;32min\u001b[0m \u001b[0mseqs_in\u001b[0m\u001b[0;34m]\u001b[0m\u001b[0;34m)\u001b[0m\u001b[0;34m\u001b[0m\u001b[0;34m\u001b[0m\u001b[0m\n\u001b[0;32m--> 293\u001b[0;31m         \u001b[0mX\u001b[0m \u001b[0;34m=\u001b[0m \u001b[0mlayer\u001b[0m\u001b[0;34m(\u001b[0m\u001b[0mlayer\u001b[0m\u001b[0;34m.\u001b[0m\u001b[0mops\u001b[0m\u001b[0;34m.\u001b[0m\u001b[0mflatten\u001b[0m\u001b[0;34m(\u001b[0m\u001b[0mseqs_in\u001b[0m\u001b[0;34m,\u001b[0m \u001b[0mpad\u001b[0m\u001b[0;34m=\u001b[0m\u001b[0mpad\u001b[0m\u001b[0;34m)\u001b[0m\u001b[0;34m)\u001b[0m\u001b[0;34m\u001b[0m\u001b[0;34m\u001b[0m\u001b[0m\n\u001b[0m\u001b[1;32m    294\u001b[0m         \u001b[0;32mreturn\u001b[0m \u001b[0mlayer\u001b[0m\u001b[0;34m.\u001b[0m\u001b[0mops\u001b[0m\u001b[0;34m.\u001b[0m\u001b[0munflatten\u001b[0m\u001b[0;34m(\u001b[0m\u001b[0mX\u001b[0m\u001b[0;34m,\u001b[0m \u001b[0mlengths\u001b[0m\u001b[0;34m,\u001b[0m \u001b[0mpad\u001b[0m\u001b[0;34m=\u001b[0m\u001b[0mpad\u001b[0m\u001b[0;34m)\u001b[0m\u001b[0;34m\u001b[0m\u001b[0;34m\u001b[0m\u001b[0m\n\u001b[1;32m    295\u001b[0m \u001b[0;34m\u001b[0m\u001b[0m\n",
      "\u001b[0;32m~/anaconda3/lib/python3.7/site-packages/thinc/neural/_classes/model.py\u001b[0m in \u001b[0;36m__call__\u001b[0;34m(self, x)\u001b[0m\n\u001b[1;32m    159\u001b[0m             \u001b[0mMust\u001b[0m \u001b[0mmatch\u001b[0m \u001b[0mexpected\u001b[0m \u001b[0mshape\u001b[0m\u001b[0;34m\u001b[0m\u001b[0;34m\u001b[0m\u001b[0m\n\u001b[1;32m    160\u001b[0m         '''\n\u001b[0;32m--> 161\u001b[0;31m         \u001b[0;32mreturn\u001b[0m \u001b[0mself\u001b[0m\u001b[0;34m.\u001b[0m\u001b[0mpredict\u001b[0m\u001b[0;34m(\u001b[0m\u001b[0mx\u001b[0m\u001b[0;34m)\u001b[0m\u001b[0;34m\u001b[0m\u001b[0;34m\u001b[0m\u001b[0m\n\u001b[0m\u001b[1;32m    162\u001b[0m \u001b[0;34m\u001b[0m\u001b[0m\n\u001b[1;32m    163\u001b[0m     \u001b[0;32mdef\u001b[0m \u001b[0mpipe\u001b[0m\u001b[0;34m(\u001b[0m\u001b[0mself\u001b[0m\u001b[0;34m,\u001b[0m \u001b[0mstream\u001b[0m\u001b[0;34m,\u001b[0m \u001b[0mbatch_size\u001b[0m\u001b[0;34m=\u001b[0m\u001b[0;36m128\u001b[0m\u001b[0;34m)\u001b[0m\u001b[0;34m:\u001b[0m\u001b[0;34m\u001b[0m\u001b[0;34m\u001b[0m\u001b[0m\n",
      "\u001b[0;32m~/anaconda3/lib/python3.7/site-packages/thinc/api.py\u001b[0m in \u001b[0;36mpredict\u001b[0;34m(self, X)\u001b[0m\n\u001b[1;32m     53\u001b[0m     \u001b[0;32mdef\u001b[0m \u001b[0mpredict\u001b[0m\u001b[0;34m(\u001b[0m\u001b[0mself\u001b[0m\u001b[0;34m,\u001b[0m \u001b[0mX\u001b[0m\u001b[0;34m)\u001b[0m\u001b[0;34m:\u001b[0m\u001b[0;34m\u001b[0m\u001b[0;34m\u001b[0m\u001b[0m\n\u001b[1;32m     54\u001b[0m         \u001b[0;32mfor\u001b[0m \u001b[0mlayer\u001b[0m \u001b[0;32min\u001b[0m \u001b[0mself\u001b[0m\u001b[0;34m.\u001b[0m\u001b[0m_layers\u001b[0m\u001b[0;34m:\u001b[0m\u001b[0;34m\u001b[0m\u001b[0;34m\u001b[0m\u001b[0m\n\u001b[0;32m---> 55\u001b[0;31m             \u001b[0mX\u001b[0m \u001b[0;34m=\u001b[0m \u001b[0mlayer\u001b[0m\u001b[0;34m(\u001b[0m\u001b[0mX\u001b[0m\u001b[0;34m)\u001b[0m\u001b[0;34m\u001b[0m\u001b[0;34m\u001b[0m\u001b[0m\n\u001b[0m\u001b[1;32m     56\u001b[0m         \u001b[0;32mreturn\u001b[0m \u001b[0mX\u001b[0m\u001b[0;34m\u001b[0m\u001b[0;34m\u001b[0m\u001b[0m\n\u001b[1;32m     57\u001b[0m \u001b[0;34m\u001b[0m\u001b[0m\n",
      "\u001b[0;32m~/anaconda3/lib/python3.7/site-packages/thinc/neural/_classes/model.py\u001b[0m in \u001b[0;36m__call__\u001b[0;34m(self, x)\u001b[0m\n\u001b[1;32m    159\u001b[0m             \u001b[0mMust\u001b[0m \u001b[0mmatch\u001b[0m \u001b[0mexpected\u001b[0m \u001b[0mshape\u001b[0m\u001b[0;34m\u001b[0m\u001b[0;34m\u001b[0m\u001b[0m\n\u001b[1;32m    160\u001b[0m         '''\n\u001b[0;32m--> 161\u001b[0;31m         \u001b[0;32mreturn\u001b[0m \u001b[0mself\u001b[0m\u001b[0;34m.\u001b[0m\u001b[0mpredict\u001b[0m\u001b[0;34m(\u001b[0m\u001b[0mx\u001b[0m\u001b[0;34m)\u001b[0m\u001b[0;34m\u001b[0m\u001b[0;34m\u001b[0m\u001b[0m\n\u001b[0m\u001b[1;32m    162\u001b[0m \u001b[0;34m\u001b[0m\u001b[0m\n\u001b[1;32m    163\u001b[0m     \u001b[0;32mdef\u001b[0m \u001b[0mpipe\u001b[0m\u001b[0;34m(\u001b[0m\u001b[0mself\u001b[0m\u001b[0;34m,\u001b[0m \u001b[0mstream\u001b[0m\u001b[0;34m,\u001b[0m \u001b[0mbatch_size\u001b[0m\u001b[0;34m=\u001b[0m\u001b[0;36m128\u001b[0m\u001b[0;34m)\u001b[0m\u001b[0;34m:\u001b[0m\u001b[0;34m\u001b[0m\u001b[0;34m\u001b[0m\u001b[0m\n",
      "\u001b[0;32m~/anaconda3/lib/python3.7/site-packages/thinc/neural/_classes/model.py\u001b[0m in \u001b[0;36mpredict\u001b[0;34m(self, X)\u001b[0m\n\u001b[1;32m    123\u001b[0m \u001b[0;34m\u001b[0m\u001b[0m\n\u001b[1;32m    124\u001b[0m     \u001b[0;32mdef\u001b[0m \u001b[0mpredict\u001b[0m\u001b[0;34m(\u001b[0m\u001b[0mself\u001b[0m\u001b[0;34m,\u001b[0m \u001b[0mX\u001b[0m\u001b[0;34m)\u001b[0m\u001b[0;34m:\u001b[0m\u001b[0;34m\u001b[0m\u001b[0;34m\u001b[0m\u001b[0m\n\u001b[0;32m--> 125\u001b[0;31m         \u001b[0my\u001b[0m\u001b[0;34m,\u001b[0m \u001b[0m_\u001b[0m \u001b[0;34m=\u001b[0m \u001b[0mself\u001b[0m\u001b[0;34m.\u001b[0m\u001b[0mbegin_update\u001b[0m\u001b[0;34m(\u001b[0m\u001b[0mX\u001b[0m\u001b[0;34m)\u001b[0m\u001b[0;34m\u001b[0m\u001b[0;34m\u001b[0m\u001b[0m\n\u001b[0m\u001b[1;32m    126\u001b[0m         \u001b[0;32mreturn\u001b[0m \u001b[0my\u001b[0m\u001b[0;34m\u001b[0m\u001b[0;34m\u001b[0m\u001b[0m\n\u001b[1;32m    127\u001b[0m \u001b[0;34m\u001b[0m\u001b[0m\n",
      "\u001b[0;32m~/anaconda3/lib/python3.7/site-packages/thinc/api.py\u001b[0m in \u001b[0;36muniqued_fwd\u001b[0;34m(X, drop)\u001b[0m\n\u001b[1;32m    372\u001b[0m                                                     return_counts=True)\n\u001b[1;32m    373\u001b[0m         \u001b[0mX_uniq\u001b[0m \u001b[0;34m=\u001b[0m \u001b[0mlayer\u001b[0m\u001b[0;34m.\u001b[0m\u001b[0mops\u001b[0m\u001b[0;34m.\u001b[0m\u001b[0mxp\u001b[0m\u001b[0;34m.\u001b[0m\u001b[0mascontiguousarray\u001b[0m\u001b[0;34m(\u001b[0m\u001b[0mX\u001b[0m\u001b[0;34m[\u001b[0m\u001b[0mind\u001b[0m\u001b[0;34m]\u001b[0m\u001b[0;34m)\u001b[0m\u001b[0;34m\u001b[0m\u001b[0;34m\u001b[0m\u001b[0m\n\u001b[0;32m--> 374\u001b[0;31m         \u001b[0mY_uniq\u001b[0m\u001b[0;34m,\u001b[0m \u001b[0mbp_Y_uniq\u001b[0m \u001b[0;34m=\u001b[0m \u001b[0mlayer\u001b[0m\u001b[0;34m.\u001b[0m\u001b[0mbegin_update\u001b[0m\u001b[0;34m(\u001b[0m\u001b[0mX_uniq\u001b[0m\u001b[0;34m,\u001b[0m \u001b[0mdrop\u001b[0m\u001b[0;34m=\u001b[0m\u001b[0mdrop\u001b[0m\u001b[0;34m)\u001b[0m\u001b[0;34m\u001b[0m\u001b[0;34m\u001b[0m\u001b[0m\n\u001b[0m\u001b[1;32m    375\u001b[0m         \u001b[0mY\u001b[0m \u001b[0;34m=\u001b[0m \u001b[0mY_uniq\u001b[0m\u001b[0;34m[\u001b[0m\u001b[0minv\u001b[0m\u001b[0;34m]\u001b[0m\u001b[0;34m.\u001b[0m\u001b[0mreshape\u001b[0m\u001b[0;34m(\u001b[0m\u001b[0;34m(\u001b[0m\u001b[0mX\u001b[0m\u001b[0;34m.\u001b[0m\u001b[0mshape\u001b[0m\u001b[0;34m[\u001b[0m\u001b[0;36m0\u001b[0m\u001b[0;34m]\u001b[0m\u001b[0;34m,\u001b[0m\u001b[0;34m)\u001b[0m \u001b[0;34m+\u001b[0m \u001b[0mY_uniq\u001b[0m\u001b[0;34m.\u001b[0m\u001b[0mshape\u001b[0m\u001b[0;34m[\u001b[0m\u001b[0;36m1\u001b[0m\u001b[0;34m:\u001b[0m\u001b[0;34m]\u001b[0m\u001b[0;34m)\u001b[0m\u001b[0;34m\u001b[0m\u001b[0;34m\u001b[0m\u001b[0m\n\u001b[1;32m    376\u001b[0m         \u001b[0;32mdef\u001b[0m \u001b[0muniqued_bwd\u001b[0m\u001b[0;34m(\u001b[0m\u001b[0mdY\u001b[0m\u001b[0;34m,\u001b[0m \u001b[0msgd\u001b[0m\u001b[0;34m=\u001b[0m\u001b[0;32mNone\u001b[0m\u001b[0;34m)\u001b[0m\u001b[0;34m:\u001b[0m\u001b[0;34m\u001b[0m\u001b[0;34m\u001b[0m\u001b[0m\n",
      "\u001b[0;32m~/anaconda3/lib/python3.7/site-packages/thinc/api.py\u001b[0m in \u001b[0;36mbegin_update\u001b[0;34m(self, X, drop)\u001b[0m\n\u001b[1;32m     59\u001b[0m         \u001b[0mcallbacks\u001b[0m \u001b[0;34m=\u001b[0m \u001b[0;34m[\u001b[0m\u001b[0;34m]\u001b[0m\u001b[0;34m\u001b[0m\u001b[0;34m\u001b[0m\u001b[0m\n\u001b[1;32m     60\u001b[0m         \u001b[0;32mfor\u001b[0m \u001b[0mlayer\u001b[0m \u001b[0;32min\u001b[0m \u001b[0mself\u001b[0m\u001b[0;34m.\u001b[0m\u001b[0m_layers\u001b[0m\u001b[0;34m:\u001b[0m\u001b[0;34m\u001b[0m\u001b[0;34m\u001b[0m\u001b[0m\n\u001b[0;32m---> 61\u001b[0;31m             \u001b[0mX\u001b[0m\u001b[0;34m,\u001b[0m \u001b[0minc_layer_grad\u001b[0m \u001b[0;34m=\u001b[0m \u001b[0mlayer\u001b[0m\u001b[0;34m.\u001b[0m\u001b[0mbegin_update\u001b[0m\u001b[0;34m(\u001b[0m\u001b[0mX\u001b[0m\u001b[0;34m,\u001b[0m \u001b[0mdrop\u001b[0m\u001b[0;34m=\u001b[0m\u001b[0mdrop\u001b[0m\u001b[0;34m)\u001b[0m\u001b[0;34m\u001b[0m\u001b[0;34m\u001b[0m\u001b[0m\n\u001b[0m\u001b[1;32m     62\u001b[0m             \u001b[0mcallbacks\u001b[0m\u001b[0;34m.\u001b[0m\u001b[0mappend\u001b[0m\u001b[0;34m(\u001b[0m\u001b[0minc_layer_grad\u001b[0m\u001b[0;34m)\u001b[0m\u001b[0;34m\u001b[0m\u001b[0;34m\u001b[0m\u001b[0m\n\u001b[1;32m     63\u001b[0m         \u001b[0;32mdef\u001b[0m \u001b[0mcontinue_update\u001b[0m\u001b[0;34m(\u001b[0m\u001b[0mgradient\u001b[0m\u001b[0;34m,\u001b[0m \u001b[0msgd\u001b[0m\u001b[0;34m=\u001b[0m\u001b[0;32mNone\u001b[0m\u001b[0;34m)\u001b[0m\u001b[0;34m:\u001b[0m\u001b[0;34m\u001b[0m\u001b[0;34m\u001b[0m\u001b[0m\n",
      "\u001b[0;32m~/anaconda3/lib/python3.7/site-packages/thinc/api.py\u001b[0m in \u001b[0;36mbegin_update\u001b[0;34m(X, *a, **k)\u001b[0m\n\u001b[1;32m    174\u001b[0m     \u001b[0;32mdef\u001b[0m \u001b[0mbegin_update\u001b[0m\u001b[0;34m(\u001b[0m\u001b[0mX\u001b[0m\u001b[0;34m,\u001b[0m \u001b[0;34m*\u001b[0m\u001b[0ma\u001b[0m\u001b[0;34m,\u001b[0m \u001b[0;34m**\u001b[0m\u001b[0mk\u001b[0m\u001b[0;34m)\u001b[0m\u001b[0;34m:\u001b[0m\u001b[0;34m\u001b[0m\u001b[0;34m\u001b[0m\u001b[0m\n\u001b[1;32m    175\u001b[0m         \u001b[0mforward\u001b[0m\u001b[0;34m,\u001b[0m \u001b[0mbackward\u001b[0m \u001b[0;34m=\u001b[0m \u001b[0msplit_backward\u001b[0m\u001b[0;34m(\u001b[0m\u001b[0mlayers\u001b[0m\u001b[0;34m)\u001b[0m\u001b[0;34m\u001b[0m\u001b[0;34m\u001b[0m\u001b[0m\n\u001b[0;32m--> 176\u001b[0;31m         \u001b[0mvalues\u001b[0m \u001b[0;34m=\u001b[0m \u001b[0;34m[\u001b[0m\u001b[0mfwd\u001b[0m\u001b[0;34m(\u001b[0m\u001b[0mX\u001b[0m\u001b[0;34m,\u001b[0m \u001b[0;34m*\u001b[0m\u001b[0ma\u001b[0m\u001b[0;34m,\u001b[0m \u001b[0;34m**\u001b[0m\u001b[0mk\u001b[0m\u001b[0;34m)\u001b[0m \u001b[0;32mfor\u001b[0m \u001b[0mfwd\u001b[0m \u001b[0;32min\u001b[0m \u001b[0mforward\u001b[0m\u001b[0;34m]\u001b[0m\u001b[0;34m\u001b[0m\u001b[0;34m\u001b[0m\u001b[0m\n\u001b[0m\u001b[1;32m    177\u001b[0m \u001b[0;34m\u001b[0m\u001b[0m\n\u001b[1;32m    178\u001b[0m         \u001b[0moutput\u001b[0m \u001b[0;34m=\u001b[0m \u001b[0mops\u001b[0m\u001b[0;34m.\u001b[0m\u001b[0mxp\u001b[0m\u001b[0;34m.\u001b[0m\u001b[0mhstack\u001b[0m\u001b[0;34m(\u001b[0m\u001b[0mvalues\u001b[0m\u001b[0;34m)\u001b[0m\u001b[0;34m\u001b[0m\u001b[0;34m\u001b[0m\u001b[0m\n",
      "\u001b[0;32m~/anaconda3/lib/python3.7/site-packages/thinc/api.py\u001b[0m in \u001b[0;36m<listcomp>\u001b[0;34m(.0)\u001b[0m\n\u001b[1;32m    174\u001b[0m     \u001b[0;32mdef\u001b[0m \u001b[0mbegin_update\u001b[0m\u001b[0;34m(\u001b[0m\u001b[0mX\u001b[0m\u001b[0;34m,\u001b[0m \u001b[0;34m*\u001b[0m\u001b[0ma\u001b[0m\u001b[0;34m,\u001b[0m \u001b[0;34m**\u001b[0m\u001b[0mk\u001b[0m\u001b[0;34m)\u001b[0m\u001b[0;34m:\u001b[0m\u001b[0;34m\u001b[0m\u001b[0;34m\u001b[0m\u001b[0m\n\u001b[1;32m    175\u001b[0m         \u001b[0mforward\u001b[0m\u001b[0;34m,\u001b[0m \u001b[0mbackward\u001b[0m \u001b[0;34m=\u001b[0m \u001b[0msplit_backward\u001b[0m\u001b[0;34m(\u001b[0m\u001b[0mlayers\u001b[0m\u001b[0;34m)\u001b[0m\u001b[0;34m\u001b[0m\u001b[0;34m\u001b[0m\u001b[0m\n\u001b[0;32m--> 176\u001b[0;31m         \u001b[0mvalues\u001b[0m \u001b[0;34m=\u001b[0m \u001b[0;34m[\u001b[0m\u001b[0mfwd\u001b[0m\u001b[0;34m(\u001b[0m\u001b[0mX\u001b[0m\u001b[0;34m,\u001b[0m \u001b[0;34m*\u001b[0m\u001b[0ma\u001b[0m\u001b[0;34m,\u001b[0m \u001b[0;34m**\u001b[0m\u001b[0mk\u001b[0m\u001b[0;34m)\u001b[0m \u001b[0;32mfor\u001b[0m \u001b[0mfwd\u001b[0m \u001b[0;32min\u001b[0m \u001b[0mforward\u001b[0m\u001b[0;34m]\u001b[0m\u001b[0;34m\u001b[0m\u001b[0;34m\u001b[0m\u001b[0m\n\u001b[0m\u001b[1;32m    177\u001b[0m \u001b[0;34m\u001b[0m\u001b[0m\n\u001b[1;32m    178\u001b[0m         \u001b[0moutput\u001b[0m \u001b[0;34m=\u001b[0m \u001b[0mops\u001b[0m\u001b[0;34m.\u001b[0m\u001b[0mxp\u001b[0m\u001b[0;34m.\u001b[0m\u001b[0mhstack\u001b[0m\u001b[0;34m(\u001b[0m\u001b[0mvalues\u001b[0m\u001b[0;34m)\u001b[0m\u001b[0;34m\u001b[0m\u001b[0;34m\u001b[0m\u001b[0m\n",
      "\u001b[0;32m~/anaconda3/lib/python3.7/site-packages/thinc/api.py\u001b[0m in \u001b[0;36mwrap\u001b[0;34m(*args, **kwargs)\u001b[0m\n\u001b[1;32m    256\u001b[0m     '''\n\u001b[1;32m    257\u001b[0m     \u001b[0;32mdef\u001b[0m \u001b[0mwrap\u001b[0m\u001b[0;34m(\u001b[0m\u001b[0;34m*\u001b[0m\u001b[0margs\u001b[0m\u001b[0;34m,\u001b[0m \u001b[0;34m**\u001b[0m\u001b[0mkwargs\u001b[0m\u001b[0;34m)\u001b[0m\u001b[0;34m:\u001b[0m\u001b[0;34m\u001b[0m\u001b[0;34m\u001b[0m\u001b[0m\n\u001b[0;32m--> 258\u001b[0;31m         \u001b[0moutput\u001b[0m \u001b[0;34m=\u001b[0m \u001b[0mfunc\u001b[0m\u001b[0;34m(\u001b[0m\u001b[0;34m*\u001b[0m\u001b[0margs\u001b[0m\u001b[0;34m,\u001b[0m \u001b[0;34m**\u001b[0m\u001b[0mkwargs\u001b[0m\u001b[0;34m)\u001b[0m\u001b[0;34m\u001b[0m\u001b[0;34m\u001b[0m\u001b[0m\n\u001b[0m\u001b[1;32m    259\u001b[0m         \u001b[0;32mif\u001b[0m \u001b[0msplitter\u001b[0m \u001b[0;32mis\u001b[0m \u001b[0;32mNone\u001b[0m\u001b[0;34m:\u001b[0m\u001b[0;34m\u001b[0m\u001b[0;34m\u001b[0m\u001b[0m\n\u001b[1;32m    260\u001b[0m             \u001b[0mto_keep\u001b[0m\u001b[0;34m,\u001b[0m \u001b[0mto_sink\u001b[0m \u001b[0;34m=\u001b[0m \u001b[0moutput\u001b[0m\u001b[0;34m\u001b[0m\u001b[0;34m\u001b[0m\u001b[0m\n",
      "\u001b[0;32m~/anaconda3/lib/python3.7/site-packages/thinc/api.py\u001b[0m in \u001b[0;36mbegin_update\u001b[0;34m(X, *a, **k)\u001b[0m\n\u001b[1;32m    174\u001b[0m     \u001b[0;32mdef\u001b[0m \u001b[0mbegin_update\u001b[0m\u001b[0;34m(\u001b[0m\u001b[0mX\u001b[0m\u001b[0;34m,\u001b[0m \u001b[0;34m*\u001b[0m\u001b[0ma\u001b[0m\u001b[0;34m,\u001b[0m \u001b[0;34m**\u001b[0m\u001b[0mk\u001b[0m\u001b[0;34m)\u001b[0m\u001b[0;34m:\u001b[0m\u001b[0;34m\u001b[0m\u001b[0;34m\u001b[0m\u001b[0m\n\u001b[1;32m    175\u001b[0m         \u001b[0mforward\u001b[0m\u001b[0;34m,\u001b[0m \u001b[0mbackward\u001b[0m \u001b[0;34m=\u001b[0m \u001b[0msplit_backward\u001b[0m\u001b[0;34m(\u001b[0m\u001b[0mlayers\u001b[0m\u001b[0;34m)\u001b[0m\u001b[0;34m\u001b[0m\u001b[0;34m\u001b[0m\u001b[0m\n\u001b[0;32m--> 176\u001b[0;31m         \u001b[0mvalues\u001b[0m \u001b[0;34m=\u001b[0m \u001b[0;34m[\u001b[0m\u001b[0mfwd\u001b[0m\u001b[0;34m(\u001b[0m\u001b[0mX\u001b[0m\u001b[0;34m,\u001b[0m \u001b[0;34m*\u001b[0m\u001b[0ma\u001b[0m\u001b[0;34m,\u001b[0m \u001b[0;34m**\u001b[0m\u001b[0mk\u001b[0m\u001b[0;34m)\u001b[0m \u001b[0;32mfor\u001b[0m \u001b[0mfwd\u001b[0m \u001b[0;32min\u001b[0m \u001b[0mforward\u001b[0m\u001b[0;34m]\u001b[0m\u001b[0;34m\u001b[0m\u001b[0;34m\u001b[0m\u001b[0m\n\u001b[0m\u001b[1;32m    177\u001b[0m \u001b[0;34m\u001b[0m\u001b[0m\n\u001b[1;32m    178\u001b[0m         \u001b[0moutput\u001b[0m \u001b[0;34m=\u001b[0m \u001b[0mops\u001b[0m\u001b[0;34m.\u001b[0m\u001b[0mxp\u001b[0m\u001b[0;34m.\u001b[0m\u001b[0mhstack\u001b[0m\u001b[0;34m(\u001b[0m\u001b[0mvalues\u001b[0m\u001b[0;34m)\u001b[0m\u001b[0;34m\u001b[0m\u001b[0;34m\u001b[0m\u001b[0m\n",
      "\u001b[0;32m~/anaconda3/lib/python3.7/site-packages/thinc/api.py\u001b[0m in \u001b[0;36m<listcomp>\u001b[0;34m(.0)\u001b[0m\n\u001b[1;32m    174\u001b[0m     \u001b[0;32mdef\u001b[0m \u001b[0mbegin_update\u001b[0m\u001b[0;34m(\u001b[0m\u001b[0mX\u001b[0m\u001b[0;34m,\u001b[0m \u001b[0;34m*\u001b[0m\u001b[0ma\u001b[0m\u001b[0;34m,\u001b[0m \u001b[0;34m**\u001b[0m\u001b[0mk\u001b[0m\u001b[0;34m)\u001b[0m\u001b[0;34m:\u001b[0m\u001b[0;34m\u001b[0m\u001b[0;34m\u001b[0m\u001b[0m\n\u001b[1;32m    175\u001b[0m         \u001b[0mforward\u001b[0m\u001b[0;34m,\u001b[0m \u001b[0mbackward\u001b[0m \u001b[0;34m=\u001b[0m \u001b[0msplit_backward\u001b[0m\u001b[0;34m(\u001b[0m\u001b[0mlayers\u001b[0m\u001b[0;34m)\u001b[0m\u001b[0;34m\u001b[0m\u001b[0;34m\u001b[0m\u001b[0m\n\u001b[0;32m--> 176\u001b[0;31m         \u001b[0mvalues\u001b[0m \u001b[0;34m=\u001b[0m \u001b[0;34m[\u001b[0m\u001b[0mfwd\u001b[0m\u001b[0;34m(\u001b[0m\u001b[0mX\u001b[0m\u001b[0;34m,\u001b[0m \u001b[0;34m*\u001b[0m\u001b[0ma\u001b[0m\u001b[0;34m,\u001b[0m \u001b[0;34m**\u001b[0m\u001b[0mk\u001b[0m\u001b[0;34m)\u001b[0m \u001b[0;32mfor\u001b[0m \u001b[0mfwd\u001b[0m \u001b[0;32min\u001b[0m \u001b[0mforward\u001b[0m\u001b[0;34m]\u001b[0m\u001b[0;34m\u001b[0m\u001b[0;34m\u001b[0m\u001b[0m\n\u001b[0m\u001b[1;32m    177\u001b[0m \u001b[0;34m\u001b[0m\u001b[0m\n\u001b[1;32m    178\u001b[0m         \u001b[0moutput\u001b[0m \u001b[0;34m=\u001b[0m \u001b[0mops\u001b[0m\u001b[0;34m.\u001b[0m\u001b[0mxp\u001b[0m\u001b[0;34m.\u001b[0m\u001b[0mhstack\u001b[0m\u001b[0;34m(\u001b[0m\u001b[0mvalues\u001b[0m\u001b[0;34m)\u001b[0m\u001b[0;34m\u001b[0m\u001b[0;34m\u001b[0m\u001b[0m\n",
      "\u001b[0;32m~/anaconda3/lib/python3.7/site-packages/thinc/api.py\u001b[0m in \u001b[0;36mwrap\u001b[0;34m(*args, **kwargs)\u001b[0m\n\u001b[1;32m    256\u001b[0m     '''\n\u001b[1;32m    257\u001b[0m     \u001b[0;32mdef\u001b[0m \u001b[0mwrap\u001b[0m\u001b[0;34m(\u001b[0m\u001b[0;34m*\u001b[0m\u001b[0margs\u001b[0m\u001b[0;34m,\u001b[0m \u001b[0;34m**\u001b[0m\u001b[0mkwargs\u001b[0m\u001b[0;34m)\u001b[0m\u001b[0;34m:\u001b[0m\u001b[0;34m\u001b[0m\u001b[0;34m\u001b[0m\u001b[0m\n\u001b[0;32m--> 258\u001b[0;31m         \u001b[0moutput\u001b[0m \u001b[0;34m=\u001b[0m \u001b[0mfunc\u001b[0m\u001b[0;34m(\u001b[0m\u001b[0;34m*\u001b[0m\u001b[0margs\u001b[0m\u001b[0;34m,\u001b[0m \u001b[0;34m**\u001b[0m\u001b[0mkwargs\u001b[0m\u001b[0;34m)\u001b[0m\u001b[0;34m\u001b[0m\u001b[0;34m\u001b[0m\u001b[0m\n\u001b[0m\u001b[1;32m    259\u001b[0m         \u001b[0;32mif\u001b[0m \u001b[0msplitter\u001b[0m \u001b[0;32mis\u001b[0m \u001b[0;32mNone\u001b[0m\u001b[0;34m:\u001b[0m\u001b[0;34m\u001b[0m\u001b[0;34m\u001b[0m\u001b[0m\n\u001b[1;32m    260\u001b[0m             \u001b[0mto_keep\u001b[0m\u001b[0;34m,\u001b[0m \u001b[0mto_sink\u001b[0m \u001b[0;34m=\u001b[0m \u001b[0moutput\u001b[0m\u001b[0;34m\u001b[0m\u001b[0;34m\u001b[0m\u001b[0m\n",
      "\u001b[0;32m~/anaconda3/lib/python3.7/site-packages/thinc/api.py\u001b[0m in \u001b[0;36mbegin_update\u001b[0;34m(X, *a, **k)\u001b[0m\n\u001b[1;32m    174\u001b[0m     \u001b[0;32mdef\u001b[0m \u001b[0mbegin_update\u001b[0m\u001b[0;34m(\u001b[0m\u001b[0mX\u001b[0m\u001b[0;34m,\u001b[0m \u001b[0;34m*\u001b[0m\u001b[0ma\u001b[0m\u001b[0;34m,\u001b[0m \u001b[0;34m**\u001b[0m\u001b[0mk\u001b[0m\u001b[0;34m)\u001b[0m\u001b[0;34m:\u001b[0m\u001b[0;34m\u001b[0m\u001b[0;34m\u001b[0m\u001b[0m\n\u001b[1;32m    175\u001b[0m         \u001b[0mforward\u001b[0m\u001b[0;34m,\u001b[0m \u001b[0mbackward\u001b[0m \u001b[0;34m=\u001b[0m \u001b[0msplit_backward\u001b[0m\u001b[0;34m(\u001b[0m\u001b[0mlayers\u001b[0m\u001b[0;34m)\u001b[0m\u001b[0;34m\u001b[0m\u001b[0;34m\u001b[0m\u001b[0m\n\u001b[0;32m--> 176\u001b[0;31m         \u001b[0mvalues\u001b[0m \u001b[0;34m=\u001b[0m \u001b[0;34m[\u001b[0m\u001b[0mfwd\u001b[0m\u001b[0;34m(\u001b[0m\u001b[0mX\u001b[0m\u001b[0;34m,\u001b[0m \u001b[0;34m*\u001b[0m\u001b[0ma\u001b[0m\u001b[0;34m,\u001b[0m \u001b[0;34m**\u001b[0m\u001b[0mk\u001b[0m\u001b[0;34m)\u001b[0m \u001b[0;32mfor\u001b[0m \u001b[0mfwd\u001b[0m \u001b[0;32min\u001b[0m \u001b[0mforward\u001b[0m\u001b[0;34m]\u001b[0m\u001b[0;34m\u001b[0m\u001b[0;34m\u001b[0m\u001b[0m\n\u001b[0m\u001b[1;32m    177\u001b[0m \u001b[0;34m\u001b[0m\u001b[0m\n\u001b[1;32m    178\u001b[0m         \u001b[0moutput\u001b[0m \u001b[0;34m=\u001b[0m \u001b[0mops\u001b[0m\u001b[0;34m.\u001b[0m\u001b[0mxp\u001b[0m\u001b[0;34m.\u001b[0m\u001b[0mhstack\u001b[0m\u001b[0;34m(\u001b[0m\u001b[0mvalues\u001b[0m\u001b[0;34m)\u001b[0m\u001b[0;34m\u001b[0m\u001b[0;34m\u001b[0m\u001b[0m\n",
      "\u001b[0;32m~/anaconda3/lib/python3.7/site-packages/thinc/api.py\u001b[0m in \u001b[0;36m<listcomp>\u001b[0;34m(.0)\u001b[0m\n\u001b[1;32m    174\u001b[0m     \u001b[0;32mdef\u001b[0m \u001b[0mbegin_update\u001b[0m\u001b[0;34m(\u001b[0m\u001b[0mX\u001b[0m\u001b[0;34m,\u001b[0m \u001b[0;34m*\u001b[0m\u001b[0ma\u001b[0m\u001b[0;34m,\u001b[0m \u001b[0;34m**\u001b[0m\u001b[0mk\u001b[0m\u001b[0;34m)\u001b[0m\u001b[0;34m:\u001b[0m\u001b[0;34m\u001b[0m\u001b[0;34m\u001b[0m\u001b[0m\n\u001b[1;32m    175\u001b[0m         \u001b[0mforward\u001b[0m\u001b[0;34m,\u001b[0m \u001b[0mbackward\u001b[0m \u001b[0;34m=\u001b[0m \u001b[0msplit_backward\u001b[0m\u001b[0;34m(\u001b[0m\u001b[0mlayers\u001b[0m\u001b[0;34m)\u001b[0m\u001b[0;34m\u001b[0m\u001b[0;34m\u001b[0m\u001b[0m\n\u001b[0;32m--> 176\u001b[0;31m         \u001b[0mvalues\u001b[0m \u001b[0;34m=\u001b[0m \u001b[0;34m[\u001b[0m\u001b[0mfwd\u001b[0m\u001b[0;34m(\u001b[0m\u001b[0mX\u001b[0m\u001b[0;34m,\u001b[0m \u001b[0;34m*\u001b[0m\u001b[0ma\u001b[0m\u001b[0;34m,\u001b[0m \u001b[0;34m**\u001b[0m\u001b[0mk\u001b[0m\u001b[0;34m)\u001b[0m \u001b[0;32mfor\u001b[0m \u001b[0mfwd\u001b[0m \u001b[0;32min\u001b[0m \u001b[0mforward\u001b[0m\u001b[0;34m]\u001b[0m\u001b[0;34m\u001b[0m\u001b[0;34m\u001b[0m\u001b[0m\n\u001b[0m\u001b[1;32m    177\u001b[0m \u001b[0;34m\u001b[0m\u001b[0m\n\u001b[1;32m    178\u001b[0m         \u001b[0moutput\u001b[0m \u001b[0;34m=\u001b[0m \u001b[0mops\u001b[0m\u001b[0;34m.\u001b[0m\u001b[0mxp\u001b[0m\u001b[0;34m.\u001b[0m\u001b[0mhstack\u001b[0m\u001b[0;34m(\u001b[0m\u001b[0mvalues\u001b[0m\u001b[0;34m)\u001b[0m\u001b[0;34m\u001b[0m\u001b[0;34m\u001b[0m\u001b[0m\n",
      "\u001b[0;32m~/anaconda3/lib/python3.7/site-packages/thinc/api.py\u001b[0m in \u001b[0;36mwrap\u001b[0;34m(*args, **kwargs)\u001b[0m\n\u001b[1;32m    256\u001b[0m     '''\n\u001b[1;32m    257\u001b[0m     \u001b[0;32mdef\u001b[0m \u001b[0mwrap\u001b[0m\u001b[0;34m(\u001b[0m\u001b[0;34m*\u001b[0m\u001b[0margs\u001b[0m\u001b[0;34m,\u001b[0m \u001b[0;34m**\u001b[0m\u001b[0mkwargs\u001b[0m\u001b[0;34m)\u001b[0m\u001b[0;34m:\u001b[0m\u001b[0;34m\u001b[0m\u001b[0;34m\u001b[0m\u001b[0m\n\u001b[0;32m--> 258\u001b[0;31m         \u001b[0moutput\u001b[0m \u001b[0;34m=\u001b[0m \u001b[0mfunc\u001b[0m\u001b[0;34m(\u001b[0m\u001b[0;34m*\u001b[0m\u001b[0margs\u001b[0m\u001b[0;34m,\u001b[0m \u001b[0;34m**\u001b[0m\u001b[0mkwargs\u001b[0m\u001b[0;34m)\u001b[0m\u001b[0;34m\u001b[0m\u001b[0;34m\u001b[0m\u001b[0m\n\u001b[0m\u001b[1;32m    259\u001b[0m         \u001b[0;32mif\u001b[0m \u001b[0msplitter\u001b[0m \u001b[0;32mis\u001b[0m \u001b[0;32mNone\u001b[0m\u001b[0;34m:\u001b[0m\u001b[0;34m\u001b[0m\u001b[0;34m\u001b[0m\u001b[0m\n\u001b[1;32m    260\u001b[0m             \u001b[0mto_keep\u001b[0m\u001b[0;34m,\u001b[0m \u001b[0mto_sink\u001b[0m \u001b[0;34m=\u001b[0m \u001b[0moutput\u001b[0m\u001b[0;34m\u001b[0m\u001b[0;34m\u001b[0m\u001b[0m\n",
      "\u001b[0;32m~/anaconda3/lib/python3.7/site-packages/thinc/neural/_classes/hash_embed.py\u001b[0m in \u001b[0;36mbegin_update\u001b[0;34m(self, ids, drop)\u001b[0m\n\u001b[1;32m     50\u001b[0m             \u001b[0mids\u001b[0m \u001b[0;34m=\u001b[0m \u001b[0mself\u001b[0m\u001b[0;34m.\u001b[0m\u001b[0mops\u001b[0m\u001b[0;34m.\u001b[0m\u001b[0mxp\u001b[0m\u001b[0;34m.\u001b[0m\u001b[0mascontiguousarray\u001b[0m\u001b[0;34m(\u001b[0m\u001b[0mids\u001b[0m\u001b[0;34m[\u001b[0m\u001b[0;34m:\u001b[0m\u001b[0;34m,\u001b[0m \u001b[0mself\u001b[0m\u001b[0;34m.\u001b[0m\u001b[0mcolumn\u001b[0m\u001b[0;34m]\u001b[0m\u001b[0;34m,\u001b[0m \u001b[0mdtype\u001b[0m\u001b[0;34m=\u001b[0m\u001b[0;34m'uint64'\u001b[0m\u001b[0;34m)\u001b[0m\u001b[0;34m\u001b[0m\u001b[0;34m\u001b[0m\u001b[0m\n\u001b[1;32m     51\u001b[0m         \u001b[0mkeys\u001b[0m \u001b[0;34m=\u001b[0m \u001b[0mself\u001b[0m\u001b[0;34m.\u001b[0m\u001b[0mops\u001b[0m\u001b[0;34m.\u001b[0m\u001b[0mhash\u001b[0m\u001b[0;34m(\u001b[0m\u001b[0mids\u001b[0m\u001b[0;34m,\u001b[0m \u001b[0mself\u001b[0m\u001b[0;34m.\u001b[0m\u001b[0mseed\u001b[0m\u001b[0;34m)\u001b[0m \u001b[0;34m%\u001b[0m \u001b[0mself\u001b[0m\u001b[0;34m.\u001b[0m\u001b[0mnV\u001b[0m\u001b[0;34m\u001b[0m\u001b[0;34m\u001b[0m\u001b[0m\n\u001b[0;32m---> 52\u001b[0;31m         \u001b[0mvectors\u001b[0m \u001b[0;34m=\u001b[0m \u001b[0mself\u001b[0m\u001b[0;34m.\u001b[0m\u001b[0mvectors\u001b[0m\u001b[0;34m[\u001b[0m\u001b[0mkeys\u001b[0m\u001b[0;34m]\u001b[0m\u001b[0;34m.\u001b[0m\u001b[0msum\u001b[0m\u001b[0;34m(\u001b[0m\u001b[0maxis\u001b[0m\u001b[0;34m=\u001b[0m\u001b[0;36m1\u001b[0m\u001b[0;34m)\u001b[0m\u001b[0;34m\u001b[0m\u001b[0;34m\u001b[0m\u001b[0m\n\u001b[0m\u001b[1;32m     53\u001b[0m         \u001b[0mmask\u001b[0m \u001b[0;34m=\u001b[0m \u001b[0mself\u001b[0m\u001b[0;34m.\u001b[0m\u001b[0mops\u001b[0m\u001b[0;34m.\u001b[0m\u001b[0mget_dropout_mask\u001b[0m\u001b[0;34m(\u001b[0m\u001b[0;34m(\u001b[0m\u001b[0mvectors\u001b[0m\u001b[0;34m.\u001b[0m\u001b[0mshape\u001b[0m\u001b[0;34m[\u001b[0m\u001b[0;36m1\u001b[0m\u001b[0;34m]\u001b[0m\u001b[0;34m,\u001b[0m\u001b[0;34m)\u001b[0m\u001b[0;34m,\u001b[0m \u001b[0mdrop\u001b[0m\u001b[0;34m)\u001b[0m\u001b[0;34m\u001b[0m\u001b[0;34m\u001b[0m\u001b[0m\n\u001b[1;32m     54\u001b[0m         \u001b[0;32mif\u001b[0m \u001b[0mmask\u001b[0m \u001b[0;32mis\u001b[0m \u001b[0;32mnot\u001b[0m \u001b[0;32mNone\u001b[0m\u001b[0;34m:\u001b[0m\u001b[0;34m\u001b[0m\u001b[0;34m\u001b[0m\u001b[0m\n",
      "\u001b[0;31mKeyboardInterrupt\u001b[0m: "
     ]
    }
   ],
   "source": [
    "#@title Prep corpus by running parser\n",
    "import convokit\n",
    "parser = convokit.Parser()\n",
    "reddit_corpus = parser.transform(reddit_corpus)"
   ]
  },
  {
   "cell_type": "code",
   "execution_count": 63,
   "metadata": {
    "colab": {},
    "colab_type": "code",
    "id": "eVlqbUhbFIkM"
   },
   "outputs": [],
   "source": [
    "# @title Save again\n",
    "reddit_corpus.dump(\"reddit_coarse_discourse_with_parsed\", base_path = \"\")\n",
    "\n",
    "with ZipFile(\"reddit_coarse_discourse_with_parsed.zip\", 'w') as zip_f:\n",
    "  for fname in os.listdir(\"reddit_coarse_discourse_with_parsed\"):\n",
    "    zip_f.write(\"reddit_coarse_discourse_with_parsed/\"+fname)"
   ]
  },
  {
   "cell_type": "code",
   "execution_count": 64,
   "metadata": {
    "colab": {},
    "colab_type": "code",
    "id": "U2CzWW1kFIkO"
   },
   "outputs": [
    {
     "ename": "KeyError",
     "evalue": "'parsed'",
     "output_type": "error",
     "traceback": [
      "\u001b[0;31m---------------------------------------------------------------------------\u001b[0m",
      "\u001b[0;31mKeyError\u001b[0m                                  Traceback (most recent call last)",
      "\u001b[0;32m<ipython-input-64-b553c2d15ef3>\u001b[0m in \u001b[0;36m<module>\u001b[0;34m\u001b[0m\n\u001b[1;32m      2\u001b[0m \u001b[0;34m\u001b[0m\u001b[0m\n\u001b[1;32m      3\u001b[0m \u001b[0mps\u001b[0m \u001b[0;34m=\u001b[0m \u001b[0mconvokit\u001b[0m\u001b[0;34m.\u001b[0m\u001b[0mPolitenessStrategies\u001b[0m\u001b[0;34m(\u001b[0m\u001b[0;34m)\u001b[0m\u001b[0;34m\u001b[0m\u001b[0;34m\u001b[0m\u001b[0m\n\u001b[0;32m----> 4\u001b[0;31m \u001b[0mreddit_corpus\u001b[0m \u001b[0;34m=\u001b[0m \u001b[0mps\u001b[0m\u001b[0;34m.\u001b[0m\u001b[0mtransform\u001b[0m\u001b[0;34m(\u001b[0m\u001b[0mreddit_corpus\u001b[0m\u001b[0;34m)\u001b[0m\u001b[0;34m\u001b[0m\u001b[0;34m\u001b[0m\u001b[0m\n\u001b[0m",
      "\u001b[0;32m~/Documents/coarsediscoursegit/Cornell-Conversational-Analysis-Toolkit/convokit/politenessStrategies/politenessStrategies.py\u001b[0m in \u001b[0;36mtransform\u001b[0;34m(self, corpus)\u001b[0m\n\u001b[1;32m     37\u001b[0m         \u001b[0;31m# preprocess the utterances in the format expected by the API\u001b[0m\u001b[0;34m\u001b[0m\u001b[0;34m\u001b[0m\u001b[0;34m\u001b[0m\u001b[0m\n\u001b[1;32m     38\u001b[0m         \u001b[0;32mif\u001b[0m \u001b[0mself\u001b[0m\u001b[0;34m.\u001b[0m\u001b[0mverbose\u001b[0m\u001b[0;34m:\u001b[0m \u001b[0mprint\u001b[0m\u001b[0;34m(\u001b[0m\u001b[0;34m\"Preprocessing comments...\"\u001b[0m\u001b[0;34m)\u001b[0m\u001b[0;34m\u001b[0m\u001b[0;34m\u001b[0m\u001b[0m\n\u001b[0;32m---> 39\u001b[0;31m         \u001b[0mcomment_ids\u001b[0m\u001b[0;34m,\u001b[0m \u001b[0mprocessed_comments\u001b[0m \u001b[0;34m=\u001b[0m \u001b[0mself\u001b[0m\u001b[0;34m.\u001b[0m\u001b[0m_preprocess_utterances\u001b[0m\u001b[0;34m(\u001b[0m\u001b[0mcorpus\u001b[0m\u001b[0;34m)\u001b[0m\u001b[0;34m\u001b[0m\u001b[0;34m\u001b[0m\u001b[0m\n\u001b[0m\u001b[1;32m     40\u001b[0m \u001b[0;34m\u001b[0m\u001b[0m\n\u001b[1;32m     41\u001b[0m         \u001b[0;31m# use the bundled politeness API to extract politeness features for each\u001b[0m\u001b[0;34m\u001b[0m\u001b[0;34m\u001b[0m\u001b[0;34m\u001b[0m\u001b[0m\n",
      "\u001b[0;32m~/Documents/coarsediscoursegit/Cornell-Conversational-Analysis-Toolkit/convokit/politenessStrategies/politenessStrategies.py\u001b[0m in \u001b[0;36m_preprocess_utterances\u001b[0;34m(self, corpus)\u001b[0m\n\u001b[1;32m     67\u001b[0m             \u001b[0mdoc\u001b[0m \u001b[0;34m=\u001b[0m \u001b[0;34m{\u001b[0m\u001b[0;34m\"text\"\u001b[0m\u001b[0;34m:\u001b[0m \u001b[0mutterance\u001b[0m\u001b[0;34m.\u001b[0m\u001b[0mtext\u001b[0m\u001b[0;34m,\u001b[0m \u001b[0;34m\"sentences\"\u001b[0m\u001b[0;34m:\u001b[0m \u001b[0;34m[\u001b[0m\u001b[0;34m]\u001b[0m\u001b[0;34m,\u001b[0m \u001b[0;34m\"parses\"\u001b[0m\u001b[0;34m:\u001b[0m \u001b[0;34m[\u001b[0m\u001b[0;34m]\u001b[0m\u001b[0;34m}\u001b[0m\u001b[0;34m\u001b[0m\u001b[0;34m\u001b[0m\u001b[0m\n\u001b[1;32m     68\u001b[0m             \u001b[0;31m# the politeness API goes sentence-by-sentence\u001b[0m\u001b[0;34m\u001b[0m\u001b[0;34m\u001b[0m\u001b[0;34m\u001b[0m\u001b[0m\n\u001b[0;32m---> 69\u001b[0;31m             \u001b[0;32mfor\u001b[0m \u001b[0msent\u001b[0m \u001b[0;32min\u001b[0m \u001b[0mutterance\u001b[0m\u001b[0;34m.\u001b[0m\u001b[0mmeta\u001b[0m\u001b[0;34m[\u001b[0m\u001b[0;34m\"parsed\"\u001b[0m\u001b[0;34m]\u001b[0m\u001b[0;34m.\u001b[0m\u001b[0msents\u001b[0m\u001b[0;34m:\u001b[0m\u001b[0;34m\u001b[0m\u001b[0;34m\u001b[0m\u001b[0m\n\u001b[0m\u001b[1;32m     70\u001b[0m                 \u001b[0mdoc\u001b[0m\u001b[0;34m[\u001b[0m\u001b[0;34m\"sentences\"\u001b[0m\u001b[0;34m]\u001b[0m\u001b[0;34m.\u001b[0m\u001b[0mappend\u001b[0m\u001b[0;34m(\u001b[0m\u001b[0msent\u001b[0m\u001b[0;34m.\u001b[0m\u001b[0mtext\u001b[0m\u001b[0;34m)\u001b[0m\u001b[0;34m\u001b[0m\u001b[0;34m\u001b[0m\u001b[0m\n\u001b[1;32m     71\u001b[0m                 \u001b[0msent_parses\u001b[0m \u001b[0;34m=\u001b[0m \u001b[0;34m[\u001b[0m\u001b[0;34m]\u001b[0m\u001b[0;34m\u001b[0m\u001b[0;34m\u001b[0m\u001b[0m\n",
      "\u001b[0;31mKeyError\u001b[0m: 'parsed'"
     ]
    }
   ],
   "source": [
    "#@title Get politeness strategies\n",
    "\n",
    "ps = convokit.PolitenessStrategies()\n",
    "reddit_corpus = ps.transform(reddit_corpus)"
   ]
  },
  {
   "cell_type": "code",
   "execution_count": 0,
   "metadata": {
    "colab": {},
    "colab_type": "code",
    "id": "oHNlirW3Esxh"
   },
   "outputs": [],
   "source": [
    "# @title Save one more time\n",
    "reddit_corpus.dump(\"reddit_coarse_discourse_with_parsed_and_politeness\", base_path = \"\")\n",
    "\n",
    "with ZipFile(\"reddit_coarse_discourse_with_parsed_and_politeness.zip\", 'w') as zip_f:\n",
    "  for fname in os.listdir(\"reddit_coarse_discourse_with_parsed_and_politeness\"):\n",
    "    zip_f.write(\"reddit_coarse_discourse_with_parsed_and_politeness/\"+fname)"
   ]
  },
  {
   "cell_type": "markdown",
   "metadata": {},
   "source": [
    "# Run from here on"
   ]
  },
  {
   "cell_type": "code",
   "execution_count": 82,
   "metadata": {
    "colab": {},
    "colab_type": "code",
    "id": "sBW7HjMaGg04"
   },
   "outputs": [],
   "source": [
    "#@title Load from file\n",
    "reddit_corpus = convokit.Corpus(filename=\"reddit_coarse_discourse_with_parsed_and_politeness\")"
   ]
  },
  {
   "cell_type": "code",
   "execution_count": 83,
   "metadata": {
    "colab": {
     "base_uri": "https://localhost:8080/",
     "height": 351
    },
    "colab_type": "code",
    "id": "iqvAAHzxoteL",
    "outputId": "32975d52-f3e9-4d02-801c-57a8286047a9"
   },
   "outputs": [
    {
     "data": {
      "text/html": [
       "<div>\n",
       "<style scoped>\n",
       "    .dataframe tbody tr th:only-of-type {\n",
       "        vertical-align: middle;\n",
       "    }\n",
       "\n",
       "    .dataframe tbody tr th {\n",
       "        vertical-align: top;\n",
       "    }\n",
       "\n",
       "    .dataframe thead th {\n",
       "        text-align: right;\n",
       "    }\n",
       "</style>\n",
       "<table border=\"1\" class=\"dataframe\">\n",
       "  <thead>\n",
       "    <tr style=\"text-align: right;\">\n",
       "      <th></th>\n",
       "      <th>1st_person</th>\n",
       "      <th>1st_person_pl.</th>\n",
       "      <th>1st_person_start</th>\n",
       "      <th>2nd_person</th>\n",
       "      <th>2nd_person_start</th>\n",
       "      <th>Apologizing</th>\n",
       "      <th>Deference</th>\n",
       "      <th>Direct_question</th>\n",
       "      <th>Direct_start</th>\n",
       "      <th>Factuality</th>\n",
       "      <th>...</th>\n",
       "      <th>HASNEGATIVE</th>\n",
       "      <th>HASPOSITIVE</th>\n",
       "      <th>Hedges</th>\n",
       "      <th>INDICATIVE</th>\n",
       "      <th>Indirect_(btw)</th>\n",
       "      <th>Indirect_(greeting)</th>\n",
       "      <th>Please</th>\n",
       "      <th>Please_start</th>\n",
       "      <th>SUBJUNCTIVE</th>\n",
       "      <th>discourse_cat</th>\n",
       "    </tr>\n",
       "  </thead>\n",
       "  <tbody>\n",
       "    <tr>\n",
       "      <th>t3_1bx6qw</th>\n",
       "      <td>1</td>\n",
       "      <td>1</td>\n",
       "      <td>1</td>\n",
       "      <td>0</td>\n",
       "      <td>0</td>\n",
       "      <td>0</td>\n",
       "      <td>0</td>\n",
       "      <td>0</td>\n",
       "      <td>1</td>\n",
       "      <td>1</td>\n",
       "      <td>...</td>\n",
       "      <td>1</td>\n",
       "      <td>1</td>\n",
       "      <td>1</td>\n",
       "      <td>0</td>\n",
       "      <td>0</td>\n",
       "      <td>0</td>\n",
       "      <td>0</td>\n",
       "      <td>0</td>\n",
       "      <td>0</td>\n",
       "      <td>announcement</td>\n",
       "    </tr>\n",
       "    <tr>\n",
       "      <th>t1_c9b2nyd</th>\n",
       "      <td>0</td>\n",
       "      <td>0</td>\n",
       "      <td>1</td>\n",
       "      <td>0</td>\n",
       "      <td>0</td>\n",
       "      <td>0</td>\n",
       "      <td>0</td>\n",
       "      <td>0</td>\n",
       "      <td>0</td>\n",
       "      <td>0</td>\n",
       "      <td>...</td>\n",
       "      <td>0</td>\n",
       "      <td>0</td>\n",
       "      <td>0</td>\n",
       "      <td>0</td>\n",
       "      <td>0</td>\n",
       "      <td>0</td>\n",
       "      <td>0</td>\n",
       "      <td>0</td>\n",
       "      <td>0</td>\n",
       "      <td>elaboration</td>\n",
       "    </tr>\n",
       "    <tr>\n",
       "      <th>t1_c9b30i1</th>\n",
       "      <td>1</td>\n",
       "      <td>0</td>\n",
       "      <td>1</td>\n",
       "      <td>0</td>\n",
       "      <td>1</td>\n",
       "      <td>0</td>\n",
       "      <td>0</td>\n",
       "      <td>0</td>\n",
       "      <td>1</td>\n",
       "      <td>1</td>\n",
       "      <td>...</td>\n",
       "      <td>1</td>\n",
       "      <td>1</td>\n",
       "      <td>0</td>\n",
       "      <td>0</td>\n",
       "      <td>0</td>\n",
       "      <td>0</td>\n",
       "      <td>0</td>\n",
       "      <td>0</td>\n",
       "      <td>0</td>\n",
       "      <td>elaboration</td>\n",
       "    </tr>\n",
       "    <tr>\n",
       "      <th>t1_c9b6sj0</th>\n",
       "      <td>1</td>\n",
       "      <td>0</td>\n",
       "      <td>0</td>\n",
       "      <td>0</td>\n",
       "      <td>0</td>\n",
       "      <td>0</td>\n",
       "      <td>0</td>\n",
       "      <td>0</td>\n",
       "      <td>1</td>\n",
       "      <td>0</td>\n",
       "      <td>...</td>\n",
       "      <td>0</td>\n",
       "      <td>1</td>\n",
       "      <td>0</td>\n",
       "      <td>0</td>\n",
       "      <td>0</td>\n",
       "      <td>0</td>\n",
       "      <td>0</td>\n",
       "      <td>0</td>\n",
       "      <td>0</td>\n",
       "      <td>elaboration</td>\n",
       "    </tr>\n",
       "    <tr>\n",
       "      <th>t3_omv7p</th>\n",
       "      <td>1</td>\n",
       "      <td>0</td>\n",
       "      <td>1</td>\n",
       "      <td>0</td>\n",
       "      <td>0</td>\n",
       "      <td>0</td>\n",
       "      <td>0</td>\n",
       "      <td>0</td>\n",
       "      <td>0</td>\n",
       "      <td>1</td>\n",
       "      <td>...</td>\n",
       "      <td>1</td>\n",
       "      <td>1</td>\n",
       "      <td>0</td>\n",
       "      <td>0</td>\n",
       "      <td>0</td>\n",
       "      <td>0</td>\n",
       "      <td>0</td>\n",
       "      <td>0</td>\n",
       "      <td>0</td>\n",
       "      <td>announcement</td>\n",
       "    </tr>\n",
       "    <tr>\n",
       "      <th>t1_c3igqif</th>\n",
       "      <td>1</td>\n",
       "      <td>1</td>\n",
       "      <td>1</td>\n",
       "      <td>1</td>\n",
       "      <td>0</td>\n",
       "      <td>0</td>\n",
       "      <td>0</td>\n",
       "      <td>0</td>\n",
       "      <td>1</td>\n",
       "      <td>0</td>\n",
       "      <td>...</td>\n",
       "      <td>1</td>\n",
       "      <td>1</td>\n",
       "      <td>1</td>\n",
       "      <td>0</td>\n",
       "      <td>0</td>\n",
       "      <td>0</td>\n",
       "      <td>0</td>\n",
       "      <td>0</td>\n",
       "      <td>0</td>\n",
       "      <td>elaboration</td>\n",
       "    </tr>\n",
       "    <tr>\n",
       "      <th>t1_c3imrkb</th>\n",
       "      <td>0</td>\n",
       "      <td>0</td>\n",
       "      <td>0</td>\n",
       "      <td>0</td>\n",
       "      <td>0</td>\n",
       "      <td>0</td>\n",
       "      <td>0</td>\n",
       "      <td>0</td>\n",
       "      <td>0</td>\n",
       "      <td>0</td>\n",
       "      <td>...</td>\n",
       "      <td>0</td>\n",
       "      <td>1</td>\n",
       "      <td>0</td>\n",
       "      <td>0</td>\n",
       "      <td>0</td>\n",
       "      <td>0</td>\n",
       "      <td>0</td>\n",
       "      <td>0</td>\n",
       "      <td>0</td>\n",
       "      <td>humor</td>\n",
       "    </tr>\n",
       "    <tr>\n",
       "      <th>t1_c3ij8z0</th>\n",
       "      <td>0</td>\n",
       "      <td>0</td>\n",
       "      <td>0</td>\n",
       "      <td>1</td>\n",
       "      <td>1</td>\n",
       "      <td>0</td>\n",
       "      <td>0</td>\n",
       "      <td>0</td>\n",
       "      <td>0</td>\n",
       "      <td>0</td>\n",
       "      <td>...</td>\n",
       "      <td>0</td>\n",
       "      <td>1</td>\n",
       "      <td>0</td>\n",
       "      <td>0</td>\n",
       "      <td>0</td>\n",
       "      <td>0</td>\n",
       "      <td>0</td>\n",
       "      <td>0</td>\n",
       "      <td>0</td>\n",
       "      <td>appreciation</td>\n",
       "    </tr>\n",
       "    <tr>\n",
       "      <th>t1_c3inx9t</th>\n",
       "      <td>1</td>\n",
       "      <td>0</td>\n",
       "      <td>0</td>\n",
       "      <td>0</td>\n",
       "      <td>0</td>\n",
       "      <td>0</td>\n",
       "      <td>0</td>\n",
       "      <td>0</td>\n",
       "      <td>1</td>\n",
       "      <td>1</td>\n",
       "      <td>...</td>\n",
       "      <td>1</td>\n",
       "      <td>1</td>\n",
       "      <td>0</td>\n",
       "      <td>0</td>\n",
       "      <td>0</td>\n",
       "      <td>0</td>\n",
       "      <td>0</td>\n",
       "      <td>0</td>\n",
       "      <td>0</td>\n",
       "      <td>appreciation</td>\n",
       "    </tr>\n",
       "    <tr>\n",
       "      <th>t1_c3k2lc1</th>\n",
       "      <td>1</td>\n",
       "      <td>1</td>\n",
       "      <td>0</td>\n",
       "      <td>0</td>\n",
       "      <td>0</td>\n",
       "      <td>1</td>\n",
       "      <td>0</td>\n",
       "      <td>1</td>\n",
       "      <td>1</td>\n",
       "      <td>0</td>\n",
       "      <td>...</td>\n",
       "      <td>1</td>\n",
       "      <td>1</td>\n",
       "      <td>0</td>\n",
       "      <td>0</td>\n",
       "      <td>0</td>\n",
       "      <td>0</td>\n",
       "      <td>0</td>\n",
       "      <td>0</td>\n",
       "      <td>0</td>\n",
       "      <td>elaboration</td>\n",
       "    </tr>\n",
       "  </tbody>\n",
       "</table>\n",
       "<p>10 rows × 22 columns</p>\n",
       "</div>"
      ],
      "text/plain": [
       "            1st_person  1st_person_pl.  1st_person_start  2nd_person  \\\n",
       "t3_1bx6qw            1               1                 1           0   \n",
       "t1_c9b2nyd           0               0                 1           0   \n",
       "t1_c9b30i1           1               0                 1           0   \n",
       "t1_c9b6sj0           1               0                 0           0   \n",
       "t3_omv7p             1               0                 1           0   \n",
       "t1_c3igqif           1               1                 1           1   \n",
       "t1_c3imrkb           0               0                 0           0   \n",
       "t1_c3ij8z0           0               0                 0           1   \n",
       "t1_c3inx9t           1               0                 0           0   \n",
       "t1_c3k2lc1           1               1                 0           0   \n",
       "\n",
       "            2nd_person_start  Apologizing  Deference  Direct_question  \\\n",
       "t3_1bx6qw                  0            0          0                0   \n",
       "t1_c9b2nyd                 0            0          0                0   \n",
       "t1_c9b30i1                 1            0          0                0   \n",
       "t1_c9b6sj0                 0            0          0                0   \n",
       "t3_omv7p                   0            0          0                0   \n",
       "t1_c3igqif                 0            0          0                0   \n",
       "t1_c3imrkb                 0            0          0                0   \n",
       "t1_c3ij8z0                 1            0          0                0   \n",
       "t1_c3inx9t                 0            0          0                0   \n",
       "t1_c3k2lc1                 0            1          0                1   \n",
       "\n",
       "            Direct_start  Factuality  ...  HASNEGATIVE  HASPOSITIVE  Hedges  \\\n",
       "t3_1bx6qw              1           1  ...            1            1       1   \n",
       "t1_c9b2nyd             0           0  ...            0            0       0   \n",
       "t1_c9b30i1             1           1  ...            1            1       0   \n",
       "t1_c9b6sj0             1           0  ...            0            1       0   \n",
       "t3_omv7p               0           1  ...            1            1       0   \n",
       "t1_c3igqif             1           0  ...            1            1       1   \n",
       "t1_c3imrkb             0           0  ...            0            1       0   \n",
       "t1_c3ij8z0             0           0  ...            0            1       0   \n",
       "t1_c3inx9t             1           1  ...            1            1       0   \n",
       "t1_c3k2lc1             1           0  ...            1            1       0   \n",
       "\n",
       "            INDICATIVE  Indirect_(btw)  Indirect_(greeting)  Please  \\\n",
       "t3_1bx6qw            0               0                    0       0   \n",
       "t1_c9b2nyd           0               0                    0       0   \n",
       "t1_c9b30i1           0               0                    0       0   \n",
       "t1_c9b6sj0           0               0                    0       0   \n",
       "t3_omv7p             0               0                    0       0   \n",
       "t1_c3igqif           0               0                    0       0   \n",
       "t1_c3imrkb           0               0                    0       0   \n",
       "t1_c3ij8z0           0               0                    0       0   \n",
       "t1_c3inx9t           0               0                    0       0   \n",
       "t1_c3k2lc1           0               0                    0       0   \n",
       "\n",
       "            Please_start  SUBJUNCTIVE  discourse_cat  \n",
       "t3_1bx6qw              0            0   announcement  \n",
       "t1_c9b2nyd             0            0    elaboration  \n",
       "t1_c9b30i1             0            0    elaboration  \n",
       "t1_c9b6sj0             0            0    elaboration  \n",
       "t3_omv7p               0            0   announcement  \n",
       "t1_c3igqif             0            0    elaboration  \n",
       "t1_c3imrkb             0            0          humor  \n",
       "t1_c3ij8z0             0            0   appreciation  \n",
       "t1_c3inx9t             0            0   appreciation  \n",
       "t1_c3k2lc1             0            0    elaboration  \n",
       "\n",
       "[10 rows x 22 columns]"
      ]
     },
     "execution_count": 83,
     "metadata": {},
     "output_type": "execute_result"
    }
   ],
   "source": [
    "utterance_ids = reddit_corpus.get_utterance_ids()\n",
    "rows = []\n",
    "for uid in utterance_ids:\n",
    "    meta = reddit_corpus.get_utterance(uid).meta[\"politeness_strategies\"]\n",
    "    meta = {k.split('==')[1]: v for k, v in meta.items()}\n",
    "    majority_type = reddit_corpus.get_utterance(uid).meta['majority_type']\n",
    "    meta['discourse_cat'] = majority_type if majority_type else \"NO CONSENSUS\"\n",
    "    rows.append(meta)\n",
    "politeness_strategies = pd.DataFrame(rows, index=utterance_ids)\n",
    "politeness_strategies.head(10)"
   ]
  },
  {
   "cell_type": "code",
   "execution_count": 84,
   "metadata": {
    "colab": {
     "base_uri": "https://localhost:8080/",
     "height": 425
    },
    "colab_type": "code",
    "id": "MLZ_uAF9rc9h",
    "outputId": "e5bb2024-edc5-4af2-838e-063d0c36db36"
   },
   "outputs": [
    {
     "data": {
      "text/html": [
       "<div>\n",
       "<style scoped>\n",
       "    .dataframe tbody tr th:only-of-type {\n",
       "        vertical-align: middle;\n",
       "    }\n",
       "\n",
       "    .dataframe tbody tr th {\n",
       "        vertical-align: top;\n",
       "    }\n",
       "\n",
       "    .dataframe thead th {\n",
       "        text-align: right;\n",
       "    }\n",
       "</style>\n",
       "<table border=\"1\" class=\"dataframe\">\n",
       "  <thead>\n",
       "    <tr style=\"text-align: right;\">\n",
       "      <th></th>\n",
       "      <th>1st_person</th>\n",
       "      <th>1st_person_pl.</th>\n",
       "      <th>1st_person_start</th>\n",
       "      <th>2nd_person</th>\n",
       "      <th>2nd_person_start</th>\n",
       "      <th>Apologizing</th>\n",
       "      <th>Deference</th>\n",
       "      <th>Direct_question</th>\n",
       "      <th>Direct_start</th>\n",
       "      <th>Factuality</th>\n",
       "      <th>...</th>\n",
       "      <th>HASHEDGE</th>\n",
       "      <th>HASNEGATIVE</th>\n",
       "      <th>HASPOSITIVE</th>\n",
       "      <th>Hedges</th>\n",
       "      <th>INDICATIVE</th>\n",
       "      <th>Indirect_(btw)</th>\n",
       "      <th>Indirect_(greeting)</th>\n",
       "      <th>Please</th>\n",
       "      <th>Please_start</th>\n",
       "      <th>SUBJUNCTIVE</th>\n",
       "    </tr>\n",
       "    <tr>\n",
       "      <th>discourse_cat</th>\n",
       "      <th></th>\n",
       "      <th></th>\n",
       "      <th></th>\n",
       "      <th></th>\n",
       "      <th></th>\n",
       "      <th></th>\n",
       "      <th></th>\n",
       "      <th></th>\n",
       "      <th></th>\n",
       "      <th></th>\n",
       "      <th></th>\n",
       "      <th></th>\n",
       "      <th></th>\n",
       "      <th></th>\n",
       "      <th></th>\n",
       "      <th></th>\n",
       "      <th></th>\n",
       "      <th></th>\n",
       "      <th></th>\n",
       "      <th></th>\n",
       "      <th></th>\n",
       "    </tr>\n",
       "  </thead>\n",
       "  <tbody>\n",
       "    <tr>\n",
       "      <th>NO CONSENSUS</th>\n",
       "      <td>4294</td>\n",
       "      <td>1159</td>\n",
       "      <td>4109</td>\n",
       "      <td>3350</td>\n",
       "      <td>833</td>\n",
       "      <td>217</td>\n",
       "      <td>283</td>\n",
       "      <td>632</td>\n",
       "      <td>1753</td>\n",
       "      <td>1229</td>\n",
       "      <td>...</td>\n",
       "      <td>3568</td>\n",
       "      <td>5468</td>\n",
       "      <td>6379</td>\n",
       "      <td>1721</td>\n",
       "      <td>42</td>\n",
       "      <td>5</td>\n",
       "      <td>90</td>\n",
       "      <td>94</td>\n",
       "      <td>61</td>\n",
       "      <td>49</td>\n",
       "    </tr>\n",
       "    <tr>\n",
       "      <th>agreement</th>\n",
       "      <td>2258</td>\n",
       "      <td>466</td>\n",
       "      <td>2155</td>\n",
       "      <td>1195</td>\n",
       "      <td>270</td>\n",
       "      <td>26</td>\n",
       "      <td>86</td>\n",
       "      <td>145</td>\n",
       "      <td>807</td>\n",
       "      <td>585</td>\n",
       "      <td>...</td>\n",
       "      <td>1751</td>\n",
       "      <td>2280</td>\n",
       "      <td>3119</td>\n",
       "      <td>920</td>\n",
       "      <td>6</td>\n",
       "      <td>1</td>\n",
       "      <td>13</td>\n",
       "      <td>13</td>\n",
       "      <td>6</td>\n",
       "      <td>5</td>\n",
       "    </tr>\n",
       "    <tr>\n",
       "      <th>announcement</th>\n",
       "      <td>865</td>\n",
       "      <td>430</td>\n",
       "      <td>738</td>\n",
       "      <td>647</td>\n",
       "      <td>159</td>\n",
       "      <td>85</td>\n",
       "      <td>30</td>\n",
       "      <td>148</td>\n",
       "      <td>507</td>\n",
       "      <td>315</td>\n",
       "      <td>...</td>\n",
       "      <td>804</td>\n",
       "      <td>946</td>\n",
       "      <td>1107</td>\n",
       "      <td>444</td>\n",
       "      <td>12</td>\n",
       "      <td>1</td>\n",
       "      <td>73</td>\n",
       "      <td>76</td>\n",
       "      <td>37</td>\n",
       "      <td>9</td>\n",
       "    </tr>\n",
       "    <tr>\n",
       "      <th>answer</th>\n",
       "      <td>16409</td>\n",
       "      <td>3649</td>\n",
       "      <td>15508</td>\n",
       "      <td>14933</td>\n",
       "      <td>4267</td>\n",
       "      <td>467</td>\n",
       "      <td>595</td>\n",
       "      <td>1679</td>\n",
       "      <td>7381</td>\n",
       "      <td>5420</td>\n",
       "      <td>...</td>\n",
       "      <td>16235</td>\n",
       "      <td>19844</td>\n",
       "      <td>24772</td>\n",
       "      <td>6801</td>\n",
       "      <td>114</td>\n",
       "      <td>11</td>\n",
       "      <td>181</td>\n",
       "      <td>173</td>\n",
       "      <td>104</td>\n",
       "      <td>121</td>\n",
       "    </tr>\n",
       "    <tr>\n",
       "      <th>appreciation</th>\n",
       "      <td>3035</td>\n",
       "      <td>429</td>\n",
       "      <td>2892</td>\n",
       "      <td>1938</td>\n",
       "      <td>440</td>\n",
       "      <td>66</td>\n",
       "      <td>949</td>\n",
       "      <td>204</td>\n",
       "      <td>805</td>\n",
       "      <td>752</td>\n",
       "      <td>...</td>\n",
       "      <td>1761</td>\n",
       "      <td>2187</td>\n",
       "      <td>6125</td>\n",
       "      <td>870</td>\n",
       "      <td>18</td>\n",
       "      <td>0</td>\n",
       "      <td>78</td>\n",
       "      <td>28</td>\n",
       "      <td>19</td>\n",
       "      <td>25</td>\n",
       "    </tr>\n",
       "    <tr>\n",
       "      <th>disagreement</th>\n",
       "      <td>1153</td>\n",
       "      <td>447</td>\n",
       "      <td>1185</td>\n",
       "      <td>1241</td>\n",
       "      <td>382</td>\n",
       "      <td>53</td>\n",
       "      <td>19</td>\n",
       "      <td>195</td>\n",
       "      <td>694</td>\n",
       "      <td>563</td>\n",
       "      <td>...</td>\n",
       "      <td>1454</td>\n",
       "      <td>2060</td>\n",
       "      <td>2134</td>\n",
       "      <td>723</td>\n",
       "      <td>7</td>\n",
       "      <td>3</td>\n",
       "      <td>6</td>\n",
       "      <td>9</td>\n",
       "      <td>11</td>\n",
       "      <td>11</td>\n",
       "    </tr>\n",
       "    <tr>\n",
       "      <th>elaboration</th>\n",
       "      <td>8185</td>\n",
       "      <td>2034</td>\n",
       "      <td>7547</td>\n",
       "      <td>5861</td>\n",
       "      <td>1407</td>\n",
       "      <td>293</td>\n",
       "      <td>313</td>\n",
       "      <td>655</td>\n",
       "      <td>3645</td>\n",
       "      <td>2583</td>\n",
       "      <td>...</td>\n",
       "      <td>7529</td>\n",
       "      <td>9726</td>\n",
       "      <td>11407</td>\n",
       "      <td>3400</td>\n",
       "      <td>30</td>\n",
       "      <td>9</td>\n",
       "      <td>92</td>\n",
       "      <td>97</td>\n",
       "      <td>63</td>\n",
       "      <td>40</td>\n",
       "    </tr>\n",
       "    <tr>\n",
       "      <th>humor</th>\n",
       "      <td>452</td>\n",
       "      <td>111</td>\n",
       "      <td>381</td>\n",
       "      <td>497</td>\n",
       "      <td>138</td>\n",
       "      <td>22</td>\n",
       "      <td>12</td>\n",
       "      <td>101</td>\n",
       "      <td>156</td>\n",
       "      <td>58</td>\n",
       "      <td>...</td>\n",
       "      <td>288</td>\n",
       "      <td>740</td>\n",
       "      <td>685</td>\n",
       "      <td>118</td>\n",
       "      <td>5</td>\n",
       "      <td>0</td>\n",
       "      <td>22</td>\n",
       "      <td>11</td>\n",
       "      <td>4</td>\n",
       "      <td>6</td>\n",
       "    </tr>\n",
       "    <tr>\n",
       "      <th>negativereaction</th>\n",
       "      <td>438</td>\n",
       "      <td>135</td>\n",
       "      <td>394</td>\n",
       "      <td>556</td>\n",
       "      <td>201</td>\n",
       "      <td>31</td>\n",
       "      <td>42</td>\n",
       "      <td>142</td>\n",
       "      <td>201</td>\n",
       "      <td>148</td>\n",
       "      <td>...</td>\n",
       "      <td>393</td>\n",
       "      <td>1175</td>\n",
       "      <td>750</td>\n",
       "      <td>145</td>\n",
       "      <td>5</td>\n",
       "      <td>1</td>\n",
       "      <td>9</td>\n",
       "      <td>8</td>\n",
       "      <td>16</td>\n",
       "      <td>3</td>\n",
       "    </tr>\n",
       "    <tr>\n",
       "      <th>other</th>\n",
       "      <td>475</td>\n",
       "      <td>130</td>\n",
       "      <td>425</td>\n",
       "      <td>378</td>\n",
       "      <td>98</td>\n",
       "      <td>52</td>\n",
       "      <td>35</td>\n",
       "      <td>49</td>\n",
       "      <td>157</td>\n",
       "      <td>85</td>\n",
       "      <td>...</td>\n",
       "      <td>304</td>\n",
       "      <td>600</td>\n",
       "      <td>705</td>\n",
       "      <td>139</td>\n",
       "      <td>2</td>\n",
       "      <td>0</td>\n",
       "      <td>49</td>\n",
       "      <td>64</td>\n",
       "      <td>51</td>\n",
       "      <td>3</td>\n",
       "    </tr>\n",
       "    <tr>\n",
       "      <th>question</th>\n",
       "      <td>7394</td>\n",
       "      <td>1671</td>\n",
       "      <td>6890</td>\n",
       "      <td>6597</td>\n",
       "      <td>691</td>\n",
       "      <td>299</td>\n",
       "      <td>160</td>\n",
       "      <td>4374</td>\n",
       "      <td>4045</td>\n",
       "      <td>2026</td>\n",
       "      <td>...</td>\n",
       "      <td>6036</td>\n",
       "      <td>7219</td>\n",
       "      <td>9112</td>\n",
       "      <td>2935</td>\n",
       "      <td>357</td>\n",
       "      <td>14</td>\n",
       "      <td>787</td>\n",
       "      <td>316</td>\n",
       "      <td>186</td>\n",
       "      <td>457</td>\n",
       "    </tr>\n",
       "  </tbody>\n",
       "</table>\n",
       "<p>11 rows × 21 columns</p>\n",
       "</div>"
      ],
      "text/plain": [
       "                  1st_person  1st_person_pl.  1st_person_start  2nd_person  \\\n",
       "discourse_cat                                                                \n",
       "NO CONSENSUS            4294            1159              4109        3350   \n",
       "agreement               2258             466              2155        1195   \n",
       "announcement             865             430               738         647   \n",
       "answer                 16409            3649             15508       14933   \n",
       "appreciation            3035             429              2892        1938   \n",
       "disagreement            1153             447              1185        1241   \n",
       "elaboration             8185            2034              7547        5861   \n",
       "humor                    452             111               381         497   \n",
       "negativereaction         438             135               394         556   \n",
       "other                    475             130               425         378   \n",
       "question                7394            1671              6890        6597   \n",
       "\n",
       "                  2nd_person_start  Apologizing  Deference  Direct_question  \\\n",
       "discourse_cat                                                                 \n",
       "NO CONSENSUS                   833          217        283              632   \n",
       "agreement                      270           26         86              145   \n",
       "announcement                   159           85         30              148   \n",
       "answer                        4267          467        595             1679   \n",
       "appreciation                   440           66        949              204   \n",
       "disagreement                   382           53         19              195   \n",
       "elaboration                   1407          293        313              655   \n",
       "humor                          138           22         12              101   \n",
       "negativereaction               201           31         42              142   \n",
       "other                           98           52         35               49   \n",
       "question                       691          299        160             4374   \n",
       "\n",
       "                  Direct_start  Factuality  ...  HASHEDGE  HASNEGATIVE  \\\n",
       "discourse_cat                               ...                          \n",
       "NO CONSENSUS              1753        1229  ...      3568         5468   \n",
       "agreement                  807         585  ...      1751         2280   \n",
       "announcement               507         315  ...       804          946   \n",
       "answer                    7381        5420  ...     16235        19844   \n",
       "appreciation               805         752  ...      1761         2187   \n",
       "disagreement               694         563  ...      1454         2060   \n",
       "elaboration               3645        2583  ...      7529         9726   \n",
       "humor                      156          58  ...       288          740   \n",
       "negativereaction           201         148  ...       393         1175   \n",
       "other                      157          85  ...       304          600   \n",
       "question                  4045        2026  ...      6036         7219   \n",
       "\n",
       "                  HASPOSITIVE  Hedges  INDICATIVE  Indirect_(btw)  \\\n",
       "discourse_cat                                                       \n",
       "NO CONSENSUS             6379    1721          42               5   \n",
       "agreement                3119     920           6               1   \n",
       "announcement             1107     444          12               1   \n",
       "answer                  24772    6801         114              11   \n",
       "appreciation             6125     870          18               0   \n",
       "disagreement             2134     723           7               3   \n",
       "elaboration             11407    3400          30               9   \n",
       "humor                     685     118           5               0   \n",
       "negativereaction          750     145           5               1   \n",
       "other                     705     139           2               0   \n",
       "question                 9112    2935         357              14   \n",
       "\n",
       "                  Indirect_(greeting)  Please  Please_start  SUBJUNCTIVE  \n",
       "discourse_cat                                                             \n",
       "NO CONSENSUS                       90      94            61           49  \n",
       "agreement                          13      13             6            5  \n",
       "announcement                       73      76            37            9  \n",
       "answer                            181     173           104          121  \n",
       "appreciation                       78      28            19           25  \n",
       "disagreement                        6       9            11           11  \n",
       "elaboration                        92      97            63           40  \n",
       "humor                              22      11             4            6  \n",
       "negativereaction                    9       8            16            3  \n",
       "other                              49      64            51            3  \n",
       "question                          787     316           186          457  \n",
       "\n",
       "[11 rows x 21 columns]"
      ]
     },
     "metadata": {},
     "output_type": "display_data"
    }
   ],
   "source": [
    "#@title Table of politeness strategies by discourse category\n",
    "politeness_counts = politeness_strategies.groupby('discourse_cat').sum()\n",
    "disp(politeness_counts)\n"
   ]
  },
  {
   "cell_type": "code",
   "execution_count": 85,
   "metadata": {
    "colab": {
     "base_uri": "https://localhost:8080/",
     "height": 1000
    },
    "colab_type": "code",
    "id": "LDgn-GIHs4tv",
    "outputId": "968dd1a2-e4b7-47a3-949c-76582379ea1f"
   },
   "outputs": [
    {
     "data": {
      "text/plain": [
       "<matplotlib.axes._subplots.AxesSubplot at 0x1a671b5a20>"
      ]
     },
     "execution_count": 85,
     "metadata": {},
     "output_type": "execute_result"
    },
    {
     "data": {
      "image/png": "[encoded data removed]",
      "text/plain": [
       "<Figure size 1440x2160 with 1 Axes>"
      ]
     },
     "metadata": {},
     "output_type": "display_data"
    },
    {
     "data": {
      "image/png": "[encoded data removed]",
      "text/plain": [
       "<Figure size 1440x2160 with 1 Axes>"
      ]
     },
     "metadata": {},
     "output_type": "display_data"
    }
   ],
   "source": [
    "#@title Bar plots by politeness strategy and discourse category\n",
    "politeness_counts_melted = politeness_counts.reset_index().melt(id_vars=\"discourse_cat\")\n",
    "\n",
    "fig, ax = plt.subplots(1,1, figsize=(20,30))\n",
    "sns.barplot(\n",
    "    data=politeness_counts_melted,\n",
    "    y=\"variable\", # politeness cat\n",
    "    x='value',\n",
    "    hue='discourse_cat',\n",
    "    ax=ax\n",
    "    )\n",
    "\n",
    "fig, ax = plt.subplots(1,1, figsize=(20,30))\n",
    "sns.barplot(\n",
    "    data=politeness_counts_melted,\n",
    "    y=\"discourse_cat\", # politeness cat\n",
    "    x='value',\n",
    "    hue='variable',\n",
    "    ax=ax\n",
    "    )\n"
   ]
  },
  {
   "cell_type": "code",
   "execution_count": null,
   "metadata": {},
   "outputs": [],
   "source": []
  }
 ],
 "metadata": {
  "colab": {
   "collapsed_sections": [],
   "include_colab_link": true,
   "name": "Corpus conversion",
   "provenance": [],
   "toc_visible": true,
   "version": "0.3.2"
  },
  "kernelspec": {
   "display_name": "Python 3",
   "language": "python",
   "name": "python3"
  },
  "language_info": {
   "codemirror_mode": {
    "name": "ipython",
    "version": 3
   },
   "file_extension": ".py",
   "mimetype": "text/x-python",
   "name": "python",
   "nbconvert_exporter": "python",
   "pygments_lexer": "ipython3",
   "version": "3.7.3"
  }
 },
 "nbformat": 4,
 "nbformat_minor": 1
}
