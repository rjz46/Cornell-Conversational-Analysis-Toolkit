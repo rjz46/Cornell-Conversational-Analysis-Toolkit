{
 "cells": [
  {
   "cell_type": "code",
   "execution_count": 1,
   "metadata": {},
   "outputs": [
    {
     "data": {
      "text/plain": [
       "['LICENSE.md',\n",
       " 'convokit',\n",
       " 'requirements.txt',\n",
       " 'Makefile',\n",
       " 'website',\n",
       " 'datasets',\n",
       " 'tests',\n",
       " 'README.md',\n",
       " 'setup.py',\n",
       " '.gitignore',\n",
       " 'CONTRIBUTING.md',\n",
       " 'examples',\n",
       " 'doc',\n",
       " '.git']"
      ]
     },
     "execution_count": 1,
     "metadata": {},
     "output_type": "execute_result"
    }
   ],
   "source": [
    "import os\n",
    "\n",
    "os.listdir()\n",
    "os.chdir('../..')\n",
    "os.listdir()"
   ]
  },
  {
   "cell_type": "code",
   "execution_count": 2,
   "metadata": {},
   "outputs": [],
   "source": [
    "import convokit\n",
    "from convokit import Corpus, Toxicity, Sequence\n",
    "\n",
    "corpus = convokit.Corpus(filename=\"datasets/reddit_coarse_discourse-corpus/corpus\")"
   ]
  },
  {
   "cell_type": "code",
   "execution_count": 3,
   "metadata": {},
   "outputs": [
    {
     "data": {
      "text/plain": [
       "['LICENSE.md',\n",
       " 'convokit',\n",
       " 'requirements.txt',\n",
       " 'Makefile',\n",
       " 'website',\n",
       " 'datasets',\n",
       " 'tests',\n",
       " 'README.md',\n",
       " 'setup.py',\n",
       " '.gitignore',\n",
       " 'CONTRIBUTING.md',\n",
       " 'examples',\n",
       " 'doc',\n",
       " '.git']"
      ]
     },
     "execution_count": 3,
     "metadata": {},
     "output_type": "execute_result"
    }
   ],
   "source": [
    "os.listdir()"
   ]
  },
  {
   "cell_type": "code",
   "execution_count": 4,
   "metadata": {},
   "outputs": [
    {
     "name": "stdout",
     "output_type": "stream",
     "text": [
      "Number of Users: 63573\n",
      "Number of Utterances: 115827\n",
      "Number of Conversations: 9483\n"
     ]
    }
   ],
   "source": [
    "corpus.print_summary_stats()"
   ]
  },
  {
   "cell_type": "code",
   "execution_count": 5,
   "metadata": {
    "scrolled": false
   },
   "outputs": [
    {
     "data": {
      "application/vnd.jupyter.widget-view+json": {
       "model_id": "bada4b76d4064e6d9d506e83a4f1a32d",
       "version_major": 2,
       "version_minor": 0
      },
      "text/plain": [
       "HBox(children=(IntProgress(value=0, max=9483), HTML(value='')))"
      ]
     },
     "metadata": {},
     "output_type": "display_data"
    },
    {
     "name": "stdout",
     "output_type": "stream",
     "text": [
      "\n"
     ]
    },
    {
     "data": {
      "text/plain": [
       "<convokit.model.corpus.Corpus at 0x10836d9b0>"
      ]
     },
     "execution_count": 5,
     "metadata": {},
     "output_type": "execute_result"
    }
   ],
   "source": [
    "tox = Toxicity(toxicity_json_path=\"convokit/toxicity/data/reddit_coarse_discourse.json\")\n",
    "tox.transform(corpus)"
   ]
  },
  {
   "cell_type": "code",
   "execution_count": 6,
   "metadata": {},
   "outputs": [
    {
     "ename": "NameError",
     "evalue": "name 'toxicity_scores' is not defined",
     "output_type": "error",
     "traceback": [
      "\u001b[0;31m---------------------------------------------------------------------------\u001b[0m",
      "\u001b[0;31mNameError\u001b[0m                                 Traceback (most recent call last)",
      "\u001b[0;32m<ipython-input-6-9ee3eab44a99>\u001b[0m in \u001b[0;36m<module>\u001b[0;34m\u001b[0m\n\u001b[1;32m     13\u001b[0m \u001b[0;34m\u001b[0m\u001b[0m\n\u001b[1;32m     14\u001b[0m \u001b[0;34m\u001b[0m\u001b[0m\n\u001b[0;32m---> 15\u001b[0;31m         \u001b[0mutt_score\u001b[0m \u001b[0;34m=\u001b[0m \u001b[0mtoxicity_scores\u001b[0m\u001b[0;34m[\u001b[0m\u001b[0mutt\u001b[0m\u001b[0;34m.\u001b[0m\u001b[0mid\u001b[0m\u001b[0;34m]\u001b[0m\u001b[0;34m\u001b[0m\u001b[0;34m\u001b[0m\u001b[0m\n\u001b[0m\u001b[1;32m     16\u001b[0m \u001b[0;34m\u001b[0m\u001b[0m\n\u001b[1;32m     17\u001b[0m         \u001b[0mconvo_scores\u001b[0m\u001b[0;34m+=\u001b[0m\u001b[0mutt_score\u001b[0m\u001b[0;34m\u001b[0m\u001b[0;34m\u001b[0m\u001b[0m\n",
      "\u001b[0;31mNameError\u001b[0m: name 'toxicity_scores' is not defined"
     ]
    }
   ],
   "source": [
    "for convo in corpus.iter_conversations():\n",
    "    convo_scores = 0\n",
    "    count = 0\n",
    "\n",
    "    for utt in convo.iter_utterances():        \n",
    "        '''\n",
    "            rerunning this takes over a day for our 110k+ comments since it uses an api with limited query rate, \n",
    "            we'll load them from toxicity_dictionary.json that was pre-fetched,\n",
    "            for others using our transformer, please run self.get_toxicity over the utterances on their corpus.\n",
    "        '''\n",
    "\n",
    "        #utt_score = self._get_toxicity(utt.text)\n",
    "\n",
    "\n",
    "        utt_score = toxicity_scores[utt.id]\n",
    "        \n",
    "        convo_scores+=utt_score\n",
    "        count+=1\n",
    "\n",
    "        utt.add_meta('toxicity', utt_score)\n",
    "\n",
    "    convo.add_meta('averagetoxicity', convo_scores/count)"
   ]
  },
  {
   "cell_type": "code",
   "execution_count": 6,
   "metadata": {},
   "outputs": [
    {
     "data": {
      "text/plain": [
       "0.21341012"
      ]
     },
     "execution_count": 6,
     "metadata": {},
     "output_type": "execute_result"
    }
   ],
   "source": [
    "list(corpus.iter_utterances())[0].meta['toxicity']"
   ]
  },
  {
   "cell_type": "code",
   "execution_count": 11,
   "metadata": {
    "scrolled": true
   },
   "outputs": [
    {
     "name": "stdout",
     "output_type": "stream",
     "text": [
      "Conversation({'_owner': <convokit.model.corpus.Corpus object at 0x10845b710>, '_id': 't3_1lddvq', '_utterance_ids': ['t3_1lddvq', 't1_cbye5qd', 't1_cbzrszq', 't1_cbzrvp1', 't1_cbzs1ow', 't1_cbzs2ow', 't1_cc07f3c', 't1_cc0vfqg', 't1_cc0w4ks', 't1_cc0whiu', 't1_cc0xpok'], '_usernames': None, '_meta': {'subreddit': 'showerthoughts', 'url': 'https://www.reddit.com/r/Showerthoughts/comments/1lddvq/what_if_everything_i_do_is_predetermined_and_i/', 'title': 'What if everything I do is predetermined and I have no control over it.', 'averagetoxicity': 0.24006138881818184, 'chain': ['t3_1lddvq', 't1_cbye5qd', 't1_cbzrszq']}})\n"
     ]
    }
   ],
   "source": [
    "import random\n",
    "\n",
    "#counter = 0\n",
    "for convo in corpus.iter_conversations():\n",
    "    \n",
    "    temp_chain = []\n",
    "\n",
    "    for utt in convo.iter_utterances():\n",
    "        \n",
    "        if utt.meta['post_depth'] == 2:\n",
    "            temp_chain.append(utt.id)\n",
    "    \n",
    "    if len(temp_chain) > 0:\n",
    "        \n",
    "        convo.add_meta('chain', random.choice(temp_chain))\n",
    "        \n",
    "        uttid = random.choice(temp_chain)\n",
    "        chosen_chain= []\n",
    "        chosen_chain.append(uttid)\n",
    "\n",
    "        utt = convo.get_utterance(uttid)\n",
    "        while(utt.meta['post_depth'] > 0):\n",
    "            if utt.reply_to in corpus.utterances:\n",
    "                utt = convo.get_utterance(utt.reply_to)\n",
    "                chosen_chain.append(utt.id)\n",
    "            else:\n",
    "                break\n",
    "                \n",
    "        #counter+=1\n",
    "        chosen_chain.reverse()\n",
    "        convo.add_meta('chain', chosen_chain)\n",
    "    else:\n",
    "        convo.add_meta('chain', None)\n",
    "        \n",
    "            \n",
    "print(list(corpus.iter_conversations())[2000])"
   ]
  },
  {
   "cell_type": "code",
   "execution_count": 8,
   "metadata": {},
   "outputs": [
    {
     "name": "stdout",
     "output_type": "stream",
     "text": [
      "Utterance({'id': 't1_d2h6eld', 'user': User([('name', 'Vaperius')]), 'root': 't3_4gfgf2', 'reply_to': 't1_d2h3fzj', 'timestamp': None, 'text': \"You know a country was really trying for world domination when its harder to the pick one of the countries it hasn't had a military conflict with.\", 'meta': {'post_depth': 2, 'majority_type': 'elaboration', 'majority_link': 't1_d2h3fzj', 'annotation-types': ['elaboration', 'elaboration', 'humor'], 'annotation-links': ['t1_d2h3fzj', 't1_d2h3fzj', 't1_d2h3fzj'], 'ups': 3, 'toxicity': 0.1813954}})\n"
     ]
    }
   ],
   "source": [
    "print(list(corpus.iter_utterances())[2000])"
   ]
  },
  {
   "cell_type": "code",
   "execution_count": 9,
   "metadata": {
    "scrolled": true
   },
   "outputs": [
    {
     "ename": "NameError",
     "evalue": "name 'in_top_25' is not defined",
     "output_type": "error",
     "traceback": [
      "\u001b[0;31m---------------------------------------------------------------------------\u001b[0m",
      "\u001b[0;31mNameError\u001b[0m                                 Traceback (most recent call last)",
      "\u001b[0;32m<ipython-input-9-e771d4bb8844>\u001b[0m in \u001b[0;36m<module>\u001b[0;34m\u001b[0m\n\u001b[1;32m      5\u001b[0m \u001b[0mtox_25\u001b[0m \u001b[0;34m=\u001b[0m \u001b[0mdefaultdict\u001b[0m\u001b[0;34m(\u001b[0m\u001b[0mlist\u001b[0m\u001b[0;34m)\u001b[0m\u001b[0;34m\u001b[0m\u001b[0;34m\u001b[0m\u001b[0m\n\u001b[1;32m      6\u001b[0m \u001b[0;34m\u001b[0m\u001b[0m\n\u001b[0;32m----> 7\u001b[0;31m \u001b[0;32mfor\u001b[0m \u001b[0mx\u001b[0m \u001b[0;32min\u001b[0m \u001b[0min_top_25\u001b[0m\u001b[0;34m:\u001b[0m\u001b[0;34m\u001b[0m\u001b[0;34m\u001b[0m\u001b[0m\n\u001b[0m\u001b[1;32m      8\u001b[0m     \u001b[0;32mif\u001b[0m \u001b[0;32mnot\u001b[0m \u001b[0mutts\u001b[0m\u001b[0;34m[\u001b[0m\u001b[0mx\u001b[0m\u001b[0;34m]\u001b[0m\u001b[0;34m.\u001b[0m\u001b[0mmeta\u001b[0m\u001b[0;34m[\u001b[0m\u001b[0;34m'ups'\u001b[0m\u001b[0;34m]\u001b[0m \u001b[0;34m==\u001b[0m \u001b[0;32mNone\u001b[0m\u001b[0;34m:\u001b[0m\u001b[0;34m\u001b[0m\u001b[0;34m\u001b[0m\u001b[0m\n\u001b[1;32m      9\u001b[0m         \u001b[0mupstox_25\u001b[0m\u001b[0;34m[\u001b[0m\u001b[0mx\u001b[0m \u001b[0;34m+\u001b[0m\u001b[0;34m\".\"\u001b[0m \u001b[0;34m+\u001b[0m \u001b[0mconvos\u001b[0m\u001b[0;34m[\u001b[0m\u001b[0mx\u001b[0m\u001b[0;34m]\u001b[0m\u001b[0;34m.\u001b[0m\u001b[0mmeta\u001b[0m\u001b[0;34m[\u001b[0m\u001b[0;34m\"subreddit\"\u001b[0m\u001b[0;34m]\u001b[0m\u001b[0;34m]\u001b[0m \u001b[0;34m=\u001b[0m \u001b[0;34m[\u001b[0m\u001b[0mutts\u001b[0m\u001b[0;34m[\u001b[0m\u001b[0mx\u001b[0m\u001b[0;34m]\u001b[0m\u001b[0;34m.\u001b[0m\u001b[0mmeta\u001b[0m\u001b[0;34m[\u001b[0m\u001b[0;34m'ups'\u001b[0m\u001b[0;34m]\u001b[0m\u001b[0;34m,\u001b[0m \u001b[0mtox\u001b[0m\u001b[0;34m[\u001b[0m\u001b[0mx\u001b[0m\u001b[0;34m]\u001b[0m\u001b[0;34m]\u001b[0m\u001b[0;34m\u001b[0m\u001b[0;34m\u001b[0m\u001b[0m\n",
      "\u001b[0;31mNameError\u001b[0m: name 'in_top_25' is not defined"
     ]
    }
   ],
   "source": [
    "from collections import defaultdict\n",
    "\n",
    "upstox_25 = {}\n",
    "ups_25 = defaultdict(list)\n",
    "tox_25 = defaultdict(list)\n",
    "\n",
    "for x in in_top_25:\n",
    "    if not utts[x].meta['ups'] == None:\n",
    "        upstox_25[x +\".\" + convos[x].meta[\"subreddit\"]] = [utts[x].meta['ups'], tox[x]]\n",
    "        ups_25[convos[x].meta[\"subreddit\"]].append(utts[x].meta['ups'])\n",
    "        tox_25[convos[x].meta[\"subreddit\"]].append(tox[x])\n",
    "    else:\n",
    "        upstox_25[x +\".\" + convos[x].meta[\"subreddit\"]] = [0, tox[x]]\n",
    "        ups_25[convos[x].meta[\"subreddit\"]].append(0)\n",
    "        tox_25[convos[x].meta[\"subreddit\"]].append(tox[x])\n",
    "corr_25 = {}\n",
    "\n",
    "for x in ups_25:\n",
    "    corr_25[x] = pearsonr(tox_25[x],ups_25[x])[0]\n",
    "    \n",
    "sorted_corr = sorted(corr_25.items(), key=lambda kv: kv[1])\n",
    "for x in sorted_corr:\n",
    "    print(x)"
   ]
  },
  {
   "cell_type": "code",
   "execution_count": 14,
   "metadata": {},
   "outputs": [
    {
     "name": "stdout",
     "output_type": "stream",
     "text": [
      "dict_keys(['askreddit', 'leagueoflegends', 'buildapc', 'explainlikeimfive', 'trees'])\n"
     ]
    }
   ],
   "source": [
    "import collections\n",
    "\n",
    "reddit_corpus = corpus\n",
    "subreddit_counter = collections.Counter()\n",
    "convos = reddit_corpus.conversations\n",
    "\n",
    "\n",
    "for convoutt in convos: \n",
    "    #print(convos[convoutt])\n",
    "    subrd = convos[convoutt].meta[\"subreddit\"]\n",
    "    subreddit_counter.update({subrd:1})\n",
    "top_25_subreddits = dict(subreddit_counter.most_common(5))\n",
    "\n",
    "print(top_25_subreddits.keys())"
   ]
  },
  {
   "cell_type": "code",
   "execution_count": 58,
   "metadata": {
    "scrolled": true
   },
   "outputs": [
    {
     "name": "stdout",
     "output_type": "stream",
     "text": [
      "                              sequences  count\n",
      "0           question-answer-elaboration   1353\n",
      "1          question-answer-appreciation   1076\n",
      "2              question-answer-question    865\n",
      "3              question-question-answer    587\n",
      "4             question-answer-agreement    515\n",
      "5                  question-answer-none    507\n",
      "6          announcement-question-answer    340\n",
      "7          question-answer-disagreement    280\n",
      "8  announcement-elaboration-elaboration    219\n",
      "9                question-answer-answer    135\n"
     ]
    }
   ],
   "source": [
    "#top sequences\n",
    "import pandas as pd\n",
    "from convokit import Corpus, Toxicity, Sequence\n",
    "\n",
    "\n",
    "convos = corpus.iter_conversations()\n",
    "utterance_corpus = corpus.utterances\n",
    "\n",
    "sequences = []\n",
    "\n",
    "def form_chain(convochain):\n",
    "    chain = []\n",
    "    for utt in convochain:\n",
    "        if utterance_corpus[utt].meta['majority_type']:\n",
    "            chain.append(utterance_corpus[utt].meta['majority_type'])\n",
    "        else:\n",
    "            chain.append(\"none\")\n",
    "    sequence = '-'.join(chain)\n",
    "    \n",
    "    return sequence\n",
    "\n",
    "\n",
    "for convo in convos:\n",
    "    if convo.meta['chain']:\n",
    "        sequences.append(form_chain(convo.meta['chain']))\n",
    "        \n",
    "\n",
    "\n",
    "from collections import Counter\n",
    "sequence_types = Counter(sequences)\n",
    "\n",
    "\n",
    "top_sequences = sequence_types.most_common(10)\n",
    "\n",
    "header =[\"sequences\", \"count\"]\n",
    "\n",
    "df = pd.DataFrame(top_sequences, columns=[\"sequences\", \"count\"]) \n",
    "\n",
    "print(df)"
   ]
  },
  {
   "cell_type": "markdown",
   "metadata": {},
   "source": [
    "### Sequence Transformer"
   ]
  },
  {
   "cell_type": "code",
   "execution_count": 11,
   "metadata": {},
   "outputs": [
    {
     "data": {
      "text/plain": [
       "<convokit.model.corpus.Corpus at 0x10836d9b0>"
      ]
     },
     "execution_count": 11,
     "metadata": {},
     "output_type": "execute_result"
    }
   ],
   "source": [
    "sequence = Sequence()\n",
    "sequence.transform(corpus)"
   ]
  },
  {
   "cell_type": "code",
   "execution_count": 76,
   "metadata": {},
   "outputs": [
    {
     "name": "stdout",
     "output_type": "stream",
     "text": [
      "['question-answer-elaboration', 'question-answer-appreciation', 'question-answer-question', 'question-question-answer', 'question-answer-agreement', 'question-answer-none', 'announcement-question-answer', 'question-answer-disagreement', 'announcement-elaboration-elaboration', 'question-answer-answer']\n",
      "question-answer-elaboration\n",
      "question-answer-appreciation\n",
      "question-answer-question\n",
      "question-question-answer\n",
      "question-answer-agreement\n",
      "question-answer-none\n",
      "announcement-question-answer\n",
      "question-answer-disagreement\n",
      "announcement-elaboration-elaboration\n",
      "question-answer-answer\n",
      "[0.16455091322498153, 0.13420257153268278, 0.14632982605105974, 0.13739298548960818, 0.17180894262394822, 0.17908509574687706, 0.14383926153039214, 0.18512027274369047, 0.18781922903805176, 0.17251559898962965]\n",
      "[0.1427854205518847, 0.18133224759238728, 0.16953507153067257]\n"
     ]
    },
    {
     "data": {
      "text/html": [
       "<div>\n",
       "<style scoped>\n",
       "    .dataframe tbody tr th:only-of-type {\n",
       "        vertical-align: middle;\n",
       "    }\n",
       "\n",
       "    .dataframe tbody tr th {\n",
       "        vertical-align: top;\n",
       "    }\n",
       "\n",
       "    .dataframe thead th {\n",
       "        text-align: right;\n",
       "    }\n",
       "</style>\n",
       "<table border=\"1\" class=\"dataframe\">\n",
       "  <thead>\n",
       "    <tr style=\"text-align: right;\">\n",
       "      <th></th>\n",
       "      <th>sequences</th>\n",
       "      <th>count</th>\n",
       "      <th>Avg Toxicity</th>\n",
       "      <th>Delta</th>\n",
       "      <th>Sequence Avg</th>\n",
       "    </tr>\n",
       "  </thead>\n",
       "  <tbody>\n",
       "    <tr>\n",
       "      <th>0</th>\n",
       "      <td>question-answer-elaboration</td>\n",
       "      <td>1353</td>\n",
       "      <td>0.164551</td>\n",
       "      <td>0.026750</td>\n",
       "      <td>[0.1427854205518847, 0.18133224759238728, 0.16...</td>\n",
       "    </tr>\n",
       "    <tr>\n",
       "      <th>1</th>\n",
       "      <td>question-answer-appreciation</td>\n",
       "      <td>1076</td>\n",
       "      <td>0.134203</td>\n",
       "      <td>-0.038401</td>\n",
       "      <td>[0.13963546740817845, 0.1617380933866171, 0.10...</td>\n",
       "    </tr>\n",
       "    <tr>\n",
       "      <th>2</th>\n",
       "      <td>question-answer-question</td>\n",
       "      <td>865</td>\n",
       "      <td>0.146330</td>\n",
       "      <td>0.004416</td>\n",
       "      <td>[0.13370161387283236, 0.16716999279710984, 0.1...</td>\n",
       "    </tr>\n",
       "    <tr>\n",
       "      <th>3</th>\n",
       "      <td>question-question-answer</td>\n",
       "      <td>587</td>\n",
       "      <td>0.137393</td>\n",
       "      <td>-0.012457</td>\n",
       "      <td>[0.14261336664514482, 0.13940920582708688, 0.1...</td>\n",
       "    </tr>\n",
       "    <tr>\n",
       "      <th>4</th>\n",
       "      <td>question-answer-agreement</td>\n",
       "      <td>515</td>\n",
       "      <td>0.171809</td>\n",
       "      <td>-0.007310</td>\n",
       "      <td>[0.16237074276116506, 0.19799581710873787, 0.1...</td>\n",
       "    </tr>\n",
       "    <tr>\n",
       "      <th>5</th>\n",
       "      <td>question-answer-none</td>\n",
       "      <td>507</td>\n",
       "      <td>0.179085</td>\n",
       "      <td>0.030705</td>\n",
       "      <td>[0.15022276366074952, 0.20610496595069033, 0.1...</td>\n",
       "    </tr>\n",
       "    <tr>\n",
       "      <th>6</th>\n",
       "      <td>announcement-question-answer</td>\n",
       "      <td>340</td>\n",
       "      <td>0.143839</td>\n",
       "      <td>0.015522</td>\n",
       "      <td>[0.1381823749382353, 0.13963070647647058, 0.15...</td>\n",
       "    </tr>\n",
       "    <tr>\n",
       "      <th>7</th>\n",
       "      <td>question-answer-disagreement</td>\n",
       "      <td>280</td>\n",
       "      <td>0.185120</td>\n",
       "      <td>0.031706</td>\n",
       "      <td>[0.163173864475, 0.1973071993667857, 0.1948797...</td>\n",
       "    </tr>\n",
       "    <tr>\n",
       "      <th>8</th>\n",
       "      <td>announcement-elaboration-elaboration</td>\n",
       "      <td>219</td>\n",
       "      <td>0.187819</td>\n",
       "      <td>0.019937</td>\n",
       "      <td>[0.16471198684474886, 0.2140964897214612, 0.18...</td>\n",
       "    </tr>\n",
       "    <tr>\n",
       "      <th>9</th>\n",
       "      <td>question-answer-answer</td>\n",
       "      <td>135</td>\n",
       "      <td>0.172516</td>\n",
       "      <td>-0.065220</td>\n",
       "      <td>[0.20754900531111112, 0.16766838375037038, 0.1...</td>\n",
       "    </tr>\n",
       "  </tbody>\n",
       "</table>\n",
       "</div>"
      ],
      "text/plain": [
       "                              sequences  count  Avg Toxicity     Delta  \\\n",
       "0           question-answer-elaboration   1353      0.164551  0.026750   \n",
       "1          question-answer-appreciation   1076      0.134203 -0.038401   \n",
       "2              question-answer-question    865      0.146330  0.004416   \n",
       "3              question-question-answer    587      0.137393 -0.012457   \n",
       "4             question-answer-agreement    515      0.171809 -0.007310   \n",
       "5                  question-answer-none    507      0.179085  0.030705   \n",
       "6          announcement-question-answer    340      0.143839  0.015522   \n",
       "7          question-answer-disagreement    280      0.185120  0.031706   \n",
       "8  announcement-elaboration-elaboration    219      0.187819  0.019937   \n",
       "9                question-answer-answer    135      0.172516 -0.065220   \n",
       "\n",
       "                                        Sequence Avg  \n",
       "0  [0.1427854205518847, 0.18133224759238728, 0.16...  \n",
       "1  [0.13963546740817845, 0.1617380933866171, 0.10...  \n",
       "2  [0.13370161387283236, 0.16716999279710984, 0.1...  \n",
       "3  [0.14261336664514482, 0.13940920582708688, 0.1...  \n",
       "4  [0.16237074276116506, 0.19799581710873787, 0.1...  \n",
       "5  [0.15022276366074952, 0.20610496595069033, 0.1...  \n",
       "6  [0.1381823749382353, 0.13963070647647058, 0.15...  \n",
       "7  [0.163173864475, 0.1973071993667857, 0.1948797...  \n",
       "8  [0.16471198684474886, 0.2140964897214612, 0.18...  \n",
       "9  [0.20754900531111112, 0.16766838375037038, 0.1...  "
      ]
     },
     "metadata": {},
     "output_type": "display_data"
    }
   ],
   "source": [
    "from statistics import mean \n",
    "from IPython.display import display as disp\n",
    "\n",
    "top_sequence_toxicity = [sequence[0] for sequence in top_sequences]\n",
    "top_seq_average = []\n",
    "top_average = []\n",
    "top_delta = []\n",
    "\n",
    "top_toxicity_delta = []\n",
    "\n",
    "convos = reddit_corpus.conversations\n",
    "print(top_sequence_toxicity)\n",
    "\n",
    "for sequence in top_sequence_toxicity:\n",
    "    print(sequence)\n",
    "    chain_tox = [[], [], []]\n",
    "\n",
    "    for convo in convos:\n",
    "        #print(convo)\n",
    "        \n",
    "        if convos[convo].meta['chain']:\n",
    "            chain = form_chain(convos[convo].meta['chain'])\n",
    "            \n",
    "            if(chain == sequence):\n",
    "                for i in range(len(convos[convo].meta[\"chain_tox\"])):\n",
    "                    chain_tox[i].append(convos[convo].meta[\"chain_tox\"][i])\n",
    "    \n",
    "    top_seq_average.append([mean(chain_tox[0]), mean(chain_tox[1]), mean(chain_tox[2])])\n",
    "    top_average.append(mean([mean(chain_tox[0]), mean(chain_tox[1]), mean(chain_tox[2])]))\n",
    "    top_delta.append(mean(chain_tox[2])-mean(chain_tox[0]))\n",
    "    \n",
    "print(top_average)\n",
    "print(top_seq_average[0])\n",
    "\n",
    "#top_sequence_toxicity = [sequence[] for sequence in top_sequences]\n",
    "\n",
    "header =[\"sequences\", \"count\"]\n",
    "sequence_tox_index = list(zip([sequence[0] for sequence in top_sequences],[sequence[1] for sequence in top_sequences], top_average, top_delta, top_seq_average))\n",
    "\n",
    "df = pd.DataFrame(sequence_tox_index, columns=[\"sequences\", \"count\", \"Avg Toxicity\", \"Delta\", \"Sequence Avg\"]) \n",
    "\n",
    "disp(df)\n",
    "            \n",
    "            "
   ]
  },
  {
   "cell_type": "code",
   "execution_count": null,
   "metadata": {},
   "outputs": [],
   "source": []
  },
  {
   "cell_type": "code",
   "execution_count": null,
   "metadata": {},
   "outputs": [],
   "source": []
  }
 ],
 "metadata": {
  "kernelspec": {
   "display_name": "Python 3",
   "language": "python",
   "name": "python3"
  },
  "language_info": {
   "codemirror_mode": {
    "name": "ipython",
    "version": 3
   },
   "file_extension": ".py",
   "mimetype": "text/x-python",
   "name": "python",
   "nbconvert_exporter": "python",
   "pygments_lexer": "ipython3",
   "version": "3.7.3"
  }
 },
 "nbformat": 4,
 "nbformat_minor": 2
}
