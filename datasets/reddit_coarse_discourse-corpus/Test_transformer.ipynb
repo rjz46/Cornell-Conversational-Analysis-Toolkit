{
 "cells": [
  {
   "cell_type": "code",
   "execution_count": 1,
   "metadata": {},
   "outputs": [
    {
     "data": {
      "text/plain": [
       "['LICENSE.md',\n",
       " 'convokit',\n",
       " '.DS_Store',\n",
       " 'requirements.txt',\n",
       " 'Makefile',\n",
       " 'website',\n",
       " 'datasets',\n",
       " 'tests',\n",
       " 'README.md',\n",
       " 'setup.py',\n",
       " '.gitignore',\n",
       " 'CONTRIBUTING.md',\n",
       " 'examples',\n",
       " 'doc',\n",
       " '.git']"
      ]
     },
     "execution_count": 1,
     "metadata": {},
     "output_type": "execute_result"
    }
   ],
   "source": [
    "import os\n",
    "\n",
    "os.listdir()\n",
    "os.chdir('../..')\n",
    "os.listdir()"
   ]
  },
  {
   "cell_type": "code",
   "execution_count": 2,
   "metadata": {},
   "outputs": [],
   "source": [
    "import convokit\n",
    "from convokit import Corpus, Toxicity\n",
    "\n",
    "corpus = convokit.Corpus(filename=\"datasets/reddit_coarse_discourse-corpus/corpus\")"
   ]
  },
  {
   "cell_type": "code",
   "execution_count": 3,
   "metadata": {},
   "outputs": [
    {
     "data": {
      "text/plain": [
       "['LICENSE.md',\n",
       " 'convokit',\n",
       " '.DS_Store',\n",
       " 'requirements.txt',\n",
       " 'Makefile',\n",
       " 'website',\n",
       " 'datasets',\n",
       " 'tests',\n",
       " 'README.md',\n",
       " 'setup.py',\n",
       " '.gitignore',\n",
       " 'CONTRIBUTING.md',\n",
       " 'examples',\n",
       " 'doc',\n",
       " '.git']"
      ]
     },
     "execution_count": 3,
     "metadata": {},
     "output_type": "execute_result"
    }
   ],
   "source": [
    "os.listdir()"
   ]
  },
  {
   "cell_type": "code",
   "execution_count": 4,
   "metadata": {},
   "outputs": [
    {
     "name": "stdout",
     "output_type": "stream",
     "text": [
      "Number of Users: 63573\n",
      "Number of Utterances: 115827\n",
      "Number of Conversations: 9483\n"
     ]
    }
   ],
   "source": [
    "corpus.print_summary_stats()"
   ]
  },
  {
   "cell_type": "code",
   "execution_count": 5,
   "metadata": {
    "scrolled": false
   },
   "outputs": [
    {
     "data": {
      "application/vnd.jupyter.widget-view+json": {
       "model_id": "788aeef6bb664535935f8254b10abaad",
       "version_major": 2,
       "version_minor": 0
      },
      "text/plain": [
       "HBox(children=(IntProgress(value=1, bar_style='info', max=1), HTML(value='')))"
      ]
     },
     "metadata": {},
     "output_type": "display_data"
    },
    {
     "name": "stdout",
     "output_type": "stream",
     "text": [
      "ERROR1!!!!!!!!!!!!!!!!!!!!\n",
      "ERROR2!!!!!!!!!!!!!!!!!!!!\n",
      "ERROR3\n"
     ]
    },
    {
     "name": "stderr",
     "output_type": "stream",
     "text": [
      "\n",
      "KeyboardInterrupt\n",
      "\n"
     ]
    }
   ],
   "source": [
    "tox = Toxicity()\n",
    "tox.transform(corpus)"
   ]
  },
  {
   "cell_type": "code",
   "execution_count": 64,
   "metadata": {},
   "outputs": [],
   "source": [
    "for convo in corpus.iter_conversations():\n",
    "    convo_scores = 0\n",
    "    count = 0\n",
    "\n",
    "    for utt in convo.iter_utterances():        \n",
    "        '''\n",
    "            rerunning this takes over a day for our 110k+ comments since it uses an api with limited query rate, \n",
    "            we'll load them from toxicity_dictionary.json that was pre-fetched,\n",
    "            for others using our transformer, please run self.get_toxicity over the utterances on their corpus.\n",
    "        '''\n",
    "\n",
    "        #utt_score = self._get_toxicity(utt.text)\n",
    "\n",
    "\n",
    "        utt_score = toxicity_scores[utt.id]\n",
    "        \n",
    "        convo_scores+=utt_score\n",
    "        count+=1\n",
    "\n",
    "        utt.add_meta('toxicity', utt_score)\n",
    "\n",
    "    convo.add_meta('averagetoxicity', convo_scores/count)"
   ]
  },
  {
   "cell_type": "code",
   "execution_count": 9,
   "metadata": {},
   "outputs": [
    {
     "data": {
      "text/plain": [
       "0.21341012"
      ]
     },
     "execution_count": 9,
     "metadata": {},
     "output_type": "execute_result"
    }
   ],
   "source": [
    "list(corpus.iter_utterances())[0].meta['toxicity']"
   ]
  },
  {
   "cell_type": "code",
   "execution_count": 15,
   "metadata": {
    "scrolled": false
   },
   "outputs": [
    {
     "data": {
      "text/plain": [
       "[Utterance({'id': 't3_1bx6qw', 'user': User([('name', 'DTX120')]), 'root': 't3_1bx6qw', 'reply_to': None, 'timestamp': None, 'text': \"4/7/13  \\n\\n7/27/12  \\n\\nhttp://www.imdb.com/title/tt0073440/reference\\n\\nIt was only a few minutes into Robert Altman's homespun epic *Nashville* that I got the feeling I was watching a great movie. By the end it could not be denied. Now I'm sure it helps that I'm a musician, since this created an immediate connection to the subject matter. I spent a portion of the movie with my Telecaster in my lap trying to play along with the characters who all seem to be really playing and singing these songs. However I also am *not* a fan of country western, so that could have easily been a turn off.  \\n\\nTo begin describing the action in the film is daunting. I can't even process a lot of what I saw. This movie is extremely dense, and the first 30 minutes or so are spent just trying to figure out who people are. Their relationships to one another - some of which are purely incidental - slowly become clear as things progress. It's an ensemble cast with no clear lead and lots of overlapping conversations. Some developments all tie together in the end. Some seem to be kind of loose ends. There is throughout, however, a very keen sense about people. These naturalistic performances are believable and so is the world they inhabit. It feels like a film that doesn't exaggerate - rather, it downplays some of the outrageousness which just makes it seem all the more outrageous. Consider for example Shelley Duvall's wig or Jeff Goldblum's entire character.  \\n\\nI feel I should mention this. Jeff Goldblum is in this film. He never speaks, and he is awesome.  \\n\\n*Nashville* is a musical. There is reportedly around an hour of music in its 150+ minute run time. I believe it. Sometimes these songs, most if not all of which are original, seem to speak pointedly to or about a character. Sometimes it's all about the shifts and glances in the audience. There are many memorable scenes, such as when a fragile country starlet spaces out on stage and begins rambling between numbers, or a disenchanted housewife waits at the back of a bar for a womanizing folk singer, or a poor deceived waitress is goaded into a striptease by a raucous crowd and still refuses to believe that she can't actually sing.   \\n\\nThis is rich film, a complex tapestry perfectly suited to a moment in time (the US Bicentennial) that seems as though it will reward additional viewings. I sometimes become fidgety during long movies but I was never bored with *Nashville*. It swept me along with its quirky and interesting characters to a climax that maybe I should have seen coming.  \\n\\n8/10\", 'meta': {'post_depth': 0, 'majority_type': 'announcement', 'majority_link': 'none', 'annotation-types': ['announcement', 'announcement', 'announcement'], 'annotation-links': ['none', 'none', 'none'], 'ups': 3, 'toxicity': 0.21341012}}),\n",
       " Utterance({'id': 't1_c9b2nyd', 'user': User([('name', 'mcgrewf10')]), 'root': 't3_1bx6qw', 'reply_to': 't3_1bx6qw', 'timestamp': None, 'text': \"I've wanted to watch this for a long time. I was also turned off by the country western aspect.\", 'meta': {'post_depth': 1, 'majority_type': 'elaboration', 'majority_link': 't3_1bx6qw', 'annotation-types': ['agreement', 'elaboration', 'elaboration'], 'annotation-links': ['t3_1bx6qw', 't3_1bx6qw', 't3_1bx6qw'], 'ups': 2, 'toxicity': 0.09733439}}),\n",
       " Utterance({'id': 't1_c9b30i1', 'user': User([('name', 'DTX120')]), 'root': 't3_1bx6qw', 'reply_to': 't1_c9b2nyd', 'timestamp': None, 'text': \"You strike me as the type who would appreciate it. I would give it a go. This is also my first Altman film so I didn't really know what to expect, except that people always compare PTA's Boogie Nights and Magnolia as being influenced by Altman. Magnolia is probably the best analog in terms of structure (having no lead character) but it is stylistically very different, much more melodramatic and transparently earnest. \", 'meta': {'post_depth': 2, 'majority_type': 'elaboration', 'majority_link': 't1_c9b2nyd', 'annotation-types': ['elaboration', 'elaboration', 'elaboration'], 'annotation-links': ['t1_c9b2nyd', 't1_c9b2nyd', 't1_c9b2nyd'], 'ups': 1, 'toxicity': 0.14792983}}),\n",
       " Utterance({'id': 't1_c9b6sj0', 'user': User([('name', 'mcgrewf10')]), 'root': 't3_1bx6qw', 'reply_to': 't1_c9b30i1', 'timestamp': None, 'text': \"Yeah, I've always heard that Altman was famous for his ensemble casts. But I, too, have never seen an Altman.\", 'meta': {'post_depth': 3, 'majority_type': 'elaboration', 'majority_link': 't1_c9b30i1', 'annotation-types': ['agreement', 'elaboration', 'elaboration'], 'annotation-links': ['t1_c9b30i1', 't1_c9b30i1', 't1_c9b30i1'], 'ups': 1, 'toxicity': 0.101365976}}),\n",
       " Utterance({'id': 't3_omv7p', 'user': User([('name', 'Keatonus')]), 'root': 't3_omv7p', 'reply_to': None, 'timestamp': None, 'text': \"Alright guys, little background about myself. I'm a good looking, 23 year old male, have had modest success in the past with women, but have decided that modest just isn't good enough anymore.\\n\\nThe problem has never been a lack of attention, or opportunity. It's just been not having the killer instinct and extreme AA, to the point where women will basically EYE FUCK me, and I still don't have the testicular fortitude to say anything unless they say something first.\\n\\nMy goal is to approach 100 sets by the end of April, and hopefully break my AA.\", 'meta': {'post_depth': 0, 'majority_type': 'announcement', 'majority_link': 'none', 'annotation-types': ['announcement', 'announcement', 'announcement'], 'annotation-links': ['none', 'none', 'none'], 'ups': 6, 'toxicity': 0.6519473}}),\n",
       " Utterance({'id': 't1_c3igqif', 'user': User([('name', 'Keatonus')]), 'root': 't3_omv7p', 'reply_to': 't3_omv7p', 'timestamp': None, 'text': '**January 16th 3 Sets:** \\nWent out shopping with my grandma as I visited her. We go to a Factory store. Opened 3 sets.\\n\\n* First Set: was the changing room gal, HB 6 cute asian gal. Asked her a lot of questions about what i was wearing. Made her laugh several times with corny jokes, introduced her to my grandma, and we all talked for a minute after I was done picking out the clothes I wanted and left. \\n\\n* Second set: was this older gal, mid 40\\'s. Wouldn\\'t give her an HB because it was more of just a casual chat about the outfit I put on. She said she didn\\'t like it, I responded with \"aw, I\\'m not attractive?!\" and she said \"I never said that haha\" and grinned. I gave her a wink as she continued laughing and went into her stall.\\n\\n* Third set:  **NUMBER CLOSE** As me and my Grandma are waiting in line to be helped checking out, and HB7 walks to the register and helps us. We IMMEDIATELY small talk. Exchanging intellectual talking points such as martyrs and assassinations, making her laugh with jokes, poking fun at her, transitioned to talking about movies, and she suggested I watch one. The Darjeeling Limited, I gave her a queer look, she then rolled out some receipt to write it down. I asked her to put her name down there too. She did, and then said \"Want my number so you can tell me when you watch it?\" I obliged her saying \"Yeah, that could work\". It was only after I got her number she even ACKNOWLEDGED my grandmother being ONE FOOT next to me the whole time! HAHA. She asked who she was, I said my Grandmother. Mind you I look completely white, and my grandmother is full Japanese. We talked for a bit about my grandma and the war, and how my grandma was bombed etc. Then I take my leave and text her about an hour later. We have been talking since.\\n\\nTL;DR: Got a number with my Grandma right next to me!', 'meta': {'post_depth': 1, 'majority_type': 'elaboration', 'majority_link': 't3_omv7p', 'annotation-types': ['elaboration', 'elaboration', 'elaboration'], 'annotation-links': ['t3_omv7p', 't3_omv7p', 't3_omv7p'], 'ups': 5, 'toxicity': 0.23808123}}),\n",
       " Utterance({'id': 't1_c3imrkb', 'user': User([('name', 'rakendrachen')]), 'root': 't3_omv7p', 'reply_to': 't1_c3igqif', 'timestamp': None, 'text': 'grandmas are the best wingmen.', 'meta': {'post_depth': 2, 'majority_type': 'humor', 'majority_link': 't1_c3igqif', 'annotation-types': ['humor', 'appreciation', 'humor'], 'annotation-links': ['t1_c3igqif', 't1_c3igqif', 't1_c3igqif'], 'ups': 3, 'toxicity': 0.12307065}}),\n",
       " Utterance({'id': 't1_c3ij8z0', 'user': User([('name', 'answerorreply')]), 'root': 't3_omv7p', 'reply_to': 't3_omv7p', 'timestamp': None, 'text': \"dude, these sets are awesome. You're doing great. Sounds like you're a natural at meeting people once you get past the AA.\", 'meta': {'post_depth': 1, 'majority_type': 'appreciation', 'majority_link': 't3_omv7p', 'annotation-types': ['appreciation', 'appreciation', 'appreciation'], 'annotation-links': ['t3_omv7p', 't3_omv7p', 't3_omv7p'], 'ups': 2, 'toxicity': 0.043499306}}),\n",
       " Utterance({'id': 't1_c3inx9t', 'user': User([('name', 'Keatonus')]), 'root': 't3_omv7p', 'reply_to': 't1_c3ij8z0', 'timestamp': None, 'text': 'Thanks man! Yeah I\\'m trying to just keep the \"who cares have fun\" attitude on. Because normally I freak out about what to say. But I find if I just bring a subject up and get some momentum going, I\\'m actually a pretty good conversationalist.', 'meta': {'post_depth': 2, 'majority_type': 'appreciation', 'majority_link': 't1_c3ij8z0', 'annotation-types': ['appreciation', 'appreciation', 'appreciation'], 'annotation-links': ['t1_c3ij8z0', 't1_c3ij8z0', 't1_c3ij8z0'], 'ups': 1, 'toxicity': 0.15999708}}),\n",
       " Utterance({'id': 't1_c3k2lc1', 'user': User([('name', 'Keatonus')]), 'root': 't3_omv7p', 'reply_to': 't3_omv7p', 'timestamp': None, 'text': \"Ok. Update! Sorry I haven't been doing this day to day like I should be. Let me see what I can remember\\n\\n**January 17-23 Sets:** Various sets I remember opening, unfortunately no number closes. Just good old fashioned chit chatting.\\n\\n* 4th set: During the 49ers and Giants game I went to grab a bite to eat at the local burger joint. Before ordering since no line was behind me I decided to small talk with the Female at the register HB5. Mostly talked about sports, a little about myself, and her coworker HB6 joined in the conversation. This lasted about 5 minutes, learned both had boyfriends through small talk and proceeded to order.\\n\\n* 5th set: Also small talked with the female who works at my local grocery chain. She was new there, we talked about the rain of all things haha. Male coworker semi interrupted us, still small talked with both. Then ordered my drink.\\n\\nBlahhh, I know there's more than this...Hence why I should try to update every day. Be back soon guys.\", 'meta': {'post_depth': 1, 'majority_type': 'elaboration', 'majority_link': 't3_omv7p', 'annotation-types': ['elaboration', 'elaboration', 'elaboration'], 'annotation-links': ['t3_omv7p', 't3_omv7p', 't3_omv7p'], 'ups': 1, 'toxicity': 0.23916283}})]"
      ]
     },
     "execution_count": 15,
     "metadata": {},
     "output_type": "execute_result"
    }
   ],
   "source": [
    "list(corpus.iter_utterances())[:10]"
   ]
  },
  {
   "cell_type": "code",
   "execution_count": null,
   "metadata": {},
   "outputs": [],
   "source": []
  }
 ],
 "metadata": {
  "kernelspec": {
   "display_name": "Python 3",
   "language": "python",
   "name": "python3"
  },
  "language_info": {
   "codemirror_mode": {
    "name": "ipython",
    "version": 3
   },
   "file_extension": ".py",
   "mimetype": "text/x-python",
   "name": "python",
   "nbconvert_exporter": "python",
   "pygments_lexer": "ipython3",
   "version": "3.7.3"
  }
 },
 "nbformat": 4,
 "nbformat_minor": 2
}
