{
 "cells": [
  {
   "cell_type": "code",
   "execution_count": 3,
   "metadata": {},
   "outputs": [
    {
     "data": {
      "text/plain": [
       "['LICENSE.md',\n",
       " 'convokit',\n",
       " '.DS_Store',\n",
       " 'requirements.txt',\n",
       " 'Makefile',\n",
       " 'website',\n",
       " 'datasets',\n",
       " 'tests',\n",
       " 'README.md',\n",
       " 'setup.py',\n",
       " '.gitignore',\n",
       " 'CONTRIBUTING.md',\n",
       " 'examples',\n",
       " 'doc',\n",
       " '.git']"
      ]
     },
     "execution_count": 3,
     "metadata": {},
     "output_type": "execute_result"
    }
   ],
   "source": [
    "import os\n",
    "\n",
    "os.listdir()\n",
    "os.chdir('../..')\n",
    "os.listdir()"
   ]
  },
  {
   "cell_type": "code",
   "execution_count": 4,
   "metadata": {},
   "outputs": [],
   "source": [
    "import convokit\n",
    "from convokit import Corpus, Toxicity, Sequence\n",
    "\n",
    "corpus = convokit.Corpus(filename=\"datasets/reddit_coarse_discourse-corpus/corpus\")"
   ]
  },
  {
   "cell_type": "code",
   "execution_count": 5,
   "metadata": {},
   "outputs": [
    {
     "data": {
      "text/plain": [
       "['LICENSE.md',\n",
       " 'convokit',\n",
       " '.DS_Store',\n",
       " 'requirements.txt',\n",
       " 'Makefile',\n",
       " 'website',\n",
       " 'datasets',\n",
       " 'tests',\n",
       " 'README.md',\n",
       " 'setup.py',\n",
       " '.gitignore',\n",
       " 'CONTRIBUTING.md',\n",
       " 'examples',\n",
       " 'doc',\n",
       " '.git']"
      ]
     },
     "execution_count": 5,
     "metadata": {},
     "output_type": "execute_result"
    }
   ],
   "source": [
    "os.listdir()"
   ]
  },
  {
   "cell_type": "code",
   "execution_count": 6,
   "metadata": {},
   "outputs": [
    {
     "name": "stdout",
     "output_type": "stream",
     "text": [
      "Number of Users: 63573\n",
      "Number of Utterances: 115827\n",
      "Number of Conversations: 9483\n"
     ]
    }
   ],
   "source": [
    "corpus.print_summary_stats()"
   ]
  },
  {
   "cell_type": "code",
   "execution_count": 5,
   "metadata": {
    "scrolled": false
   },
   "outputs": [
    {
     "data": {
      "application/vnd.jupyter.widget-view+json": {
       "model_id": "90698102d771482e8060be2f44b95bfa",
       "version_major": 2,
       "version_minor": 0
      },
      "text/plain": [
       "HBox(children=(IntProgress(value=1, bar_style='info', max=1), HTML(value='')))"
      ]
     },
     "metadata": {},
     "output_type": "display_data"
    },
    {
     "name": "stdout",
     "output_type": "stream",
     "text": [
      "\n"
     ]
    },
    {
     "data": {
      "text/plain": [
       "<convokit.model.corpus.Corpus at 0x10336b5c0>"
      ]
     },
     "execution_count": 5,
     "metadata": {},
     "output_type": "execute_result"
    }
   ],
   "source": [
    "tox = Toxicity()\n",
    "tox.transform(corpus)"
   ]
  },
  {
   "cell_type": "code",
   "execution_count": 12,
   "metadata": {},
   "outputs": [
    {
     "ename": "NameError",
     "evalue": "name 'toxicity_scores' is not defined",
     "output_type": "error",
     "traceback": [
      "\u001b[0;31m---------------------------------------------------------------------------\u001b[0m",
      "\u001b[0;31mNameError\u001b[0m                                 Traceback (most recent call last)",
      "\u001b[0;32m<ipython-input-12-9ee3eab44a99>\u001b[0m in \u001b[0;36m<module>\u001b[0;34m\u001b[0m\n\u001b[1;32m     13\u001b[0m \u001b[0;34m\u001b[0m\u001b[0m\n\u001b[1;32m     14\u001b[0m \u001b[0;34m\u001b[0m\u001b[0m\n\u001b[0;32m---> 15\u001b[0;31m         \u001b[0mutt_score\u001b[0m \u001b[0;34m=\u001b[0m \u001b[0mtoxicity_scores\u001b[0m\u001b[0;34m[\u001b[0m\u001b[0mutt\u001b[0m\u001b[0;34m.\u001b[0m\u001b[0mid\u001b[0m\u001b[0;34m]\u001b[0m\u001b[0;34m\u001b[0m\u001b[0;34m\u001b[0m\u001b[0m\n\u001b[0m\u001b[1;32m     16\u001b[0m \u001b[0;34m\u001b[0m\u001b[0m\n\u001b[1;32m     17\u001b[0m         \u001b[0mconvo_scores\u001b[0m\u001b[0;34m+=\u001b[0m\u001b[0mutt_score\u001b[0m\u001b[0;34m\u001b[0m\u001b[0;34m\u001b[0m\u001b[0m\n",
      "\u001b[0;31mNameError\u001b[0m: name 'toxicity_scores' is not defined"
     ]
    }
   ],
   "source": [
    "for convo in corpus.iter_conversations():\n",
    "    convo_scores = 0\n",
    "    count = 0\n",
    "\n",
    "    for utt in convo.iter_utterances():        \n",
    "        '''\n",
    "            rerunning this takes over a day for our 110k+ comments since it uses an api with limited query rate, \n",
    "            we'll load them from toxicity_dictionary.json that was pre-fetched,\n",
    "            for others using our transformer, please run self.get_toxicity over the utterances on their corpus.\n",
    "        '''\n",
    "\n",
    "        #utt_score = self._get_toxicity(utt.text)\n",
    "\n",
    "\n",
    "        utt_score = toxicity_scores[utt.id]\n",
    "        \n",
    "        convo_scores+=utt_score\n",
    "        count+=1\n",
    "\n",
    "        utt.add_meta('toxicity', utt_score)\n",
    "\n",
    "    convo.add_meta('averagetoxicity', convo_scores/count)"
   ]
  },
  {
   "cell_type": "code",
   "execution_count": 9,
   "metadata": {},
   "outputs": [
    {
     "data": {
      "text/plain": [
       "0.21341012"
      ]
     },
     "execution_count": 9,
     "metadata": {},
     "output_type": "execute_result"
    }
   ],
   "source": [
    "list(corpus.iter_utterances())[0].meta['toxicity']"
   ]
  },
  {
   "cell_type": "code",
   "execution_count": 12,
   "metadata": {
    "scrolled": true
   },
   "outputs": [
    {
     "name": "stdout",
     "output_type": "stream",
     "text": [
      "Conversation({'_owner': <convokit.model.corpus.Corpus object at 0x1050b0fd0>, '_id': 't3_1lddvq', '_utterance_ids': ['t3_1lddvq', 't1_cbye5qd', 't1_cbzrszq', 't1_cbzrvp1', 't1_cbzs1ow', 't1_cbzs2ow', 't1_cc07f3c', 't1_cc0vfqg', 't1_cc0w4ks', 't1_cc0whiu', 't1_cc0xpok'], '_usernames': None, '_meta': {'subreddit': 'showerthoughts', 'url': 'https://www.reddit.com/r/Showerthoughts/comments/1lddvq/what_if_everything_i_do_is_predetermined_and_i/', 'title': 'What if everything I do is predetermined and I have no control over it.', 'chain': ['t3_1lddvq', 't1_cbye5qd', 't1_cbzrszq']}})\n"
     ]
    }
   ],
   "source": [
    "import random\n",
    "\n",
    "#counter = 0\n",
    "for convo in corpus.iter_conversations():\n",
    "    \n",
    "    temp_chain = []\n",
    "\n",
    "    for utt in convo.iter_utterances():\n",
    "        \n",
    "        if utt.meta['post_depth'] == 2:\n",
    "            temp_chain.append(utt.id)\n",
    "    \n",
    "    if len(temp_chain) > 0:\n",
    "        \n",
    "        convo.add_meta('chain', random.choice(temp_chain))\n",
    "        \n",
    "        uttid = random.choice(temp_chain)\n",
    "        chosen_chain= []\n",
    "        chosen_chain.append(uttid)\n",
    "\n",
    "        utt = convo.get_utterance(uttid)\n",
    "        while(utt.meta['post_depth'] > 0):\n",
    "            if utt.reply_to in corpus.utterances:\n",
    "                utt = convo.get_utterance(utt.reply_to)\n",
    "                chosen_chain.append(utt.id)\n",
    "            else:\n",
    "                break\n",
    "                \n",
    "        #counter+=1\n",
    "        chosen_chain.reverse()\n",
    "        convo.add_meta('chain', chosen_chain)\n",
    "    else:\n",
    "        convo.add_meta('chain', None)\n",
    "        \n",
    "            \n",
    "print(list(corpus.iter_conversations())[2000])"
   ]
  },
  {
   "cell_type": "code",
   "execution_count": 7,
   "metadata": {},
   "outputs": [
    {
     "data": {
      "text/plain": [
       "<convokit.model.corpus.Corpus at 0x1050b0fd0>"
      ]
     },
     "execution_count": 7,
     "metadata": {},
     "output_type": "execute_result"
    }
   ],
   "source": [
    "sequence = Sequence()\n",
    "sequence.transform(corpus)"
   ]
  },
  {
   "cell_type": "code",
   "execution_count": 33,
   "metadata": {},
   "outputs": [
    {
     "name": "stdout",
     "output_type": "stream",
     "text": [
      "Utterance({'id': 't1_d2h6eld', 'user': User([('name', 'Vaperius')]), 'root': 't3_4gfgf2', 'reply_to': 't1_d2h3fzj', 'timestamp': None, 'text': \"You know a country was really trying for world domination when its harder to the pick one of the countries it hasn't had a military conflict with.\", 'meta': {'post_depth': 2, 'majority_type': 'elaboration', 'majority_link': 't1_d2h3fzj', 'annotation-types': ['elaboration', 'elaboration', 'humor'], 'annotation-links': ['t1_d2h3fzj', 't1_d2h3fzj', 't1_d2h3fzj'], 'ups': 3}})\n"
     ]
    }
   ],
   "source": [
    "print(list(corpus.iter_utterances())[2000])"
   ]
  },
  {
   "cell_type": "code",
   "execution_count": 60,
   "metadata": {},
   "outputs": [
    {
     "ename": "SyntaxError",
     "evalue": "invalid syntax (<ipython-input-60-43802d0b6348>, line 30)",
     "output_type": "error",
     "traceback": [
      "\u001b[0;36m  File \u001b[0;32m\"<ipython-input-60-43802d0b6348>\"\u001b[0;36m, line \u001b[0;32m30\u001b[0m\n\u001b[0;31m    if form\u001b[0m\n\u001b[0m           ^\u001b[0m\n\u001b[0;31mSyntaxError\u001b[0m\u001b[0;31m:\u001b[0m invalid syntax\n"
     ]
    }
   ],
   "source": [
    "#top sequences\n",
    "\n",
    "convos = corpus.iter_conversations()\n",
    "utterance_corpus = corpus.utterances\n",
    "\n",
    "sequences = []\n",
    "\n",
    "for convo in convos:\n",
    "    if convo.meta['chain']:\n",
    "        sequences.append(form_chain(convo.meta['chain']))\n",
    "\n",
    "def form_chain(convochain):\n",
    "    chain = []\n",
    "    for utt in convochain:\n",
    "        if utterance_corpus[utt].meta['majority_type']:\n",
    "            chain.append(utterance_corpus[utt].meta['majority_type'])\n",
    "        else:\n",
    "            chain.append(\"none\")\n",
    "    sequence = '-'.join(chain)\n",
    "    return sequence\n",
    "\n",
    "from collections import Counter\n",
    "sequence_types = Counter(sequences)\n",
    "sequence_types.most_common(20)\n",
    "\n",
    "#print(sequence_types['question-answer-elaboration'])\n",
    "\n",
    "for sequence in sequence_types:    \n",
    "    for convo in convos:\n",
    "        if convo.meta['chain']:\n",
    "            chain_bucket = []\n",
    "            chain_bucket_count = []\n",
    "            form_chain(convo.meta['chain'])\n",
    "                sequence_types[sequence]['toxicity'] =  \n",
    "\n"
   ]
  },
  {
   "cell_type": "code",
   "execution_count": null,
   "metadata": {},
   "outputs": [],
   "source": []
  }
 ],
 "metadata": {
  "kernelspec": {
   "display_name": "Python 3",
   "language": "python",
   "name": "python3"
  },
  "language_info": {
   "codemirror_mode": {
    "name": "ipython",
    "version": 3
   },
   "file_extension": ".py",
   "mimetype": "text/x-python",
   "name": "python",
   "nbconvert_exporter": "python",
   "pygments_lexer": "ipython3",
   "version": "3.7.3"
  }
 },
 "nbformat": 4,
 "nbformat_minor": 2
}
