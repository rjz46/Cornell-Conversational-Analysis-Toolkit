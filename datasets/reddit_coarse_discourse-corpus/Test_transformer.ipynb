{
 "cells": [
  {
   "cell_type": "code",
   "execution_count": 14,
   "metadata": {},
   "outputs": [],
   "source": [
    "import os\n",
    "import convokit\n",
    "from convokit import Corpus, Toxicity\n",
    "\n",
    "corpus = convokit.Corpus(filename=\"datasets/reddit_coarse_discourse-corpus/corpus\")\n",
    "\n",
    "\n"
   ]
  },
  {
   "cell_type": "code",
   "execution_count": 3,
   "metadata": {},
   "outputs": [
    {
     "data": {
      "text/plain": [
       "['Test_transformer.ipynb',\n",
       " 'coarse_discourse_dump_reddit_with_votes.json',\n",
       " 'Corpus_conversion.ipynb',\n",
       " '.DS_Store',\n",
       " 'tox_dictionary.py',\n",
       " 'corpus',\n",
       " '__pycache__',\n",
       " 'fetch_toxicity.ipynb',\n",
       " 'A1E_Upvote_Toxicity_Transformer.ipynb',\n",
       " '.ipynb_checkpoints',\n",
       " 'toxicity_dictionary.json',\n",
       " 'readme.rst']"
      ]
     },
     "execution_count": 3,
     "metadata": {},
     "output_type": "execute_result"
    }
   ],
   "source": [
    "import os\n",
    "os.listdir()\n",
    "\n",
    "\n",
    "\n"
   ]
  },
  {
   "cell_type": "code",
   "execution_count": 5,
   "metadata": {},
   "outputs": [],
   "source": [
    "os.chdir('../..')"
   ]
  },
  {
   "cell_type": "code",
   "execution_count": 6,
   "metadata": {},
   "outputs": [
    {
     "data": {
      "text/plain": [
       "['LICENSE.md',\n",
       " 'convokit',\n",
       " '.DS_Store',\n",
       " 'requirements.txt',\n",
       " 'Makefile',\n",
       " 'website',\n",
       " 'datasets',\n",
       " 'tests',\n",
       " 'README.md',\n",
       " 'setup.py',\n",
       " '.gitignore',\n",
       " 'CONTRIBUTING.md',\n",
       " 'examples',\n",
       " 'doc',\n",
       " '.git']"
      ]
     },
     "execution_count": 6,
     "metadata": {},
     "output_type": "execute_result"
    }
   ],
   "source": [
    "os.listdir()"
   ]
  },
  {
   "cell_type": "code",
   "execution_count": 9,
   "metadata": {},
   "outputs": [
    {
     "name": "stdout",
     "output_type": "stream",
     "text": [
      "Number of Users: 63573\n",
      "Number of Utterances: 115827\n",
      "Number of Conversations: 9483\n"
     ]
    }
   ],
   "source": [
    "corpus.print_summary_stats()"
   ]
  },
  {
   "cell_type": "code",
   "execution_count": 15,
   "metadata": {},
   "outputs": [
    {
     "data": {
      "text/plain": [
       "<convokit.model.corpus.Corpus at 0x1a265d32b0>"
      ]
     },
     "execution_count": 15,
     "metadata": {},
     "output_type": "execute_result"
    }
   ],
   "source": [
    "tox = Toxicity()\n",
    "tox.transform(corpus)"
   ]
  },
  {
   "cell_type": "code",
   "execution_count": 64,
   "metadata": {},
   "outputs": [],
   "source": [
    "for convo in corpus.iter_conversations():\n",
    "    convo_scores = 0\n",
    "    count = 0\n",
    "\n",
    "    for utt in convo.iter_utterances():        \n",
    "        '''\n",
    "            rerunning this takes over a day for our 110k+ comments since it uses an api with limited query rate, \n",
    "            we'll load them from toxicity_dictionary.json that was pre-fetched,\n",
    "            for others using our transformer, please run self.get_toxicity over the utterances on their corpus.\n",
    "        '''\n",
    "\n",
    "        #utt_score = self._get_toxicity(utt.text)\n",
    "\n",
    "\n",
    "        utt_score = toxicity_scores[utt.id]\n",
    "        \n",
    "        convo_scores+=utt_score\n",
    "        count+=1\n",
    "\n",
    "        utt.add_meta('toxicity', utt_score)\n",
    "\n",
    "    convo.add_meta('averagetoxicity', convo_scores/count)"
   ]
  },
  {
   "cell_type": "code",
   "execution_count": 39,
   "metadata": {},
   "outputs": [
    {
     "data": {
      "text/plain": [
       "0.21341012"
      ]
     },
     "execution_count": 39,
     "metadata": {},
     "output_type": "execute_result"
    }
   ],
   "source": [
    "list(corpus.iter_utterances())[0].meta['toxicity']"
   ]
  },
  {
   "cell_type": "code",
   "execution_count": null,
   "metadata": {},
   "outputs": [],
   "source": []
  }
 ],
 "metadata": {
  "kernelspec": {
   "display_name": "Python 3",
   "language": "python",
   "name": "python3"
  }
 },
 "nbformat": 4,
 "nbformat_minor": 2
}
