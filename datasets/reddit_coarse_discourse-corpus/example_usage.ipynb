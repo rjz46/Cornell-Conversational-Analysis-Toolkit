{
  "nbformat": 4,
  "nbformat_minor": 0,
  "metadata": {
    "colab": {
      "name": "A1E - Upvote Toxicity Transformer.ipynb",
      "provenance": [],
      "toc_visible": true,
      "include_colab_link": true
    },
    "kernelspec": {
      "display_name": "Python 3",
      "language": "python",
      "name": "python3"
    },
    "language_info": {
      "codemirror_mode": {
        "name": "ipython",
        "version": 3
      },
      "file_extension": ".py",
      "mimetype": "text/x-python",
      "name": "python",
      "nbconvert_exporter": "python",
      "pygments_lexer": "ipython3",
      "version": "3.7.3"
    }
  },
  "cells": [
    {
      "cell_type": "markdown",
      "metadata": {
        "id": "view-in-github",
        "colab_type": "text"
      },
      "source": [
        "<a href=\"https://colab.research.google.com/github/rjz46/Cornell-Conversational-Analysis-Toolkit/blob/master/datasets/reddit_coarse_discourse-corpus/example_usage.ipynb\" target=\"_parent\"><img src=\"https://colab.research.google.com/assets/colab-badge.svg\" alt=\"Open In Colab\"/></a>"
      ]
    },
    {
      "cell_type": "markdown",
      "metadata": {
        "colab_type": "text",
        "id": "MqTg4gvUaUs-"
      },
      "source": [
        "# Imports and setup"
      ]
    },
    {
      "cell_type": "code",
      "metadata": {
        "colab_type": "code",
        "id": "9ZEk0LbeZzDF",
        "outputId": "d6be422c-8abe-490a-8939-297258fa108a",
        "colab": {
          "base_uri": "https://localhost:8080/",
          "height": 138
        }
      },
      "source": [
        "from IPython.display import display as disp\n",
        "from zipfile import ZipFile\n",
        "import json\n",
        "import matplotlib.pyplot as plt\n",
        "import pandas as pd\n",
        "import os\n",
        "import collections\n",
        "import seaborn as sns\n",
        "\n",
        "from collections import defaultdict\n",
        "\n",
        "print(\"\"\"\\n***IGNORE ANY ERROR about 'reload_ext' - for some reason it breaks \n",
        "autoreload and it's not necessary. \\n\\n\"\"\")\n",
        "%load_ext autoreload"
      ],
      "execution_count": 0,
      "outputs": [
        {
          "output_type": "stream",
          "text": [
            "\n",
            "***IGNORE ANY ERROR about 'reload_ext' - for some reason it breaks \n",
            "autoreload and it's not necessary. \n",
            "\n",
            "\n",
            "The autoreload extension is already loaded. To reload it, use:\n",
            "  %reload_ext autoreload\n"
          ],
          "name": "stdout"
        }
      ]
    },
    {
      "cell_type": "code",
      "metadata": {
        "colab_type": "code",
        "id": "nfqlKZV_Z4Zu",
        "outputId": "e23aa17b-87ce-48c0-a017-5f48054744e5",
        "colab": {
          "base_uri": "https://localhost:8080/",
          "height": 54
        }
      },
      "source": [
        "#@title Change working dir if necessary before importing convokit\n",
        "\n",
        "# UNCOMMENT AND RUN ONCE PER KERNEL, listdir() output should include \"convokit\"\n",
        "# os.chdir('../..')\n",
        "\n",
        "print(os.listdir())"
      ],
      "execution_count": 0,
      "outputs": [
        {
          "output_type": "stream",
          "text": [
            "['LICENSE.md', 'convokit', '.DS_Store', 'requirements.txt', 'Makefile', 'website', 'datasets', 'tests', 'venv_c', 'README.md', 'setup.py', '.gitignore', 'CONTRIBUTING.md', 'examples', 'doc', '.git']\n"
          ],
          "name": "stdout"
        }
      ]
    },
    {
      "cell_type": "code",
      "metadata": {
        "colab_type": "code",
        "id": "XdxDHp8eZ3ft",
        "colab": {}
      },
      "source": [
        "import convokit\n",
        "from convokit import Toxicity"
      ],
      "execution_count": 0,
      "outputs": []
    },
    {
      "cell_type": "code",
      "metadata": {
        "id": "TmSj3Br3vP2u",
        "colab_type": "code",
        "outputId": "c020eee5-7c54-4386-d671-a8dc9a8b94a4",
        "colab": {
          "base_uri": "https://localhost:8080/",
          "height": 86
        }
      },
      "source": [
        "# Reload convokit (and any other module) after making local changes.\n",
        "print(\"\"\"\\n***If you see a StopIteration error, run this cell again.\\n\\n\"\"\")\n",
        "%autoreload"
      ],
      "execution_count": 0,
      "outputs": [
        {
          "output_type": "stream",
          "text": [
            "\n",
            "***If you see a StopIteration error, run this cell again.\n",
            "\n",
            "\n"
          ],
          "name": "stdout"
        }
      ]
    },
    {
      "cell_type": "markdown",
      "metadata": {
        "id": "cXpH8x3RxZK0",
        "colab_type": "text"
      },
      "source": [
        "# Load dataset and transform"
      ]
    },
    {
      "cell_type": "code",
      "metadata": {
        "colab_type": "code",
        "id": "5NozDlSIaQDq",
        "colab": {}
      },
      "source": [
        "reddit_corpus = convokit.Corpus(filename=\"datasets/reddit_coarse_discourse-corpus/corpus\")"
      ],
      "execution_count": 0,
      "outputs": []
    },
    {
      "cell_type": "code",
      "metadata": {
        "id": "OpJTFTtdY0iw",
        "colab_type": "code",
        "outputId": "a9dba668-6d6d-4534-828e-345f56df1f75",
        "colab": {
          "base_uri": "https://localhost:8080/",
          "height": 52
        }
      },
      "source": [
        "tox = Toxicity(toxicity_json_path=\"convokit/toxicity/data/reddit_coarse_discourse.json\")\n",
        "tox.transform(reddit_corpus)"
      ],
      "execution_count": 0,
      "outputs": [
        {
          "output_type": "display_data",
          "data": {
            "text/plain": [
              "HBox(children=(IntProgress(value=0, max=9483), HTML(value='')))"
            ],
            "application/vnd.jupyter.widget-view+json": {
              "version_major": 2,
              "version_minor": 0,
              "model_id": "742bfeb2f64e48f3a9c68dec0b5d3499"
            }
          },
          "metadata": {
            "tags": []
          }
        },
        {
          "output_type": "stream",
          "text": [
            "\n"
          ],
          "name": "stdout"
        },
        {
          "output_type": "execute_result",
          "data": {
            "text/plain": [
              "<convokit.model.corpus.Corpus at 0x7fda7060f0b8>"
            ]
          },
          "metadata": {
            "tags": []
          },
          "execution_count": 7
        }
      ]
    },
    {
      "cell_type": "markdown",
      "metadata": {
        "colab_type": "text",
        "id": "BbffMJiuaSsV"
      },
      "source": [
        "# Sequences"
      ]
    },
    {
      "cell_type": "code",
      "metadata": {
        "colab_type": "code",
        "id": "a2RiJO4Bjj2j",
        "outputId": "b0d986e6-f7f1-4183-de1c-9d59696d86dc",
        "colab": {
          "base_uri": "https://localhost:8080/",
          "height": 54
        }
      },
      "source": [
        "subreddit_counter = collections.Counter()\n",
        "convos = reddit_corpus.conversations\n",
        "\n",
        "\n",
        "for convoutt in convos: \n",
        "    #print(convos[convoutt])\n",
        "    subrd = convos[convoutt].meta[\"subreddit\"]\n",
        "    subreddit_counter.update({subrd:1})\n",
        "top_25_subreddits = dict(subreddit_counter.most_common(25))\n",
        "\n",
        "print(top_25_subreddits.keys())"
      ],
      "execution_count": 0,
      "outputs": [
        {
          "output_type": "stream",
          "text": [
            "dict_keys(['askreddit', 'leagueoflegends', 'buildapc', 'explainlikeimfive', 'trees', 'pcmasterrace', 'gaming', 'techsupport', 'electronic_cigarette', 'relationships', 'tipofmytongue', 'hearthstone', 'atheism', 'jailbreak', 'summonerschool', 'personalfinance', 'reddit.com', 'whowouldwin', 'destinythegame', 'movies', 'pokemon', 'starcraft', 'malefashionadvice', 'askscience', 'loseit'])\n"
          ],
          "name": "stdout"
        }
      ]
    },
    {
      "cell_type": "code",
      "metadata": {
        "colab_type": "code",
        "id": "L3zQQtohjj2m",
        "colab": {}
      },
      "source": [
        "top_level_posts = {}\n",
        "counter = 0\n",
        "in_top_25 = {}\n",
        "\n",
        "for x in convos:\n",
        "    if convos[x].meta[\"subreddit\"] in top_25_subreddits.keys():\n",
        "        in_top_25[x] = convos[x]"
      ],
      "execution_count": 0,
      "outputs": []
    },
    {
      "cell_type": "code",
      "metadata": {
        "colab_type": "code",
        "id": "_34eFebZjj2o",
        "outputId": "0bfbd53d-c017-4b8f-a57e-14e176559921",
        "colab": {
          "base_uri": "https://localhost:8080/",
          "height": 34
        }
      },
      "source": [
        "utts = reddit_corpus.utterances\n",
        "\n",
        "print(len(in_top_25))"
      ],
      "execution_count": 0,
      "outputs": [
        {
          "output_type": "stream",
          "text": [
            "2021\n"
          ],
          "name": "stdout"
        }
      ]
    },
    {
      "cell_type": "markdown",
      "metadata": {
        "colab_type": "text",
        "id": "JwZoe1Vjjj2q"
      },
      "source": [
        "# Upvotes"
      ]
    },
    {
      "cell_type": "code",
      "metadata": {
        "colab_type": "code",
        "id": "oMl5G7Zvjj2q",
        "outputId": "9ec893bf-4c9a-4b8f-97f2-7ae612d93021",
        "colab": {
          "base_uri": "https://localhost:8080/",
          "height": 54
        }
      },
      "source": [
        "utt_ups_tox = {}\n",
        "upsvalues = []\n",
        "toxvalues = []\n",
        "\n",
        "for x in convos:\n",
        "    if not utts[x].meta['ups'] == None:\n",
        "        utt_ups_tox[x] = [utts[x].meta['ups'], utts[x].meta['toxicity']]\n",
        "        upsvalues.append(utts[x].meta['ups'])\n",
        "        toxvalues.append(utts[x].meta['toxicity'])\n",
        "    else:\n",
        "        utt_ups_tox[x] = [0, utts[x].meta['toxicity']]\n",
        "        upsvalues.append(0)\n",
        "        toxvalues.append(utts[x].meta['toxicity'])\n",
        "\n",
        "print(list(convos.items())[10])"
      ],
      "execution_count": 0,
      "outputs": [
        {
          "output_type": "stream",
          "text": [
            "('t3_289m0u', Conversation({'_owner': <convokit.model.corpus.Corpus object at 0x7fda7060f0b8>, '_id': 't3_289m0u', '_utterance_ids': ['t3_289m0u', 't1_ci8sl95', 't1_ci8ui3k', 't1_ci8ub9d'], '_usernames': None, '_meta': {'subreddit': '2007scape', 'url': 'https://www.reddit.com/r/2007scape/comments/289m0u/i_played_2007scape_when_it_was_first_released/', 'title': \"I played 2007scape when it was first released, what's changed since then?\", 'averagetoxicity': 0.04370849525}}))\n"
          ],
          "name": "stdout"
        }
      ]
    },
    {
      "cell_type": "code",
      "metadata": {
        "colab_type": "code",
        "id": "1QoQiIMmjj2u",
        "outputId": "52c1369f-7a27-4ca3-d663-a426d3a2028c",
        "colab": {
          "base_uri": "https://localhost:8080/",
          "height": 296
        }
      },
      "source": [
        "#print(utt_ups_tox)\n",
        "from scipy.stats.stats import pearsonr\n",
        "import matplotlib.pyplot as plt\n",
        "import numpy as np\n",
        "\n",
        "bestfit = np.polyfit(toxvalues, upsvalues,1)\n",
        "bestfitline = np.poly1d(bestfit)\n",
        "\n",
        "plt.scatter(toxvalues, upsvalues)\n",
        "plt.ylim(0,550)\n",
        "plt.ylabel('Up Votes')\n",
        "plt.xlabel('Toxicity Score')\n"
      ],
      "execution_count": 0,
      "outputs": [
        {
          "output_type": "execute_result",
          "data": {
            "text/plain": [
              "Text(0.5, 0, 'Toxicity Score')"
            ]
          },
          "metadata": {
            "tags": []
          },
          "execution_count": 12
        },
        {
          "output_type": "display_data",
          "data": {
            "text/plain": [
              "<Figure size 432x288 with 1 Axes>"
            ],
            "image/png": "[encoded data removed]"
          },
          "metadata": {
            "tags": [],
            "needs_background": "light"
          }
        }
      ]
    },
    {
      "cell_type": "code",
      "metadata": {
        "colab_type": "code",
        "id": "zT9QAjXZjj2w",
        "outputId": "4a2ed348-2643-491c-d7f1-8023ad6b4692",
        "colab": {
          "base_uri": "https://localhost:8080/",
          "height": 298
        }
      },
      "source": [
        "plt.title(\"Best fit of tox vs. ups\")\n",
        "plt.plot(toxvalues, bestfitline(toxvalues))"
      ],
      "execution_count": 0,
      "outputs": [
        {
          "output_type": "execute_result",
          "data": {
            "text/plain": [
              "[<matplotlib.lines.Line2D at 0x7fda70622828>]"
            ]
          },
          "metadata": {
            "tags": []
          },
          "execution_count": 13
        },
        {
          "output_type": "display_data",
          "data": {
            "text/plain": [
              "<Figure size 432x288 with 1 Axes>"
            ],
            "image/png": "[encoded data removed]"
          },
          "metadata": {
            "tags": [],
            "needs_background": "light"
          }
        }
      ]
    },
    {
      "cell_type": "code",
      "metadata": {
        "colab_type": "code",
        "id": "HThlg-U_jj2y",
        "outputId": "4ad0cd0d-f3f1-40ca-f87e-ee5f97e28a40",
        "colab": {
          "base_uri": "https://localhost:8080/",
          "height": 34
        }
      },
      "source": [
        "print(pearsonr(toxvalues,upsvalues)[0])"
      ],
      "execution_count": 0,
      "outputs": [
        {
          "output_type": "stream",
          "text": [
            "-0.014165836438686597\n"
          ],
          "name": "stdout"
        }
      ]
    },
    {
      "cell_type": "code",
      "metadata": {
        "colab_type": "code",
        "id": "CbkrJlh3jj2z",
        "outputId": "38e3fca2-9264-4f0d-d814-4eaa18232006",
        "colab": {
          "base_uri": "https://localhost:8080/",
          "height": 450
        }
      },
      "source": [
        "upstox_25 = {}\n",
        "ups_25 = defaultdict(list)\n",
        "tox_25 = defaultdict(list)\n",
        "\n",
        "for x in in_top_25:\n",
        "    if not utts[x].meta['ups'] == None:\n",
        "        upstox_25[x +\".\" + convos[x].meta[\"subreddit\"]] = [utts[x].meta['ups'], utts[x].meta['toxicity']]\n",
        "        ups_25[convos[x].meta[\"subreddit\"]].append(utts[x].meta['ups'])\n",
        "        tox_25[convos[x].meta[\"subreddit\"]].append(utts[x].meta['toxicity'])\n",
        "    else:\n",
        "        upstox_25[x +\".\" + convos[x].meta[\"subreddit\"]] = [0, utts[x].meta['toxicity']]\n",
        "        ups_25[convos[x].meta[\"subreddit\"]].append(0)\n",
        "        tox_25[convos[x].meta[\"subreddit\"]].append(utts[x].meta['toxicity'])\n",
        "corr_25 = {}\n",
        "\n",
        "for x in ups_25:\n",
        "    corr_25[x] = pearsonr(tox_25[x],ups_25[x])[0]\n",
        "   \n",
        "sorted_corr = sorted(corr_25.items(), key=lambda kv: kv[1])\n",
        "for x in sorted_corr:\n",
        "    print(x)"
      ],
      "execution_count": 0,
      "outputs": [
        {
          "output_type": "stream",
          "text": [
            "('starcraft', -0.27384032357600807)\n",
            "('atheism', -0.22348513909807635)\n",
            "('explainlikeimfive', -0.13939416840791383)\n",
            "('askscience', -0.10956977150863109)\n",
            "('trees', -0.09727628835606086)\n",
            "('hearthstone', -0.0970309933426117)\n",
            "('tipofmytongue', -0.09066037183271945)\n",
            "('buildapc', -0.07521749787184404)\n",
            "('leagueoflegends', -0.06775391921410352)\n",
            "('jailbreak', -0.06285257687786554)\n",
            "('gaming', -0.041727481525480344)\n",
            "('askreddit', -0.02767994907134295)\n",
            "('electronic_cigarette', -0.02331297129980621)\n",
            "('whowouldwin', 0.00402234714291879)\n",
            "('pcmasterrace', 0.00446416832200411)\n",
            "('personalfinance', 0.007126925299185703)\n",
            "('malefashionadvice', 0.04441819503811307)\n",
            "('loseit', 0.06596538002773104)\n",
            "('summonerschool', 0.10341093480314038)\n",
            "('pokemon', 0.11008570857269556)\n",
            "('relationships', 0.1204720997965011)\n",
            "('destinythegame', 0.12438564649784901)\n",
            "('reddit.com', 0.13082806745092074)\n",
            "('movies', 0.13592512094621084)\n",
            "('techsupport', 0.14165529303857546)\n"
          ],
          "name": "stdout"
        }
      ]
    },
    {
      "cell_type": "markdown",
      "metadata": {
        "id": "0BvJR15DY7_H",
        "colab_type": "text"
      },
      "source": [
        "# E3: Run on another dataset"
      ]
    },
    {
      "cell_type": "markdown",
      "metadata": {
        "id": "3DyMc5qQ186S",
        "colab_type": "text"
      },
      "source": [
        "## IQ2"
      ]
    },
    {
      "cell_type": "code",
      "metadata": {
        "id": "_-kioOcV1vMl",
        "colab_type": "code",
        "colab": {}
      },
      "source": [
        "iq2_corpus = convokit.Corpus(filename=\"datasets/iq2_corpus\")\n"
      ],
      "execution_count": 0,
      "outputs": []
    },
    {
      "cell_type": "markdown",
      "metadata": {
        "colab_type": "text",
        "id": "BPp74ueN2OrE"
      },
      "source": [
        "### Transform"
      ]
    },
    {
      "cell_type": "code",
      "metadata": {
        "colab_type": "code",
        "outputId": "37011d35-1674-4a97-acd1-8a2753dc91c3",
        "id": "T0SPmTLX2OrM",
        "cellView": "both",
        "colab": {
          "base_uri": "https://localhost:8080/",
          "height": 52
        }
      },
      "source": [
        "#@title (Maybe) Sample corpus\n",
        "utts = iq2_corpus.utterances\n",
        "num_convos = None #@param\n",
        "print(len(utts))\n",
        "\n",
        "sampled_utts = []\n",
        "convo_sample_ids = iq2_corpus.get_conversation_ids()\n",
        "if num_convos:\n",
        "  convo_sample_ids = convo_sample_ids[:num_convos]\n",
        "for idx in convo_sample_ids:\n",
        "  convo = iq2_corpus.get_conversation(idx)\n",
        "  for utt_id in convo.get_utterance_ids():\n",
        "    sampled_utts.append(convo.get_utterance(utt_id))\n",
        "small_iq2_corpus = convokit.Corpus(utterances=sampled_utts)\n",
        "for idx in convo_sample_ids:\n",
        "  small_iq2_corpus.get_conversation(idx).meta = iq2_corpus.get_conversation(idx).meta\n",
        "print(\"Sampled corpus with {} convos and {} utterances\".format(len(small_iq2_corpus.get_conversation_ids()), len(small_iq2_corpus.get_utterance_ids())))"
      ],
      "execution_count": 0,
      "outputs": [
        {
          "output_type": "stream",
          "text": [
            "26562\n",
            "Sampled corpus with 108 convos and 26562 utterances\n"
          ],
          "name": "stdout"
        }
      ]
    },
    {
      "cell_type": "code",
      "metadata": {
        "id": "sF05ywq13vJB",
        "colab_type": "code",
        "colab": {}
      },
      "source": [
        "%autoreload"
      ],
      "execution_count": 0,
      "outputs": []
    },
    {
      "cell_type": "code",
      "metadata": {
        "id": "5z5qYw3q3PR5",
        "colab_type": "code",
        "outputId": "5fa69270-0d85-44d9-86fe-d8d8ce6d05e0",
        "colab": {
          "base_uri": "https://localhost:8080/",
          "height": 34
        }
      },
      "source": [
        "#@title Transform\n",
        "reload_from_api = False\n",
        "if reload_from_api:\n",
        "  tox_small_iq2 = convokit.Toxicity(api_key=\"Not currently used - is hardcoded\", toxicity_path_to_save=\"convokit/toxicity/data/iq2_corpus.json\")\n",
        "else:\n",
        "  tox_small_iq2 = convokit.Toxicity(toxicity_json_path=\"convokit/toxicity/data/iq2_corpus.json\")\n",
        "\n",
        "small_iq2_corpus = tox_small_iq2.transform(small_iq2_corpus)"
      ],
      "execution_count": 0,
      "outputs": [
        {
          "output_type": "display_data",
          "data": {
            "text/plain": [
              "HBox(children=(IntProgress(value=0, max=108), HTML(value='')))"
            ],
            "application/vnd.jupyter.widget-view+json": {
              "version_major": 2,
              "version_minor": 0,
              "model_id": "2f9791ad815a423cbc7dac2c8632be10"
            }
          },
          "metadata": {
            "tags": []
          }
        },
        {
          "output_type": "stream",
          "text": [
            "\n"
          ],
          "name": "stdout"
        }
      ]
    },
    {
      "cell_type": "markdown",
      "metadata": {
        "colab_type": "text",
        "id": "1wiYGMqn2OrO"
      },
      "source": [
        "### Toxicity vs audience votes"
      ]
    },
    {
      "cell_type": "code",
      "metadata": {
        "colab_type": "code",
        "outputId": "7d099a47-cb8f-4d96-f83e-8bea92be8493",
        "id": "8U0RV32t2OrO",
        "colab": {
          "base_uri": "https://localhost:8080/",
          "height": 314
        }
      },
      "source": [
        "convos_dict = {}\n",
        "for convo_id in small_iq2_corpus.get_conversation_ids():\n",
        "  convo = small_iq2_corpus.get_conversation(convo_id)\n",
        "\n",
        "  results = convo.meta['results']\n",
        "\n",
        "  pre_und = results['pre']['undecided']\n",
        "  post_und = results['post']['undecided']\n",
        "  row = collections.OrderedDict((\n",
        "  ('pre_und', pre_und),\n",
        "  ('post_und', pre_und),\n",
        "  ('pct_became_decided', pre_und - post_und), #  = (100-post_und) - (100-pre_und)\n",
        "  ))\n",
        "  row['tox'] = convo.meta['averagetoxicity']\n",
        "  if results['breakdown']:\n",
        "    breakdown = results['breakdown']\n",
        "    row['changed_mind'] = breakdown['for_against'] + breakdown['against_for']\n",
        "    row['doubled_down'] = breakdown['for_for'] + breakdown['against_against']\n",
        "    row['decided'] = breakdown['undecided_for'] + breakdown['undecided_against']\n",
        "    row['became_undecided'] = breakdown['for_undecided'] + breakdown['against_undecided']\n",
        "    row['stayed_undecided'] = breakdown['undecided_undecided']\n",
        "    row.update(breakdown)\n",
        "\n",
        "  # results = \n",
        "\n",
        "  # row.update(convo.meta['results'])\n",
        "  convos_dict[convo_id] = row\n",
        "\n",
        "df = pd.DataFrame.from_dict(convos_dict, orient='index')\n",
        "df.describe()"
      ],
      "execution_count": 0,
      "outputs": [
        {
          "output_type": "execute_result",
          "data": {
            "text/plain": [
              "          pre_und    post_und  pct_became_decided         tox  changed_mind  \\\n",
              "count  108.000000  108.000000          108.000000  108.000000     43.000000   \n",
              "mean    30.148148   30.148148           21.814815    0.126488     13.813953   \n",
              "std      8.160556    8.160556            7.933306    0.024909      4.762231   \n",
              "min      8.000000    8.000000            1.000000    0.082597      5.000000   \n",
              "25%     24.000000   24.000000           16.000000    0.105047     11.000000   \n",
              "50%     31.000000   31.000000           21.000000    0.121065     13.000000   \n",
              "75%     35.000000   35.000000           27.250000    0.143364     16.000000   \n",
              "max     48.000000   48.000000           42.000000    0.186613     29.000000   \n",
              "\n",
              "       doubled_down    decided  became_undecided  stayed_undecided  \\\n",
              "count     43.000000  43.000000         43.000000         43.000000   \n",
              "mean      49.581395  27.837209          4.139535          4.813953   \n",
              "std        8.561354   7.428806          1.995010          1.918032   \n",
              "min       36.000000  16.000000          1.000000          1.000000   \n",
              "25%       43.500000  21.000000          2.000000          3.500000   \n",
              "50%       49.000000  27.000000          4.000000          5.000000   \n",
              "75%       54.000000  34.000000          5.500000          6.000000   \n",
              "max       70.000000  42.000000          9.000000          9.000000   \n",
              "\n",
              "       against_for  undecided_for  for_against    for_for  undecided_against  \\\n",
              "count    43.000000      43.000000    43.000000  43.000000          43.000000   \n",
              "mean      6.616279      14.372093     7.197674  25.790698          13.465116   \n",
              "std       3.791967       5.964272     4.139156  11.903497           5.539249   \n",
              "min       0.000000       3.000000     2.000000   9.000000           5.000000   \n",
              "25%       4.000000      11.000000     4.750000  17.000000           9.500000   \n",
              "50%       6.000000      14.000000     6.000000  22.000000          13.000000   \n",
              "75%       9.000000      18.000000     9.000000  35.000000          17.000000   \n",
              "max      20.000000      26.000000    20.000000  58.000000          26.000000   \n",
              "\n",
              "       for_undecided  undecided_undecided  against_undecided  against_against  \n",
              "count      43.000000            43.000000          43.000000        43.000000  \n",
              "mean        2.395349             4.813953           1.744186        23.790698  \n",
              "std         2.037033             1.918032           1.329035        12.565179  \n",
              "min         0.000000             1.000000           0.000000         6.000000  \n",
              "25%         1.000000             3.500000           1.000000        14.000000  \n",
              "50%         2.000000             5.000000           2.000000        21.000000  \n",
              "75%         4.000000             6.000000           2.000000        31.500000  \n",
              "max         9.000000             9.000000           6.000000        53.000000  "
            ],
            "text/html": [
              "<div>\n",
              "<style scoped>\n",
              "    .dataframe tbody tr th:only-of-type {\n",
              "        vertical-align: middle;\n",
              "    }\n",
              "\n",
              "    .dataframe tbody tr th {\n",
              "        vertical-align: top;\n",
              "    }\n",
              "\n",
              "    .dataframe thead th {\n",
              "        text-align: right;\n",
              "    }\n",
              "</style>\n",
              "<table border=\"1\" class=\"dataframe\">\n",
              "  <thead>\n",
              "    <tr style=\"text-align: right;\">\n",
              "      <th></th>\n",
              "      <th>pre_und</th>\n",
              "      <th>post_und</th>\n",
              "      <th>pct_became_decided</th>\n",
              "      <th>tox</th>\n",
              "      <th>changed_mind</th>\n",
              "      <th>doubled_down</th>\n",
              "      <th>decided</th>\n",
              "      <th>became_undecided</th>\n",
              "      <th>stayed_undecided</th>\n",
              "      <th>against_for</th>\n",
              "      <th>undecided_for</th>\n",
              "      <th>for_against</th>\n",
              "      <th>for_for</th>\n",
              "      <th>undecided_against</th>\n",
              "      <th>for_undecided</th>\n",
              "      <th>undecided_undecided</th>\n",
              "      <th>against_undecided</th>\n",
              "      <th>against_against</th>\n",
              "    </tr>\n",
              "  </thead>\n",
              "  <tbody>\n",
              "    <tr>\n",
              "      <td>count</td>\n",
              "      <td>108.000000</td>\n",
              "      <td>108.000000</td>\n",
              "      <td>108.000000</td>\n",
              "      <td>108.000000</td>\n",
              "      <td>43.000000</td>\n",
              "      <td>43.000000</td>\n",
              "      <td>43.000000</td>\n",
              "      <td>43.000000</td>\n",
              "      <td>43.000000</td>\n",
              "      <td>43.000000</td>\n",
              "      <td>43.000000</td>\n",
              "      <td>43.000000</td>\n",
              "      <td>43.000000</td>\n",
              "      <td>43.000000</td>\n",
              "      <td>43.000000</td>\n",
              "      <td>43.000000</td>\n",
              "      <td>43.000000</td>\n",
              "      <td>43.000000</td>\n",
              "    </tr>\n",
              "    <tr>\n",
              "      <td>mean</td>\n",
              "      <td>30.148148</td>\n",
              "      <td>30.148148</td>\n",
              "      <td>21.814815</td>\n",
              "      <td>0.126488</td>\n",
              "      <td>13.813953</td>\n",
              "      <td>49.581395</td>\n",
              "      <td>27.837209</td>\n",
              "      <td>4.139535</td>\n",
              "      <td>4.813953</td>\n",
              "      <td>6.616279</td>\n",
              "      <td>14.372093</td>\n",
              "      <td>7.197674</td>\n",
              "      <td>25.790698</td>\n",
              "      <td>13.465116</td>\n",
              "      <td>2.395349</td>\n",
              "      <td>4.813953</td>\n",
              "      <td>1.744186</td>\n",
              "      <td>23.790698</td>\n",
              "    </tr>\n",
              "    <tr>\n",
              "      <td>std</td>\n",
              "      <td>8.160556</td>\n",
              "      <td>8.160556</td>\n",
              "      <td>7.933306</td>\n",
              "      <td>0.024909</td>\n",
              "      <td>4.762231</td>\n",
              "      <td>8.561354</td>\n",
              "      <td>7.428806</td>\n",
              "      <td>1.995010</td>\n",
              "      <td>1.918032</td>\n",
              "      <td>3.791967</td>\n",
              "      <td>5.964272</td>\n",
              "      <td>4.139156</td>\n",
              "      <td>11.903497</td>\n",
              "      <td>5.539249</td>\n",
              "      <td>2.037033</td>\n",
              "      <td>1.918032</td>\n",
              "      <td>1.329035</td>\n",
              "      <td>12.565179</td>\n",
              "    </tr>\n",
              "    <tr>\n",
              "      <td>min</td>\n",
              "      <td>8.000000</td>\n",
              "      <td>8.000000</td>\n",
              "      <td>1.000000</td>\n",
              "      <td>0.082597</td>\n",
              "      <td>5.000000</td>\n",
              "      <td>36.000000</td>\n",
              "      <td>16.000000</td>\n",
              "      <td>1.000000</td>\n",
              "      <td>1.000000</td>\n",
              "      <td>0.000000</td>\n",
              "      <td>3.000000</td>\n",
              "      <td>2.000000</td>\n",
              "      <td>9.000000</td>\n",
              "      <td>5.000000</td>\n",
              "      <td>0.000000</td>\n",
              "      <td>1.000000</td>\n",
              "      <td>0.000000</td>\n",
              "      <td>6.000000</td>\n",
              "    </tr>\n",
              "    <tr>\n",
              "      <td>25%</td>\n",
              "      <td>24.000000</td>\n",
              "      <td>24.000000</td>\n",
              "      <td>16.000000</td>\n",
              "      <td>0.105047</td>\n",
              "      <td>11.000000</td>\n",
              "      <td>43.500000</td>\n",
              "      <td>21.000000</td>\n",
              "      <td>2.000000</td>\n",
              "      <td>3.500000</td>\n",
              "      <td>4.000000</td>\n",
              "      <td>11.000000</td>\n",
              "      <td>4.750000</td>\n",
              "      <td>17.000000</td>\n",
              "      <td>9.500000</td>\n",
              "      <td>1.000000</td>\n",
              "      <td>3.500000</td>\n",
              "      <td>1.000000</td>\n",
              "      <td>14.000000</td>\n",
              "    </tr>\n",
              "    <tr>\n",
              "      <td>50%</td>\n",
              "      <td>31.000000</td>\n",
              "      <td>31.000000</td>\n",
              "      <td>21.000000</td>\n",
              "      <td>0.121065</td>\n",
              "      <td>13.000000</td>\n",
              "      <td>49.000000</td>\n",
              "      <td>27.000000</td>\n",
              "      <td>4.000000</td>\n",
              "      <td>5.000000</td>\n",
              "      <td>6.000000</td>\n",
              "      <td>14.000000</td>\n",
              "      <td>6.000000</td>\n",
              "      <td>22.000000</td>\n",
              "      <td>13.000000</td>\n",
              "      <td>2.000000</td>\n",
              "      <td>5.000000</td>\n",
              "      <td>2.000000</td>\n",
              "      <td>21.000000</td>\n",
              "    </tr>\n",
              "    <tr>\n",
              "      <td>75%</td>\n",
              "      <td>35.000000</td>\n",
              "      <td>35.000000</td>\n",
              "      <td>27.250000</td>\n",
              "      <td>0.143364</td>\n",
              "      <td>16.000000</td>\n",
              "      <td>54.000000</td>\n",
              "      <td>34.000000</td>\n",
              "      <td>5.500000</td>\n",
              "      <td>6.000000</td>\n",
              "      <td>9.000000</td>\n",
              "      <td>18.000000</td>\n",
              "      <td>9.000000</td>\n",
              "      <td>35.000000</td>\n",
              "      <td>17.000000</td>\n",
              "      <td>4.000000</td>\n",
              "      <td>6.000000</td>\n",
              "      <td>2.000000</td>\n",
              "      <td>31.500000</td>\n",
              "    </tr>\n",
              "    <tr>\n",
              "      <td>max</td>\n",
              "      <td>48.000000</td>\n",
              "      <td>48.000000</td>\n",
              "      <td>42.000000</td>\n",
              "      <td>0.186613</td>\n",
              "      <td>29.000000</td>\n",
              "      <td>70.000000</td>\n",
              "      <td>42.000000</td>\n",
              "      <td>9.000000</td>\n",
              "      <td>9.000000</td>\n",
              "      <td>20.000000</td>\n",
              "      <td>26.000000</td>\n",
              "      <td>20.000000</td>\n",
              "      <td>58.000000</td>\n",
              "      <td>26.000000</td>\n",
              "      <td>9.000000</td>\n",
              "      <td>9.000000</td>\n",
              "      <td>6.000000</td>\n",
              "      <td>53.000000</td>\n",
              "    </tr>\n",
              "  </tbody>\n",
              "</table>\n",
              "</div>"
            ]
          },
          "metadata": {
            "tags": []
          },
          "execution_count": 36
        }
      ]
    },
    {
      "cell_type": "code",
      "metadata": {
        "id": "KsObetgtdBxw",
        "colab_type": "code",
        "outputId": "90ae791a-77a8-484b-98c6-00627812be06",
        "colab": {
          "base_uri": "https://localhost:8080/",
          "height": 1000
        }
      },
      "source": [
        "#@title Plot each vote combo\n",
        "votes = ['for', 'against', 'undecided']\n",
        "breakdowns = []\n",
        "for i, start in enumerate(votes):\n",
        "  for j, end in enumerate(votes):\n",
        "    breakdowns.append(\"{}_{}\".format(start, end))\n",
        "\n",
        "b_df = df[~df.against_for.isna()]\n",
        "breakdown_df = b_df.melt(id_vars=b_df.columns[~b_df.columns.isin(breakdowns)], value_vars = breakdowns)\n",
        "sns.lmplot(x='tox', y='value', col='variable', col_wrap=3, data=breakdown_df)"
      ],
      "execution_count": 0,
      "outputs": [
        {
          "output_type": "execute_result",
          "data": {
            "text/plain": [
              "<seaborn.axisgrid.FacetGrid at 0x7fe641138be0>"
            ]
          },
          "metadata": {
            "tags": []
          },
          "execution_count": 22
        },
        {
          "output_type": "display_data",
          "data": {
            "text/plain": [
              "<Figure size 1080x1080 with 9 Axes>"
            ],
            "image/png": "[encoded data removed]"
          },
          "metadata": {
            "tags": [],
            "needs_background": "light"
          }
        }
      ]
    },
    {
      "cell_type": "code",
      "metadata": {
        "id": "wWcq2426dISJ",
        "colab_type": "code",
        "outputId": "8a9a6847-f43b-4dfb-a5e9-5b29262d117a",
        "colab": {
          "base_uri": "https://localhost:8080/",
          "height": 674
        }
      },
      "source": [
        "#@title Plot vote change categories\n",
        "\n",
        "changes = ['changed_mind', 'doubled_down', 'decided', 'became_undecided', 'stayed_undecided']\n",
        "\n",
        "changes_df = b_df.melt(id_vars=b_df.columns[~b_df.columns.isin(changes)], value_vars = changes)\n",
        "sns.lmplot(x='tox', y='value', col='variable', col_wrap=2, data=changes_df, height=3)#, ax=ax)"
      ],
      "execution_count": 0,
      "outputs": [
        {
          "output_type": "execute_result",
          "data": {
            "text/plain": [
              "<seaborn.axisgrid.FacetGrid at 0x7fe631d7c3c8>"
            ]
          },
          "metadata": {
            "tags": []
          },
          "execution_count": 43
        },
        {
          "output_type": "display_data",
          "data": {
            "text/plain": [
              "<Figure size 432x648 with 5 Axes>"
            ],
            "image/png": "[encoded data removed]"
          },
          "metadata": {
            "tags": [],
            "needs_background": "light"
          }
        }
      ]
    },
    {
      "cell_type": "code",
      "metadata": {
        "colab_type": "code",
        "outputId": "121043ea-c2b8-44be-bdc7-8a910c43e14a",
        "id": "DKonEfyLfWUd",
        "colab": {
          "base_uri": "https://localhost:8080/",
          "height": 402
        }
      },
      "source": [
        "#@title Plot undecided delta\n",
        "sns.lmplot(x='tox', y='pct_became_decided', data=df)\n",
        "plt.title(\"Absolute delta of audience undecided before vs. after\")\n",
        "# df.plot(x='tox', y='delta_abs', kind='scatter')"
      ],
      "execution_count": 0,
      "outputs": [
        {
          "output_type": "execute_result",
          "data": {
            "text/plain": [
              "Text(0.5, 1, 'Absolute delta of audience undecided before vs. after')"
            ]
          },
          "metadata": {
            "tags": []
          },
          "execution_count": 38
        },
        {
          "output_type": "display_data",
          "data": {
            "text/plain": [
              "<Figure size 360x360 with 1 Axes>"
            ],
            "image/png": "[encoded data removed]"
          },
          "metadata": {
            "tags": [],
            "needs_background": "light"
          }
        }
      ]
    }
  ]
}