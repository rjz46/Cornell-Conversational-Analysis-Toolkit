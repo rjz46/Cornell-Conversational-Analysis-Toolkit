{
  "nbformat": 4,
  "nbformat_minor": 0,
  "metadata": {
    "colab": {
      "name": "A1E - Upvote Toxicity Transformer.ipynb",
      "provenance": [],
      "include_colab_link": true
    },
    "kernelspec": {
      "display_name": "Python 3",
      "language": "python",
      "name": "python3"
    },
    "language_info": {
      "codemirror_mode": {
        "name": "ipython",
        "version": 3
      },
      "file_extension": ".py",
      "mimetype": "text/x-python",
      "name": "python",
      "nbconvert_exporter": "python",
      "pygments_lexer": "ipython3",
      "version": "3.7.3"
    }
  },
  "cells": [
    {
      "cell_type": "markdown",
      "metadata": {
        "id": "view-in-github",
        "colab_type": "text"
      },
      "source": [
        "<a href=\"https://colab.research.google.com/github/rjz46/Cornell-Conversational-Analysis-Toolkit/blob/master/datasets/reddit_coarse_discourse-corpus/A1E_Upvote_Toxicity_Transformer.ipynb\" target=\"_parent\"><img src=\"https://colab.research.google.com/assets/colab-badge.svg\" alt=\"Open In Colab\"/></a>"
      ]
    },
    {
      "cell_type": "markdown",
      "metadata": {
        "colab_type": "text",
        "id": "MqTg4gvUaUs-"
      },
      "source": [
        "# Imports and setup"
      ]
    },
    {
      "cell_type": "code",
      "metadata": {
        "colab_type": "code",
        "id": "9ZEk0LbeZzDF",
        "outputId": "5492cd74-29c3-4393-f772-86bf2452c47c",
        "colab": {
          "base_uri": "https://localhost:8080/",
          "height": 104
        }
      },
      "source": [
        "from IPython.display import display as disp\n",
        "from zipfile import ZipFile\n",
        "import json\n",
        "import matplotlib.pyplot as plt\n",
        "import pandas as pd\n",
        "import os\n",
        "import collections\n",
        "\n",
        "from collections import defaultdict\n",
        "\n",
        "print(\"\"\"\\n***IGNORE ANY ERROR about 'reload_ext' - for some reason it breaks \n",
        "autoreload and it's not necessary. \\n\\n\"\"\")\n",
        "%load_ext autoreload"
      ],
      "execution_count": 1,
      "outputs": [
        {
          "output_type": "stream",
          "text": [
            "\n",
            "***IGNORE ANY ERROR about 'reload_ext' - for some reason it breaks \n",
            "autoreload and it's not necessary. \n",
            "\n",
            "\n"
          ],
          "name": "stdout"
        }
      ]
    },
    {
      "cell_type": "code",
      "metadata": {
        "colab_type": "code",
        "id": "nfqlKZV_Z4Zu",
        "outputId": "aff0fdc6-77ce-4c4f-ed0d-6d797957b2e5",
        "colab": {
          "base_uri": "https://localhost:8080/",
          "height": 54
        }
      },
      "source": [
        "#@title Change working dir if necessary before importing convokit\n",
        "\n",
        "# UNCOMMENT AND RUN ONCE PER KERNEL, listdir() output should include \"convokit\"\n",
        "# os.chdir('../..')\n",
        "\n",
        "print(os.listdir())"
      ],
      "execution_count": 2,
      "outputs": [
        {
          "output_type": "stream",
          "text": [
            "['LICENSE.md', 'convokit', 'requirements.txt', 'Makefile', 'website', 'datasets', 'tests', 'venv_c', 'README.md', 'setup.py', '.gitignore', 'CONTRIBUTING.md', 'examples', 'doc', '.git']\n"
          ],
          "name": "stdout"
        }
      ]
    },
    {
      "cell_type": "code",
      "metadata": {
        "colab_type": "code",
        "id": "XdxDHp8eZ3ft",
        "colab": {}
      },
      "source": [
        "import convokit\n",
        "from convokit import Toxicity"
      ],
      "execution_count": 0,
      "outputs": []
    },
    {
      "cell_type": "code",
      "metadata": {
        "id": "TmSj3Br3vP2u",
        "colab_type": "code",
        "outputId": "4043beff-1aa3-4b9f-b2ac-57ec2424a070",
        "colab": {
          "base_uri": "https://localhost:8080/",
          "height": 86
        }
      },
      "source": [
        "# Reload convokit (and any other module) after making local changes.\n",
        "print(\"\"\"\\n***If you see a StopIteration error, run this cell again.\\n\\n\"\"\")\n",
        "%autoreload"
      ],
      "execution_count": 5,
      "outputs": [
        {
          "output_type": "stream",
          "text": [
            "\n",
            "***If you see a StopIteration error, run this cell again.\n",
            "\n",
            "\n"
          ],
          "name": "stdout"
        }
      ]
    },
    {
      "cell_type": "markdown",
      "metadata": {
        "id": "cXpH8x3RxZK0",
        "colab_type": "text"
      },
      "source": [
        "# Load dataset and transform"
      ]
    },
    {
      "cell_type": "code",
      "metadata": {
        "colab_type": "code",
        "id": "5NozDlSIaQDq",
        "colab": {}
      },
      "source": [
        "reddit_corpus = convokit.Corpus(filename=\"datasets/reddit_coarse_discourse-corpus/corpus\")"
      ],
      "execution_count": 0,
      "outputs": []
    },
    {
      "cell_type": "code",
      "metadata": {
        "id": "OpJTFTtdY0iw",
        "colab_type": "code",
        "outputId": "a9dba668-6d6d-4534-828e-345f56df1f75",
        "colab": {
          "base_uri": "https://localhost:8080/",
          "height": 52
        }
      },
      "source": [
        "tox = Toxicity(toxicity_json_path=\"convokit/toxicity/data/reddit_coarse_discourse.json\")\n",
        "tox.transform(reddit_corpus)"
      ],
      "execution_count": 7,
      "outputs": [
        {
          "output_type": "display_data",
          "data": {
            "text/plain": [
              "HBox(children=(IntProgress(value=0, max=9483), HTML(value='')))"
            ],
            "application/vnd.jupyter.widget-view+json": {
              "version_major": 2,
              "version_minor": 0,
              "model_id": "742bfeb2f64e48f3a9c68dec0b5d3499"
            }
          },
          "metadata": {
            "tags": []
          }
        },
        {
          "output_type": "stream",
          "text": [
            "\n"
          ],
          "name": "stdout"
        },
        {
          "output_type": "execute_result",
          "data": {
            "text/plain": [
              "<convokit.model.corpus.Corpus at 0x7fda7060f0b8>"
            ]
          },
          "metadata": {
            "tags": []
          },
          "execution_count": 7
        }
      ]
    },
    {
      "cell_type": "markdown",
      "metadata": {
        "colab_type": "text",
        "id": "BbffMJiuaSsV"
      },
      "source": [
        "# Sequences"
      ]
    },
    {
      "cell_type": "code",
      "metadata": {
        "colab_type": "code",
        "id": "a2RiJO4Bjj2j",
        "outputId": "b0d986e6-f7f1-4183-de1c-9d59696d86dc",
        "colab": {
          "base_uri": "https://localhost:8080/",
          "height": 54
        }
      },
      "source": [
        "subreddit_counter = collections.Counter()\n",
        "convos = reddit_corpus.conversations\n",
        "\n",
        "\n",
        "for convoutt in convos: \n",
        "    #print(convos[convoutt])\n",
        "    subrd = convos[convoutt].meta[\"subreddit\"]\n",
        "    subreddit_counter.update({subrd:1})\n",
        "top_25_subreddits = dict(subreddit_counter.most_common(25))\n",
        "\n",
        "print(top_25_subreddits.keys())"
      ],
      "execution_count": 8,
      "outputs": [
        {
          "output_type": "stream",
          "text": [
            "dict_keys(['askreddit', 'leagueoflegends', 'buildapc', 'explainlikeimfive', 'trees', 'pcmasterrace', 'gaming', 'techsupport', 'electronic_cigarette', 'relationships', 'tipofmytongue', 'hearthstone', 'atheism', 'jailbreak', 'summonerschool', 'personalfinance', 'reddit.com', 'whowouldwin', 'destinythegame', 'movies', 'pokemon', 'starcraft', 'malefashionadvice', 'askscience', 'loseit'])\n"
          ],
          "name": "stdout"
        }
      ]
    },
    {
      "cell_type": "code",
      "metadata": {
        "colab_type": "code",
        "id": "L3zQQtohjj2m",
        "colab": {}
      },
      "source": [
        "top_level_posts = {}\n",
        "counter = 0\n",
        "in_top_25 = {}\n",
        "\n",
        "for x in convos:\n",
        "    if convos[x].meta[\"subreddit\"] in top_25_subreddits.keys():\n",
        "        in_top_25[x] = convos[x]"
      ],
      "execution_count": 0,
      "outputs": []
    },
    {
      "cell_type": "code",
      "metadata": {
        "colab_type": "code",
        "id": "_34eFebZjj2o",
        "outputId": "0bfbd53d-c017-4b8f-a57e-14e176559921",
        "colab": {
          "base_uri": "https://localhost:8080/",
          "height": 34
        }
      },
      "source": [
        "utts = reddit_corpus.utterances\n",
        "\n",
        "print(len(in_top_25))"
      ],
      "execution_count": 10,
      "outputs": [
        {
          "output_type": "stream",
          "text": [
            "2021\n"
          ],
          "name": "stdout"
        }
      ]
    },
    {
      "cell_type": "markdown",
      "metadata": {
        "colab_type": "text",
        "id": "JwZoe1Vjjj2q"
      },
      "source": [
        "# Upvotes"
      ]
    },
    {
      "cell_type": "code",
      "metadata": {
        "colab_type": "code",
        "id": "oMl5G7Zvjj2q",
        "outputId": "9ec893bf-4c9a-4b8f-97f2-7ae612d93021",
        "colab": {
          "base_uri": "https://localhost:8080/",
          "height": 54
        }
      },
      "source": [
        "utt_ups_tox = {}\n",
        "upsvalues = []\n",
        "toxvalues = []\n",
        "\n",
        "for x in convos:\n",
        "    if not utts[x].meta['ups'] == None:\n",
        "        utt_ups_tox[x] = [utts[x].meta['ups'], utts[x].meta['toxicity']]\n",
        "        upsvalues.append(utts[x].meta['ups'])\n",
        "        toxvalues.append(utts[x].meta['toxicity'])\n",
        "    else:\n",
        "        utt_ups_tox[x] = [0, utts[x].meta['toxicity']]\n",
        "        upsvalues.append(0)\n",
        "        toxvalues.append(utts[x].meta['toxicity'])\n",
        "\n",
        "print(list(convos.items())[10])"
      ],
      "execution_count": 11,
      "outputs": [
        {
          "output_type": "stream",
          "text": [
            "('t3_289m0u', Conversation({'_owner': <convokit.model.corpus.Corpus object at 0x7fda7060f0b8>, '_id': 't3_289m0u', '_utterance_ids': ['t3_289m0u', 't1_ci8sl95', 't1_ci8ui3k', 't1_ci8ub9d'], '_usernames': None, '_meta': {'subreddit': '2007scape', 'url': 'https://www.reddit.com/r/2007scape/comments/289m0u/i_played_2007scape_when_it_was_first_released/', 'title': \"I played 2007scape when it was first released, what's changed since then?\", 'averagetoxicity': 0.04370849525}}))\n"
          ],
          "name": "stdout"
        }
      ]
    },
    {
      "cell_type": "code",
      "metadata": {
        "colab_type": "code",
        "id": "1QoQiIMmjj2u",
        "outputId": "52c1369f-7a27-4ca3-d663-a426d3a2028c",
        "colab": {
          "base_uri": "https://localhost:8080/",
          "height": 296
        }
      },
      "source": [
        "#print(utt_ups_tox)\n",
        "from scipy.stats.stats import pearsonr\n",
        "import matplotlib.pyplot as plt\n",
        "import numpy as np\n",
        "\n",
        "bestfit = np.polyfit(toxvalues, upsvalues,1)\n",
        "bestfitline = np.poly1d(bestfit)\n",
        "\n",
        "plt.scatter(toxvalues, upsvalues)\n",
        "plt.ylim(0,550)\n",
        "plt.ylabel('Up Votes')\n",
        "plt.xlabel('Toxicity Score')\n"
      ],
      "execution_count": 12,
      "outputs": [
        {
          "output_type": "execute_result",
          "data": {
            "text/plain": [
              "Text(0.5, 0, 'Toxicity Score')"
            ]
          },
          "metadata": {
            "tags": []
          },
          "execution_count": 12
        },
        {
          "output_type": "display_data",
          "data": {
            "text/plain": [
              "<Figure size 432x288 with 1 Axes>"
            ],
            "image/png": "[encoded data removed]"
          },
          "metadata": {
            "tags": [],
            "needs_background": "light"
          }
        }
      ]
    },
    {
      "cell_type": "code",
      "metadata": {
        "colab_type": "code",
        "id": "zT9QAjXZjj2w",
        "outputId": "4a2ed348-2643-491c-d7f1-8023ad6b4692",
        "colab": {
          "base_uri": "https://localhost:8080/",
          "height": 298
        }
      },
      "source": [
        "plt.title(\"Best fit of tox vs. ups\")\n",
        "plt.plot(toxvalues, bestfitline(toxvalues))"
      ],
      "execution_count": 13,
      "outputs": [
        {
          "output_type": "execute_result",
          "data": {
            "text/plain": [
              "[<matplotlib.lines.Line2D at 0x7fda70622828>]"
            ]
          },
          "metadata": {
            "tags": []
          },
          "execution_count": 13
        },
        {
          "output_type": "display_data",
          "data": {
            "text/plain": [
              "<Figure size 432x288 with 1 Axes>"
            ],
            "image/png": "[encoded data removed]"
          },
          "metadata": {
            "tags": [],
            "needs_background": "light"
          }
        }
      ]
    },
    {
      "cell_type": "code",
      "metadata": {
        "colab_type": "code",
        "id": "HThlg-U_jj2y",
        "outputId": "4ad0cd0d-f3f1-40ca-f87e-ee5f97e28a40",
        "colab": {
          "base_uri": "https://localhost:8080/",
          "height": 34
        }
      },
      "source": [
        "print(pearsonr(toxvalues,upsvalues)[0])"
      ],
      "execution_count": 14,
      "outputs": [
        {
          "output_type": "stream",
          "text": [
            "-0.014165836438686597\n"
          ],
          "name": "stdout"
        }
      ]
    },
    {
      "cell_type": "code",
      "metadata": {
        "colab_type": "code",
        "id": "CbkrJlh3jj2z",
        "colab": {
          "base_uri": "https://localhost:8080/",
          "height": 450
        },
        "outputId": "38e3fca2-9264-4f0d-d814-4eaa18232006"
      },
      "source": [
        "upstox_25 = {}\n",
        "ups_25 = defaultdict(list)\n",
        "tox_25 = defaultdict(list)\n",
        "\n",
        "for x in in_top_25:\n",
        "    if not utts[x].meta['ups'] == None:\n",
        "        upstox_25[x +\".\" + convos[x].meta[\"subreddit\"]] = [utts[x].meta['ups'], utts[x].meta['toxicity']]\n",
        "        ups_25[convos[x].meta[\"subreddit\"]].append(utts[x].meta['ups'])\n",
        "        tox_25[convos[x].meta[\"subreddit\"]].append(utts[x].meta['toxicity'])\n",
        "    else:\n",
        "        upstox_25[x +\".\" + convos[x].meta[\"subreddit\"]] = [0, utts[x].meta['toxicity']]\n",
        "        ups_25[convos[x].meta[\"subreddit\"]].append(0)\n",
        "        tox_25[convos[x].meta[\"subreddit\"]].append(utts[x].meta['toxicity'])\n",
        "corr_25 = {}\n",
        "\n",
        "for x in ups_25:\n",
        "    corr_25[x] = pearsonr(tox_25[x],ups_25[x])[0]\n",
        "   \n",
        "sorted_corr = sorted(corr_25.items(), key=lambda kv: kv[1])\n",
        "for x in sorted_corr:\n",
        "    print(x)"
      ],
      "execution_count": 15,
      "outputs": [
        {
          "output_type": "stream",
          "text": [
            "('starcraft', -0.27384032357600807)\n",
            "('atheism', -0.22348513909807635)\n",
            "('explainlikeimfive', -0.13939416840791383)\n",
            "('askscience', -0.10956977150863109)\n",
            "('trees', -0.09727628835606086)\n",
            "('hearthstone', -0.0970309933426117)\n",
            "('tipofmytongue', -0.09066037183271945)\n",
            "('buildapc', -0.07521749787184404)\n",
            "('leagueoflegends', -0.06775391921410352)\n",
            "('jailbreak', -0.06285257687786554)\n",
            "('gaming', -0.041727481525480344)\n",
            "('askreddit', -0.02767994907134295)\n",
            "('electronic_cigarette', -0.02331297129980621)\n",
            "('whowouldwin', 0.00402234714291879)\n",
            "('pcmasterrace', 0.00446416832200411)\n",
            "('personalfinance', 0.007126925299185703)\n",
            "('malefashionadvice', 0.04441819503811307)\n",
            "('loseit', 0.06596538002773104)\n",
            "('summonerschool', 0.10341093480314038)\n",
            "('pokemon', 0.11008570857269556)\n",
            "('relationships', 0.1204720997965011)\n",
            "('destinythegame', 0.12438564649784901)\n",
            "('reddit.com', 0.13082806745092074)\n",
            "('movies', 0.13592512094621084)\n",
            "('techsupport', 0.14165529303857546)\n"
          ],
          "name": "stdout"
        }
      ]
    },
    {
      "cell_type": "markdown",
      "metadata": {
        "id": "0BvJR15DY7_H",
        "colab_type": "text"
      },
      "source": [
        "# E3: Run on another dataset"
      ]
    },
    {
      "cell_type": "markdown",
      "metadata": {
        "id": "5sAGdEgT16HO",
        "colab_type": "text"
      },
      "source": [
        "## Test on reddit-small"
      ]
    },
    {
      "cell_type": "code",
      "metadata": {
        "id": "k89FSByYY9-F",
        "colab_type": "code",
        "outputId": "7b1fef21-9550-463b-cd47-bc5908ebab0d",
        "colab": {
          "base_uri": "https://localhost:8080/",
          "height": 34
        }
      },
      "source": [
        "# Load \"reddit-corpus-small\"\n",
        "small_reddit_corpus_raw = convokit.Corpus(convokit.download(\"reddit-corpus-small\"))"
      ],
      "execution_count": 0,
      "outputs": [
        {
          "output_type": "stream",
          "text": [
            "Dataset already exists at /Users/katyblumer/.convokit/downloads/reddit-corpus-small\n"
          ],
          "name": "stdout"
        }
      ]
    },
    {
      "cell_type": "code",
      "metadata": {
        "id": "WLWyok6HZfLd",
        "colab_type": "code",
        "cellView": "code",
        "outputId": "59b598ac-daa2-4b47-ed33-a4d88371a00c",
        "colab": {
          "base_uri": "https://localhost:8080/",
          "height": 34
        }
      },
      "source": [
        "#@title Subsample dataset\n",
        "num_convos = 2 #@param\n",
        "\n",
        "sampled_utts = []\n",
        "convo_sample_ids = small_reddit_corpus_raw.get_conversation_ids()[:num_convos]\n",
        "for idx in convo_sample_ids:\n",
        "  convo = small_reddit_corpus_raw.get_conversation(idx)\n",
        "  for utt_id in convo.get_utterance_ids():\n",
        "    sampled_utts.append(convo.get_utterance(utt_id))\n",
        "small_reddit_corpus = convokit.Corpus(utterances=sampled_utts)\n",
        "print(\"Sampled corpus with {} convos and {} utterances\".format(len(small_reddit_corpus.get_conversation_ids()), len(small_reddit_corpus.get_utterance_ids())))"
      ],
      "execution_count": 0,
      "outputs": [
        {
          "output_type": "stream",
          "text": [
            "Sampled corpus with 2 convos and 28 utterances\n"
          ],
          "name": "stdout"
        }
      ]
    },
    {
      "cell_type": "code",
      "metadata": {
        "id": "2fjjvevaobzf",
        "colab_type": "code",
        "colab": {}
      },
      "source": [
        "# RERUN THIS CELL if you change anything in your local convoikit, then you don't \n",
        "# have to restart the kernel. \n",
        "# If you get an error on the first run, that means it's working - just run the cell again. \n",
        "\n",
        "# If you don't, then either your file hasn't changed or autoreload has stopped \n",
        "# working (sometimes it stops working until you restart the kernel... seems to \n",
        "# be when you use reload_ext instead of load_ext????)\n",
        "%autoreload"
      ],
      "execution_count": 0,
      "outputs": []
    },
    {
      "cell_type": "code",
      "metadata": {
        "id": "CI2lc-RodHzl",
        "colab_type": "code",
        "outputId": "eaa9c4a7-d53a-4a30-8434-d6219ada6454",
        "colab": {
          "base_uri": "https://localhost:8080/",
          "height": 34
        }
      },
      "source": [
        "reload_from_api = False\n",
        "if reload_from_api:\n",
        "  tox_small_reddit = convokit.Toxicity(api_key=\"Not currently used - is hardcoded\", toxicity_path_to_save=\"convokit/toxicity/data/reddit_small_corpus.json\")\n",
        "else:\n",
        "  tox_small_reddit = convokit.Toxicity(toxicity_json_path=\"convokit/toxicity/data/reddit_small_corpus.json\")\n",
        "\n",
        "small_reddit_corpus = tox_small_reddit.transform(small_reddit_corpus)"
      ],
      "execution_count": 0,
      "outputs": [
        {
          "output_type": "display_data",
          "data": {
            "text/plain": [
              "HBox(children=(IntProgress(value=0, max=2), HTML(value='')))"
            ],
            "application/vnd.jupyter.widget-view+json": {
              "version_major": 2,
              "version_minor": 0,
              "model_id": "4a6dd00bc2b14f97921d17c63b8331b2"
            }
          },
          "metadata": {
            "tags": []
          }
        },
        {
          "output_type": "stream",
          "text": [
            "\n"
          ],
          "name": "stdout"
        }
      ]
    },
    {
      "cell_type": "markdown",
      "metadata": {
        "id": "3DyMc5qQ186S",
        "colab_type": "text"
      },
      "source": [
        "## IQ2"
      ]
    },
    {
      "cell_type": "code",
      "metadata": {
        "id": "_-kioOcV1vMl",
        "colab_type": "code",
        "colab": {}
      },
      "source": [
        "iq2_corpus = convokit.Corpus(filename=\"datasets/iq2_corpus/iq2_corpus\")"
      ],
      "execution_count": 0,
      "outputs": []
    },
    {
      "cell_type": "markdown",
      "metadata": {
        "colab_type": "text",
        "id": "BPp74ueN2OrE"
      },
      "source": [
        "### Sample"
      ]
    },
    {
      "cell_type": "code",
      "metadata": {
        "colab_type": "code",
        "outputId": "849afd4f-631e-48eb-eed4-b95ff7fc6bb1",
        "id": "T0SPmTLX2OrM",
        "colab": {
          "base_uri": "https://localhost:8080/",
          "height": 52
        },
        "cellView": "code"
      },
      "source": [
        "utts = iq2_corpus.utterances\n",
        "num_convos = 20 #@param\n",
        "print(len(utts))\n",
        "\n",
        "sampled_utts = []\n",
        "convo_sample_ids = iq2_corpus.get_conversation_ids()[:num_convos]\n",
        "for idx in convo_sample_ids:\n",
        "  convo = iq2_corpus.get_conversation(idx)\n",
        "  for utt_id in convo.get_utterance_ids():\n",
        "    sampled_utts.append(convo.get_utterance(utt_id))\n",
        "small_iq2_corpus = convokit.Corpus(utterances=sampled_utts)\n",
        "print(\"Sampled corpus with {} convos and {} utterances\".format(len(small_iq2_corpus.get_conversation_ids()), len(small_iq2_corpus.get_utterance_ids())))"
      ],
      "execution_count": 36,
      "outputs": [
        {
          "output_type": "stream",
          "text": [
            "26562\n",
            "Sampled corpus with 20 convos and 4934 utterances\n"
          ],
          "name": "stdout"
        }
      ]
    },
    {
      "cell_type": "code",
      "metadata": {
        "id": "sF05ywq13vJB",
        "colab_type": "code",
        "colab": {}
      },
      "source": [
        "%autoreload"
      ],
      "execution_count": 0,
      "outputs": []
    },
    {
      "cell_type": "code",
      "metadata": {
        "id": "5z5qYw3q3PR5",
        "colab_type": "code",
        "colab": {
          "base_uri": "https://localhost:8080/",
          "height": 52
        },
        "outputId": "053f091b-30ee-401c-e8f2-3ce6dcf49256"
      },
      "source": [
        "reload_from_api = False\n",
        "if reload_from_api:\n",
        "  tox_small_iq2 = convokit.Toxicity(api_key=\"Not currently used - is hardcoded\", toxicity_path_to_save=\"convokit/toxicity/data/iq2_small_corpus.json\")\n",
        "else:\n",
        "  tox_small_iq2 = convokit.Toxicity(toxicity_json_path=\"convokit/toxicity/data/iq2_small_corpus.json\")\n",
        "\n",
        "small_iq2_corpus = tox_small_iq2.transform(small_iq2_corpus)"
      ],
      "execution_count": 29,
      "outputs": [
        {
          "output_type": "stream",
          "text": [
            "WARNING: api key is not currently used; uses hardcoded key.\n"
          ],
          "name": "stdout"
        },
        {
          "output_type": "display_data",
          "data": {
            "text/plain": [
              "HBox(children=(IntProgress(value=0, max=20), HTML(value='')))"
            ],
            "application/vnd.jupyter.widget-view+json": {
              "version_major": 2,
              "version_minor": 0,
              "model_id": "75cc8859a230477e9b60965d08fdf310"
            }
          },
          "metadata": {
            "tags": []
          }
        },
        {
          "output_type": "stream",
          "text": [
            "\n"
          ],
          "name": "stdout"
        }
      ]
    },
    {
      "cell_type": "markdown",
      "metadata": {
        "colab_type": "text",
        "id": "1wiYGMqn2OrO"
      },
      "source": [
        "### Upvotes"
      ]
    },
    {
      "cell_type": "code",
      "metadata": {
        "colab_type": "code",
        "outputId": "87e00df7-9c2b-4f69-9f51-b238d8007e77",
        "id": "8U0RV32t2OrO",
        "colab": {
          "base_uri": "https://localhost:8080/",
          "height": 273
        }
      },
      "source": [
        "utt_ups_tox = {}\n",
        "upsvalues = []\n",
        "toxvalues = []\n",
        "\n",
        "convos_dict = {}\n",
        "for convo_id in small_iq2_corpus.get_conversation_ids():\n",
        "  convo = small_iq2_corpus.utterances['0']#get_conversation(convo_id)\n",
        "  print(convo)\n",
        "  print(small_iq2_corpus.get_utterance())\n",
        "  # toxvalues.append(convo.meta['averagetoxicity'])\n",
        "  # row = {}\n",
        "  # row['tox'] = convo.meta['averagetoxicity']\n",
        "\n",
        "  # row += convo.['result']\n",
        "  convos_dict[convo_id] = row\n",
        "\n",
        "disp(pd.DataFrame(convos_dict))"
      ],
      "execution_count": 50,
      "outputs": [
        {
          "output_type": "stream",
          "text": [
            "Utterance({'id': '0', 'user': User([('name', 'Bob Costas')]), 'root': '0', 'reply_to': -1, 'timestamp': None, 'text': '… And now I’d like to introduce Robert Rosenkranz, who is the chairman of the Rosenkranz Foundation, and the sponsor of Intelligence Squared, who will frame tonight’s debate. Bob? This is Bob.', 'meta': {'nontext': {'applause': [[0, 29]]}, 'segment': 0, 'speakertype': 'mod', 'debateid': 'PerformanceEnhancingDrugs-011508'}})\n"
          ],
          "name": "stdout"
        },
        {
          "output_type": "error",
          "ename": "TypeError",
          "evalue": "ignored",
          "traceback": [
            "\u001b[0;31m---------------------------------------------------------------------------\u001b[0m",
            "\u001b[0;31mTypeError\u001b[0m                                 Traceback (most recent call last)",
            "\u001b[0;32m<ipython-input-50-5bd86bb6e105>\u001b[0m in \u001b[0;36m<module>\u001b[0;34m\u001b[0m\n\u001b[1;32m      7\u001b[0m   \u001b[0mconvo\u001b[0m \u001b[0;34m=\u001b[0m \u001b[0msmall_iq2_corpus\u001b[0m\u001b[0;34m.\u001b[0m\u001b[0mutterances\u001b[0m\u001b[0;34m[\u001b[0m\u001b[0;34m'0'\u001b[0m\u001b[0;34m]\u001b[0m\u001b[0;31m#get_conversation(convo_id)\u001b[0m\u001b[0;34m\u001b[0m\u001b[0;34m\u001b[0m\u001b[0m\n\u001b[1;32m      8\u001b[0m   \u001b[0mprint\u001b[0m\u001b[0;34m(\u001b[0m\u001b[0mconvo\u001b[0m\u001b[0;34m)\u001b[0m\u001b[0;34m\u001b[0m\u001b[0;34m\u001b[0m\u001b[0m\n\u001b[0;32m----> 9\u001b[0;31m   \u001b[0mprint\u001b[0m\u001b[0;34m(\u001b[0m\u001b[0msmall_iq2_corpus\u001b[0m\u001b[0;34m.\u001b[0m\u001b[0mget_utterance\u001b[0m\u001b[0;34m(\u001b[0m\u001b[0;34m)\u001b[0m\u001b[0;34m)\u001b[0m\u001b[0;34m\u001b[0m\u001b[0;34m\u001b[0m\u001b[0m\n\u001b[0m\u001b[1;32m     10\u001b[0m   \u001b[0;31m# toxvalues.append(convo.meta['averagetoxicity'])\u001b[0m\u001b[0;34m\u001b[0m\u001b[0;34m\u001b[0m\u001b[0;34m\u001b[0m\u001b[0m\n\u001b[1;32m     11\u001b[0m   \u001b[0;31m# row = {}\u001b[0m\u001b[0;34m\u001b[0m\u001b[0;34m\u001b[0m\u001b[0;34m\u001b[0m\u001b[0m\n",
            "\u001b[0;31mTypeError\u001b[0m: get_utterance() missing 1 required positional argument: 'ut_id'"
          ]
        }
      ]
    },
    {
      "cell_type": "code",
      "metadata": {
        "id": "r4Thq1iC5xnG",
        "colab_type": "code",
        "colab": {}
      },
      "source": [
        ""
      ],
      "execution_count": 0,
      "outputs": []
    },
    {
      "cell_type": "code",
      "metadata": {
        "colab_type": "code",
        "outputId": "52c1369f-7a27-4ca3-d663-a426d3a2028c",
        "id": "sqnefocO2OrQ",
        "colab": {
          "base_uri": "https://localhost:8080/",
          "height": 296
        }
      },
      "source": [
        "#print(utt_ups_tox)\n",
        "from scipy.stats.stats import pearsonr\n",
        "import matplotlib.pyplot as plt\n",
        "import numpy as np\n",
        "\n",
        "bestfit = np.polyfit(toxvalues, upsvalues,1)\n",
        "bestfitline = np.poly1d(bestfit)\n",
        "\n",
        "plt.scatter(toxvalues, upsvalues)\n",
        "plt.ylim(0,550)\n",
        "plt.ylabel('Up Votes')\n",
        "plt.xlabel('Toxicity Score')\n"
      ],
      "execution_count": 0,
      "outputs": [
        {
          "output_type": "execute_result",
          "data": {
            "text/plain": [
              "Text(0.5, 0, 'Toxicity Score')"
            ]
          },
          "metadata": {
            "tags": []
          },
          "execution_count": 12
        },
        {
          "output_type": "display_data",
          "data": {
            "text/plain": [
              "<Figure size 432x288 with 1 Axes>"
            ],
            "image/png": "[encoded data removed]"
          },
          "metadata": {
            "tags": [],
            "needs_background": "light"
          }
        }
      ]
    },
    {
      "cell_type": "code",
      "metadata": {
        "colab_type": "code",
        "outputId": "4a2ed348-2643-491c-d7f1-8023ad6b4692",
        "id": "-0icuDqe2OrS",
        "colab": {
          "base_uri": "https://localhost:8080/",
          "height": 298
        }
      },
      "source": [
        "plt.title(\"Best fit of tox vs. ups\")\n",
        "plt.plot(toxvalues, bestfitline(toxvalues))"
      ],
      "execution_count": 0,
      "outputs": [
        {
          "output_type": "execute_result",
          "data": {
            "text/plain": [
              "[<matplotlib.lines.Line2D at 0x7fda70622828>]"
            ]
          },
          "metadata": {
            "tags": []
          },
          "execution_count": 13
        },
        {
          "output_type": "display_data",
          "data": {
            "text/plain": [
              "<Figure size 432x288 with 1 Axes>"
            ],
            "image/png": "[encoded data removed]"
          },
          "metadata": {
            "tags": [],
            "needs_background": "light"
          }
        }
      ]
    },
    {
      "cell_type": "code",
      "metadata": {
        "colab_type": "code",
        "outputId": "4ad0cd0d-f3f1-40ca-f87e-ee5f97e28a40",
        "id": "G2i6Mwt22OrU",
        "colab": {
          "base_uri": "https://localhost:8080/",
          "height": 34
        }
      },
      "source": [
        "print(pearsonr(toxvalues,upsvalues)[0])"
      ],
      "execution_count": 0,
      "outputs": [
        {
          "output_type": "stream",
          "text": [
            "-0.014165836438686597\n"
          ],
          "name": "stdout"
        }
      ]
    },
    {
      "cell_type": "code",
      "metadata": {
        "colab_type": "code",
        "outputId": "38e3fca2-9264-4f0d-d814-4eaa18232006",
        "id": "lvLCFYRY2OrW",
        "colab": {
          "base_uri": "https://localhost:8080/",
          "height": 450
        }
      },
      "source": [
        "upstox_25 = {}\n",
        "ups_25 = defaultdict(list)\n",
        "tox_25 = defaultdict(list)\n",
        "\n",
        "for x in in_top_25:\n",
        "    if not utts[x].meta['ups'] == None:\n",
        "        upstox_25[x +\".\" + convos[x].meta[\"subreddit\"]] = [utts[x].meta['ups'], utts[x].meta['toxicity']]\n",
        "        ups_25[convos[x].meta[\"subreddit\"]].append(utts[x].meta['ups'])\n",
        "        tox_25[convos[x].meta[\"subreddit\"]].append(utts[x].meta['toxicity'])\n",
        "    else:\n",
        "        upstox_25[x +\".\" + convos[x].meta[\"subreddit\"]] = [0, utts[x].meta['toxicity']]\n",
        "        ups_25[convos[x].meta[\"subreddit\"]].append(0)\n",
        "        tox_25[convos[x].meta[\"subreddit\"]].append(utts[x].meta['toxicity'])\n",
        "corr_25 = {}\n",
        "\n",
        "for x in ups_25:\n",
        "    corr_25[x] = pearsonr(tox_25[x],ups_25[x])[0]\n",
        "   \n",
        "sorted_corr = sorted(corr_25.items(), key=lambda kv: kv[1])\n",
        "for x in sorted_corr:\n",
        "    print(x)"
      ],
      "execution_count": 0,
      "outputs": [
        {
          "output_type": "stream",
          "text": [
            "('starcraft', -0.27384032357600807)\n",
            "('atheism', -0.22348513909807635)\n",
            "('explainlikeimfive', -0.13939416840791383)\n",
            "('askscience', -0.10956977150863109)\n",
            "('trees', -0.09727628835606086)\n",
            "('hearthstone', -0.0970309933426117)\n",
            "('tipofmytongue', -0.09066037183271945)\n",
            "('buildapc', -0.07521749787184404)\n",
            "('leagueoflegends', -0.06775391921410352)\n",
            "('jailbreak', -0.06285257687786554)\n",
            "('gaming', -0.041727481525480344)\n",
            "('askreddit', -0.02767994907134295)\n",
            "('electronic_cigarette', -0.02331297129980621)\n",
            "('whowouldwin', 0.00402234714291879)\n",
            "('pcmasterrace', 0.00446416832200411)\n",
            "('personalfinance', 0.007126925299185703)\n",
            "('malefashionadvice', 0.04441819503811307)\n",
            "('loseit', 0.06596538002773104)\n",
            "('summonerschool', 0.10341093480314038)\n",
            "('pokemon', 0.11008570857269556)\n",
            "('relationships', 0.1204720997965011)\n",
            "('destinythegame', 0.12438564649784901)\n",
            "('reddit.com', 0.13082806745092074)\n",
            "('movies', 0.13592512094621084)\n",
            "('techsupport', 0.14165529303857546)\n"
          ],
          "name": "stdout"
        }
      ]
    }
  ]
}