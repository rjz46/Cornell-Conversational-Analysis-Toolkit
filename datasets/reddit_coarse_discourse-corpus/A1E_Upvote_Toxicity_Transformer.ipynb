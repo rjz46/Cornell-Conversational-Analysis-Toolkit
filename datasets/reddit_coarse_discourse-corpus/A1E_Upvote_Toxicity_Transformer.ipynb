{
  "nbformat": 4,
  "nbformat_minor": 0,
  "metadata": {
    "colab": {
      "name": "A1E - Upvote Toxicity Transformer.ipynb",
      "provenance": [],
      "include_colab_link": true
    },
    "kernelspec": {
      "display_name": "Python 3",
      "language": "python",
      "name": "python3"
    },
    "language_info": {
      "codemirror_mode": {
        "name": "ipython",
        "version": 3
      },
      "file_extension": ".py",
      "mimetype": "text/x-python",
      "name": "python",
      "nbconvert_exporter": "python",
      "pygments_lexer": "ipython3",
      "version": "3.7.3"
    }
  },
  "cells": [
    {
      "cell_type": "markdown",
      "metadata": {
        "id": "view-in-github",
        "colab_type": "text"
      },
      "source": [
        "<a href=\"https://colab.research.google.com/github/rjz46/Cornell-Conversational-Analysis-Toolkit/blob/master/datasets/reddit_coarse_discourse-corpus/A1E_Upvote_Toxicity_Transformer.ipynb\" target=\"_parent\"><img src=\"https://colab.research.google.com/assets/colab-badge.svg\" alt=\"Open In Colab\"/></a>"
      ]
    },
    {
      "cell_type": "markdown",
      "metadata": {
        "colab_type": "text",
        "id": "MqTg4gvUaUs-"
      },
      "source": [
        "# Imports and setup"
      ]
    },
    {
      "cell_type": "code",
      "metadata": {
        "colab_type": "code",
        "id": "9ZEk0LbeZzDF",
        "colab": {
          "base_uri": "https://localhost:8080/",
          "height": 138
        },
        "outputId": "64b7da56-7e8b-4207-f1c2-a532f9b9ac6a"
      },
      "source": [
        "from IPython.display import display as disp\n",
        "from zipfile import ZipFile\n",
        "import json\n",
        "import matplotlib.pyplot as plt\n",
        "import pandas as pd\n",
        "import os\n",
        "import collections\n",
        "\n",
        "print(\"\"\"\\n***IGNORE ANY ERROR about 'reload_ext' - for some reason it breaks \n",
        "autoreload and it's not necessary. \\n\\n\"\"\")\n",
        "%load_ext autoreload"
      ],
      "execution_count": 78,
      "outputs": [
        {
          "output_type": "stream",
          "text": [
            "\n",
            "***IGNORE ANY ERROR about 'reload_ext' - for some reason it breaks \n",
            "autoreload and it's not necessary. \n",
            "\n",
            "\n",
            "The autoreload extension is already loaded. To reload it, use:\n",
            "  %reload_ext autoreload\n"
          ],
          "name": "stdout"
        }
      ]
    },
    {
      "cell_type": "code",
      "metadata": {
        "colab_type": "code",
        "id": "nfqlKZV_Z4Zu",
        "outputId": "4c29d045-fd2d-4e29-a892-cf6c38ae0e28",
        "colab": {
          "base_uri": "https://localhost:8080/",
          "height": 54
        }
      },
      "source": [
        "#@title Change working dir if necessary before importing convokit\n",
        "\n",
        "# UNCOMMENT AND RUN ONCE PER KERNEL, listdir() output should include \"convokit\"\n",
        "# os.chdir('../..')\n",
        "\n",
        "print(os.listdir())"
      ],
      "execution_count": 79,
      "outputs": [
        {
          "output_type": "stream",
          "text": [
            "['LICENSE.md', 'convokit', 'requirements.txt', 'Makefile', 'website', 'datasets', 'tests', 'venv_c', 'README.md', 'setup.py', '.gitignore', 'CONTRIBUTING.md', 'examples', 'doc', '.git']\n"
          ],
          "name": "stdout"
        }
      ]
    },
    {
      "cell_type": "code",
      "metadata": {
        "colab_type": "code",
        "id": "XdxDHp8eZ3ft",
        "colab": {}
      },
      "source": [
        "import convokit\n",
        "from convokit import Toxicity"
      ],
      "execution_count": 0,
      "outputs": []
    },
    {
      "cell_type": "code",
      "metadata": {
        "id": "TmSj3Br3vP2u",
        "colab_type": "code",
        "colab": {
          "base_uri": "https://localhost:8080/",
          "height": 86
        },
        "outputId": "891fc001-0044-43b6-8ace-9d793e96ba4d"
      },
      "source": [
        "# Reload convokit (and any other module) after making local changes.\n",
        "print(\"\"\"\\n***If you see a StopIteration error, run this cell again.\\n\\n\"\"\")\n",
        "%autoreload"
      ],
      "execution_count": 81,
      "outputs": [
        {
          "output_type": "stream",
          "text": [
            "\n",
            "***If you see a StopIteration error, run this cell again.\n",
            "\n",
            "\n"
          ],
          "name": "stdout"
        }
      ]
    },
    {
      "cell_type": "markdown",
      "metadata": {
        "id": "cXpH8x3RxZK0",
        "colab_type": "text"
      },
      "source": [
        "# Load dataset and transform"
      ]
    },
    {
      "cell_type": "code",
      "metadata": {
        "colab_type": "code",
        "id": "5NozDlSIaQDq",
        "colab": {}
      },
      "source": [
        "reddit_corpus = convokit.Corpus(filename=\"datasets/reddit_coarse_discourse-corpus/corpus\")"
      ],
      "execution_count": 0,
      "outputs": []
    },
    {
      "cell_type": "code",
      "metadata": {
        "id": "OpJTFTtdY0iw",
        "colab_type": "code",
        "outputId": "559bf31f-241f-454e-c26f-d437b7747992",
        "colab": {
          "base_uri": "https://localhost:8080/",
          "height": 52
        }
      },
      "source": [
        "tox = Toxicity(toxicity_json_path=\"convokit/toxicity/data/reddit_coarse_discourse.json\")\n",
        "tox.transform(reddit_corpus)"
      ],
      "execution_count": 69,
      "outputs": [
        {
          "output_type": "display_data",
          "data": {
            "text/plain": [
              "HBox(children=(IntProgress(value=0, max=9483), HTML(value='')))"
            ],
            "application/vnd.jupyter.widget-view+json": {
              "version_major": 2,
              "version_minor": 0,
              "model_id": "4200e942169b4e548f3fac70724f7c02"
            }
          },
          "metadata": {
            "tags": []
          }
        },
        {
          "output_type": "stream",
          "text": [
            "\n"
          ],
          "name": "stdout"
        },
        {
          "output_type": "execute_result",
          "data": {
            "text/plain": [
              "<convokit.model.corpus.Corpus at 0x7f8e95ba5898>"
            ]
          },
          "metadata": {
            "tags": []
          },
          "execution_count": 69
        }
      ]
    },
    {
      "cell_type": "markdown",
      "metadata": {
        "colab_type": "text",
        "id": "BbffMJiuaSsV"
      },
      "source": [
        "# Sequences"
      ]
    },
    {
      "cell_type": "code",
      "metadata": {
        "colab_type": "code",
        "id": "a2RiJO4Bjj2j",
        "outputId": "af4dbe92-2bae-469e-e071-40c3e63c1f39",
        "colab": {
          "base_uri": "https://localhost:8080/",
          "height": 54
        }
      },
      "source": [
        "subreddit_counter = collections.Counter()\n",
        "convos = reddit_corpus.conversations\n",
        "\n",
        "\n",
        "for convoutt in convos: \n",
        "    #print(convos[convoutt])\n",
        "    subrd = convos[convoutt].meta[\"subreddit\"]\n",
        "    subreddit_counter.update({subrd:1})\n",
        "top_25_subreddits = dict(subreddit_counter.most_common(25))\n",
        "\n",
        "print(top_25_subreddits.keys())"
      ],
      "execution_count": 70,
      "outputs": [
        {
          "output_type": "stream",
          "text": [
            "dict_keys(['askreddit', 'leagueoflegends', 'buildapc', 'explainlikeimfive', 'trees', 'pcmasterrace', 'gaming', 'techsupport', 'electronic_cigarette', 'relationships', 'tipofmytongue', 'hearthstone', 'atheism', 'jailbreak', 'summonerschool', 'personalfinance', 'reddit.com', 'whowouldwin', 'destinythegame', 'movies', 'pokemon', 'starcraft', 'malefashionadvice', 'askscience', 'loseit'])\n"
          ],
          "name": "stdout"
        }
      ]
    },
    {
      "cell_type": "code",
      "metadata": {
        "colab_type": "code",
        "id": "L3zQQtohjj2m",
        "colab": {}
      },
      "source": [
        "top_level_posts = {}\n",
        "counter = 0\n",
        "in_top_25 = {}\n",
        "\n",
        "for x in convos:\n",
        "    if convos[x].meta[\"subreddit\"] in top_25_subreddits.keys():\n",
        "        in_top_25[x] = convos[x]"
      ],
      "execution_count": 0,
      "outputs": []
    },
    {
      "cell_type": "code",
      "metadata": {
        "colab_type": "code",
        "id": "_34eFebZjj2o",
        "outputId": "edd16ecf-f8bd-4fcf-8ac3-7b43383ce57c",
        "colab": {}
      },
      "source": [
        "utts = reddit_corpus.utterances\n",
        "\n",
        "print(len(in_top_25))"
      ],
      "execution_count": 0,
      "outputs": [
        {
          "output_type": "stream",
          "text": [
            "2021\n"
          ],
          "name": "stdout"
        }
      ]
    },
    {
      "cell_type": "markdown",
      "metadata": {
        "colab_type": "text",
        "id": "JwZoe1Vjjj2q"
      },
      "source": [
        "# Upvotes"
      ]
    },
    {
      "cell_type": "code",
      "metadata": {
        "colab_type": "code",
        "id": "oMl5G7Zvjj2q",
        "outputId": "491dc272-11a9-4fd9-d636-5b978b7df7c7",
        "colab": {}
      },
      "source": [
        "utt_ups_tox = {}\n",
        "upsvalues = []\n",
        "toxvalues = []\n",
        "\n",
        "for x in convos:\n",
        "    if not utts[x].meta['ups'] == None:\n",
        "        utt_ups_tox[x] = [utts[x].meta['ups'], utts[x].meta['toxicity']]\n",
        "        upsvalues.append(utts[x].meta['ups'])\n",
        "        toxvalues.append(utts[x].meta['toxicity'])\n",
        "    else:\n",
        "        utt_ups_tox[x] = [0, utts[x].meta['toxicity']]\n",
        "        upsvalues.append(0)\n",
        "        toxvalues.append(utts[x].meta['toxicity'])\n",
        "\n",
        "print(list(convos.items())[10])"
      ],
      "execution_count": 0,
      "outputs": [
        {
          "output_type": "stream",
          "text": [
            "('t3_289m0u', Conversation({'_owner': <convokit.model.corpus.Corpus object at 0x1a273c83c8>, '_id': 't3_289m0u', '_utterance_ids': ['t3_289m0u', 't1_ci8sl95', 't1_ci8ui3k', 't1_ci8ub9d'], '_usernames': None, '_meta': {'subreddit': '2007scape', 'url': 'https://www.reddit.com/r/2007scape/comments/289m0u/i_played_2007scape_when_it_was_first_released/', 'title': \"I played 2007scape when it was first released, what's changed since then?\", 'averagetoxicity': 0.04370849525}}))\n"
          ],
          "name": "stdout"
        }
      ]
    },
    {
      "cell_type": "code",
      "metadata": {
        "colab_type": "code",
        "id": "1QoQiIMmjj2u",
        "outputId": "dc51191d-44f7-43b1-8b71-5c6eb5ce54bf",
        "colab": {}
      },
      "source": [
        "#print(utt_ups_tox)\n",
        "from scipy.stats.stats import pearsonr\n",
        "import matplotlib.pyplot as plt\n",
        "import numpy as np\n",
        "\n",
        "bestfit = np.polyfit(toxvalues, upsvalues,1)\n",
        "bestfitline = np.poly1d(bestfit)\n",
        "\n",
        "plt.scatter(toxvalues, upsvalues)\n",
        "plt.ylim(0,550)\n",
        "plt.ylabel('Up Votes')\n",
        "plt.xlabel('Toxicity Score')\n"
      ],
      "execution_count": 0,
      "outputs": [
        {
          "output_type": "execute_result",
          "data": {
            "text/plain": [
              "Text(0.5, 0, 'Toxicity Score')"
            ]
          },
          "metadata": {
            "tags": []
          },
          "execution_count": 26
        },
        {
          "output_type": "display_data",
          "data": {
            "image/png": "[encoded data removed]",
            "text/plain": [
              "<Figure size 432x288 with 1 Axes>"
            ]
          },
          "metadata": {
            "tags": [],
            "needs_background": "light"
          }
        }
      ]
    },
    {
      "cell_type": "code",
      "metadata": {
        "colab_type": "code",
        "id": "zT9QAjXZjj2w",
        "outputId": "22759fd1-e5dc-475e-891f-d97cccc3bcf7",
        "colab": {}
      },
      "source": [
        "plt.title(\"Best fit of tox vs. ups\")\n",
        "plt.plot(toxvalues, bestfitline(toxvalues))"
      ],
      "execution_count": 0,
      "outputs": [
        {
          "output_type": "execute_result",
          "data": {
            "text/plain": [
              "[<matplotlib.lines.Line2D at 0x1a278176d8>]"
            ]
          },
          "metadata": {
            "tags": []
          },
          "execution_count": 27
        },
        {
          "output_type": "display_data",
          "data": {
            "image/png": "[encoded data removed]",
            "text/plain": [
              "<Figure size 432x288 with 1 Axes>"
            ]
          },
          "metadata": {
            "tags": [],
            "needs_background": "light"
          }
        }
      ]
    },
    {
      "cell_type": "code",
      "metadata": {
        "colab_type": "code",
        "id": "HThlg-U_jj2y",
        "outputId": "7e32fe95-5b72-47d2-9ced-be4e5c35a0ee",
        "colab": {}
      },
      "source": [
        "print(pearsonr(toxvalues,upsvalues)[0])"
      ],
      "execution_count": 0,
      "outputs": [
        {
          "output_type": "stream",
          "text": [
            "-0.014165836438686604\n"
          ],
          "name": "stdout"
        }
      ]
    },
    {
      "cell_type": "code",
      "metadata": {
        "colab_type": "code",
        "id": "CbkrJlh3jj2z",
        "colab": {}
      },
      "source": [
        "from collections import defaultdict\n",
        "\n",
        "upstox_25 = {}\n",
        "ups_25 = defaultdict(list)\n",
        "tox_25 = defaultdict(list)\n",
        "\n",
        "for x in in_top_25:\n",
        "    if not utts[x].meta['ups'] == None:\n",
        "        upstox_25[x +\".\" + convos[x].meta[\"subreddit\"]] = [utts[x].meta['ups'], tox[x]]\n",
        "        ups_25[convos[x].meta[\"subreddit\"]].append(utts[x].meta['ups'])\n",
        "        tox_25[convos[x].meta[\"subreddit\"]].append(tox[x])\n",
        "    else:\n",
        "        upstox_25[x +\".\" + convos[x].meta[\"subreddit\"]] = [0, tox[x]]\n",
        "        ups_25[convos[x].meta[\"subreddit\"]].append(0)\n",
        "        tox_25[convos[x].meta[\"subreddit\"]].append(tox[x])\n",
        "corr_25 = {}\n",
        "\n",
        "for x in ups_25:\n",
        "    corr_25[x] = pearsonr(tox_25[x],ups_25[x])[0]\n",
        "   \n",
        "sorted_corr = sorted(corr_25.items(), key=lambda kv: kv[1])\n",
        "for x in sorted_corr:\n",
        "    print(x)"
      ],
      "execution_count": 0,
      "outputs": []
    },
    {
      "cell_type": "markdown",
      "metadata": {
        "id": "0BvJR15DY7_H",
        "colab_type": "text"
      },
      "source": [
        "# E3: Run on another dataset"
      ]
    },
    {
      "cell_type": "code",
      "metadata": {
        "id": "k89FSByYY9-F",
        "colab_type": "code",
        "outputId": "7b1fef21-9550-463b-cd47-bc5908ebab0d",
        "colab": {
          "base_uri": "https://localhost:8080/",
          "height": 34
        }
      },
      "source": [
        "# Load \"reddit-corpus-small\"\n",
        "small_reddit_corpus_raw = convokit.Corpus(convokit.download(\"reddit-corpus-small\"))"
      ],
      "execution_count": 0,
      "outputs": [
        {
          "output_type": "stream",
          "text": [
            "Dataset already exists at /Users/katyblumer/.convokit/downloads/reddit-corpus-small\n"
          ],
          "name": "stdout"
        }
      ]
    },
    {
      "cell_type": "code",
      "metadata": {
        "id": "WLWyok6HZfLd",
        "colab_type": "code",
        "cellView": "code",
        "outputId": "59b598ac-daa2-4b47-ed33-a4d88371a00c",
        "colab": {
          "base_uri": "https://localhost:8080/",
          "height": 34
        }
      },
      "source": [
        "#@title Subsample dataset\n",
        "num_convos = 2 #@param\n",
        "\n",
        "sampled_utts = []\n",
        "convo_sample_ids = small_reddit_corpus_raw.get_conversation_ids()[:num_convos]\n",
        "for idx in convo_sample_ids:\n",
        "  convo = small_reddit_corpus_raw.get_conversation(idx)\n",
        "  for utt_id in convo.get_utterance_ids():\n",
        "    sampled_utts.append(convo.get_utterance(utt_id))\n",
        "small_reddit_corpus = convokit.Corpus(utterances=sampled_utts)\n",
        "print(\"Sampled corpus with {} convos and {} utterances\".format(len(small_reddit_corpus.get_conversation_ids()), len(small_reddit_corpus.get_utterance_ids())))"
      ],
      "execution_count": 0,
      "outputs": [
        {
          "output_type": "stream",
          "text": [
            "Sampled corpus with 2 convos and 28 utterances\n"
          ],
          "name": "stdout"
        }
      ]
    },
    {
      "cell_type": "code",
      "metadata": {
        "id": "2fjjvevaobzf",
        "colab_type": "code",
        "colab": {}
      },
      "source": [
        "# RERUN THIS CELL if you change anything in your local convoikit, then you don't \n",
        "# have to restart the kernel. \n",
        "# If you get an error on the first run, that means it's working - just run the cell again. \n",
        "\n",
        "# If you don't, then either your file hasn't changed or autoreload has stopped \n",
        "# working (sometimes it stops working until you restart the kernel... seems to \n",
        "# be when you use reload_ext instead of load_ext????)\n",
        "%autoreload"
      ],
      "execution_count": 0,
      "outputs": []
    },
    {
      "cell_type": "code",
      "metadata": {
        "id": "CI2lc-RodHzl",
        "colab_type": "code",
        "outputId": "eaa9c4a7-d53a-4a30-8434-d6219ada6454",
        "colab": {
          "base_uri": "https://localhost:8080/",
          "height": 34
        }
      },
      "source": [
        "reload_from_api = False\n",
        "if reload_from_api:\n",
        "  tox_small_reddit = convokit.Toxicity(api_key=\"Not currently used - is hardcoded\", toxicity_path_to_save=\"convokit/toxicity/data/reddit_small_corpus.json\")\n",
        "else:\n",
        "  tox_small_reddit = convokit.Toxicity(toxicity_json_path=\"convokit/toxicity/data/reddit_small_corpus.json\")\n",
        "\n",
        "small_reddit_corpus = tox_small_reddit.transform(small_reddit_corpus)"
      ],
      "execution_count": 0,
      "outputs": [
        {
          "output_type": "display_data",
          "data": {
            "text/plain": [
              "HBox(children=(IntProgress(value=0, max=2), HTML(value='')))"
            ],
            "application/vnd.jupyter.widget-view+json": {
              "version_major": 2,
              "version_minor": 0,
              "model_id": "4a6dd00bc2b14f97921d17c63b8331b2"
            }
          },
          "metadata": {
            "tags": []
          }
        },
        {
          "output_type": "stream",
          "text": [
            "\n"
          ],
          "name": "stdout"
        }
      ]
    }
  ]
}