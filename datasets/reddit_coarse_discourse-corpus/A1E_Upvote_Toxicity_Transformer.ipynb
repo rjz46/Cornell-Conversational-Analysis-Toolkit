{
  "nbformat": 4,
  "nbformat_minor": 0,
  "metadata": {
    "colab": {
      "name": "A1E - Upvote Toxicity Transformer.ipynb",
      "provenance": [],
      "include_colab_link": true
    },
    "kernelspec": {
      "display_name": "Python 3",
      "language": "python",
      "name": "python3"
    },
    "language_info": {
      "codemirror_mode": {
        "name": "ipython",
        "version": 3
      },
      "file_extension": ".py",
      "mimetype": "text/x-python",
      "name": "python",
      "nbconvert_exporter": "python",
      "pygments_lexer": "ipython3",
      "version": "3.7.3"
    }
  },
  "cells": [
    {
      "cell_type": "markdown",
      "metadata": {
        "id": "view-in-github",
        "colab_type": "text"
      },
      "source": [
        "<a href=\"https://colab.research.google.com/github/rjz46/Cornell-Conversational-Analysis-Toolkit/blob/master/datasets/reddit_coarse_discourse-corpus/A1E_Upvote_Toxicity_Transformer.ipynb\" target=\"_parent\"><img src=\"https://colab.research.google.com/assets/colab-badge.svg\" alt=\"Open In Colab\"/></a>"
      ]
    },
    {
      "cell_type": "markdown",
      "metadata": {
        "colab_type": "text",
        "id": "MqTg4gvUaUs-"
      },
      "source": [
        "# Imports and setup"
      ]
    },
    {
      "cell_type": "code",
      "metadata": {
        "colab_type": "code",
        "id": "9ZEk0LbeZzDF",
        "outputId": "7038543e-cb64-4ef8-8b29-de37766a96b0",
        "colab": {
          "base_uri": "https://localhost:8080/",
          "height": 104
        }
      },
      "source": [
        "from IPython.display import display as disp\n",
        "from zipfile import ZipFile\n",
        "import json\n",
        "import matplotlib.pyplot as plt\n",
        "import pandas as pd\n",
        "import os\n",
        "import collections\n",
        "\n",
        "from collections import defaultdict\n",
        "\n",
        "print(\"\"\"\\n***IGNORE ANY ERROR about 'reload_ext' - for some reason it breaks \n",
        "autoreload and it's not necessary. \\n\\n\"\"\")\n",
        "%load_ext autoreload"
      ],
      "execution_count": 0,
      "outputs": [
        {
          "output_type": "stream",
          "text": [
            "\n",
            "***IGNORE ANY ERROR about 'reload_ext' - for some reason it breaks \n",
            "autoreload and it's not necessary. \n",
            "\n",
            "\n"
          ],
          "name": "stdout"
        }
      ]
    },
    {
      "cell_type": "code",
      "metadata": {
        "colab_type": "code",
        "id": "nfqlKZV_Z4Zu",
        "outputId": "1cfef06e-3750-4ef9-f71a-2ef8b655d059",
        "colab": {
          "base_uri": "https://localhost:8080/",
          "height": 54
        }
      },
      "source": [
        "#@title Change working dir if necessary before importing convokit\n",
        "\n",
        "# UNCOMMENT AND RUN ONCE PER KERNEL, listdir() output should include \"convokit\"\n",
        "# os.chdir('../..')\n",
        "\n",
        "print(os.listdir())"
      ],
      "execution_count": 51,
      "outputs": [
        {
          "output_type": "stream",
          "text": [
            "['LICENSE.md', 'convokit', '.DS_Store', 'requirements.txt', 'Makefile', 'website', 'datasets', 'tests', 'venv_c', 'README.md', 'setup.py', '.gitignore', 'CONTRIBUTING.md', 'examples', 'doc', '.git']\n"
          ],
          "name": "stdout"
        }
      ]
    },
    {
      "cell_type": "code",
      "metadata": {
        "colab_type": "code",
        "id": "XdxDHp8eZ3ft",
        "colab": {}
      },
      "source": [
        "import convokit\n",
        "from convokit import Toxicity"
      ],
      "execution_count": 0,
      "outputs": []
    },
    {
      "cell_type": "code",
      "metadata": {
        "id": "TmSj3Br3vP2u",
        "colab_type": "code",
        "outputId": "4043beff-1aa3-4b9f-b2ac-57ec2424a070",
        "colab": {
          "base_uri": "https://localhost:8080/",
          "height": 86
        }
      },
      "source": [
        "# Reload convokit (and any other module) after making local changes.\n",
        "print(\"\"\"\\n***If you see a StopIteration error, run this cell again.\\n\\n\"\"\")\n",
        "%autoreload"
      ],
      "execution_count": 0,
      "outputs": [
        {
          "output_type": "stream",
          "text": [
            "\n",
            "***If you see a StopIteration error, run this cell again.\n",
            "\n",
            "\n"
          ],
          "name": "stdout"
        }
      ]
    },
    {
      "cell_type": "markdown",
      "metadata": {
        "id": "cXpH8x3RxZK0",
        "colab_type": "text"
      },
      "source": [
        "# Load dataset and transform"
      ]
    },
    {
      "cell_type": "code",
      "metadata": {
        "colab_type": "code",
        "id": "5NozDlSIaQDq",
        "colab": {}
      },
      "source": [
        "reddit_corpus = convokit.Corpus(filename=\"datasets/reddit_coarse_discourse-corpus/corpus\")"
      ],
      "execution_count": 0,
      "outputs": []
    },
    {
      "cell_type": "code",
      "metadata": {
        "id": "OpJTFTtdY0iw",
        "colab_type": "code",
        "outputId": "a9dba668-6d6d-4534-828e-345f56df1f75",
        "colab": {
          "base_uri": "https://localhost:8080/",
          "height": 52
        }
      },
      "source": [
        "tox = Toxicity(toxicity_json_path=\"convokit/toxicity/data/reddit_coarse_discourse.json\")\n",
        "tox.transform(reddit_corpus)"
      ],
      "execution_count": 0,
      "outputs": [
        {
          "output_type": "display_data",
          "data": {
            "text/plain": [
              "HBox(children=(IntProgress(value=0, max=9483), HTML(value='')))"
            ],
            "application/vnd.jupyter.widget-view+json": {
              "version_major": 2,
              "version_minor": 0,
              "model_id": "742bfeb2f64e48f3a9c68dec0b5d3499"
            }
          },
          "metadata": {
            "tags": []
          }
        },
        {
          "output_type": "stream",
          "text": [
            "\n"
          ],
          "name": "stdout"
        },
        {
          "output_type": "execute_result",
          "data": {
            "text/plain": [
              "<convokit.model.corpus.Corpus at 0x7fda7060f0b8>"
            ]
          },
          "metadata": {
            "tags": []
          },
          "execution_count": 7
        }
      ]
    },
    {
      "cell_type": "markdown",
      "metadata": {
        "colab_type": "text",
        "id": "BbffMJiuaSsV"
      },
      "source": [
        "# Sequences"
      ]
    },
    {
      "cell_type": "code",
      "metadata": {
        "colab_type": "code",
        "id": "a2RiJO4Bjj2j",
        "outputId": "b0d986e6-f7f1-4183-de1c-9d59696d86dc",
        "colab": {
          "base_uri": "https://localhost:8080/",
          "height": 54
        }
      },
      "source": [
        "subreddit_counter = collections.Counter()\n",
        "convos = reddit_corpus.conversations\n",
        "\n",
        "\n",
        "for convoutt in convos: \n",
        "    #print(convos[convoutt])\n",
        "    subrd = convos[convoutt].meta[\"subreddit\"]\n",
        "    subreddit_counter.update({subrd:1})\n",
        "top_25_subreddits = dict(subreddit_counter.most_common(25))\n",
        "\n",
        "print(top_25_subreddits.keys())"
      ],
      "execution_count": 0,
      "outputs": [
        {
          "output_type": "stream",
          "text": [
            "dict_keys(['askreddit', 'leagueoflegends', 'buildapc', 'explainlikeimfive', 'trees', 'pcmasterrace', 'gaming', 'techsupport', 'electronic_cigarette', 'relationships', 'tipofmytongue', 'hearthstone', 'atheism', 'jailbreak', 'summonerschool', 'personalfinance', 'reddit.com', 'whowouldwin', 'destinythegame', 'movies', 'pokemon', 'starcraft', 'malefashionadvice', 'askscience', 'loseit'])\n"
          ],
          "name": "stdout"
        }
      ]
    },
    {
      "cell_type": "code",
      "metadata": {
        "colab_type": "code",
        "id": "L3zQQtohjj2m",
        "colab": {}
      },
      "source": [
        "top_level_posts = {}\n",
        "counter = 0\n",
        "in_top_25 = {}\n",
        "\n",
        "for x in convos:\n",
        "    if convos[x].meta[\"subreddit\"] in top_25_subreddits.keys():\n",
        "        in_top_25[x] = convos[x]"
      ],
      "execution_count": 0,
      "outputs": []
    },
    {
      "cell_type": "code",
      "metadata": {
        "colab_type": "code",
        "id": "_34eFebZjj2o",
        "outputId": "0bfbd53d-c017-4b8f-a57e-14e176559921",
        "colab": {
          "base_uri": "https://localhost:8080/",
          "height": 34
        }
      },
      "source": [
        "utts = reddit_corpus.utterances\n",
        "\n",
        "print(len(in_top_25))"
      ],
      "execution_count": 0,
      "outputs": [
        {
          "output_type": "stream",
          "text": [
            "2021\n"
          ],
          "name": "stdout"
        }
      ]
    },
    {
      "cell_type": "markdown",
      "metadata": {
        "colab_type": "text",
        "id": "JwZoe1Vjjj2q"
      },
      "source": [
        "# Upvotes"
      ]
    },
    {
      "cell_type": "code",
      "metadata": {
        "colab_type": "code",
        "id": "oMl5G7Zvjj2q",
        "outputId": "9ec893bf-4c9a-4b8f-97f2-7ae612d93021",
        "colab": {
          "base_uri": "https://localhost:8080/",
          "height": 54
        }
      },
      "source": [
        "utt_ups_tox = {}\n",
        "upsvalues = []\n",
        "toxvalues = []\n",
        "\n",
        "for x in convos:\n",
        "    if not utts[x].meta['ups'] == None:\n",
        "        utt_ups_tox[x] = [utts[x].meta['ups'], utts[x].meta['toxicity']]\n",
        "        upsvalues.append(utts[x].meta['ups'])\n",
        "        toxvalues.append(utts[x].meta['toxicity'])\n",
        "    else:\n",
        "        utt_ups_tox[x] = [0, utts[x].meta['toxicity']]\n",
        "        upsvalues.append(0)\n",
        "        toxvalues.append(utts[x].meta['toxicity'])\n",
        "\n",
        "print(list(convos.items())[10])"
      ],
      "execution_count": 0,
      "outputs": [
        {
          "output_type": "stream",
          "text": [
            "('t3_289m0u', Conversation({'_owner': <convokit.model.corpus.Corpus object at 0x7fda7060f0b8>, '_id': 't3_289m0u', '_utterance_ids': ['t3_289m0u', 't1_ci8sl95', 't1_ci8ui3k', 't1_ci8ub9d'], '_usernames': None, '_meta': {'subreddit': '2007scape', 'url': 'https://www.reddit.com/r/2007scape/comments/289m0u/i_played_2007scape_when_it_was_first_released/', 'title': \"I played 2007scape when it was first released, what's changed since then?\", 'averagetoxicity': 0.04370849525}}))\n"
          ],
          "name": "stdout"
        }
      ]
    },
    {
      "cell_type": "code",
      "metadata": {
        "colab_type": "code",
        "id": "1QoQiIMmjj2u",
        "outputId": "52c1369f-7a27-4ca3-d663-a426d3a2028c",
        "colab": {
          "base_uri": "https://localhost:8080/",
          "height": 296
        }
      },
      "source": [
        "#print(utt_ups_tox)\n",
        "from scipy.stats.stats import pearsonr\n",
        "import matplotlib.pyplot as plt\n",
        "import numpy as np\n",
        "\n",
        "bestfit = np.polyfit(toxvalues, upsvalues,1)\n",
        "bestfitline = np.poly1d(bestfit)\n",
        "\n",
        "plt.scatter(toxvalues, upsvalues)\n",
        "plt.ylim(0,550)\n",
        "plt.ylabel('Up Votes')\n",
        "plt.xlabel('Toxicity Score')\n"
      ],
      "execution_count": 0,
      "outputs": [
        {
          "output_type": "execute_result",
          "data": {
            "text/plain": [
              "Text(0.5, 0, 'Toxicity Score')"
            ]
          },
          "metadata": {
            "tags": []
          },
          "execution_count": 12
        },
        {
          "output_type": "display_data",
          "data": {
            "text/plain": [
              "<Figure size 432x288 with 1 Axes>"
            ],
            "image/png": "[encoded data removed]"
          },
          "metadata": {
            "tags": [],
            "needs_background": "light"
          }
        }
      ]
    },
    {
      "cell_type": "code",
      "metadata": {
        "colab_type": "code",
        "id": "zT9QAjXZjj2w",
        "outputId": "4a2ed348-2643-491c-d7f1-8023ad6b4692",
        "colab": {
          "base_uri": "https://localhost:8080/",
          "height": 298
        }
      },
      "source": [
        "plt.title(\"Best fit of tox vs. ups\")\n",
        "plt.plot(toxvalues, bestfitline(toxvalues))"
      ],
      "execution_count": 0,
      "outputs": [
        {
          "output_type": "execute_result",
          "data": {
            "text/plain": [
              "[<matplotlib.lines.Line2D at 0x7fda70622828>]"
            ]
          },
          "metadata": {
            "tags": []
          },
          "execution_count": 13
        },
        {
          "output_type": "display_data",
          "data": {
            "text/plain": [
              "<Figure size 432x288 with 1 Axes>"
            ],
            "image/png": "[encoded data removed]"
          },
          "metadata": {
            "tags": [],
            "needs_background": "light"
          }
        }
      ]
    },
    {
      "cell_type": "code",
      "metadata": {
        "colab_type": "code",
        "id": "HThlg-U_jj2y",
        "outputId": "4ad0cd0d-f3f1-40ca-f87e-ee5f97e28a40",
        "colab": {
          "base_uri": "https://localhost:8080/",
          "height": 34
        }
      },
      "source": [
        "print(pearsonr(toxvalues,upsvalues)[0])"
      ],
      "execution_count": 0,
      "outputs": [
        {
          "output_type": "stream",
          "text": [
            "-0.014165836438686597\n"
          ],
          "name": "stdout"
        }
      ]
    },
    {
      "cell_type": "code",
      "metadata": {
        "colab_type": "code",
        "id": "CbkrJlh3jj2z",
        "outputId": "38e3fca2-9264-4f0d-d814-4eaa18232006",
        "colab": {
          "base_uri": "https://localhost:8080/",
          "height": 450
        }
      },
      "source": [
        "upstox_25 = {}\n",
        "ups_25 = defaultdict(list)\n",
        "tox_25 = defaultdict(list)\n",
        "\n",
        "for x in in_top_25:\n",
        "    if not utts[x].meta['ups'] == None:\n",
        "        upstox_25[x +\".\" + convos[x].meta[\"subreddit\"]] = [utts[x].meta['ups'], utts[x].meta['toxicity']]\n",
        "        ups_25[convos[x].meta[\"subreddit\"]].append(utts[x].meta['ups'])\n",
        "        tox_25[convos[x].meta[\"subreddit\"]].append(utts[x].meta['toxicity'])\n",
        "    else:\n",
        "        upstox_25[x +\".\" + convos[x].meta[\"subreddit\"]] = [0, utts[x].meta['toxicity']]\n",
        "        ups_25[convos[x].meta[\"subreddit\"]].append(0)\n",
        "        tox_25[convos[x].meta[\"subreddit\"]].append(utts[x].meta['toxicity'])\n",
        "corr_25 = {}\n",
        "\n",
        "for x in ups_25:\n",
        "    corr_25[x] = pearsonr(tox_25[x],ups_25[x])[0]\n",
        "   \n",
        "sorted_corr = sorted(corr_25.items(), key=lambda kv: kv[1])\n",
        "for x in sorted_corr:\n",
        "    print(x)"
      ],
      "execution_count": 0,
      "outputs": [
        {
          "output_type": "stream",
          "text": [
            "('starcraft', -0.27384032357600807)\n",
            "('atheism', -0.22348513909807635)\n",
            "('explainlikeimfive', -0.13939416840791383)\n",
            "('askscience', -0.10956977150863109)\n",
            "('trees', -0.09727628835606086)\n",
            "('hearthstone', -0.0970309933426117)\n",
            "('tipofmytongue', -0.09066037183271945)\n",
            "('buildapc', -0.07521749787184404)\n",
            "('leagueoflegends', -0.06775391921410352)\n",
            "('jailbreak', -0.06285257687786554)\n",
            "('gaming', -0.041727481525480344)\n",
            "('askreddit', -0.02767994907134295)\n",
            "('electronic_cigarette', -0.02331297129980621)\n",
            "('whowouldwin', 0.00402234714291879)\n",
            "('pcmasterrace', 0.00446416832200411)\n",
            "('personalfinance', 0.007126925299185703)\n",
            "('malefashionadvice', 0.04441819503811307)\n",
            "('loseit', 0.06596538002773104)\n",
            "('summonerschool', 0.10341093480314038)\n",
            "('pokemon', 0.11008570857269556)\n",
            "('relationships', 0.1204720997965011)\n",
            "('destinythegame', 0.12438564649784901)\n",
            "('reddit.com', 0.13082806745092074)\n",
            "('movies', 0.13592512094621084)\n",
            "('techsupport', 0.14165529303857546)\n"
          ],
          "name": "stdout"
        }
      ]
    },
    {
      "cell_type": "markdown",
      "metadata": {
        "id": "0BvJR15DY7_H",
        "colab_type": "text"
      },
      "source": [
        "# E3: Run on another dataset"
      ]
    },
    {
      "cell_type": "markdown",
      "metadata": {
        "id": "5sAGdEgT16HO",
        "colab_type": "text"
      },
      "source": [
        "## Test on reddit-small"
      ]
    },
    {
      "cell_type": "code",
      "metadata": {
        "id": "k89FSByYY9-F",
        "colab_type": "code",
        "outputId": "9898d55f-56ae-4339-89af-2d94001643e8",
        "colab": {
          "base_uri": "https://localhost:8080/",
          "height": 34
        }
      },
      "source": [
        "# Load \"reddit-corpus-small\"\n",
        "small_reddit_corpus_raw = convokit.Corpus(convokit.download(\"reddit-corpus-small\"))"
      ],
      "execution_count": 43,
      "outputs": [
        {
          "output_type": "stream",
          "text": [
            "Dataset already exists at /Users/katyblumer/.convokit/downloads/reddit-corpus-small\n"
          ],
          "name": "stdout"
        }
      ]
    },
    {
      "cell_type": "code",
      "metadata": {
        "id": "WLWyok6HZfLd",
        "colab_type": "code",
        "cellView": "code",
        "outputId": "a1f10760-4876-4464-f2e7-3b103e73e3f4",
        "colab": {
          "base_uri": "https://localhost:8080/",
          "height": 34
        }
      },
      "source": [
        "#@title Subsample dataset\n",
        "num_convos = 100 #@param\n",
        "\n",
        "sampled_utts = []\n",
        "convo_sample_ids = small_reddit_corpus_raw.get_conversation_ids()[:num_convos]\n",
        "for idx in convo_sample_ids:\n",
        "  convo = small_reddit_corpus_raw.get_conversation(idx)\n",
        "  for utt_id in convo.get_utterance_ids():\n",
        "    sampled_utts.append(convo.get_utterance(utt_id))\n",
        "small_reddit_corpus = convokit.Corpus(utterances=sampled_utts)\n",
        "print(\"Sampled corpus with {} convos and {} utterances\".format(len(small_reddit_corpus.get_conversation_ids()), len(small_reddit_corpus.get_utterance_ids())))"
      ],
      "execution_count": 44,
      "outputs": [
        {
          "output_type": "stream",
          "text": [
            "Sampled corpus with 100 convos and 3932 utterances\n"
          ],
          "name": "stdout"
        }
      ]
    },
    {
      "cell_type": "code",
      "metadata": {
        "id": "2fjjvevaobzf",
        "colab_type": "code",
        "colab": {}
      },
      "source": [
        "# RERUN THIS CELL if you change anything in your local convoikit, then you don't \n",
        "# have to restart the kernel. \n",
        "# If you get a StopIteration error on the first run, that means it's working - just run the cell again. \n",
        "\n",
        "# If you don't, then either your file hasn't changed or autoreload has stopped \n",
        "# working (sometimes it stops working until you restart the kernel... seems to \n",
        "# be when you use reload_ext instead of load_ext????)\n",
        "%autoreload"
      ],
      "execution_count": 0,
      "outputs": []
    },
    {
      "cell_type": "code",
      "metadata": {
        "id": "CI2lc-RodHzl",
        "colab_type": "code",
        "outputId": "ad2ff4bb-91c5-4954-b1bb-90112834c23a",
        "colab": {
          "base_uri": "https://localhost:8080/",
          "height": 340
        }
      },
      "source": [
        "reload_from_api = False\n",
        "if reload_from_api:\n",
        "  tox_small_reddit = convokit.Toxicity(api_key=\"Not currently used - is hardcoded\", toxicity_path_to_save=\"convokit/toxicity/data/reddit_small_corpus.json\")\n",
        "else:\n",
        "  tox_small_reddit = convokit.Toxicity(toxicity_json_path=\"convokit/toxicity/data/reddit_small_corpus.json\")\n",
        "\n",
        "small_reddit_corpus = tox_small_reddit.transform(small_reddit_corpus)"
      ],
      "execution_count": 48,
      "outputs": [
        {
          "output_type": "display_data",
          "data": {
            "text/plain": [
              "HBox(children=(IntProgress(value=0), HTML(value='')))"
            ],
            "application/vnd.jupyter.widget-view+json": {
              "version_major": 2,
              "version_minor": 0,
              "model_id": "fd8739ec34f446b88713550b359891ea"
            }
          },
          "metadata": {
            "tags": []
          }
        },
        {
          "output_type": "stream",
          "text": [
            "\n"
          ],
          "name": "stdout"
        },
        {
          "output_type": "error",
          "ename": "KeyError",
          "evalue": "ignored",
          "traceback": [
            "\u001b[0;31m---------------------------------------------------------------------------\u001b[0m",
            "\u001b[0;31mKeyError\u001b[0m                                  Traceback (most recent call last)",
            "\u001b[0;32m<ipython-input-48-ef34ed8c03ba>\u001b[0m in \u001b[0;36m<module>\u001b[0;34m\u001b[0m\n\u001b[1;32m      5\u001b[0m   \u001b[0mtox_small_reddit\u001b[0m \u001b[0;34m=\u001b[0m \u001b[0mconvokit\u001b[0m\u001b[0;34m.\u001b[0m\u001b[0mToxicity\u001b[0m\u001b[0;34m(\u001b[0m\u001b[0mtoxicity_json_path\u001b[0m\u001b[0;34m=\u001b[0m\u001b[0;34m\"convokit/toxicity/data/reddit_small_corpus.json\"\u001b[0m\u001b[0;34m)\u001b[0m\u001b[0;34m\u001b[0m\u001b[0;34m\u001b[0m\u001b[0m\n\u001b[1;32m      6\u001b[0m \u001b[0;34m\u001b[0m\u001b[0m\n\u001b[0;32m----> 7\u001b[0;31m \u001b[0msmall_reddit_corpus\u001b[0m \u001b[0;34m=\u001b[0m \u001b[0mtox_small_reddit\u001b[0m\u001b[0;34m.\u001b[0m\u001b[0mtransform\u001b[0m\u001b[0;34m(\u001b[0m\u001b[0msmall_reddit_corpus\u001b[0m\u001b[0;34m)\u001b[0m\u001b[0;34m\u001b[0m\u001b[0;34m\u001b[0m\u001b[0m\n\u001b[0m",
            "\u001b[0;32m~/repos/Cornell-Conversational-Analysis-Toolkit/convokit/toxicity/toxicity.py\u001b[0m in \u001b[0;36mtransform\u001b[0;34m(self, corpus)\u001b[0m\n\u001b[1;32m    122\u001b[0m                     \u001b[0mscores_to_save\u001b[0m\u001b[0;34m[\u001b[0m\u001b[0mutt\u001b[0m\u001b[0;34m.\u001b[0m\u001b[0mid\u001b[0m\u001b[0;34m]\u001b[0m \u001b[0;34m=\u001b[0m \u001b[0mutt_score\u001b[0m\u001b[0;34m\u001b[0m\u001b[0;34m\u001b[0m\u001b[0m\n\u001b[1;32m    123\u001b[0m                 \u001b[0;32melse\u001b[0m\u001b[0;34m:\u001b[0m\u001b[0;34m\u001b[0m\u001b[0;34m\u001b[0m\u001b[0m\n\u001b[0;32m--> 124\u001b[0;31m                     \u001b[0mutt_score\u001b[0m \u001b[0;34m=\u001b[0m \u001b[0mtoxicity_scores_dict\u001b[0m\u001b[0;34m[\u001b[0m\u001b[0mutt\u001b[0m\u001b[0;34m.\u001b[0m\u001b[0mid\u001b[0m\u001b[0;34m]\u001b[0m\u001b[0;34m\u001b[0m\u001b[0;34m\u001b[0m\u001b[0m\n\u001b[0m\u001b[1;32m    125\u001b[0m \u001b[0;34m\u001b[0m\u001b[0m\n\u001b[1;32m    126\u001b[0m                 \u001b[0mconvo_scores\u001b[0m\u001b[0;34m+=\u001b[0m\u001b[0mutt_score\u001b[0m\u001b[0;34m\u001b[0m\u001b[0;34m\u001b[0m\u001b[0m\n",
            "\u001b[0;31mKeyError\u001b[0m: '9ca0yk'"
          ]
        }
      ]
    },
    {
      "cell_type": "markdown",
      "metadata": {
        "id": "3DyMc5qQ186S",
        "colab_type": "text"
      },
      "source": [
        "## IQ2"
      ]
    },
    {
      "cell_type": "code",
      "metadata": {
        "id": "_-kioOcV1vMl",
        "colab_type": "code",
        "colab": {}
      },
      "source": [
        "iq2_corpus = convokit.Corpus(filename=\"datasets/iq2_corpus\")\n"
      ],
      "execution_count": 0,
      "outputs": []
    },
    {
      "cell_type": "markdown",
      "metadata": {
        "colab_type": "text",
        "id": "BPp74ueN2OrE"
      },
      "source": [
        "### Sample"
      ]
    },
    {
      "cell_type": "code",
      "metadata": {
        "colab_type": "code",
        "outputId": "f657ff64-2e07-4472-b06c-6fce21d612b7",
        "id": "T0SPmTLX2OrM",
        "cellView": "code",
        "colab": {
          "base_uri": "https://localhost:8080/",
          "height": 52
        }
      },
      "source": [
        "utts = iq2_corpus.utterances\n",
        "num_convos = None #@param\n",
        "print(len(utts))\n",
        "\n",
        "sampled_utts = []\n",
        "convo_sample_ids = iq2_corpus.get_conversation_ids()\n",
        "if num_convos:\n",
        "  convo_sample_ids = convo_sample_ids[:num_convos]\n",
        "for idx in convo_sample_ids:\n",
        "  convo = iq2_corpus.get_conversation(idx)\n",
        "  for utt_id in convo.get_utterance_ids():\n",
        "    sampled_utts.append(convo.get_utterance(utt_id))\n",
        "small_iq2_corpus = convokit.Corpus(utterances=sampled_utts)\n",
        "for idx in convo_sample_ids:\n",
        "  small_iq2_corpus.get_conversation(idx).meta = iq2_corpus.get_conversation(idx).meta\n",
        "print(\"Sampled corpus with {} convos and {} utterances\".format(len(small_iq2_corpus.get_conversation_ids()), len(small_iq2_corpus.get_utterance_ids())))"
      ],
      "execution_count": 58,
      "outputs": [
        {
          "output_type": "stream",
          "text": [
            "26562\n",
            "Sampled corpus with 108 convos and 26562 utterances\n"
          ],
          "name": "stdout"
        }
      ]
    },
    {
      "cell_type": "code",
      "metadata": {
        "id": "sF05ywq13vJB",
        "colab_type": "code",
        "colab": {}
      },
      "source": [
        "%autoreload"
      ],
      "execution_count": 0,
      "outputs": []
    },
    {
      "cell_type": "code",
      "metadata": {
        "id": "5z5qYw3q3PR5",
        "colab_type": "code",
        "outputId": "03d715ba-1f49-4dd8-e9f8-7ce02cdd3eec",
        "colab": {
          "base_uri": "https://localhost:8080/",
          "height": 34
        }
      },
      "source": [
        "reload_from_api = False\n",
        "if reload_from_api:\n",
        "  tox_small_iq2 = convokit.Toxicity(api_key=\"Not currently used - is hardcoded\", toxicity_path_to_save=\"convokit/toxicity/data/iq2_corpus.json\")\n",
        "else:\n",
        "  tox_small_iq2 = convokit.Toxicity(toxicity_json_path=\"convokit/toxicity/data/iq2_corpus.json\")\n",
        "\n",
        "small_iq2_corpus = tox_small_iq2.transform(small_iq2_corpus)"
      ],
      "execution_count": 62,
      "outputs": [
        {
          "output_type": "display_data",
          "data": {
            "text/plain": [
              "HBox(children=(IntProgress(value=0, max=108), HTML(value='')))"
            ],
            "application/vnd.jupyter.widget-view+json": {
              "version_major": 2,
              "version_minor": 0,
              "model_id": "506da7401f7044f0a4030d0df52c4020"
            }
          },
          "metadata": {
            "tags": []
          }
        },
        {
          "output_type": "stream",
          "text": [
            "\n"
          ],
          "name": "stdout"
        }
      ]
    },
    {
      "cell_type": "markdown",
      "metadata": {
        "colab_type": "text",
        "id": "1wiYGMqn2OrO"
      },
      "source": [
        "### Upvotes"
      ]
    },
    {
      "cell_type": "code",
      "metadata": {
        "id": "4RQ3MVjk9Z2U",
        "colab_type": "code",
        "outputId": "37738254-2ff4-42c9-be58-46b601bad62e",
        "colab": {
          "base_uri": "https://localhost:8080/",
          "height": 245
        }
      },
      "source": [
        "for i,x in enumerate(small_iq2_corpus.iter_conversations()):\n",
        "  print(x)\n",
        "  if i >= 10:\n",
        "    break\n",
        "\n",
        "print(small_iq2_corpus.meta)"
      ],
      "execution_count": 63,
      "outputs": [
        {
          "output_type": "stream",
          "text": [
            "Conversation({'_owner': <convokit.model.corpus.Corpus object at 0x7f88b145c588>, '_id': '0', '_utterance_ids': ['0', '1', '2', '3', '4', '5', '6', '7', '8', '9', '10', '11', '12', '13', '14', '15', '16', '17', '18', '19', '20', '21', '22', '23', '24', '25', '26', '27', '28', '29', '30', '31', '32', '33', '34', '35', '36', '37', '38', '39', '40', '41', '42', '43', '44', '45', '46', '47', '48', '49', '50', '51', '52', '53', '54', '55', '56', '57', '58', '59', '60', '61', '62', '63', '64', '65', '66', '67', '68', '69', '70', '71', '72', '73', '74', '75', '76', '77', '78', '79', '80', '81', '82', '83', '84', '85', '86', '87', '88', '89', '90', '91', '92', '93', '94', '95', '96', '97', '98', '99', '100', '101', '102', '103', '104', '105', '106', '107', '108', '109', '110', '111', '112', '113', '114', '115', '116', '117', '118', '119', '120', '121', '122', '123', '124', '125', '126', '127', '128', '129', '130', '131', '132', '133', '134', '135', '136', '137', '138', '139', '140', '141', '142', '143', '144', '145', '146', '147', '148', '149', '150', '151', '152', '153', '154', '155', '156', '157', '158', '159', '160', '161', '162', '163', '164', '165', '166', '167', '168', '169', '170', '171', '172', '173', '174', '175', '176', '177', '178', '179', '180', '181', '182', '183', '184', '185', '186', '187', '188', '189', '190', '191', '192', '193', '194', '195', '196', '197', '198', '199', '200', '201', '202', '203', '204', '205', '206', '207', '208', '209', '210', '211', '212', '213', '214', '215', '216', '217', '218', '219', '220', '221', '222', '223', '224', '225', '226', '227', '228', '229', '230', '231', '232', '233', '234', '235', '236', '237', '238', '239', '240', '241', '242', '243', '244', '245', '246', '247', '248', '249', '250', '251', '252', '253', '254', '255', '256', '257', '258', '259', '260', '261', '262', '263', '264', '265', '266', '267', '268', '269', '270', '271', '272', '273', '274', '275', '276', '277', '278', '279', '280', '281', '282', '283', '284', '285', '286', '287', '288', '289', '290', '291', '292', '293', '294', '295', '296', '297', '298', '299', '300', '301', '302', '303', '304', '305', '306', '307', '308', '309', '310', '311', '312', '313', '314', '315', '316', '317', '318', '319', '320', '321', '322', '323', '324', '325', '326', '327', '328', '329', '330', '331', '332', '333', '334', '335', '336', '337', '338', '339', '340', '341', '342', '343', '344', '345', '346', '347', '348', '349', '350', '351', '352', '353', '354', '355'], '_usernames': None, '_meta': {'summary': 'Debate description coming soon.', 'title': 'We Should Accept Performance-Enhancing Drugs in Competitive Sports', 'date': 'Tuesday, January 15, 2008', 'url': 'http://intelligencesquaredus.org/debates/past-debates/item/574-we-should-accept-performance-enhancing-drugs-in-competitive-sports', 'results': {'breakdown': None, 'post': {'undecided': 4.0, 'for': 37.0, 'against': 59.0}, 'pre': {'undecided': 19.0, 'for': 18.0, 'against': 63.0}}, 'speakers': {'for': [{'name': 'Radley Balko', 'bio': 'Previously, Balko was a policy analyst for the Cato Institute specializing in civil liberties issues, where he published a paper on alcohol policy and a groundbreaking study on paramilitary police raids. He writes a biweekly column for FoxNews.com and publishes the personal blog, TheAgitator.com.', 'bio_short': 'Senior Editor and Investigative Journalist for Reason magazine'}, {'name': 'Norman Fost', 'bio': 'Fost founded the Bioethics Program at the University of Wisconsin in 1973. He has published widely on ethical and legal issues in health care, and served on numerous federal committees, including President Clinton’s Health Care Task Force, and from 1994-1998 was an elected member of the Princeton University Board of Trustees.', 'bio_short': 'M.D., M.P.H., a Professor of Pediatrics and Bioethics at the University of Wisconsin, and Director of the Bioethics Program'}, {'name': 'Julian Savulescu', 'bio': 'Julian is director of the Oxford Uehiro Centre for Practical Ethics and of the Program on Ethics and Biosciences in the James Martin 21st Century School. He is also head of the Melbourne-Oxford Stem Cell Collaboration, which is devoted to examining the ethical implications of cloning and embryonic stem cell research. His areas of research include the ethics of genetics, research ethics, medical ethics, sports ethics, and the analytic philosophical basis of practical ethics.', 'bio_short': 'Uehiro Professor of Practical Ethics at the University of Oxford'}], 'moderator': {'name': 'Bob Costas', 'bio': None, 'bio_short': None}, 'against': [{'name': 'George Michael', 'bio': 'George pioneered the sports highlight shows that fill the airwaves today. He was the creator and host of the nationally syndicated Sports Machine, originally called Sports Final at its inception in 1980. During his 27 years as sports director at NBC4, he earned more than 40 Emmy Awards for excellence in broadcasting. Michael is the host of the award-winning Redskins Report, The Joe Gibbs Show and Full Court Press.', 'bio_short': 'Legendary Sportscaster'}, {'name': 'Dale Murphy', 'bio': 'Dale was a seven-time All-Star, five-time Golden Glove winner and two-time National League MVP with the Atlanta Braves. He started the iWon’t Cheat Foundation to help rid sports of drugs, and to educate kids about the dangers of performance-enhancing drugs and the ethical issues involved in using them.', 'bio_short': 'Former Major League Baseball Outfielder and Catcher'}, {'name': 'Richard Pound', 'bio': \"Richard has been named to Time magazine's 100 most influential people in the world for his relentless efforts to rid sport of performance-enhancing drugs. Pound was an Olympic finalist at the Games of the XVII Olympiad in Rome in 1960, is a 30-year member of the International Olympic Committee and is a former president of the Canadian Olympic Committee. He is currently the chancellor of McGill University in Montreal.\", 'bio_short': 'Chairman of the World Anti-Doping Agency and a Partner in the Canadian Law Firm, Stikeman Elliott'}]}, 'winner': 'for', 'averagetoxicity': 0.16973462380337084}})\n",
            "Conversation({'_owner': <convokit.model.corpus.Corpus object at 0x7f88b145c588>, '_id': '356', '_utterance_ids': ['356', '357', '358', '359', '360', '361', '362', '363', '364', '365', '366', '367', '368', '369', '370', '371', '372', '373', '374', '375', '376', '377', '378', '379', '380', '381', '382', '383', '384', '385', '386', '387', '388', '389', '390', '391', '392', '393', '394', '395', '396', '397', '398', '399', '400', '401', '402', '403', '404', '405', '406', '407', '408', '409', '410', '411', '412', '413', '414', '415', '416', '417', '418', '419', '420', '421', '422', '423', '424', '425', '426', '427', '428', '429', '430', '431', '432', '433', '434', '435', '436', '437', '438', '439', '440', '441', '442', '443', '444', '445', '446', '447', '448', '449', '450', '451', '452', '453', '454', '455', '456', '457', '458', '459', '460', '461', '462', '463', '464', '465', '466', '467', '468', '469', '470', '471', '472', '473', '474', '475', '476', '477', '478', '479', '480', '481', '482', '483', '484', '485', '486', '487', '488', '489', '490', '491', '492', '493', '494', '495', '496', '497', '498', '499', '500', '501', '502', '503', '504', '505', '506', '507', '508', '509', '510', '511', '512', '513', '514', '515', '516', '517', '518', '519', '520', '521', '522', '523', '524', '525', '526', '527', '528', '529', '530', '531', '532', '533', '534', '535', '536', '537', '538', '539', '540', '541', '542', '543', '544', '545', '546', '547', '548', '549', '550', '551', '552', '553', '554', '555', '556', '557', '558', '559', '560', '561', '562', '563', '564', '565', '566', '567', '568', '569', '570', '571', '572', '573', '574', '575', '576', '577', '578', '579', '580', '581', '582', '583', '584', '585', '586', '587', '588', '589', '590', '591', '592', '593', '594', '595', '596', '597', '598', '599', '600', '601', '602', '603', '604', '605', '606', '607', '608', '609', '610', '611', '612', '613', '614', '615', '616', '617', '618', '619', '620', '621', '622', '623', '624', '625', '626', '627', '628', '629', '630', '631', '632', '633', '634', '635', '636', '637', '638', '639', '640', '641', '642', '643', '644', '645', '646', '647', '648', '649', '650', '651', '652', '653', '654', '655', '656', '657', '658', '659', '660', '661', '662', '663', '664', '665', '666', '667', '668', '669', '670'], '_usernames': None, '_meta': {'summary': 'How do we fix the economy? The U.S. government\\'s budget deficit is nearing a trillion dollars for the fourth straight year and unemployment remains high. With the Bush-era tax cuts that are set to expire at the end of 2012, what is the best move for continued economic recovery? President Obama says we should raise taxes on those making more than $250,000 to reduce the deficit. Others say that the richest 1% already pay more than a quarter of all federal taxes and higher taxes for job creators would slow economic growth. Are the nation\\'s wealthiest not paying their \"fair share,\" or should tax breaks be extended for everyone in the name of job creation?\\nBrought to you in partnership with the Richard Paul Richman Center for Business, Law, and Public Policy, a joint venture of Columbia Business School and Columbia Law School. \\xa0The Richman Center fosters dialogue and debate on emerging policy questions where business and markets intersect with the law.\\xa0More Information', 'title': 'The Rich Are Taxed Enough', 'date': 'Wednesday, October 24, 2012', 'url': 'http://intelligencesquaredus.org/debates/past-debates/item/775-the-rich-are-taxed-enough', 'results': {'breakdown': {'against_for': 5.0, 'undecided_for': 7.0, 'for_against': 7.0, 'for_for': 19.0, 'undecided_against': 14.0, 'for_undecided': 2.0, 'undecided_undecided': 4.0, 'against_undecided': 2.0, 'against_against': 42.0}, 'post': {'undecided': 7.0, 'for': 30.0, 'against': 63.0}, 'pre': {'undecided': 23.0, 'for': 28.0, 'against': 49.0}}, 'speakers': {'for': [{'name': 'Glenn Hubbard', 'bio': 'Glenn Hubbard is Dean of Columbia Business School and the Russell L. Carson Professor of Finance and Economics. Hubbard is the author of two leading textbooks on money and financial markets and principles of economics, as well as co-author of The Aid Trap: Hard Truths About Ending Poverty and Healthy (2009), and Wealthy, and Wise: Five Steps to a Better Health Care System (2006). He previously served as Deputy Assistant Secretary at the U.S. Department of the Treasury from 1991 to 1993, and Chairman of the Council of Economic Advisors from 2001 to 2003.', 'bio_short': 'Dean, Columbia Business School'}, {'name': 'Arthur Laffer', 'bio': 'Arthur Laffer is the Founder and Chairman of Laffer Associates, an economic research and consulting firm, and Laffer Investments, an investment management firm.\\xa0 In the 1980s, his economic acumen and influence in triggering a tax-cutting movement earned him the distinction as “The Father of Supply-Side Economics.”\\xa0 Laffer was a member of President Reagan’s Economic Policy Advisory Board from 1981 to 1989 and served as Chief Economist in the Office of Management and Budget from 1970 to 1972.', 'bio_short': 'Known as “The Father of Supply Side Economics.”\\xa0Former Member, President Reagan’s Economic Policy Advisory Board'}], 'moderator': {'name': 'John Donvan', 'bio': None, 'bio_short': 'Author & Correspondent for ABC News'}, 'against': [{'name': 'Robert Reich', 'bio': 'Robert Reich is Chancellor’s Professor of Public Policy at the University of California at Berkeley. Reich was Secretary of Labor in the Clinton administration from 1993-1997. He has written thirteen books, including the best sellers Aftershock (2011) and The Work of Nations (1992). His latest is an e-book, Beyond Outrage (2012). He is also a founding Editor of the American Prospect magazine and Chairman of Common Cause. He writes his own blog about the political economy at robertreich.org.', 'bio_short': 'Chancellor’s Professor of Public Policy at UC Berkeley and former Secretary of Labor'}, {'name': 'Mark Zandi', 'bio': 'As Chief Economist of Moody’s Analytics, Mark Zandi directs the company’s research and consulting activities. Zandi’s recent research has studied the determinants of mortgage foreclosure and personal bankruptcy, analyzed the economic impact of various tax and government spending policies, and assessed the appropriate policy response to bubbles in asset markets. Frequently testifying before Congress, Zandi is a trusted adviser to policy makers on topics including the economic outlook, the merits of fiscal stimulus, financial regulatory reform, and foreclosure mitigation. Zandi received his Ph.D. at the University of Pennsylvania, where he did his research with Gerard Adams and Nobel laureate Lawrence Klein.', 'bio_short': \"Chief Economist of Moody's Analytics\"}]}, 'winner': 'against', 'averagetoxicity': 0.10064506933015872}})\n",
            "Conversation({'_owner': <convokit.model.corpus.Corpus object at 0x7f88b145c588>, '_id': '671', '_utterance_ids': ['671', '672', '673', '674', '675', '676', '677', '678', '679', '680', '681', '682', '683', '684', '685', '686', '687', '688', '689', '690', '691', '692', '693', '694', '695', '696', '697', '698', '699', '700', '701', '702', '703', '704', '705', '706', '707', '708', '709', '710', '711', '712', '713', '714', '715', '716', '717', '718', '719', '720', '721', '722', '723', '724', '725', '726', '727', '728', '729', '730', '731', '732', '733', '734', '735', '736', '737', '738', '739', '740', '741', '742', '743', '744', '745', '746', '747', '748', '749', '750', '751', '752', '753', '754', '755', '756', '757', '758', '759', '760', '761', '762', '763', '764', '765', '766', '767', '768', '769', '770', '771', '772', '773', '774', '775', '776', '777', '778', '779', '780', '781', '782', '783', '784', '785', '786', '787', '788', '789', '790', '791', '792', '793', '794', '795', '796', '797', '798', '799', '800', '801', '802', '803', '804', '805', '806', '807', '808', '809', '810', '811', '812', '813', '814', '815', '816', '817', '818', '819', '820', '821', '822', '823', '824', '825', '826', '827', '828', '829', '830', '831', '832', '833', '834', '835', '836', '837', '838', '839', '840', '841', '842', '843', '844', '845', '846', '847', '848', '849', '850', '851', '852', '853', '854', '855', '856', '857', '858', '859', '860', '861', '862', '863', '864', '865', '866', '867', '868', '869', '870', '871', '872', '873', '874', '875', '876', '877', '878', '879', '880', '881', '882', '883', '884', '885', '886', '887', '888', '889', '890', '891', '892', '893', '894', '895', '896'], '_usernames': None, '_meta': {'summary': 'Debate description coming soon.', 'title': 'Freedom of Expression Must Include the License to Offend', 'date': 'Tuesday, October 16, 2006', 'url': 'http://intelligencesquaredus.org/debates/past-debates/item/545-freedom-of-expression-must-include-the-license-to-offend', 'results': {'breakdown': None, 'post': {'undecided': 1.0, 'for': 83.0, 'against': 16.0}, 'pre': {'undecided': 11.0, 'for': 78.0, 'against': 11.0}}, 'speakers': {'for': [{'name': 'Philip Gourevitch', 'bio': 'Philip is author of A Cold Case (2001) and We Wish to Inform You That Tomorrow We Will be Killed With Our Families: Stories From Rwanda (1998), winner of the National Book Critics Circle Award, the LA Times Book Prize, and in England, the Guardian First Book Award.', 'bio_short': 'Editor of the Paris Review and writer for the New Yorker'}, {'name': 'Christopher Hitchens', 'bio': 'Now living in Washington, DC, Christopher contributes an essay on books each month to the Atlantic Monthly. He is the author of more than ten books, is a contributing editor of Vanity Fair and has written for American and British periodicals, including the Nation, the London Review of Books, Granta, Harper’s, Slate, etc.', 'bio_short': 'British author, journalist, literary critic and public intellectual'}, {'name': 'Signe Wilkinson', 'bio': 'Signe is the author of One Nation, Under Surveillance, and the winner of the Pulitzer Prize for editorial cartooning in 1992. Her editorial cartoons are syndicated by the Washington Post Writers Group.', 'bio_short': 'Editorial Cartoonist for the Philadelphia Daily News'}], 'moderator': {'name': 'Jeffrey Toobin', 'bio': None, 'bio_short': None}, 'against': [{'name': 'David Cesarani', 'bio': 'David is a British scholar specializing in Jewish history and has written and edited over a dozen books. He has advised the British government on commemoration of the Holocaust. In 2006, he was recognized in the Queen’s New Year’s Honors list for services to Holocaust education.', 'bio_short': 'Research Professor in History at Royal Holloway, University of London'}, {'name': 'Daisy Khan', 'bio': 'ASMA is a non-profit religious and educational organization dedicated to building bridges between the American public and American Muslims. As wife of Imam Feisal of Masjid al-Farah in New York City, Khan mentors young Muslim women who face challenges of cultural assimilation in America and counsels Muslims on marital and spiritual issues.', 'bio_short': 'Executive Director of the American Society for Muslim Advancement'}, {'name': 'Mari Matsuda', 'bio': 'Mari specializes in the fields of torts, constitutional law, legal history, feminist theory, critical race theory, and civil rights law. She was the first tenured female Asian American law professor in the US at UCLA School of Law. Matsuda is the author of numerous books with Charles R. Lawrence III.', 'bio_short': 'Professor of Law at Georgetown University Law Center and an activist scholar'}]}, 'winner': 'tie', 'averagetoxicity': 0.18457131669469032}})\n",
            "Conversation({'_owner': <convokit.model.corpus.Corpus object at 0x7f88b145c588>, '_id': '897', '_utterance_ids': ['897', '898', '899', '900', '901', '902', '903', '904', '905', '906', '907', '908', '909', '910', '911', '912', '913', '914', '915', '916', '917', '918', '919', '920', '921', '922', '923', '924', '925', '926', '927', '928', '929', '930', '931', '932', '933', '934', '935', '936', '937', '938', '939', '940', '941', '942', '943', '944', '945', '946', '947', '948', '949', '950', '951', '952', '953', '954', '955', '956', '957', '958', '959', '960', '961', '962', '963', '964', '965', '966', '967', '968', '969', '970', '971', '972', '973', '974', '975', '976', '977', '978', '979', '980', '981', '982', '983', '984', '985', '986', '987', '988', '989', '990', '991', '992', '993', '994', '995', '996', '997', '998', '999', '1000', '1001', '1002', '1003', '1004', '1005', '1006', '1007', '1008', '1009', '1010', '1011', '1012', '1013', '1014', '1015', '1016', '1017', '1018', '1019', '1020', '1021', '1022', '1023', '1024', '1025', '1026', '1027', '1028', '1029', '1030', '1031', '1032', '1033', '1034', '1035', '1036', '1037', '1038', '1039', '1040', '1041', '1042', '1043', '1044', '1045', '1046', '1047', '1048', '1049', '1050', '1051', '1052', '1053', '1054', '1055', '1056', '1057', '1058', '1059', '1060', '1061', '1062', '1063', '1064', '1065', '1066', '1067', '1068', '1069', '1070', '1071', '1072', '1073', '1074', '1075', '1076', '1077', '1078', '1079', '1080', '1081', '1082', '1083', '1084', '1085', '1086', '1087', '1088', '1089', '1090', '1091', '1092', '1093', '1094', '1095', '1096', '1097', '1098', '1099', '1100', '1101', '1102', '1103', '1104', '1105', '1106', '1107', '1108', '1109', '1110', '1111', '1112', '1113', '1114', '1115', '1116', '1117', '1118', '1119', '1120', '1121', '1122', '1123', '1124', '1125', '1126', '1127', '1128', '1129', '1130', '1131', '1132', '1133', '1134', '1135', '1136', '1137', '1138', '1139', '1140', '1141', '1142', '1143', '1144', '1145', '1146', '1147', '1148', '1149', '1150', '1151', '1152', '1153', '1154', '1155', '1156', '1157', '1158', '1159', '1160', '1161', '1162', '1163', '1164', '1165', '1166', '1167', '1168', '1169', '1170', '1171', '1172', '1173', '1174', '1175', '1176'], '_usernames': None, '_meta': {'summary': 'Debate description coming soon.', 'title': \"It's Time to End Affirmative Action\", 'date': 'Tuesday, November 13, 2007', 'url': 'http://intelligencesquaredus.org/debates/past-debates/item/572-its-time-to-end-affirmative-action', 'results': {'breakdown': None, 'post': {'undecided': 6.0, 'for': 40.0, 'against': 55.0}, 'pre': {'undecided': 22.0, 'for': 34.0, 'against': 44.0}}, 'speakers': {'for': [{'name': 'John H. McWhorter', 'bio': \"John's academic specialty is language change and language contact. He is the author of 11 books, including Losing the Race, an anthology of race writings, and Winning the Race: Beyond the Crisis in Black America. He has written for many publications including the New Republic, Wall Street Journal, Washington Post, and the New York Times.\", 'bio_short': 'Senior Fellow at the Manhattan Institute and weekly columnist for the New York Sun'}, {'name': 'Terence J. Pell', 'bio': 'Prior to joining CIR in 1997, Pell worked as an attorney with the firm of Arent, Fox, Kintner, Plotkin & Kahn. From 1985 to 1988, he was a deputy assistant secretary for civil rights in the U.S. Department of Education. He later served as general counsel and chief of staff at the Office of National Drug Control Policy.', 'bio_short': 'President of The Center for Individual Rights (CIR)'}, {'name': 'Joseph C. Phillips', 'bio': \"Joseph has written articles for many newspapers and magazines, and his syndicated column appears in papers across the country and online. He was a 2005 Lincoln Fellow through the Claremont Institute and is the author of He Talk Like A White Boy (2006). Phillips is probably best known for his roles on NBC's The Cosby Show and ABC’s General Hospital.\", 'bio_short': 'Actor, Social Commentator and Syndicated Columnist'}], 'moderator': {'name': 'Robert Siegel', 'bio': None, 'bio_short': None}, 'against': [{'name': 'Khin Mai Aung', 'bio': 'Aung works on educational equity and youth rights issues, including access to bilingual education and affirmative action. In fall 2006, she worked with some 15 Asian American education and youth advocacy groups to file an amicus brief in two cases before the United States Supreme Court concerning voluntary desegregation plans in Seattle, WA and Louisville, KY.', 'bio_short': 'Staff Attorney at the Asian American Legal Defense and Education Fund'}, {'name': 'Kimberlé W. Crenshaw', 'bio': \"Writing in the areas of civil rights, black feminist legal theory, and race, racism and the law, Kimberlé's articles have appeared in the Harvard Law Review, National Black Law Journal, Stanford Law Review and Southern California Law Review. She is the founding coordinator of the Critical Race Theory Workshop, and the co-editor of a volume, Critical Race Theory: Key Documents That Shaped the Movement.\", 'bio_short': 'Professor of Law at UCLA and at Columbia Law School'}, {'name': 'Tim Wise', 'bio': \"Tim has trained teachers as well as corporate, government, media and law enforcement officials on methods of dismantling institutional racism and has served as a consultant to plaintiffs' attorneys in federal discrimination cases. He has contributed essays to 15 books and is the author of White Like Me: Reflections on Race from a Privileged Son and Affirmative Action: Racial Preference in Black and White.\", 'bio_short': 'Writer and Educator'}]}, 'winner': 'against', 'averagetoxicity': 0.1401964196285715}})\n",
            "Conversation({'_owner': <convokit.model.corpus.Corpus object at 0x7f88b145c588>, '_id': '1177', '_utterance_ids': ['1177', '1178', '1179', '1180', '1181', '1182', '1183', '1184', '1185', '1186', '1187', '1188', '1189', '1190', '1191', '1192', '1193', '1194', '1195', '1196', '1197', '1198', '1199', '1200', '1201', '1202', '1203', '1204', '1205', '1206', '1207', '1208', '1209', '1210', '1211', '1212', '1213', '1214', '1215', '1216', '1217', '1218', '1219', '1220', '1221', '1222', '1223', '1224', '1225', '1226', '1227', '1228', '1229', '1230', '1231', '1232', '1233', '1234', '1235', '1236', '1237', '1238', '1239', '1240', '1241', '1242', '1243', '1244', '1245', '1246', '1247', '1248', '1249', '1250', '1251', '1252', '1253', '1254', '1255', '1256', '1257', '1258', '1259', '1260', '1261', '1262', '1263', '1264', '1265', '1266', '1267', '1268', '1269', '1270', '1271', '1272', '1273', '1274', '1275', '1276', '1277', '1278', '1279', '1280', '1281', '1282', '1283', '1284', '1285', '1286', '1287', '1288', '1289', '1290', '1291', '1292', '1293', '1294', '1295', '1296', '1297', '1298', '1299', '1300', '1301', '1302', '1303', '1304', '1305', '1306', '1307', '1308', '1309', '1310', '1311', '1312', '1313', '1314', '1315', '1316', '1317', '1318', '1319', '1320', '1321', '1322', '1323', '1324', '1325', '1326', '1327', '1328', '1329', '1330', '1331', '1332', '1333', '1334', '1335', '1336', '1337', '1338', '1339', '1340', '1341', '1342', '1343', '1344', '1345', '1346', '1347', '1348', '1349', '1350', '1351', '1352', '1353', '1354', '1355', '1356', '1357', '1358', '1359', '1360', '1361', '1362', '1363', '1364', '1365', '1366', '1367', '1368', '1369', '1370', '1371', '1372', '1373', '1374', '1375', '1376', '1377', '1378', '1379', '1380', '1381', '1382', '1383', '1384', '1385', '1386', '1387', '1388', '1389', '1390', '1391', '1392', '1393', '1394', '1395', '1396', '1397', '1398', '1399', '1400', '1401', '1402', '1403', '1404', '1405'], '_usernames': None, '_meta': {'summary': 'Smart technology grants us unprecedented, immediate access to knowledge and to each other—a ubiquitous and seamless presence in everyday life. But is there a downside to all of this connectivity? It’s been said that smart technology creates dependency on devices, narrows our world to echo chambers, and impairs cognitive skills through shortcuts and distraction. Are smart tech devices guiding so much of our decision making that we are losing autonomy without even realizing it? Or are these concerns an overstatement of the negative effects of high-tech consumption?', 'title': 'Smart Technology Is Making Us Dumb', 'date': 'Wednesday, May 13, 2015', 'url': 'http://intelligencesquaredus.org/debates/past-debates/item/1255-smart-technology-is-making-us-dumb', 'results': {'breakdown': {'against_for': 8.0, 'undecided_for': 12.0, 'for_against': 6.0, 'for_for': 26.0, 'undecided_against': 14.0, 'for_undecided': 4.0, 'undecided_undecided': 5.0, 'against_undecided': 2.0, 'against_against': 23.0}, 'post': {'undecided': 10.0, 'for': 47.0, 'against': 43.0}, 'pre': {'undecided': 30.0, 'for': 37.0, 'against': 33.0}}, 'speakers': {'for': [{'name': 'Nicholas Carr', 'bio': 'Nicholas Carr writes about technology and culture. He is the author of the acclaimed new book The Glass Cage: Automation and Us (2014), which examines the personal and social consequences of our ever growing dependency on computers. His previous work, The Shallows: What the Internet Is Doing to Our Brains (2011), was a Pulitzer Prize finalist and a New York Times bestseller. A former columnist for the Guardian, Carr writes the popular blog Rough Type and has written for The Atlantic, Wall Street Journal, New York Times, Wired, Nature, MIT Technology Review, and other periodicals. His essays, including “Is Google Making Us Stupid?” and “The Great Forgetting,” have been collected in several anthologies. Previously, Carr was executive editor of the Harvard Business Review, as well as a member of the Encyclopedia Britannica’s editorial board of advisors and the steering board of the World Economic Forum’s cloud computing project.', 'bio_short': 'Author, The Glass Cage: Automation and Us & The Shallows'}, {'name': 'Andrew Keen', 'bio': 'Andrew Keen is an Internet entrepreneur and the author of three books: The Internet Is Not the Answer (2015), Digital Vertigo: How Today’s Social Revolution Is Dividing, Diminishing and Disorienting Us (2012), and Cult of the Amateur: How The Internet Is Killing Our Culture (2007). In 1995, he founded Audiocafe.com and built it into a popular first generation Internet company. Keen is currently the executive director of the Silicon Valley salon FutureCast, a senior fellow at CALinnovates, the host of the “Keen On” Techonomy chat show, and a columnist for CNN.', 'bio_short': 'Internet Entrepreneur & Author, The Internet Is Not the Answer'}], 'moderator': {'name': 'John Donvan', 'bio': None, 'bio_short': 'Author & Correspondent for ABC News'}, 'against': [{'name': 'Genevieve Bell', 'bio': \"Genevieve Bell is an Intel Fellow and vice president of the Corporate Strategy Office at Intel Corporation. She leads a team of social scientists, interaction designers, human factors engineers and computer scientists focused on people's needs and desires to help shape new Intel products and technologies. An accomplished anthropologist, researcher, and author, she has been granted a number of patents for consumer electronics innovations. Bell is a highly regarded industry expert and frequent commentator on the intersection of culture and technology, featured in Wired, Forbes, Atlantic, Wall Street Journal and New York Times. She was recognized as one of the “100 Most Creative People in Business” by Fast Company, inducted into the Women in Technology International Hall of Fame, and honored as the 2013 Woman of Vision for Leadership by the Anita Borg Institute. With Paul Dourish, she authored Divining a Digital Future (2011).\", 'bio_short': 'Anthropologist & VP, Intel Corporation'}, {'name': 'David Weinberger', 'bio': 'David Weinberger is a senior researcher at the Berkman Center for Internet & Society at Harvard, where he previously served as co-director of the Library Innovation Lab and led its Interoperability Initiative. He is currently a fellow at the Kennedy School’s Shorenstein Center for Media, Politics, and Public Policy. His most recent book, Too Big to Know: Rethinking Knowledge Now That the Facts Aren\\'t the Facts, Experts Are Everywhere, and the Smartest Person in the Room Is the Room (2014), won two international Best Book of the Year awards. He has been published by Wired, Harvard Business Review, Scientific American, New York Times, and elsewhere. Additionally, Weinberger advised three U.S. presidential campaigns on Internet issues and was a Franklin Fellow at the U.S. State Department. Called a \"marketing guru\" by Wall Street Journal, he was previously a high tech marketing VP and strategic marketing consultant, a dot-com entrepreneur, and now serves on the advisory boards of several tech companies.', 'bio_short': 'Senior Researcher, Berkman Center & Author, Too Big to Know'}]}, 'winner': 'tie', 'averagetoxicity': 0.1665982515165939}})\n",
            "Conversation({'_owner': <convokit.model.corpus.Corpus object at 0x7f88b145c588>, '_id': '1406', '_utterance_ids': ['1406', '1407', '1408', '1409', '1410', '1411', '1412', '1413', '1414', '1415', '1416', '1417', '1418', '1419', '1420', '1421', '1422', '1423', '1424', '1425', '1426', '1427', '1428', '1429', '1430', '1431', '1432', '1433', '1434', '1435', '1436', '1437', '1438', '1439', '1440', '1441', '1442', '1443', '1444', '1445', '1446', '1447', '1448', '1449', '1450', '1451', '1452', '1453', '1454', '1455', '1456', '1457', '1458', '1459', '1460', '1461', '1462', '1463', '1464', '1465', '1466', '1467', '1468', '1469', '1470', '1471', '1472', '1473', '1474', '1475', '1476', '1477', '1478', '1479', '1480', '1481', '1482', '1483', '1484', '1485', '1486', '1487', '1488', '1489', '1490', '1491', '1492', '1493', '1494', '1495', '1496', '1497', '1498', '1499', '1500', '1501', '1502', '1503', '1504', '1505', '1506', '1507', '1508', '1509', '1510', '1511', '1512', '1513', '1514', '1515', '1516', '1517', '1518', '1519', '1520', '1521', '1522', '1523', '1524', '1525', '1526', '1527', '1528', '1529', '1530', '1531', '1532', '1533', '1534', '1535', '1536', '1537', '1538', '1539', '1540', '1541', '1542', '1543', '1544', '1545', '1546', '1547', '1548', '1549', '1550', '1551', '1552', '1553', '1554', '1555', '1556', '1557', '1558', '1559', '1560', '1561', '1562', '1563', '1564', '1565', '1566', '1567', '1568', '1569', '1570', '1571', '1572', '1573', '1574', '1575', '1576', '1577', '1578', '1579', '1580', '1581', '1582', '1583', '1584', '1585', '1586', '1587', '1588', '1589', '1590', '1591', '1592', '1593', '1594'], '_usernames': None, '_meta': {'summary': 'Debate description coming soon.', 'title': 'Better More Domestic Surveillance Than Another 9/11', 'date': 'Wednesday, April 18, 2007', 'url': 'http://intelligencesquaredus.org/debates/past-debates/item/563-better-more-domestic-surveillance-than-another-9-11', 'results': {'breakdown': None, 'post': {'undecided': 5.0, 'for': 40.0, 'against': 55.0}, 'pre': {'undecided': 22.0, 'for': 41.0, 'against': 37.0}}, 'speakers': {'for': [{'name': 'David Frum', 'bio': 'David has written several books, including the New York Times bestseller An End to Evil: How To Win the War on Terror with co-author Richard Perle. His sixth book, The Next Republican President, will be published in early 2007. Frum is a resident fellow at the American Enterprise Institute and writes columns for National Review Online, Canada’s National Post and Italy’s Il Foglio.', 'bio_short': 'Author'}, {'name': 'Andrew C. McCarthy', 'bio': \"From 1993 to 1996, while an assistant United States attorney for the Southern District of New York, Andrew led the prosecution against the jihad organization of Sheik Omar Abdel Rahman. Following the September 11 attacks, Mr. McCarthy supervised the U.S. attorney's Anti-Terrorism Command Post in New York City, coordinating investigative and preventive efforts with numerous federal and state law enforcement and intelligence agencies.\", 'bio_short': 'Professor of Law at the George Washington University Law School and the Legal Affairs Editor of the New Republic'}, {'name': 'John Yoo', 'bio': \"John has been teaching at Berkeley School of Law since 1993. From 2001 to 2003, he served as a deputy assistant attorney general in the Office of Legal Counsel of the U.S. Department of Justice, and from 1995 to 1996 as general counsel of the U.S. Senate Judiciary Committee. Professor Yoo is the author of War by Other Means: An Insider's Account of the War on Terror.\", 'bio_short': 'Professor of Law at the University of California at Berkeley School of Law'}], 'moderator': {'name': 'Chris Bury', 'bio': None, 'bio_short': None}, 'against': [{'name': 'Bob Barr', 'bio': 'Bob represented the 7th District of Georgia in the U. S. House of Representatives from 1995 to 2003, serving as a senior member of the Judiciary Committee, vice-chairman of the Government Reform Committee, and as a member of the Committee on Financial Services. He is also a columnist, syndicated radio show host and author.', 'bio_short': 'The 21st Century Liberties Chair for Freedom and Privacy at the American Conservative Union, and Board Member of the National Rifle Association'}, {'name': 'Jeffrey Rosen', 'bio': 'Jeffrey is the author of The Unwanted Gaze: The Destruction of Privacy in America, which the New York Times called “the definitive text on privacy perils in the digital age,” and The Naked Crowd: Reclaiming Security and Freedom in an Anxious Age, named one of the year’s best books by the San Francisco Chronicle.', 'bio_short': 'Professor of Law at the George Washington University Law School and the Legal Affairs Editor of the New Republic'}, {'name': 'Nadine Strossen', 'bio': 'Nadine has written, lectured, and practiced extensively in the areas of constitutional law, civil liberties, and international human rights. Since 1991, she has served as president of the American Civil Liberties Union, the first woman to head the nation\\'s largest and oldest civil liberties organization. The National Law Journal has twice named her one of \"The 100 Most Influential Lawyers in America.\"', 'bio_short': 'Professor of Law at New York Law School'}]}, 'winner': 'against', 'averagetoxicity': 0.11195223021164022}})\n",
            "Conversation({'_owner': <convokit.model.corpus.Corpus object at 0x7f88b145c588>, '_id': '1595', '_utterance_ids': ['1595', '1596', '1597', '1598', '1599', '1600', '1601', '1602', '1603', '1604', '1605', '1606', '1607', '1608', '1609', '1610', '1611', '1612', '1613', '1614', '1615', '1616', '1617', '1618', '1619', '1620', '1621', '1622', '1623', '1624', '1625', '1626', '1627', '1628', '1629', '1630', '1631', '1632', '1633', '1634', '1635', '1636', '1637', '1638', '1639', '1640', '1641', '1642', '1643', '1644', '1645', '1646', '1647', '1648', '1649', '1650', '1651', '1652', '1653', '1654', '1655', '1656', '1657', '1658', '1659', '1660', '1661', '1662', '1663', '1664', '1665', '1666', '1667', '1668', '1669', '1670', '1671', '1672', '1673', '1674', '1675', '1676', '1677', '1678', '1679', '1680', '1681', '1682', '1683', '1684', '1685', '1686', '1687', '1688', '1689', '1690', '1691', '1692', '1693', '1694', '1695', '1696', '1697', '1698', '1699', '1700', '1701', '1702', '1703', '1704', '1705', '1706', '1707', '1708', '1709', '1710', '1711', '1712', '1713', '1714', '1715', '1716', '1717', '1718', '1719', '1720', '1721', '1722', '1723', '1724', '1725', '1726', '1727', '1728', '1729', '1730', '1731', '1732', '1733', '1734', '1735', '1736', '1737', '1738', '1739', '1740', '1741', '1742', '1743', '1744', '1745', '1746', '1747', '1748', '1749', '1750', '1751', '1752', '1753', '1754', '1755', '1756', '1757', '1758', '1759', '1760', '1761', '1762', '1763', '1764', '1765', '1766', '1767', '1768', '1769', '1770', '1771', '1772', '1773', '1774', '1775', '1776', '1777', '1778', '1779', '1780', '1781', '1782', '1783', '1784', '1785', '1786', '1787', '1788', '1789', '1790', '1791', '1792', '1793', '1794', '1795', '1796', '1797', '1798', '1799', '1800', '1801', '1802', '1803', '1804', '1805', '1806', '1807', '1808', '1809', '1810', '1811', '1812', '1813', '1814', '1815', '1816', '1817', '1818', '1819', '1820', '1821', '1822', '1823', '1824', '1825', '1826', '1827', '1828', '1829', '1830', '1831', '1832', '1833', '1834', '1835', '1836', '1837', '1838', '1839', '1840', '1841', '1842', '1843', '1844', '1845', '1846', '1847', '1848', '1849', '1850', '1851', '1852', '1853', '1854', '1855', '1856', '1857', '1858', '1859', '1860', '1861', '1862', '1863', '1864', '1865', '1866', '1867', '1868', '1869', '1870', '1871', '1872', '1873', '1874', '1875', '1876', '1877', '1878', '1879', '1880', '1881', '1882', '1883', '1884', '1885', '1886', '1887', '1888', '1889', '1890', '1891', '1892', '1893', '1894', '1895', '1896'], '_usernames': None, '_meta': {'summary': 'It’s often taken for granted that America needs a strong dollar.\\xa0 When the value of the U.S. dollar is strong relative to other currencies, it becomes attractive to investors and allows Americans to buy foreign goods and services cheaply.\\xa0 But in times of recession, are we better off with a weak dollar that stimulates U.S. manufacturing by making our goods cheaper and more competitive?\\xa0 Or will the loss of purchasing power and currency manipulation abroad, offset the potential gains?', 'title': \"America Doesn't Need A Strong Dollar Policy\", 'date': 'Wednesday, March 13, 2013', 'url': 'http://intelligencesquaredus.org/debates/past-debates/item/800-america-doesnt-need-a-strong-dollar', 'results': {'breakdown': {'against_for': 10.0, 'undecided_for': 26.0, 'for_against': 6.0, 'for_for': 17.0, 'undecided_against': 12.0, 'for_undecided': 0.0, 'undecided_undecided': 8.0, 'against_undecided': 2.0, 'against_against': 19.0}, 'post': {'undecided': 9.0, 'for': 54.0, 'against': 37.0}, 'pre': {'undecided': 47.0, 'for': 24.0, 'against': 29.0}}, 'speakers': {'for': [{'name': 'Frederic Mishkin', 'bio': 'Frederic S. Mishkin is the Alfred Lerner Professor of Banking and Financial Institutions at Columbia Business School.\\xa0 He is also a research associate at the National Bureau of Economic Research, a member of the Squam Lake Working Group on Financial Reform, and the co-director of the U.S. Monetary Policy Forum.\\xa0 From September 2006 to August 2008 he was a member of the Board of Governors of the Federal Reserve System.\\xa0 He has also been a senior fellow at the FDIC Center for Banking Research, and past president of the Eastern Economic Association.\\xa0 Since receiving his Ph.D. from the Massachusetts Institute of Technology in 1976, he has taught at the University of Chicago, Northwestern University, Princeton University and Columbia.\\xa0 From 1994 to 1997 he was executive vice president and director of research at the Federal Reserve Bank of New York and an associate economist of the Federal Open Market Committee of the Federal Reserve System.', 'bio_short': 'Professor, Columbia Business School'}, {'name': 'John Taylor', 'bio': 'In 1981 John Taylor founded FX Concepts, a multi-faceted investment management company, which today manages over $4 billion in currency absolute return and overlay strategies.\\xa0 FX Concepts is known around the world as an innovative and highly successful manager of foreign exchange assets as well as a leader in the field of foreign exchange risk management.\\xa0 Taylor has written numerous articles in investment journals and is often quoted in the popular press on financial topics.\\xa0 Before starting FX Concepts, John was a vice president at Citibank, where he was the head of the bank’s marketing, advisory services, and research for foreign exchange.\\xa0 Taylor is also a founder and former chairman of Franklin University Switzerland, Inc.,\\xa0 in Lugano, Switzerland and\\xa0 the chairman of Inspiration Biopharmaceuticals, Inc., a development stage biotech company.', 'bio_short': 'Chairman and Founder, FX Concepts'}], 'moderator': {'name': 'John Donvan', 'bio': None, 'bio_short': 'Author & Correspondent for ABC News'}, 'against': [{'name': 'Steve Forbes', 'bio': 'Steve Forbes is chairman and editor-in-chief of Forbes Media. Forbes writes editorials for each issue of Forbes under the heading of “Fact and Comment.” A widely respected economic prognosticator, he is the only writer to have won the highly prestigious Crystal Owl Award four times. In both 1996 and 2000, Forbes campaigned vigorously for the Republican nomination for the presidency. Forbes is the author of Freedom Manifesto: Why Free Markets Are Moral and Big Government Isn’t (2012). Forbes serves on the boards of The Ronald Reagan Presidential Foundation, the Heritage Foundation and The Foundation for the Defense of Democracies. He is on the Board of Overseers of the Memorial Sloan-Kettering Cancer Center and on the Board of Visitors for the School of Public Policy of Pepperdine University. He previously served on the Board of Trustees of Princeton University for ten years.', 'bio_short': 'Chairman and Editor-in-Chief, Forbes Media'}, {'name': 'James Grant', 'bio': 'James Grant is the editor and founder of Grant\\'s Interest Rate Observer, a twice-monthly journal of the financial markets. Grant originated the \"Current Yield\" column in Barron\\'s before founding Grant\\'s Interest Rate Observer in 1983. He is the author of five books on finance and financial history including Money of the Mind (1992) and Mr. Market Miscalculates (2008). A sixth book John Adams: Party of One, a biography of the second president of the United States, was published in March 2005. Grant\\'s television appearances include 60 Minutes, The News Hour with Jim Lehrer, CBS Evening News, and a 10-year stint on Wall Street Week.\\xa0 His journalism has appeared in a variety of periodicals, including the Financial Times, The Wall Street Journal, and Foreign Affairs.', 'bio_short': \"Editor and Founder, Grant's Interest Rate Observer\"}]}, 'winner': 'for', 'averagetoxicity': 0.0988114163675497}})\n",
            "Conversation({'_owner': <convokit.model.corpus.Corpus object at 0x7f88b145c588>, '_id': '1897', '_utterance_ids': ['1897', '1898', '1899', '1900', '1901', '1902', '1903', '1904', '1905', '1906', '1907', '1908', '1909', '1910', '1911', '1912', '1913', '1914', '1915', '1916', '1917', '1918', '1919', '1920', '1921', '1922', '1923', '1924', '1925', '1926', '1927', '1928', '1929', '1930', '1931', '1932', '1933', '1934', '1935', '1936', '1937', '1938', '1939', '1940', '1941', '1942', '1943', '1944', '1945', '1946', '1947', '1948', '1949', '1950', '1951', '1952', '1953', '1954', '1955', '1956', '1957', '1958', '1959', '1960', '1961', '1962', '1963', '1964', '1965', '1966', '1967', '1968', '1969', '1970', '1971', '1972', '1973', '1974', '1975', '1976', '1977', '1978', '1979', '1980', '1981', '1982', '1983', '1984', '1985', '1986', '1987', '1988', '1989', '1990', '1991', '1992', '1993', '1994', '1995', '1996', '1997', '1998', '1999', '2000', '2001', '2002', '2003', '2004', '2005', '2006', '2007', '2008', '2009', '2010', '2011', '2012', '2013', '2014', '2015', '2016', '2017', '2018', '2019', '2020', '2021', '2022', '2023', '2024', '2025', '2026', '2027', '2028', '2029', '2030', '2031', '2032', '2033', '2034', '2035', '2036', '2037', '2038', '2039', '2040', '2041', '2042', '2043', '2044', '2045', '2046', '2047', '2048', '2049', '2050', '2051', '2052', '2053', '2054', '2055', '2056', '2057', '2058', '2059', '2060', '2061', '2062', '2063', '2064', '2065', '2066', '2067', '2068', '2069', '2070', '2071', '2072', '2073', '2074', '2075', '2076', '2077', '2078', '2079', '2080', '2081', '2082', '2083', '2084', '2085', '2086', '2087', '2088', '2089', '2090', '2091', '2092', '2093', '2094', '2095', '2096', '2097', '2098', '2099', '2100', '2101', '2102', '2103', '2104', '2105', '2106', '2107', '2108', '2109', '2110', '2111', '2112', '2113', '2114', '2115', '2116', '2117', '2118', '2119', '2120', '2121', '2122', '2123', '2124', '2125', '2126', '2127', '2128', '2129', '2130', '2131', '2132', '2133', '2134', '2135', '2136', '2137', '2138', '2139', '2140', '2141', '2142', '2143', '2144', '2145', '2146', '2147', '2148', '2149', '2150', '2151', '2152', '2153', '2154', '2155', '2156', '2157', '2158', '2159', '2160', '2161', '2162', '2163', '2164', '2165', '2166', '2167', '2168', '2169', '2170', '2171', '2172', '2173', '2174', '2175', '2176', '2177', '2178', '2179', '2180', '2181', '2182', '2183', '2184', '2185', '2186', '2187', '2188', '2189', '2190', '2191', '2192', '2193', '2194', '2195', '2196', '2197', '2198', '2199', '2200', '2201', '2202', '2203', '2204', '2205', '2206', '2207', '2208', '2209', '2210', '2211', '2212', '2213', '2214', '2215', '2216', '2217', '2218', '2219', '2220', '2221', '2222', '2223', '2224', '2225', '2226', '2227'], '_usernames': None, '_meta': {'summary': 'Genetically modified (GM) foods have been around for decades. Created by modifying the DNA of one organism through the introduction of genes from another, they are developed for a number of different reasons—to fight disease, enhance flavor, resist pests, improve nutrition, survive drought—and are mainly found in our food supply in processed foods using corn, soybeans, and sugar beets, and as feed for farm animals. Across the country and around the world, communities are fighting the cultivation of genetically engineered crops. Are they safe? How do they impact the environment? Can they improve food security? Is the world better off with or without GM food?', 'title': 'Genetically Modify Food', 'date': 'Wednesday, December 3, 2014', 'url': 'http://intelligencesquaredus.org/debates/past-debates/item/1161-genetically-modify-food', 'results': {'breakdown': {'against_for': 9.0, 'undecided_for': 22.0, 'for_against': 2.0, 'for_for': 29.0, 'undecided_against': 10.0, 'for_undecided': 1.0, 'undecided_undecided': 5.0, 'against_undecided': 3.0, 'against_against': 18.0}, 'post': {'undecided': 9.0, 'for': 60.0, 'against': 31.0}, 'pre': {'undecided': 38.0, 'for': 32.0, 'against': 30.0}}, 'speakers': {'for': [{'name': 'Robert Fraley', 'bio': 'Dr. Robert Fraley is executive vice president and chief technology officer at Monsanto. He has been with Monsanto for over 30 years, and currently oversees the company’s global technology division which includes plant breeding, biotechnology, and crop protection research facilities in dozens of countries. Fraley has authored more than 100 publications and patent applications. In 2013, he was honored as a World Food Prize Laureate. He is the recipient of numerous awards, including the 2008 National Academy of Sciences Award for the Industrial Application of Science for his work on crop improvement and the National Medal of Technology from President Clinton in 1999.', 'bio_short': 'Executive VP & Chief Technology Officer, Monsanto'}, {'name': 'Alison Van Eenennaam', 'bio': 'Alison Van Eenennaam is a genomics and biotechnology researcher and cooperative extension specialist in the Department of Animal Science at University of California, Davis. She received a Bachelor of Agricultural Science from the University of Melbourne, and an MS in Animal Science and a PhD in Genetics from UC Davis. The mission of her extension program is “to provide research and education on the use of animal genomics and biotechnology in livestock production systems.” Her outreach program focuses on the development of science-based educational materials, including the controversial biotechnologies of genetic engineering (GE) and cloning. She has served on several national committees including the USDA National Advisory Committee on Biotechnology and 21st Century Agriculture, and as a temporary voting member of the 2010 FDA Veterinary Medicine Advisory Committee meeting on the AquAdvantage salmon. Van Eenennaam was the recipient of the 2014 Borlaug CAST Communication Award.', 'bio_short': 'Genomics and Biotechnology Researcher, UC Davis'}], 'moderator': {'name': 'John Donvan', 'bio': None, 'bio_short': 'Author & Correspondent for ABC News'}, 'against': [{'name': 'Charles Benbrook', 'bio': 'Charles Benbrook is a research professor at the Center for Sustaining Agriculture and Natural Resources, Washington State University, and program leader of Measure to Manage: Farm and Food Diagnostics for Sustainability and Health. His career has focused on developing science-based systems for evaluating the public health, environmental, and economic impacts of changes in agricultural systems, technology, and policy. He spent the first 18 years of his career working in Washington, D.C., first for the Executive Office of the President, then as the staff director for a U.S. House of Representatives agricultural subcommittee. He was the ED of the National Academy of Sciences Board on Agriculture, and has run a small consulting firm since 1991. He moved to the west in 1997, and served as the chief scientist for The Organic Center from 2004-2012. Benbrook has served as an appointed member on the USDA’s AC 21 agricultural biotechnology advisory committee since 2011. His 2012 peer-reviewed study documenting the big increase in herbicide use triggered by the planting of genetically engineered crops in the U.S. has been downloaded over 110,000 times.', 'bio_short': 'Research Professor, Center for Sustaining Agriculture and Natural Resources'}, {'name': 'Margaret Mellon', 'bio': 'Margaret Mellon is a science policy consultant in the areas of antibiotics, genetic engineering and sustainable agriculture. She holds a doctorate in molecular biology and a law degree from the University of Virginia. In 1993, Mellon founded the Food and Environment Program at the Union of Concerned Scientists to promote the adoption of science-based farming systems that are simultaneously productive, environmentally benign, and resilient in the face of stress. The program critically evaluated products of genetic engineering for their contribution to sustainable agriculture and urged the reduction of unnecessary antibiotic use in animal agriculture. After almost 20 years, Mellon stepped down as head of the program in 2012 and, after two additional years as a senior scientist, left UCS in 2014. Mellon has published widely on the potential environmental impacts of biotechnology applications, and served three terms on the U.S. Department of Agriculture’s Advisory Committee on Biotechnology and 21st Century Agriculture.', 'bio_short': 'Science Policy Consultant & Fmr. Senior Scientist, Union of Concerned Scientists'}]}, 'winner': 'for', 'averagetoxicity': 0.09580424863293051}})\n",
            "Conversation({'_owner': <convokit.model.corpus.Corpus object at 0x7f88b145c588>, '_id': '2228', '_utterance_ids': ['2228', '2229', '2230', '2231', '2232', '2233', '2234', '2235', '2236', '2237', '2238', '2239', '2240', '2241', '2242', '2243', '2244', '2245', '2246', '2247', '2248', '2249', '2250', '2251', '2252', '2253', '2254', '2255', '2256', '2257', '2258', '2259', '2260', '2261', '2262', '2263', '2264', '2265', '2266', '2267', '2268', '2269', '2270', '2271', '2272', '2273', '2274', '2275', '2276', '2277', '2278', '2279', '2280', '2281', '2282', '2283', '2284', '2285', '2286', '2287', '2288', '2289', '2290', '2291', '2292', '2293', '2294', '2295', '2296', '2297', '2298', '2299', '2300', '2301', '2302', '2303', '2304', '2305', '2306', '2307', '2308', '2309', '2310', '2311', '2312', '2313', '2314', '2315', '2316', '2317', '2318', '2319', '2320', '2321', '2322', '2323', '2324', '2325', '2326', '2327', '2328', '2329', '2330', '2331', '2332', '2333', '2334', '2335', '2336', '2337', '2338', '2339', '2340', '2341', '2342', '2343', '2344', '2345', '2346', '2347', '2348', '2349', '2350', '2351', '2352', '2353', '2354', '2355', '2356', '2357', '2358', '2359', '2360', '2361', '2362', '2363', '2364', '2365', '2366', '2367', '2368', '2369', '2370', '2371', '2372', '2373', '2374', '2375', '2376', '2377', '2378', '2379', '2380', '2381', '2382', '2383', '2384', '2385', '2386', '2387', '2388', '2389', '2390', '2391', '2392', '2393', '2394', '2395', '2396', '2397', '2398', '2399', '2400', '2401', '2402', '2403', '2404', '2405', '2406', '2407', '2408', '2409', '2410', '2411', '2412', '2413', '2414', '2415', '2416', '2417', '2418', '2419', '2420', '2421', '2422', '2423', '2424', '2425', '2426', '2427', '2428', '2429', '2430', '2431', '2432', '2433', '2434', '2435', '2436', '2437', '2438', '2439', '2440', '2441', '2442', '2443', '2444', '2445', '2446', '2447', '2448', '2449', '2450', '2451', '2452', '2453', '2454', '2455', '2456'], '_usernames': None, '_meta': {'summary': 'Debate description coming soon.', 'title': 'Guns Reduce Crime', 'date': 'Tuesday, October 28, 2008', 'url': 'http://intelligencesquaredus.org/debates/past-debates/item/598-guns-reduce-crime', 'results': {'breakdown': None, 'post': {'undecided': 10.0, 'for': 27.0, 'against': 63.0}, 'pre': {'undecided': 27.0, 'for': 13.0, 'against': 60.0}}, 'speakers': {'for': [{'name': 'Stephen Halbrook', 'bio': \"Halbrook's most recent book is The Founders' Second Amendment. He filed a brief on behalf of over 300 members of Congress in the Supreme Court case of DC v. Heller, and won three Supreme Court cases on firearm issues. Holding a Ph.D. from FSU and J.D. from Georgetown, his other books include Freedmen, the 14th Amendment, & the Right to Bear Arms, That Every Man Be Armed, Target Switzerland, and The Swiss & the Nazis.\", 'bio_short': 'Represents the NRA in suits against the DC and Chicago handgun bans'}, {'name': 'Gary Kleck', 'bio': 'Kleck\\'s research centers on violence and crime control, focusing on gun control and crime deterrence. Kleck is the author of Targeting Guns: Firearms and Their Control (1997) and Point Blank: Guns and Violence in America (1991), which won the Michael J. Hindelang Award of the American Society of Criminology in 1993 for making \"the most outstanding contribution to criminology\" in the preceding three years.', 'bio_short': 'Professor in the College of Criminology and Criminal Justice at Florida State University'}, {'name': 'John R. Lott', 'bio': 'Lott has held positions at the University of Chicago, Yale University, Stanford, UCLA, Wharton, and Rice and was the chief economist at the United States Sentencing Commission during 1988 and 1989. He is the author of Freedomnomics: Why the Free Market Works and Other Half-Baked Theories Don’t, The Bias Against Guns and More Guns, Less Crime.', 'bio_short': 'Senior Research Scholar at the University of Maryland'}], 'moderator': {'name': 'John Donvan', 'bio': None, 'bio_short': 'Author and correspondent for ABC News.'}, 'against': [{'name': 'John J. Donohue', 'bio': 'Donohue’s recent work has used large-scale statistical studies to estimate the causal impact of law and public policy in a wide range of areas from civil rights and employment discrimination law to the effect of legalized abortion, guns, and the death penalty on crime. Donohue is the empirical editor of the American Law and Economics Review and a research fellow of the National Bureau of Economic Research', 'bio_short': 'Leighton Homer Surbeck Professor at Yale Law School'}, {'name': 'Paul Helmke', 'bio': \"The Brady Center to Prevent Gun Violence is the nation's largest national, non-partisan, grassroots organization leading the fight to prevent gun violence, since mid-July 2006. Prior to this, Helmke was a lawyer in Fort Wayne, Indiana, where he served as mayor from 1988-2000. In the early 1990s he worked with Jim and Sarah Brady to help build support for the Brady Law and the federal Assault Weapons Ban.\", 'bio_short': 'President of the Brady Campaign/Center to Prevent Gun Violence'}, {'name': 'R. Gil Kerlikowske', 'bio': 'Kerlikowske was appointed as chief of police for Seattle in August 2000. Kerlikowske served as the police commissioner for Buffalo, New York. He has also worked as a patrol officer, as a detective in narcotics and robbery, and as a hostage negotiator in St. Petersburg, Florida.', 'bio_short': '36-year Veteran of Law Enforcement'}]}, 'winner': 'for', 'averagetoxicity': 0.12580312841703056}})\n",
            "Conversation({'_owner': <convokit.model.corpus.Corpus object at 0x7f88b145c588>, '_id': '2457', '_utterance_ids': ['2457', '2458', '2459', '2460', '2461', '2462', '2463', '2464', '2465', '2466', '2467', '2468', '2469', '2470', '2471', '2472', '2473', '2474', '2475', '2476', '2477', '2478', '2479', '2480', '2481', '2482', '2483', '2484', '2485', '2486', '2487', '2488', '2489', '2490', '2491', '2492', '2493', '2494', '2495', '2496', '2497', '2498', '2499', '2500', '2501', '2502', '2503', '2504', '2505', '2506', '2507', '2508', '2509', '2510', '2511', '2512', '2513', '2514', '2515', '2516', '2517', '2518', '2519', '2520', '2521', '2522', '2523', '2524', '2525', '2526', '2527', '2528', '2529', '2530', '2531', '2532', '2533', '2534', '2535', '2536', '2537', '2538', '2539', '2540', '2541', '2542', '2543', '2544', '2545', '2546', '2547', '2548', '2549', '2550', '2551', '2552', '2553', '2554', '2555', '2556', '2557', '2558', '2559', '2560', '2561', '2562', '2563', '2564', '2565', '2566', '2567', '2568', '2569', '2570', '2571', '2572', '2573', '2574', '2575', '2576', '2577', '2578', '2579', '2580', '2581', '2582', '2583', '2584', '2585', '2586', '2587', '2588', '2589', '2590', '2591', '2592', '2593', '2594', '2595', '2596', '2597', '2598', '2599', '2600', '2601', '2602', '2603', '2604', '2605', '2606', '2607', '2608', '2609', '2610', '2611', '2612', '2613', '2614', '2615', '2616', '2617', '2618', '2619', '2620', '2621', '2622', '2623', '2624', '2625', '2626'], '_usernames': None, '_meta': {'summary': 'Affirmative action, when used as a factor in college admissions, is meant to foster diversity and provide equal opportunities in education for underrepresented minorities. But is it achieving its stated goals and helping the population it was created to support? Its critics point to students struggling to keep up in schools mismatched to their abilities and to the fact that the policy can be manipulated to benefit affluent and middle class students who already possess many educational advantages. Is it time to overhaul or abolish affirmative action?\\nPresented in partnership with Harvard Law School.', 'title': 'Affirmative Action On Campus Does More Harm Than Good', 'date': 'Thursday, February 27, 2014', 'url': 'http://intelligencesquaredus.org/debates/past-debates/item/1054-affirmative-action-on-campus-does-more-harm-than-good', 'results': {'breakdown': {'against_for': 7.0, 'undecided_for': 14.0, 'for_against': 5.0, 'for_for': 16.0, 'undecided_against': 10.0, 'for_undecided': 1.0, 'undecided_undecided': 6.0, 'against_undecided': 3.0, 'against_against': 38.0}, 'post': {'undecided': 9.0, 'for': 36.0, 'against': 55.0}, 'pre': {'undecided': 30.0, 'for': 22.0, 'against': 48.0}}, 'speakers': {'for': [{'name': 'Gail Heriot', 'bio': 'Gail Heriot is a professor of law at the University of San Diego and a member of the U.S. Commission on Civil Rights. Prior to entering academia, she practiced law with Mayer, Brown & Platt in Chicago and Hogan & Hartson in Washington, D.C. She also served as civil rights counsel to the U.S. Senate Committee on the Judiciary and clerked for the Honorable Seymour F. Simon of the Illinois Supreme Court. A former editor of the University of Chicago Law Review, Herriot has been published in the Michigan Law Review, the Virginia Law Review, and the Harvard Journal on Legislation, as well as The Wall Street Journal, National Review, Los Angeles Times and The San Diego Union Tribune. She is the editor and an author of a forthcoming anthology of essays entitled, California Dreaming: Race, Gender, Proposition 209 and the Principle of Non-Discrimination.', 'bio_short': 'Professor of Law, USD School of Law & Member, U.S. Commission on Civil Rights'}, {'name': 'Richard Sander', 'bio': \"Richard Sander, a professor of law at UCLA School of Law, has been working on questions of social and economic inequality for nearly all of his career. In 2005, he published the first broad analysis of the operation and effects of racial preferences in legal education. Widely considered the leading authority on affirmative action in higher education, he co-authored Mismatch: How Affirmative Action Hurts Students It's Intended to Help, and Why Universities Won't Admit It (2012) with Stuart Taylor. During the 1990s, Sander worked primarily on issues related to fair housing, housing segregation, and economic inequality, and his research closely paralleled a variety of civic work in Los Angeles. In addition to serving as the president of the Fair Housing Congress of Southern California and founding the Fair Housing Institute, he helped the City design and implement what was, at the time, the nation's most ambitious living wage law.\", 'bio_short': 'Professor of Law, UCLA School of Law'}], 'moderator': {'name': 'John Donvan', 'bio': None, 'bio_short': 'Author & Correspondent for ABC News'}, 'against': [{'name': 'Randall Kennedy', 'bio': 'Randall Kennedy is the Michael R. Klein Professor of Law at Harvard Law School, where he teaches courses on contracts, criminal law, and the regulation of race relations. He served as a law clerk for Judge J. Skelly Wright of the U.S. Court of Appeals and for Justice Thurgood Marshall of the U.S. Supreme Court. He is a member of the bar of the District of Columbia and the U.S. Supreme Court. Awarded the 1998 Robert F. Kennedy Book Award for Race, Crime, and the Law (1998), Kennedy writes for a wide range of scholarly and general interest publications. His most recent books are For Discrimination: Race, Affirmative Action, and the Law (2013) and The Persistence of the Color Line: Racial Politics and the Obama Presidency (2011). He is a member of the American Law Institute, the American Academy of Arts and Sciences, and the American Philosophical Association.', 'bio_short': 'Professor of Law, Harvard Law School'}, {'name': 'Theodore Shaw', 'bio': \"Theodore M. Shaw is a professor of professional practice in law at Columbia Law School and Of Counsel to Fulbright & Jaworski LLP. Previously, he was director-counsel and president of the NAACP Legal Defense and Educational Fund, for which he worked in various capacities over the span of twenty-six years. His legal career began as a trial attorney in the U.S. Department of Justice, and he has since litigated education, employment, voting rights, housing, police misconduct, capital punishment and other civil rights cases in trial and appellate courts and in the U.S. Supreme Court. While a professor at University of Michigan School of Law, he played a key role in initiating a review of the school's admissions practices and policies, and served on the faculty committee that promulgated the admissions program upheld by the U.S. Supreme Court in Grutter v. Bollinger (2003).\", 'bio_short': 'Professor of Law, Columbia Law School'}]}, 'winner': 'for', 'averagetoxicity': 0.1187547290388236}})\n",
            "Conversation({'_owner': <convokit.model.corpus.Corpus object at 0x7f88b145c588>, '_id': '2627', '_utterance_ids': ['2627', '2628', '2629', '2630', '2631', '2632', '2633', '2634', '2635', '2636', '2637', '2638', '2639', '2640', '2641', '2642', '2643', '2644', '2645', '2646', '2647', '2648', '2649', '2650', '2651', '2652', '2653', '2654', '2655', '2656', '2657', '2658', '2659', '2660', '2661', '2662', '2663', '2664', '2665', '2666', '2667', '2668', '2669', '2670', '2671', '2672', '2673', '2674', '2675', '2676', '2677', '2678', '2679', '2680', '2681', '2682', '2683', '2684', '2685', '2686', '2687', '2688', '2689', '2690', '2691', '2692', '2693', '2694', '2695', '2696', '2697', '2698', '2699', '2700', '2701', '2702', '2703', '2704', '2705', '2706', '2707', '2708', '2709', '2710', '2711', '2712', '2713', '2714', '2715', '2716', '2717', '2718', '2719', '2720', '2721', '2722', '2723', '2724', '2725', '2726', '2727', '2728', '2729', '2730', '2731', '2732', '2733', '2734', '2735', '2736', '2737', '2738', '2739', '2740', '2741', '2742', '2743', '2744', '2745', '2746', '2747', '2748', '2749', '2750', '2751', '2752', '2753', '2754', '2755', '2756', '2757', '2758', '2759', '2760', '2761', '2762', '2763', '2764', '2765', '2766', '2767', '2768', '2769', '2770', '2771', '2772', '2773', '2774', '2775', '2776', '2777', '2778', '2779', '2780', '2781', '2782', '2783', '2784', '2785', '2786', '2787', '2788', '2789', '2790', '2791', '2792', '2793', '2794', '2795', '2796', '2797', '2798', '2799', '2800', '2801', '2802', '2803', '2804', '2805', '2806'], '_usernames': None, '_meta': {'summary': 'In 2009 the Justice Department announced that 9/11 plotter Khalid Shaikh Mohammed would be tried in New York City, setting off a firestorm of protests. Besides the cost and safety concerns, at issue are whether terrorists should be tried in criminal court or whether national security requires the use of military commissions. Likewise, issues like the closing of Guantanamo, the reading of Miranda rights, and enhanced interrogation all center on the same question: How should the U.S. treat captured alleged terrorists? In a war with no foreseeable end, whose actors are neither criminals nor soldiers; can we keep America safe and still bring terrorists to justice.', 'title': 'Treat Terrorists Like Enemy Combatants, Not Criminals', 'date': 'Tuesday, September 14, 2010', 'url': 'http://intelligencesquaredus.org/debates/past-debates/item/575-treat-terrorists-like-enemy-combatants-not-criminals', 'results': {'breakdown': None, 'post': {'undecided': 6.0, 'for': 39.0, 'against': 55.0}, 'pre': {'undecided': 35.0, 'for': 33.0, 'against': 32.0}}, 'speakers': {'for': [{'name': 'Michael Hayden', 'bio': 'previously served as director of the Central Intelligence Agency, the country’s first principal deputy director of National Intelligence, and as director of the National Security Agency and chief of the Central Security Service.', 'bio_short': 'Former Director of the Central Intelligence Agency'}, {'name': 'Marc Thiessen', 'bio': 'served as chief speechwriter to President George W. Bush and Secretary of Defense Donald Rumsfeld, and before that as a senior aide to Senate Foreign Relations Committee Chairman Jesse Helms.', 'bio_short': 'Chief Speechwriter to President George W. Bush'}], 'moderator': {'name': 'John Donvan', 'bio': None, 'bio_short': 'Author and correspondent for ABC News.'}, 'against': [{'name': 'David Frakt', 'bio': 'is a professor at Barry University’s Dwayne O. Andreas School of Law and a lieutenant colonel in the U.S. Air Force Reserve JAG Corps.', 'bio_short': 'rofessor at Barry University’s Dwayne O. Andreas School of Law '}, {'name': 'Stephen Jones', 'bio': 'is managing partner of the law firm of Jones, Otjen, and Davis. In May 1995, he was appointed by the U.S. District Court to serve as the principal defense counsel for Timothy McVeigh.', 'bio_short': 'Managing Partner of the Law Firm of Jones, Otjen, and Davis'}]}, 'winner': 'against', 'averagetoxicity': 0.14318528840555558}})\n",
            "{}\n"
          ],
          "name": "stdout"
        }
      ]
    },
    {
      "cell_type": "code",
      "metadata": {
        "colab_type": "code",
        "outputId": "efe0dbfd-7b84-409c-a2a9-0883fd3f0e6f",
        "id": "8U0RV32t2OrO",
        "colab": {
          "base_uri": "https://localhost:8080/",
          "height": 314
        }
      },
      "source": [
        "convos_dict = {}\n",
        "for convo_id in small_iq2_corpus.get_conversation_ids():\n",
        "  convo = small_iq2_corpus.get_conversation(convo_id)\n",
        "\n",
        "  # print(convo)\n",
        "  # print(convo.meta.keys())\n",
        "  # break\n",
        "  # print(small_iq2_corpus.get_utterance())\n",
        "\n",
        "  tox_values.append(convo.meta['averagetoxicity'])\n",
        "  results = convo.meta['results']\n",
        "\n",
        "  pre_und = results['pre']['undecided']\n",
        "  post_und = results['post']['undecided']\n",
        "  delta_abs = post_und - pre_und\n",
        "  delta_abs = post_und - pre_und\n",
        "  row = collections.OrderedDict((\n",
        "  ('pre_und', pre_und),\n",
        "  ('post_und', pre_und),\n",
        "  ('delta_abs', post_und - pre_und),\n",
        "  # ('delta_pct', 100.0 * (post_und - pre_und)),\n",
        "  ))\n",
        "  # print(results)\n",
        "  # pre_und_pcts.append(['pre']['undecided'] / sum(results.values()))\n",
        "  # row = {}\n",
        "  row['tox'] = convo.meta['averagetoxicity']\n",
        "  if results['breakdown']:\n",
        "    row.update(results['breakdown'])\n",
        "\n",
        "  # results = \n",
        "\n",
        "  # row.update(convo.meta['results'])\n",
        "  convos_dict[convo_id] = row\n",
        "\n",
        "df = pd.DataFrame.from_dict(convos_dict, orient='index')\n",
        "df.describe()"
      ],
      "execution_count": 65,
      "outputs": [
        {
          "output_type": "execute_result",
          "data": {
            "text/plain": [
              "          pre_und    post_und   delta_abs         tox  against_for  \\\n",
              "count  108.000000  108.000000  108.000000  108.000000    43.000000   \n",
              "mean    30.148148   30.148148  -21.814815    0.126488     6.616279   \n",
              "std      8.160556    8.160556    7.933306    0.024909     3.791967   \n",
              "min      8.000000    8.000000  -42.000000    0.082597     0.000000   \n",
              "25%     24.000000   24.000000  -27.250000    0.105047     4.000000   \n",
              "50%     31.000000   31.000000  -21.000000    0.121065     6.000000   \n",
              "75%     35.000000   35.000000  -16.000000    0.143364     9.000000   \n",
              "max     48.000000   48.000000   -1.000000    0.186613    20.000000   \n",
              "\n",
              "       undecided_for  for_against    for_for  undecided_against  \\\n",
              "count      43.000000    43.000000  43.000000          43.000000   \n",
              "mean       14.372093     7.197674  25.790698          13.465116   \n",
              "std         5.964272     4.139156  11.903497           5.539249   \n",
              "min         3.000000     2.000000   9.000000           5.000000   \n",
              "25%        11.000000     4.750000  17.000000           9.500000   \n",
              "50%        14.000000     6.000000  22.000000          13.000000   \n",
              "75%        18.000000     9.000000  35.000000          17.000000   \n",
              "max        26.000000    20.000000  58.000000          26.000000   \n",
              "\n",
              "       for_undecided  undecided_undecided  against_undecided  against_against  \n",
              "count      43.000000            43.000000          43.000000        43.000000  \n",
              "mean        2.395349             4.813953           1.744186        23.790698  \n",
              "std         2.037033             1.918032           1.329035        12.565179  \n",
              "min         0.000000             1.000000           0.000000         6.000000  \n",
              "25%         1.000000             3.500000           1.000000        14.000000  \n",
              "50%         2.000000             5.000000           2.000000        21.000000  \n",
              "75%         4.000000             6.000000           2.000000        31.500000  \n",
              "max         9.000000             9.000000           6.000000        53.000000  "
            ],
            "text/html": [
              "<div>\n",
              "<style scoped>\n",
              "    .dataframe tbody tr th:only-of-type {\n",
              "        vertical-align: middle;\n",
              "    }\n",
              "\n",
              "    .dataframe tbody tr th {\n",
              "        vertical-align: top;\n",
              "    }\n",
              "\n",
              "    .dataframe thead th {\n",
              "        text-align: right;\n",
              "    }\n",
              "</style>\n",
              "<table border=\"1\" class=\"dataframe\">\n",
              "  <thead>\n",
              "    <tr style=\"text-align: right;\">\n",
              "      <th></th>\n",
              "      <th>pre_und</th>\n",
              "      <th>post_und</th>\n",
              "      <th>delta_abs</th>\n",
              "      <th>tox</th>\n",
              "      <th>against_for</th>\n",
              "      <th>undecided_for</th>\n",
              "      <th>for_against</th>\n",
              "      <th>for_for</th>\n",
              "      <th>undecided_against</th>\n",
              "      <th>for_undecided</th>\n",
              "      <th>undecided_undecided</th>\n",
              "      <th>against_undecided</th>\n",
              "      <th>against_against</th>\n",
              "    </tr>\n",
              "  </thead>\n",
              "  <tbody>\n",
              "    <tr>\n",
              "      <td>count</td>\n",
              "      <td>108.000000</td>\n",
              "      <td>108.000000</td>\n",
              "      <td>108.000000</td>\n",
              "      <td>108.000000</td>\n",
              "      <td>43.000000</td>\n",
              "      <td>43.000000</td>\n",
              "      <td>43.000000</td>\n",
              "      <td>43.000000</td>\n",
              "      <td>43.000000</td>\n",
              "      <td>43.000000</td>\n",
              "      <td>43.000000</td>\n",
              "      <td>43.000000</td>\n",
              "      <td>43.000000</td>\n",
              "    </tr>\n",
              "    <tr>\n",
              "      <td>mean</td>\n",
              "      <td>30.148148</td>\n",
              "      <td>30.148148</td>\n",
              "      <td>-21.814815</td>\n",
              "      <td>0.126488</td>\n",
              "      <td>6.616279</td>\n",
              "      <td>14.372093</td>\n",
              "      <td>7.197674</td>\n",
              "      <td>25.790698</td>\n",
              "      <td>13.465116</td>\n",
              "      <td>2.395349</td>\n",
              "      <td>4.813953</td>\n",
              "      <td>1.744186</td>\n",
              "      <td>23.790698</td>\n",
              "    </tr>\n",
              "    <tr>\n",
              "      <td>std</td>\n",
              "      <td>8.160556</td>\n",
              "      <td>8.160556</td>\n",
              "      <td>7.933306</td>\n",
              "      <td>0.024909</td>\n",
              "      <td>3.791967</td>\n",
              "      <td>5.964272</td>\n",
              "      <td>4.139156</td>\n",
              "      <td>11.903497</td>\n",
              "      <td>5.539249</td>\n",
              "      <td>2.037033</td>\n",
              "      <td>1.918032</td>\n",
              "      <td>1.329035</td>\n",
              "      <td>12.565179</td>\n",
              "    </tr>\n",
              "    <tr>\n",
              "      <td>min</td>\n",
              "      <td>8.000000</td>\n",
              "      <td>8.000000</td>\n",
              "      <td>-42.000000</td>\n",
              "      <td>0.082597</td>\n",
              "      <td>0.000000</td>\n",
              "      <td>3.000000</td>\n",
              "      <td>2.000000</td>\n",
              "      <td>9.000000</td>\n",
              "      <td>5.000000</td>\n",
              "      <td>0.000000</td>\n",
              "      <td>1.000000</td>\n",
              "      <td>0.000000</td>\n",
              "      <td>6.000000</td>\n",
              "    </tr>\n",
              "    <tr>\n",
              "      <td>25%</td>\n",
              "      <td>24.000000</td>\n",
              "      <td>24.000000</td>\n",
              "      <td>-27.250000</td>\n",
              "      <td>0.105047</td>\n",
              "      <td>4.000000</td>\n",
              "      <td>11.000000</td>\n",
              "      <td>4.750000</td>\n",
              "      <td>17.000000</td>\n",
              "      <td>9.500000</td>\n",
              "      <td>1.000000</td>\n",
              "      <td>3.500000</td>\n",
              "      <td>1.000000</td>\n",
              "      <td>14.000000</td>\n",
              "    </tr>\n",
              "    <tr>\n",
              "      <td>50%</td>\n",
              "      <td>31.000000</td>\n",
              "      <td>31.000000</td>\n",
              "      <td>-21.000000</td>\n",
              "      <td>0.121065</td>\n",
              "      <td>6.000000</td>\n",
              "      <td>14.000000</td>\n",
              "      <td>6.000000</td>\n",
              "      <td>22.000000</td>\n",
              "      <td>13.000000</td>\n",
              "      <td>2.000000</td>\n",
              "      <td>5.000000</td>\n",
              "      <td>2.000000</td>\n",
              "      <td>21.000000</td>\n",
              "    </tr>\n",
              "    <tr>\n",
              "      <td>75%</td>\n",
              "      <td>35.000000</td>\n",
              "      <td>35.000000</td>\n",
              "      <td>-16.000000</td>\n",
              "      <td>0.143364</td>\n",
              "      <td>9.000000</td>\n",
              "      <td>18.000000</td>\n",
              "      <td>9.000000</td>\n",
              "      <td>35.000000</td>\n",
              "      <td>17.000000</td>\n",
              "      <td>4.000000</td>\n",
              "      <td>6.000000</td>\n",
              "      <td>2.000000</td>\n",
              "      <td>31.500000</td>\n",
              "    </tr>\n",
              "    <tr>\n",
              "      <td>max</td>\n",
              "      <td>48.000000</td>\n",
              "      <td>48.000000</td>\n",
              "      <td>-1.000000</td>\n",
              "      <td>0.186613</td>\n",
              "      <td>20.000000</td>\n",
              "      <td>26.000000</td>\n",
              "      <td>20.000000</td>\n",
              "      <td>58.000000</td>\n",
              "      <td>26.000000</td>\n",
              "      <td>9.000000</td>\n",
              "      <td>9.000000</td>\n",
              "      <td>6.000000</td>\n",
              "      <td>53.000000</td>\n",
              "    </tr>\n",
              "  </tbody>\n",
              "</table>\n",
              "</div>"
            ]
          },
          "metadata": {
            "tags": []
          },
          "execution_count": 65
        }
      ]
    },
    {
      "cell_type": "code",
      "metadata": {
        "id": "CeZ1nmNUX5CX",
        "colab_type": "code",
        "colab": {
          "base_uri": "https://localhost:8080/",
          "height": 104
        },
        "outputId": "46bcebaa-7ffc-4bfc-8560-ea49662f0d94"
      },
      "source": [
        "df.columns"
      ],
      "execution_count": 69,
      "outputs": [
        {
          "output_type": "execute_result",
          "data": {
            "text/plain": [
              "Index(['pre_und', 'post_und', 'delta_abs', 'tox', 'against_for',\n",
              "       'undecided_for', 'for_against', 'for_for', 'undecided_against',\n",
              "       'for_undecided', 'undecided_undecided', 'against_undecided',\n",
              "       'against_against'],\n",
              "      dtype='object')"
            ]
          },
          "metadata": {
            "tags": []
          },
          "execution_count": 69
        }
      ]
    },
    {
      "cell_type": "code",
      "metadata": {
        "id": "KPQfpWhnWywA",
        "colab_type": "code",
        "colab": {
          "base_uri": "https://localhost:8080/",
          "height": 1000
        },
        "outputId": "894a4053-77fa-4208-d220-7b21e885371a"
      },
      "source": [
        "votes = ['for', 'against', 'undecided']\n",
        "\n",
        "# breakdowns = [\n",
        "#         'against_for',\n",
        "#         'undecided_for', \n",
        "#         'for_against', \n",
        "#         'for_for', \n",
        "#         'undecided_against',\n",
        "#         'for_undecided', \n",
        "#         'undecided_undecided', \n",
        "#         'against_undecided',\n",
        "#         'against_against'      \n",
        "# ]\n",
        "\n",
        "# len(df[~df.against_for.isna()])\n",
        "plt.subplots([3,3], figsize=(20, 15))\n",
        "b_df = df[~df.against_for.isna()]\n",
        "for start in votes:\n",
        "  for end in votes:\n",
        "    \n",
        "    b = \"{}_{}\".format(start, end)\n",
        "  df.plot(x='tox', y=b, kind='scatter')"
      ],
      "execution_count": 70,
      "outputs": [
        {
          "output_type": "display_data",
          "data": {
            "text/plain": [
              "<Figure size 432x288 with 1 Axes>"
            ],
            "image/png": "[encoded data removed]"
          },
          "metadata": {
            "tags": [],
            "needs_background": "light"
          }
        },
        {
          "output_type": "display_data",
          "data": {
            "text/plain": [
              "<Figure size 432x288 with 1 Axes>"
            ],
            "image/png": "[encoded data removed]"
          },
          "metadata": {
            "tags": [],
            "needs_background": "light"
          }
        },
        {
          "output_type": "display_data",
          "data": {
            "text/plain": [
              "<Figure size 432x288 with 1 Axes>"
            ],
            "image/png": "[encoded data removed]"
          },
          "metadata": {
            "tags": [],
            "needs_background": "light"
          }
        },
        {
          "output_type": "display_data",
          "data": {
            "text/plain": [
              "<Figure size 432x288 with 1 Axes>"
            ],
            "image/png": "[encoded data removed]"
          },
          "metadata": {
            "tags": [],
            "needs_background": "light"
          }
        },
        {
          "output_type": "display_data",
          "data": {
            "text/plain": [
              "<Figure size 432x288 with 1 Axes>"
            ],
            "image/png": "[encoded data removed]"
          },
          "metadata": {
            "tags": [],
            "needs_background": "light"
          }
        },
        {
          "output_type": "display_data",
          "data": {
            "text/plain": [
              "<Figure size 432x288 with 1 Axes>"
            ],
            "image/png": "[encoded data removed]"
          },
          "metadata": {
            "tags": [],
            "needs_background": "light"
          }
        },
        {
          "output_type": "display_data",
          "data": {
            "text/plain": [
              "<Figure size 432x288 with 1 Axes>"
            ],
            "image/png": "[encoded data removed]"
          },
          "metadata": {
            "tags": [],
            "needs_background": "light"
          }
        },
        {
          "output_type": "display_data",
          "data": {
            "text/plain": [
              "<Figure size 432x288 with 1 Axes>"
            ],
            "image/png": "[encoded data removed]"
          },
          "metadata": {
            "tags": [],
            "needs_background": "light"
          }
        },
        {
          "output_type": "display_data",
          "data": {
            "text/plain": [
              "<Figure size 432x288 with 1 Axes>"
            ],
            "image/png": "[encoded data removed]"
          },
          "metadata": {
            "tags": [],
            "needs_background": "light"
          }
        }
      ]
    },
    {
      "cell_type": "code",
      "metadata": {
        "id": "RC1sa9B-ZIL7",
        "colab_type": "code",
        "colab": {}
      },
      "source": [
        "f"
      ],
      "execution_count": 0,
      "outputs": []
    },
    {
      "cell_type": "code",
      "metadata": {
        "id": "r4Thq1iC5xnG",
        "colab_type": "code",
        "outputId": "41c4cb7a-dc6d-47a8-d302-311b94f6a8dc",
        "colab": {
          "base_uri": "https://localhost:8080/",
          "height": 296
        }
      },
      "source": [
        "df.plot(x='tox', y='delta_abs', kind='scatter')"
      ],
      "execution_count": 0,
      "outputs": [
        {
          "output_type": "execute_result",
          "data": {
            "text/plain": [
              "<matplotlib.axes._subplots.AxesSubplot at 0x7f88a423c550>"
            ]
          },
          "metadata": {
            "tags": []
          },
          "execution_count": 40
        },
        {
          "output_type": "display_data",
          "data": {
            "text/plain": [
              "<Figure size 432x288 with 1 Axes>"
            ],
            "image/png": "[encoded data removed]"
          },
          "metadata": {
            "tags": [],
            "needs_background": "light"
          }
        }
      ]
    },
    {
      "cell_type": "code",
      "metadata": {
        "colab_type": "code",
        "outputId": "52c1369f-7a27-4ca3-d663-a426d3a2028c",
        "id": "sqnefocO2OrQ",
        "colab": {
          "base_uri": "https://localhost:8080/",
          "height": 296
        }
      },
      "source": [
        "#print(utt_ups_tox)\n",
        "from scipy.stats.stats import pearsonr\n",
        "import matplotlib.pyplot as plt\n",
        "import numpy as np\n",
        "\n",
        "bestfit = np.polyfit(toxvalues, upsvalues,1)\n",
        "bestfitline = np.poly1d(bestfit)\n",
        "\n",
        "plt.scatter(toxvalues, upsvalues)\n",
        "plt.ylim(0,550)\n",
        "plt.ylabel('Up Votes')\n",
        "plt.xlabel('Toxicity Score')\n"
      ],
      "execution_count": 0,
      "outputs": [
        {
          "output_type": "execute_result",
          "data": {
            "text/plain": [
              "Text(0.5, 0, 'Toxicity Score')"
            ]
          },
          "metadata": {
            "tags": []
          },
          "execution_count": 12
        },
        {
          "output_type": "display_data",
          "data": {
            "text/plain": [
              "<Figure size 432x288 with 1 Axes>"
            ],
            "image/png": "[encoded data removed]"
          },
          "metadata": {
            "tags": [],
            "needs_background": "light"
          }
        }
      ]
    },
    {
      "cell_type": "code",
      "metadata": {
        "colab_type": "code",
        "outputId": "4a2ed348-2643-491c-d7f1-8023ad6b4692",
        "id": "-0icuDqe2OrS",
        "colab": {
          "base_uri": "https://localhost:8080/",
          "height": 298
        }
      },
      "source": [
        "plt.title(\"Best fit of tox vs. ups\")\n",
        "plt.plot(toxvalues, bestfitline(toxvalues))"
      ],
      "execution_count": 0,
      "outputs": [
        {
          "output_type": "execute_result",
          "data": {
            "text/plain": [
              "[<matplotlib.lines.Line2D at 0x7fda70622828>]"
            ]
          },
          "metadata": {
            "tags": []
          },
          "execution_count": 13
        },
        {
          "output_type": "display_data",
          "data": {
            "text/plain": [
              "<Figure size 432x288 with 1 Axes>"
            ],
            "image/png": "[encoded data removed]"
          },
          "metadata": {
            "tags": [],
            "needs_background": "light"
          }
        }
      ]
    },
    {
      "cell_type": "code",
      "metadata": {
        "colab_type": "code",
        "outputId": "4ad0cd0d-f3f1-40ca-f87e-ee5f97e28a40",
        "id": "G2i6Mwt22OrU",
        "colab": {
          "base_uri": "https://localhost:8080/",
          "height": 34
        }
      },
      "source": [
        "print(pearsonr(toxvalues,upsvalues)[0])"
      ],
      "execution_count": 0,
      "outputs": [
        {
          "output_type": "stream",
          "text": [
            "-0.014165836438686597\n"
          ],
          "name": "stdout"
        }
      ]
    },
    {
      "cell_type": "code",
      "metadata": {
        "colab_type": "code",
        "outputId": "38e3fca2-9264-4f0d-d814-4eaa18232006",
        "id": "lvLCFYRY2OrW",
        "colab": {
          "base_uri": "https://localhost:8080/",
          "height": 450
        }
      },
      "source": [
        "upstox_25 = {}\n",
        "ups_25 = defaultdict(list)\n",
        "tox_25 = defaultdict(list)\n",
        "\n",
        "for x in in_top_25:\n",
        "    if not utts[x].meta['ups'] == None:\n",
        "        upstox_25[x +\".\" + convos[x].meta[\"subreddit\"]] = [utts[x].meta['ups'], utts[x].meta['toxicity']]\n",
        "        ups_25[convos[x].meta[\"subreddit\"]].append(utts[x].meta['ups'])\n",
        "        tox_25[convos[x].meta[\"subreddit\"]].append(utts[x].meta['toxicity'])\n",
        "    else:\n",
        "        upstox_25[x +\".\" + convos[x].meta[\"subreddit\"]] = [0, utts[x].meta['toxicity']]\n",
        "        ups_25[convos[x].meta[\"subreddit\"]].append(0)\n",
        "        tox_25[convos[x].meta[\"subreddit\"]].append(utts[x].meta['toxicity'])\n",
        "corr_25 = {}\n",
        "\n",
        "for x in ups_25:\n",
        "    corr_25[x] = pearsonr(tox_25[x],ups_25[x])[0]\n",
        "   \n",
        "sorted_corr = sorted(corr_25.items(), key=lambda kv: kv[1])\n",
        "for x in sorted_corr:\n",
        "    print(x)"
      ],
      "execution_count": 0,
      "outputs": [
        {
          "output_type": "stream",
          "text": [
            "('starcraft', -0.27384032357600807)\n",
            "('atheism', -0.22348513909807635)\n",
            "('explainlikeimfive', -0.13939416840791383)\n",
            "('askscience', -0.10956977150863109)\n",
            "('trees', -0.09727628835606086)\n",
            "('hearthstone', -0.0970309933426117)\n",
            "('tipofmytongue', -0.09066037183271945)\n",
            "('buildapc', -0.07521749787184404)\n",
            "('leagueoflegends', -0.06775391921410352)\n",
            "('jailbreak', -0.06285257687786554)\n",
            "('gaming', -0.041727481525480344)\n",
            "('askreddit', -0.02767994907134295)\n",
            "('electronic_cigarette', -0.02331297129980621)\n",
            "('whowouldwin', 0.00402234714291879)\n",
            "('pcmasterrace', 0.00446416832200411)\n",
            "('personalfinance', 0.007126925299185703)\n",
            "('malefashionadvice', 0.04441819503811307)\n",
            "('loseit', 0.06596538002773104)\n",
            "('summonerschool', 0.10341093480314038)\n",
            "('pokemon', 0.11008570857269556)\n",
            "('relationships', 0.1204720997965011)\n",
            "('destinythegame', 0.12438564649784901)\n",
            "('reddit.com', 0.13082806745092074)\n",
            "('movies', 0.13592512094621084)\n",
            "('techsupport', 0.14165529303857546)\n"
          ],
          "name": "stdout"
        }
      ]
    }
  ]
}