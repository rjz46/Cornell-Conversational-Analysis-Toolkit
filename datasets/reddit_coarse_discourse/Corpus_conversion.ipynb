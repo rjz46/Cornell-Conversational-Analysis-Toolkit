{
  "nbformat": 4,
  "nbformat_minor": 0,
  "metadata": {
    "colab": {
      "name": "Corpus conversion",
      "version": "0.3.2",
      "provenance": [],
      "collapsed_sections": [],
      "toc_visible": true,
      "include_colab_link": true
    },
    "kernelspec": {
      "name": "python3",
      "display_name": "Python 3"
    }
  },
  "cells": [
    {
      "cell_type": "markdown",
      "metadata": {
        "id": "view-in-github",
        "colab_type": "text"
      },
      "source": [
        "<a href=\"https://colab.research.google.com/github/rjz46/Cornell-Conversational-Analysis-Toolkit/blob/katy/datasets/reddit_coarse_discourse/Corpus_conversion.ipynb\" target=\"_parent\"><img src=\"https://colab.research.google.com/assets/colab-badge.svg\" alt=\"Open In Colab\"/></a>"
      ]
    },
    {
      "cell_type": "markdown",
      "metadata": {
        "id": "Lw_Wr7Evp6dO",
        "colab_type": "text"
      },
      "source": [
        "#Imports"
      ]
    },
    {
      "cell_type": "code",
      "metadata": {
        "id": "U4lPXUFEECJv",
        "colab_type": "code",
        "outputId": "32828bda-00bb-411d-810e-8547bd7a189a",
        "colab": {
          "base_uri": "https://localhost:8080/",
          "height": 802
        }
      },
      "source": [
        "!pip install convokit\n",
        "!python3 -m spacy download en\n",
        "import nltk; nltk.download('punkt')\n",
        "import convokit"
      ],
      "execution_count": 0,
      "outputs": [
        {
          "output_type": "stream",
          "text": [
            "Requirement already satisfied: convokit in /usr/local/lib/python3.6/dist-packages (2.0.11)\n",
            "Requirement already satisfied: scikit-learn>=0.20.0 in /usr/local/lib/python3.6/dist-packages (from convokit) (0.21.3)\n",
            "Requirement already satisfied: pandas>=0.23.4 in /usr/local/lib/python3.6/dist-packages (from convokit) (0.24.2)\n",
            "Requirement already satisfied: nltk>=3.4 in /usr/local/lib/python3.6/dist-packages (from convokit) (3.4.5)\n",
            "Requirement already satisfied: dill==0.2.9 in /usr/local/lib/python3.6/dist-packages (from convokit) (0.2.9)\n",
            "Requirement already satisfied: matplotlib>=3.0.0 in /usr/local/lib/python3.6/dist-packages (from convokit) (3.0.3)\n",
            "Requirement already satisfied: msgpack-numpy==0.4.3.2 in /usr/local/lib/python3.6/dist-packages (from convokit) (0.4.3.2)\n",
            "Requirement already satisfied: scipy>=1.1.0 in /usr/local/lib/python3.6/dist-packages (from convokit) (1.3.1)\n",
            "Requirement already satisfied: spacy==2.0.12 in /usr/local/lib/python3.6/dist-packages (from convokit) (2.0.12)\n",
            "Requirement already satisfied: joblib>=0.11 in /usr/local/lib/python3.6/dist-packages (from scikit-learn>=0.20.0->convokit) (0.13.2)\n",
            "Requirement already satisfied: numpy>=1.11.0 in /usr/local/lib/python3.6/dist-packages (from scikit-learn>=0.20.0->convokit) (1.16.5)\n",
            "Requirement already satisfied: python-dateutil>=2.5.0 in /usr/local/lib/python3.6/dist-packages (from pandas>=0.23.4->convokit) (2.5.3)\n",
            "Requirement already satisfied: pytz>=2011k in /usr/local/lib/python3.6/dist-packages (from pandas>=0.23.4->convokit) (2018.9)\n",
            "Requirement already satisfied: six in /usr/local/lib/python3.6/dist-packages (from nltk>=3.4->convokit) (1.12.0)\n",
            "Requirement already satisfied: pyparsing!=2.0.4,!=2.1.2,!=2.1.6,>=2.0.1 in /usr/local/lib/python3.6/dist-packages (from matplotlib>=3.0.0->convokit) (2.4.2)\n",
            "Requirement already satisfied: kiwisolver>=1.0.1 in /usr/local/lib/python3.6/dist-packages (from matplotlib>=3.0.0->convokit) (1.1.0)\n",
            "Requirement already satisfied: cycler>=0.10 in /usr/local/lib/python3.6/dist-packages (from matplotlib>=3.0.0->convokit) (0.10.0)\n",
            "Requirement already satisfied: msgpack>=0.3.0 in /usr/local/lib/python3.6/dist-packages (from msgpack-numpy==0.4.3.2->convokit) (0.5.6)\n",
            "Requirement already satisfied: murmurhash<0.29,>=0.28 in /usr/local/lib/python3.6/dist-packages (from spacy==2.0.12->convokit) (0.28.0)\n",
            "Requirement already satisfied: preshed<2.0.0,>=1.0.0 in /usr/local/lib/python3.6/dist-packages (from spacy==2.0.12->convokit) (1.0.1)\n",
            "Requirement already satisfied: requests<3.0.0,>=2.13.0 in /usr/local/lib/python3.6/dist-packages (from spacy==2.0.12->convokit) (2.21.0)\n",
            "Requirement already satisfied: cymem<1.32,>=1.30 in /usr/local/lib/python3.6/dist-packages (from spacy==2.0.12->convokit) (1.31.2)\n",
            "Requirement already satisfied: ujson>=1.35 in /usr/local/lib/python3.6/dist-packages (from spacy==2.0.12->convokit) (1.35)\n",
            "Requirement already satisfied: thinc<6.11.0,>=6.10.3 in /usr/local/lib/python3.6/dist-packages (from spacy==2.0.12->convokit) (6.10.3)\n",
            "Requirement already satisfied: regex==2017.4.5 in /usr/local/lib/python3.6/dist-packages (from spacy==2.0.12->convokit) (2017.4.5)\n",
            "Requirement already satisfied: plac<1.0.0,>=0.9.6 in /usr/local/lib/python3.6/dist-packages (from spacy==2.0.12->convokit) (0.9.6)\n",
            "Requirement already satisfied: setuptools in /usr/local/lib/python3.6/dist-packages (from kiwisolver>=1.0.1->matplotlib>=3.0.0->convokit) (41.2.0)\n",
            "Requirement already satisfied: urllib3<1.25,>=1.21.1 in /usr/local/lib/python3.6/dist-packages (from requests<3.0.0,>=2.13.0->spacy==2.0.12->convokit) (1.24.3)\n",
            "Requirement already satisfied: certifi>=2017.4.17 in /usr/local/lib/python3.6/dist-packages (from requests<3.0.0,>=2.13.0->spacy==2.0.12->convokit) (2019.6.16)\n",
            "Requirement already satisfied: idna<2.9,>=2.5 in /usr/local/lib/python3.6/dist-packages (from requests<3.0.0,>=2.13.0->spacy==2.0.12->convokit) (2.8)\n",
            "Requirement already satisfied: chardet<3.1.0,>=3.0.2 in /usr/local/lib/python3.6/dist-packages (from requests<3.0.0,>=2.13.0->spacy==2.0.12->convokit) (3.0.4)\n",
            "Requirement already satisfied: cytoolz<0.10,>=0.9.0 in /usr/local/lib/python3.6/dist-packages (from thinc<6.11.0,>=6.10.3->spacy==2.0.12->convokit) (0.9.0.1)\n",
            "Requirement already satisfied: tqdm<5.0.0,>=4.10.0 in /usr/local/lib/python3.6/dist-packages (from thinc<6.11.0,>=6.10.3->spacy==2.0.12->convokit) (4.28.1)\n",
            "Requirement already satisfied: wrapt<1.11.0,>=1.10.0 in /usr/local/lib/python3.6/dist-packages (from thinc<6.11.0,>=6.10.3->spacy==2.0.12->convokit) (1.10.11)\n",
            "Requirement already satisfied: toolz>=0.8.0 in /usr/local/lib/python3.6/dist-packages (from cytoolz<0.10,>=0.9.0->thinc<6.11.0,>=6.10.3->spacy==2.0.12->convokit) (0.10.0)\n",
            "Requirement already satisfied: en_core_web_sm==2.0.0 from https://github.com/explosion/spacy-models/releases/download/en_core_web_sm-2.0.0/en_core_web_sm-2.0.0.tar.gz#egg=en_core_web_sm==2.0.0 in /usr/local/lib/python3.6/dist-packages (2.0.0)\n",
            "\n",
            "\u001b[93m    Linking successful\u001b[0m\n",
            "    /usr/local/lib/python3.6/dist-packages/en_core_web_sm -->\n",
            "    /usr/local/lib/python3.6/dist-packages/spacy/data/en\n",
            "\n",
            "    You can now load the model via spacy.load('en')\n",
            "\n"
          ],
          "name": "stdout"
        },
        {
          "output_type": "stream",
          "text": [
            "[nltk_data] Downloading package punkt to /root/nltk_data...\n",
            "[nltk_data]   Package punkt is already up-to-date!\n"
          ],
          "name": "stderr"
        }
      ]
    },
    {
      "cell_type": "code",
      "metadata": {
        "id": "gv0S3-_bEybB",
        "colab_type": "code",
        "outputId": "620bacf7-0ca5-495e-ffd8-60b098a1828d",
        "colab": {
          "base_uri": "https://localhost:8080/",
          "height": 122
        }
      },
      "source": [
        "import google\n",
        "from google.colab import drive\n",
        "drive.mount('/content/gdrive')"
      ],
      "execution_count": 0,
      "outputs": [
        {
          "output_type": "stream",
          "text": [
            "Go to this URL in a browser: https://accounts.google.com/o/oauth2/auth?client_id=947318989803-6bn6qk8qdgf4n4g3pfee6491hc0brc4i.apps.googleusercontent.com&redirect_uri=urn%3Aietf%3Awg%3Aoauth%3A2.0%3Aoob&scope=email%20https%3A%2F%2Fwww.googleapis.com%2Fauth%2Fdocs.test%20https%3A%2F%2Fwww.googleapis.com%2Fauth%2Fdrive%20https%3A%2F%2Fwww.googleapis.com%2Fauth%2Fdrive.photos.readonly%20https%3A%2F%2Fwww.googleapis.com%2Fauth%2Fpeopleapi.readonly&response_type=code\n",
            "\n",
            "Enter your authorization code:\n",
            "··········\n",
            "Mounted at /content/gdrive\n"
          ],
          "name": "stdout"
        }
      ]
    },
    {
      "cell_type": "code",
      "metadata": {
        "id": "t7bg2m58Gb48",
        "colab_type": "code",
        "outputId": "922e86e7-4c84-430f-e638-05c3bba01926",
        "colab": {
          "base_uri": "https://localhost:8080/",
          "height": 207
        }
      },
      "source": [
        "pip install --upgrade google-api-python-client\n"
      ],
      "execution_count": 0,
      "outputs": [
        {
          "output_type": "stream",
          "text": [
            "Requirement already up-to-date: google-api-python-client in /usr/local/lib/python3.6/dist-packages (1.7.11)\n",
            "Requirement already satisfied, skipping upgrade: google-auth>=1.4.1 in /usr/local/lib/python3.6/dist-packages (from google-api-python-client) (1.4.2)\n",
            "Requirement already satisfied, skipping upgrade: httplib2<1dev,>=0.9.2 in /usr/local/lib/python3.6/dist-packages (from google-api-python-client) (0.11.3)\n",
            "Requirement already satisfied, skipping upgrade: google-auth-httplib2>=0.0.3 in /usr/local/lib/python3.6/dist-packages (from google-api-python-client) (0.0.3)\n",
            "Requirement already satisfied, skipping upgrade: six<2dev,>=1.6.1 in /usr/local/lib/python3.6/dist-packages (from google-api-python-client) (1.12.0)\n",
            "Requirement already satisfied, skipping upgrade: uritemplate<4dev,>=3.0.0 in /usr/local/lib/python3.6/dist-packages (from google-api-python-client) (3.0.0)\n",
            "Requirement already satisfied, skipping upgrade: pyasn1-modules>=0.2.1 in /usr/local/lib/python3.6/dist-packages (from google-auth>=1.4.1->google-api-python-client) (0.2.6)\n",
            "Requirement already satisfied, skipping upgrade: rsa>=3.1.4 in /usr/local/lib/python3.6/dist-packages (from google-auth>=1.4.1->google-api-python-client) (4.0)\n",
            "Requirement already satisfied, skipping upgrade: cachetools>=2.0.0 in /usr/local/lib/python3.6/dist-packages (from google-auth>=1.4.1->google-api-python-client) (3.1.1)\n",
            "Requirement already satisfied, skipping upgrade: pyasn1<0.5.0,>=0.4.6 in /usr/local/lib/python3.6/dist-packages (from pyasn1-modules>=0.2.1->google-auth>=1.4.1->google-api-python-client) (0.4.7)\n"
          ],
          "name": "stdout"
        }
      ]
    },
    {
      "cell_type": "code",
      "metadata": {
        "id": "VHJBebM8qF0m",
        "colab_type": "code",
        "colab": {}
      },
      "source": [
        "import json\n",
        "from IPython.display import display as disp\n",
        "\n",
        "from zipfile import ZipFile\n",
        "import os"
      ],
      "execution_count": 0,
      "outputs": []
    },
    {
      "cell_type": "markdown",
      "metadata": {
        "id": "74FCvanlQ2d0",
        "colab_type": "text"
      },
      "source": [
        "#Users: initialization"
      ]
    },
    {
      "cell_type": "code",
      "metadata": {
        "id": "zRcql6DNp08l",
        "colab_type": "code",
        "cellView": "code",
        "outputId": "7ed3da30-ffd4-4f89-e471-a13d50e2bdb9",
        "colab": {
          "base_uri": "https://localhost:8080/",
          "height": 34
        }
      },
      "source": [
        "#@title Load json and make dict called \"all_users\" \n",
        "user_names = set()\n",
        "DELETED_USER_NAME = '[deleted]'\n",
        "\n",
        "with open('gdrive/My Drive/CS6742/coarse_discourse_dump_reddit_with_votes.json', 'r') as f:\n",
        "  for line in f:\n",
        "    json_obj = json.loads(line)\n",
        "    for post in json_obj['posts']:\n",
        "      if 'author' in post:\n",
        "        user_names.add(post['author'])\n",
        "      else:\n",
        "        # I spot checked a post and comment, and it seems that a missing 'author' means it was deleted (post: t3_29mjj7, comment: t1_crzi5yt in reply to t3_391dim)\n",
        "        user_names.add(DELETED_USER_NAME)\n",
        "\n",
        "all_users = {user_name: convokit.User(name=user_name) for user_name in user_names}\n",
        "\n",
        "print(\"Created {} users\".format(len(all_users)))\n"
      ],
      "execution_count": 0,
      "outputs": [
        {
          "output_type": "stream",
          "text": [
            "Created 63573 users\n"
          ],
          "name": "stdout"
        }
      ]
    },
    {
      "cell_type": "code",
      "metadata": {
        "id": "Gc4D92xkx2UG",
        "colab_type": "code",
        "outputId": "56d4da80-1af8-482e-ad7a-4fa4c98b5066",
        "colab": {
          "base_uri": "https://localhost:8080/",
          "height": 102
        }
      },
      "source": [
        "#@title Check results\n",
        "print(\"\\nSample users:\")\n",
        "disp(list(all_users.items())[:3])"
      ],
      "execution_count": 0,
      "outputs": [
        {
          "output_type": "stream",
          "text": [
            "\n",
            "Sample users:\n"
          ],
          "name": "stdout"
        },
        {
          "output_type": "display_data",
          "data": {
            "text/plain": [
              "[('BiLaKaifa', User([('name', 'BiLaKaifa')])),\n",
              " ('nats15', User([('name', 'nats15')])),\n",
              " ('onnela', User([('name', 'onnela')]))]"
            ]
          },
          "metadata": {
            "tags": []
          }
        }
      ]
    },
    {
      "cell_type": "markdown",
      "metadata": {
        "id": "s6rBMo6JQ6gs",
        "colab_type": "text"
      },
      "source": [
        "#Utterances"
      ]
    },
    {
      "cell_type": "code",
      "metadata": {
        "id": "6HllJBAYQ7wi",
        "colab_type": "code",
        "cellView": "code",
        "colab": {}
      },
      "source": [
        "#@title Make \"utterance_corpus\" dict\n",
        "'''\n",
        "\n",
        "id: index of the utterance\n",
        "user: the user who author the utterance\n",
        "root: index of the conversation root of the utterance\n",
        "reply_to: index of the utterance to which this utterance replies to (None if the utterance is not a reply)\n",
        "timestamp: time of the utterance\n",
        "text: textual content of the utterance\n",
        "\n",
        "meta: dictionary of utterance metadata\n",
        "    post_depth, \n",
        "    majority type\n",
        "    ann_types\n",
        "    majority_linkann_links\n",
        "    ups\n",
        "    \n",
        "'''\n",
        "user_names = set()\n",
        "DELETED_USER_NAME = '[deleted]'\n",
        "\n",
        "with open('gdrive/My Drive/CS6742/coarse_discourse_dump_reddit_with_votes.json', 'r') as f:\n",
        "  for line in f:\n",
        "    json_obj = json.loads(line)\n",
        "    for post in json_obj['posts']:\n",
        "      if 'author' in post:\n",
        "        user_names.add(post['author'])\n",
        "      else:\n",
        "        # I spot checked a post and comment, and it seems that a missing 'author' means it was deleted (post: t3_29mjj7, comment: t1_crzi5yt in reply to t3_391dim)\n",
        "        user_names.add(DELETED_USER_NAME)\n",
        "\n",
        "all_users = {user_name: convokit.User(name=user_name) for user_name in user_names}\n",
        "\n",
        "utterance_corpus = {}\n",
        "      \n",
        "with open('gdrive/My Drive/CS6742/coarse_discourse_dump_reddit_with_votes.json', 'r') as f:\n",
        "    for line in f:\n",
        "      json_obj = json.loads(line)\n",
        "\n",
        "      root = json_obj['posts'][0]['id']\n",
        "\n",
        "      for post in json_obj['posts']:\n",
        "        \n",
        "        idx = post['id'] \n",
        "        text = post['body'] if 'body' in post else None\n",
        "        user, post_depth, in_reply_to = None, None, None\n",
        "        \n",
        "        if 'author' in post:\n",
        "          user = post['author']\n",
        "        else:\n",
        "          user = DELETED_USER_NAME\n",
        "\n",
        "        if 'is_first_post' in post:\n",
        "          in_reply_to = None\n",
        "          post_depth = 0\n",
        "        else:\n",
        "          in_reply_to = post['in_reply_to']\n",
        "          post_depth = post['post_depth']\n",
        "\n",
        "        annotations = post['annotations']  \n",
        "  \n",
        "        metadata = {\n",
        "          'post_depth': post_depth,\n",
        "          'majority_type': post['majority_type'] if 'majority_type' in post else None,\n",
        "          'majority_link': post['majority_link'] if 'majority_link' in post else None,\n",
        "          'annotation-types': [annotation['main_type'] for annotation in annotations],\n",
        "          'annotation-links': [annotation['link_to_post'] if 'link_to_post' in annotation else None for annotation in annotations],\n",
        "          'ups': post['ups'] if 'ups' in post else None\n",
        "\n",
        "        }\n",
        "\n",
        "        utterance_corpus[idx] = convokit.Utterance(idx, all_users[user], root, in_reply_to, None, text, meta=metadata)\n",
        "      \n",
        "    "
      ],
      "execution_count": 0,
      "outputs": []
    },
    {
      "cell_type": "code",
      "metadata": {
        "id": "5AzgTHJ19N0O",
        "colab_type": "code",
        "outputId": "5d3e3e8a-589e-48c3-c6fb-0b23e0da759f",
        "colab": {
          "base_uri": "https://localhost:8080/",
          "height": 411
        }
      },
      "source": [
        "print(len(user_names))\n",
        "print(len(utterance_corpus))\n",
        "disp(list(utterance_corpus.items())[:10])"
      ],
      "execution_count": 0,
      "outputs": [
        {
          "output_type": "stream",
          "text": [
            "63573\n",
            "115827\n"
          ],
          "name": "stdout"
        },
        {
          "output_type": "display_data",
          "data": {
            "text/plain": [
              "[('t3_1bx6qw',\n",
              "  Utterance({'id': 't3_1bx6qw', 'user': User([('name', 'DTX120')]), 'root': 't3_1bx6qw', 'reply_to': None, 'timestamp': None, 'text': \"4/7/13  \\n\\n7/27/12  \\n\\nhttp://www.imdb.com/title/tt0073440/reference\\n\\nIt was only a few minutes into Robert Altman's homespun epic *Nashville* that I got the feeling I was watching a great movie. By the end it could not be denied. Now I'm sure it helps that I'm a musician, since this created an immediate connection to the subject matter. I spent a portion of the movie with my Telecaster in my lap trying to play along with the characters who all seem to be really playing and singing these songs. However I also am *not* a fan of country western, so that could have easily been a turn off.  \\n\\nTo begin describing the action in the film is daunting. I can't even process a lot of what I saw. This movie is extremely dense, and the first 30 minutes or so are spent just trying to figure out who people are. Their relationships to one another - some of which are purely incidental - slowly become clear as things progress. It's an ensemble cast with no clear lead and lots of overlapping conversations. Some developments all tie together in the end. Some seem to be kind of loose ends. There is throughout, however, a very keen sense about people. These naturalistic performances are believable and so is the world they inhabit. It feels like a film that doesn't exaggerate - rather, it downplays some of the outrageousness which just makes it seem all the more outrageous. Consider for example Shelley Duvall's wig or Jeff Goldblum's entire character.  \\n\\nI feel I should mention this. Jeff Goldblum is in this film. He never speaks, and he is awesome.  \\n\\n*Nashville* is a musical. There is reportedly around an hour of music in its 150+ minute run time. I believe it. Sometimes these songs, most if not all of which are original, seem to speak pointedly to or about a character. Sometimes it's all about the shifts and glances in the audience. There are many memorable scenes, such as when a fragile country starlet spaces out on stage and begins rambling between numbers, or a disenchanted housewife waits at the back of a bar for a womanizing folk singer, or a poor deceived waitress is goaded into a striptease by a raucous crowd and still refuses to believe that she can't actually sing.   \\n\\nThis is rich film, a complex tapestry perfectly suited to a moment in time (the US Bicentennial) that seems as though it will reward additional viewings. I sometimes become fidgety during long movies but I was never bored with *Nashville*. It swept me along with its quirky and interesting characters to a climax that maybe I should have seen coming.  \\n\\n8/10\", 'meta': {'post_depth': 0, 'majority_type': 'announcement', 'majority_link': 'none', 'annotation-types': ['announcement', 'announcement', 'announcement'], 'annotation-links': ['none', 'none', 'none'], 'ups': 3}})),\n",
              " ('t1_c9b2nyd',\n",
              "  Utterance({'id': 't1_c9b2nyd', 'user': User([('name', 'mcgrewf10')]), 'root': 't3_1bx6qw', 'reply_to': 't3_1bx6qw', 'timestamp': None, 'text': \"I've wanted to watch this for a long time. I was also turned off by the country western aspect.\", 'meta': {'post_depth': 1, 'majority_type': 'elaboration', 'majority_link': 't3_1bx6qw', 'annotation-types': ['agreement', 'elaboration', 'elaboration'], 'annotation-links': ['t3_1bx6qw', 't3_1bx6qw', 't3_1bx6qw'], 'ups': 2}})),\n",
              " ('t1_c9b30i1',\n",
              "  Utterance({'id': 't1_c9b30i1', 'user': User([('name', 'DTX120')]), 'root': 't3_1bx6qw', 'reply_to': 't1_c9b2nyd', 'timestamp': None, 'text': \"You strike me as the type who would appreciate it. I would give it a go. This is also my first Altman film so I didn't really know what to expect, except that people always compare PTA's Boogie Nights and Magnolia as being influenced by Altman. Magnolia is probably the best analog in terms of structure (having no lead character) but it is stylistically very different, much more melodramatic and transparently earnest. \", 'meta': {'post_depth': 2, 'majority_type': 'elaboration', 'majority_link': 't1_c9b2nyd', 'annotation-types': ['elaboration', 'elaboration', 'elaboration'], 'annotation-links': ['t1_c9b2nyd', 't1_c9b2nyd', 't1_c9b2nyd'], 'ups': 1}})),\n",
              " ('t1_c9b6sj0',\n",
              "  Utterance({'id': 't1_c9b6sj0', 'user': User([('name', 'mcgrewf10')]), 'root': 't3_1bx6qw', 'reply_to': 't1_c9b30i1', 'timestamp': None, 'text': \"Yeah, I've always heard that Altman was famous for his ensemble casts. But I, too, have never seen an Altman.\", 'meta': {'post_depth': 3, 'majority_type': 'elaboration', 'majority_link': 't1_c9b30i1', 'annotation-types': ['agreement', 'elaboration', 'elaboration'], 'annotation-links': ['t1_c9b30i1', 't1_c9b30i1', 't1_c9b30i1'], 'ups': 1}})),\n",
              " ('t3_omv7p',\n",
              "  Utterance({'id': 't3_omv7p', 'user': User([('name', 'Keatonus')]), 'root': 't3_omv7p', 'reply_to': None, 'timestamp': None, 'text': \"Alright guys, little background about myself. I'm a good looking, 23 year old male, have had modest success in the past with women, but have decided that modest just isn't good enough anymore.\\n\\nThe problem has never been a lack of attention, or opportunity. It's just been not having the killer instinct and extreme AA, to the point where women will basically EYE FUCK me, and I still don't have the testicular fortitude to say anything unless they say something first.\\n\\nMy goal is to approach 100 sets by the end of April, and hopefully break my AA.\", 'meta': {'post_depth': 0, 'majority_type': 'announcement', 'majority_link': 'none', 'annotation-types': ['announcement', 'announcement', 'announcement'], 'annotation-links': ['none', 'none', 'none'], 'ups': 6}})),\n",
              " ('t1_c3igqif',\n",
              "  Utterance({'id': 't1_c3igqif', 'user': User([('name', 'Keatonus')]), 'root': 't3_omv7p', 'reply_to': 't3_omv7p', 'timestamp': None, 'text': '**January 16th 3 Sets:** \\nWent out shopping with my grandma as I visited her. We go to a Factory store. Opened 3 sets.\\n\\n* First Set: was the changing room gal, HB 6 cute asian gal. Asked her a lot of questions about what i was wearing. Made her laugh several times with corny jokes, introduced her to my grandma, and we all talked for a minute after I was done picking out the clothes I wanted and left. \\n\\n* Second set: was this older gal, mid 40\\'s. Wouldn\\'t give her an HB because it was more of just a casual chat about the outfit I put on. She said she didn\\'t like it, I responded with \"aw, I\\'m not attractive?!\" and she said \"I never said that haha\" and grinned. I gave her a wink as she continued laughing and went into her stall.\\n\\n* Third set:  **NUMBER CLOSE** As me and my Grandma are waiting in line to be helped checking out, and HB7 walks to the register and helps us. We IMMEDIATELY small talk. Exchanging intellectual talking points such as martyrs and assassinations, making her laugh with jokes, poking fun at her, transitioned to talking about movies, and she suggested I watch one. The Darjeeling Limited, I gave her a queer look, she then rolled out some receipt to write it down. I asked her to put her name down there too. She did, and then said \"Want my number so you can tell me when you watch it?\" I obliged her saying \"Yeah, that could work\". It was only after I got her number she even ACKNOWLEDGED my grandmother being ONE FOOT next to me the whole time! HAHA. She asked who she was, I said my Grandmother. Mind you I look completely white, and my grandmother is full Japanese. We talked for a bit about my grandma and the war, and how my grandma was bombed etc. Then I take my leave and text her about an hour later. We have been talking since.\\n\\nTL;DR: Got a number with my Grandma right next to me!', 'meta': {'post_depth': 1, 'majority_type': 'elaboration', 'majority_link': 't3_omv7p', 'annotation-types': ['elaboration', 'elaboration', 'elaboration'], 'annotation-links': ['t3_omv7p', 't3_omv7p', 't3_omv7p'], 'ups': 5}})),\n",
              " ('t1_c3imrkb',\n",
              "  Utterance({'id': 't1_c3imrkb', 'user': User([('name', 'rakendrachen')]), 'root': 't3_omv7p', 'reply_to': 't1_c3igqif', 'timestamp': None, 'text': 'grandmas are the best wingmen.', 'meta': {'post_depth': 2, 'majority_type': 'humor', 'majority_link': 't1_c3igqif', 'annotation-types': ['humor', 'appreciation', 'humor'], 'annotation-links': ['t1_c3igqif', 't1_c3igqif', 't1_c3igqif'], 'ups': 3}})),\n",
              " ('t1_c3ij8z0',\n",
              "  Utterance({'id': 't1_c3ij8z0', 'user': User([('name', 'answerorreply')]), 'root': 't3_omv7p', 'reply_to': 't3_omv7p', 'timestamp': None, 'text': \"dude, these sets are awesome. You're doing great. Sounds like you're a natural at meeting people once you get past the AA.\", 'meta': {'post_depth': 1, 'majority_type': 'appreciation', 'majority_link': 't3_omv7p', 'annotation-types': ['appreciation', 'appreciation', 'appreciation'], 'annotation-links': ['t3_omv7p', 't3_omv7p', 't3_omv7p'], 'ups': 2}})),\n",
              " ('t1_c3inx9t',\n",
              "  Utterance({'id': 't1_c3inx9t', 'user': User([('name', 'Keatonus')]), 'root': 't3_omv7p', 'reply_to': 't1_c3ij8z0', 'timestamp': None, 'text': 'Thanks man! Yeah I\\'m trying to just keep the \"who cares have fun\" attitude on. Because normally I freak out about what to say. But I find if I just bring a subject up and get some momentum going, I\\'m actually a pretty good conversationalist.', 'meta': {'post_depth': 2, 'majority_type': 'appreciation', 'majority_link': 't1_c3ij8z0', 'annotation-types': ['appreciation', 'appreciation', 'appreciation'], 'annotation-links': ['t1_c3ij8z0', 't1_c3ij8z0', 't1_c3ij8z0'], 'ups': 1}})),\n",
              " ('t1_c3k2lc1',\n",
              "  Utterance({'id': 't1_c3k2lc1', 'user': User([('name', 'Keatonus')]), 'root': 't3_omv7p', 'reply_to': 't3_omv7p', 'timestamp': None, 'text': \"Ok. Update! Sorry I haven't been doing this day to day like I should be. Let me see what I can remember\\n\\n**January 17-23 Sets:** Various sets I remember opening, unfortunately no number closes. Just good old fashioned chit chatting.\\n\\n* 4th set: During the 49ers and Giants game I went to grab a bite to eat at the local burger joint. Before ordering since no line was behind me I decided to small talk with the Female at the register HB5. Mostly talked about sports, a little about myself, and her coworker HB6 joined in the conversation. This lasted about 5 minutes, learned both had boyfriends through small talk and proceeded to order.\\n\\n* 5th set: Also small talked with the female who works at my local grocery chain. She was new there, we talked about the rain of all things haha. Male coworker semi interrupted us, still small talked with both. Then ordered my drink.\\n\\nBlahhh, I know there's more than this...Hence why I should try to update every day. Be back soon guys.\", 'meta': {'post_depth': 1, 'majority_type': 'elaboration', 'majority_link': 't3_omv7p', 'annotation-types': ['elaboration', 'elaboration', 'elaboration'], 'annotation-links': ['t3_omv7p', 't3_omv7p', 't3_omv7p'], 'ups': 1}}))]"
            ]
          },
          "metadata": {
            "tags": []
          }
        }
      ]
    },
    {
      "cell_type": "markdown",
      "metadata": {
        "id": "aWyST0CERBu4",
        "colab_type": "text"
      },
      "source": [
        "#Conversation"
      ]
    },
    {
      "cell_type": "code",
      "metadata": {
        "id": "EnGlyyKJREmd",
        "colab_type": "code",
        "cellView": "code",
        "colab": {}
      },
      "source": [
        "#@title Make \"conversation_corpus\" dict\n",
        "\n",
        "conversation_corpus = {}\n",
        "with open('gdrive/My Drive/CS6742/coarse_discourse_dump_reddit_with_votes.json', 'r') as f:\n",
        "  for line in f:\n",
        "    json_obj = json.loads(line)\n",
        "    \n",
        "    posts = json_obj[\"posts\"]\n",
        "    first = posts[0]\n",
        "    \n",
        "    #print(first)\n",
        "    \n",
        "    if(first.get('author')!=None):\n",
        "      owner = first['author']\n",
        "    else:\n",
        "      owner = '[deleted]'\n",
        "    \n",
        "    convo_id = first['id'][:]\n",
        "    \n",
        "    comments = []\n",
        "    \n",
        "    for comment in posts[:]:\n",
        "      comments.append(comment['id'][:])\n",
        "    \n",
        "    meta_data = {\n",
        "        \"subreddit\": json_obj['subreddit'], \n",
        "        \"url\": json_obj['url'],\n",
        "        \"title\": json_obj['title']}\n",
        "    \n",
        "    conversation_corpus[convo_id] = convokit.Conversation(owner, convo_id, comments, meta_data)\n",
        "    "
      ],
      "execution_count": 0,
      "outputs": []
    },
    {
      "cell_type": "code",
      "metadata": {
        "id": "hSkmNrNeti-f",
        "colab_type": "code",
        "outputId": "6d7a2277-df5f-4cfa-c016-8bbb5d875131",
        "colab": {
          "base_uri": "https://localhost:8080/",
          "height": 54
        }
      },
      "source": [
        "print(conversation_corpus['t3_1bx6qw'])"
      ],
      "execution_count": 0,
      "outputs": [
        {
          "output_type": "stream",
          "text": [
            "Conversation({'_owner': 'DTX120', '_id': 't3_1bx6qw', '_utterance_ids': ['t3_1bx6qw', 't1_c9b2nyd', 't1_c9b30i1', 't1_c9b6sj0'], '_usernames': None, '_meta': {'subreddit': '100movies365days', 'url': 'https://www.reddit.com/r/100movies365days/comments/1bx6qw/dtx120_87_nashville/', 'title': 'DTX120: #87 - Nashville'}})\n"
          ],
          "name": "stdout"
        }
      ]
    },
    {
      "cell_type": "markdown",
      "metadata": {
        "id": "JtIeE635wzTH",
        "colab_type": "text"
      },
      "source": [
        "# Users: add utterances"
      ]
    },
    {
      "cell_type": "code",
      "metadata": {
        "id": "-LFLT3tLxNC-",
        "colab_type": "code",
        "cellView": "code",
        "outputId": "fd8f6aae-91a8-4e1b-c36f-1e106e6b67cc",
        "colab": {
          "base_uri": "https://localhost:8080/",
          "height": 255
        }
      },
      "source": [
        "#@title Test that adding utterances to users also updates user object attached to utterances\n",
        "\n",
        "test_users = {user_name: convokit.User(name=user_name) for user_name in ['user1', 'user2', 'user3']}\n",
        "\n",
        "test_utterances = {\n",
        "    'id1.1': convokit.Utterance('id1.1', test_users['user1'], None, None, None, 'some_text'),\n",
        "    'id1.2': convokit.Utterance('id1.2', test_users['user1'], None, None, None, 'some_text'),\n",
        "    'id2.1': convokit.Utterance('id2.1', test_users['user2'], None, None, None, 'some_text'),\n",
        "}\n",
        "\n",
        "test_convos = {\n",
        "    'id1.1': convokit.Conversation(owner=None, id=\"id1.1\", utterances=['id1.1', 'id2.1']),\n",
        "    'id1.2': convokit.Conversation(owner=None, id=\"id1.2\", utterances=['id1.2'])\n",
        "    \n",
        "}\n",
        "\n",
        "\n",
        "for utt in test_utterances.values():\n",
        "  utt.user.utterances[utt.id] = utt\n",
        "  \n",
        "for i, convo in enumerate(test_convos.values()):\n",
        "  top_post = test_utterances[convo.id]\n",
        "  top_post.user.conversations[convo.id] = convo\n",
        "\n",
        "print(\"All test users, with associated utterance keys:\")\n",
        "for uid, user in test_users.items():\n",
        "  print(\"\\tUser ID: {} \\tUtterance keys: {}\".format(uid, list(user.utterances.keys())))\n",
        "  \n",
        "print()\n",
        "\n",
        "print(\"All test users, with associated convo keys:\")\n",
        "for uid, user in test_users.items():\n",
        "  print(\"\\tUser ID: {} \\tConvo keys: {}\".format(uid, list(user.conversations.keys())))\n",
        "  \n",
        "print()\n",
        "\n",
        "print(\"All test utterances, with associated user, and user's associated utterance keys:\")\n",
        "for utt_id, utt in test_utterances.items():\n",
        "  print(\"\\tUtt. ID: {} \\tUser ID: {} \\tUser's utt. keys: {}\".format(utt_id, utt.user.name, list(utt.user.utterances.keys())))"
      ],
      "execution_count": 0,
      "outputs": [
        {
          "output_type": "stream",
          "text": [
            "All test users, with associated utterance keys:\n",
            "\tUser ID: user1 \tUtterance keys: ['id1.1', 'id1.2']\n",
            "\tUser ID: user2 \tUtterance keys: ['id2.1']\n",
            "\tUser ID: user3 \tUtterance keys: []\n",
            "\n",
            "All test users, with associated convo keys:\n",
            "\tUser ID: user1 \tConvo keys: ['id1.1', 'id1.2']\n",
            "\tUser ID: user2 \tConvo keys: []\n",
            "\tUser ID: user3 \tConvo keys: []\n",
            "\n",
            "All test utterances, with associated user, and user's associated utterance keys:\n",
            "\tUtt. ID: id1.1 \tUser ID: user1 \tUser's utt. keys: ['id1.1', 'id1.2']\n",
            "\tUtt. ID: id1.2 \tUser ID: user1 \tUser's utt. keys: ['id1.1', 'id1.2']\n",
            "\tUtt. ID: id2.1 \tUser ID: user2 \tUser's utt. keys: ['id2.1']\n"
          ],
          "name": "stdout"
        }
      ]
    },
    {
      "cell_type": "code",
      "metadata": {
        "id": "B68lLhOL7lZe",
        "colab_type": "code",
        "cellView": "code",
        "outputId": "8caeaa98-0216-4748-9df7-cbbc90930c55",
        "colab": {
          "base_uri": "https://localhost:8080/",
          "height": 34
        }
      },
      "source": [
        "#@title Add utterances to all_users\n",
        "\n",
        "for i, utt in enumerate(utterance_corpus.values()):\n",
        "  utt.user.utterances[utt.id] = utt\n",
        "  \n",
        "print(\"Added {} utterances to all_users\".format(i+1))"
      ],
      "execution_count": 0,
      "outputs": [
        {
          "output_type": "stream",
          "text": [
            "Added 115827 utterances to all_users\n"
          ],
          "name": "stdout"
        }
      ]
    },
    {
      "cell_type": "code",
      "metadata": {
        "id": "l_s8hr3s8L5C",
        "colab_type": "code",
        "cellView": "code",
        "outputId": "e207aad9-b3c8-479f-80d3-c5319e6ca4c1",
        "colab": {
          "base_uri": "https://localhost:8080/",
          "height": 34
        }
      },
      "source": [
        "#@title Add convos to all_users\n",
        "for i, convo in enumerate(conversation_corpus.values()):\n",
        "  top_post = utterance_corpus[convo.id]\n",
        "  top_post.user.conversations[convo.id] = convo\n",
        "  \n",
        "print(\"Added {} convos to all_users\".format(i+1))"
      ],
      "execution_count": 0,
      "outputs": [
        {
          "output_type": "stream",
          "text": [
            "Added 9483 convos to all_users\n"
          ],
          "name": "stdout"
        }
      ]
    },
    {
      "cell_type": "markdown",
      "metadata": {
        "id": "uZjT-W8hRFBq",
        "colab_type": "text"
      },
      "source": [
        "#Corpus"
      ]
    },
    {
      "cell_type": "code",
      "metadata": {
        "id": "mOuhP1JPRG8t",
        "colab_type": "code",
        "outputId": "bd8e74a3-f0f5-482c-a588-72f1f9f86526",
        "colab": {
          "base_uri": "https://localhost:8080/",
          "height": 207
        }
      },
      "source": [
        "#@title Create corpus and add conversation metadata\n",
        "utterance_list = [utterance for k,utterance in utterance_corpus.items()]\n",
        "reddit_corpus = convokit.Corpus(utterances=utterance_list, version=1)\n",
        "\n",
        "for convo_id in reddit_corpus.get_conversation_ids():\n",
        "  reddit_corpus.get_conversation(convo_id).meta = conversation_corpus[convo_id].meta\n",
        "\n",
        "convo_ids = reddit_corpus.get_conversation_ids()\n",
        "for i, convo_idx in enumerate(convo_ids[0:5]):\n",
        "    print(\"sample conversation {}:\".format(convo_idx))\n",
        "    convo = reddit_corpus.get_conversation(convo_idx)\n",
        "    user_id = convo.get_utterance(convo.id).user.name\n",
        "    print(\"Meta: \", convo.meta)\n"
      ],
      "execution_count": 0,
      "outputs": [
        {
          "output_type": "stream",
          "text": [
            "sample conversation t3_1bx6qw:\n",
            "Meta:  {'subreddit': '100movies365days', 'url': 'https://www.reddit.com/r/100movies365days/comments/1bx6qw/dtx120_87_nashville/', 'title': 'DTX120: #87 - Nashville'}\n",
            "sample conversation t3_omv7p:\n",
            "Meta:  {'subreddit': '100sets', 'url': 'https://www.reddit.com/r/100sets/comments/omv7p/male_23_years_old_going_for_100_sets/', 'title': 'Male, 23 years old. Going for 100 sets!'}\n",
            "sample conversation t3_259tbh:\n",
            "Meta:  {'subreddit': '1200isplenty', 'url': 'https://www.reddit.com/r/1200isplenty/comments/259tbh/122cal_black_currant_cheesecake/', 'title': '122cal black currant cheesecake!'}\n",
            "sample conversation t3_16h61h:\n",
            "Meta:  {'subreddit': '1911', 'url': 'https://www.reddit.com/r/1911/comments/16h61h/need_help_finding_a_springfield/', 'title': 'Need help finding a Springfield!'}\n",
            "sample conversation t3_35igzp:\n",
            "Meta:  {'subreddit': '1911', 'url': 'https://www.reddit.com/r/1911/comments/35igzp/help_with_a_possible_trade/', 'title': 'Help with a possible trade?'}\n"
          ],
          "name": "stdout"
        }
      ]
    },
    {
      "cell_type": "code",
      "metadata": {
        "id": "0E0LEGX1QsBN",
        "colab_type": "code",
        "cellView": "code",
        "outputId": "2a04d5c0-418f-4c3a-b9d3-2d28a8ca5091",
        "colab": {
          "base_uri": "https://localhost:8080/",
          "height": 395
        }
      },
      "source": [
        "# @title Save to file and zip\n",
        "reddit_corpus.dump(\"reddit_coarse_discourse\", base_path = \"gdrive/My Drive/CS6742/\")\n",
        "\n",
        "with ZipFile(\"gdrive/My Drive/CS6742/reddit_coarse_discourse.zip\", 'w') as zip_f:\n",
        "  for fname in os.listdir(\"gdrive/My Drive/CS6742/reddit_coarse_discourse\"):\n",
        "    zip_f.write(\"gdrive/My Drive/CS6742/reddit_coarse_discourse/\"+fname)"
      ],
      "execution_count": 0,
      "outputs": [
        {
          "output_type": "error",
          "ename": "KeyboardInterrupt",
          "evalue": "ignored",
          "traceback": [
            "\u001b[0;31m---------------------------------------------------------------------------\u001b[0m",
            "\u001b[0;31mKeyboardInterrupt\u001b[0m                         Traceback (most recent call last)",
            "\u001b[0;32m<ipython-input-19-968303756e32>\u001b[0m in \u001b[0;36m<module>\u001b[0;34m()\u001b[0m\n\u001b[0;32m----> 1\u001b[0;31m \u001b[0mreddit_corpus\u001b[0m\u001b[0;34m.\u001b[0m\u001b[0mdump\u001b[0m\u001b[0;34m(\u001b[0m\u001b[0;34m\"reddit_coarse_discourse\"\u001b[0m\u001b[0;34m,\u001b[0m \u001b[0mbase_path\u001b[0m \u001b[0;34m=\u001b[0m \u001b[0;34m\"gdrive/My Drive/CS6742/\"\u001b[0m\u001b[0;34m)\u001b[0m\u001b[0;34m\u001b[0m\u001b[0;34m\u001b[0m\u001b[0m\n\u001b[0m\u001b[1;32m      2\u001b[0m \u001b[0;34m\u001b[0m\u001b[0m\n\u001b[1;32m      3\u001b[0m \u001b[0;32mwith\u001b[0m \u001b[0mZipFile\u001b[0m\u001b[0;34m(\u001b[0m\u001b[0;34m\"gdrive/My Drive/CS6742/reddit_coarse_discourse.zip\"\u001b[0m\u001b[0;34m,\u001b[0m \u001b[0;34m'w'\u001b[0m\u001b[0;34m)\u001b[0m \u001b[0;32mas\u001b[0m \u001b[0mzip_f\u001b[0m\u001b[0;34m:\u001b[0m\u001b[0;34m\u001b[0m\u001b[0;34m\u001b[0m\u001b[0m\n\u001b[1;32m      4\u001b[0m   \u001b[0;32mfor\u001b[0m \u001b[0mfname\u001b[0m \u001b[0;32min\u001b[0m \u001b[0mos\u001b[0m\u001b[0;34m.\u001b[0m\u001b[0mlistdir\u001b[0m\u001b[0;34m(\u001b[0m\u001b[0;34m\"gdrive/My Drive/CS6742/reddit_coarse_discourse\"\u001b[0m\u001b[0;34m)\u001b[0m\u001b[0;34m:\u001b[0m\u001b[0;34m\u001b[0m\u001b[0;34m\u001b[0m\u001b[0m\n\u001b[1;32m      5\u001b[0m     \u001b[0mzip_f\u001b[0m\u001b[0;34m.\u001b[0m\u001b[0mwrite\u001b[0m\u001b[0;34m(\u001b[0m\u001b[0;34m\"gdrive/My Drive/CS6742/reddit_coarse_discourse/\"\u001b[0m\u001b[0;34m+\u001b[0m\u001b[0mfname\u001b[0m\u001b[0;34m)\u001b[0m\u001b[0;34m\u001b[0m\u001b[0;34m\u001b[0m\u001b[0m\n",
            "\u001b[0;32m/usr/local/lib/python3.6/dist-packages/convokit/model/corpus.py\u001b[0m in \u001b[0;36mdump\u001b[0;34m(self, name, base_path, save_to_existing_path)\u001b[0m\n\u001b[1;32m    328\u001b[0m                     \u001b[0mKeyTimestamp\u001b[0m\u001b[0;34m:\u001b[0m \u001b[0mut\u001b[0m\u001b[0;34m.\u001b[0m\u001b[0mtimestamp\u001b[0m\u001b[0;34m\u001b[0m\u001b[0;34m\u001b[0m\u001b[0m\n\u001b[1;32m    329\u001b[0m                 }\n\u001b[0;32m--> 330\u001b[0;31m                 \u001b[0mjson\u001b[0m\u001b[0;34m.\u001b[0m\u001b[0mdump\u001b[0m\u001b[0;34m(\u001b[0m\u001b[0mut_obj\u001b[0m\u001b[0;34m,\u001b[0m \u001b[0mf\u001b[0m\u001b[0;34m)\u001b[0m\u001b[0;34m\u001b[0m\u001b[0;34m\u001b[0m\u001b[0m\n\u001b[0m\u001b[1;32m    331\u001b[0m                 \u001b[0mf\u001b[0m\u001b[0;34m.\u001b[0m\u001b[0mwrite\u001b[0m\u001b[0;34m(\u001b[0m\u001b[0;34m\"\\n\"\u001b[0m\u001b[0;34m)\u001b[0m\u001b[0;34m\u001b[0m\u001b[0;34m\u001b[0m\u001b[0m\n\u001b[1;32m    332\u001b[0m \u001b[0;34m\u001b[0m\u001b[0m\n",
            "\u001b[0;32m/usr/lib/python3.6/json/__init__.py\u001b[0m in \u001b[0;36mdump\u001b[0;34m(obj, fp, skipkeys, ensure_ascii, check_circular, allow_nan, cls, indent, separators, default, sort_keys, **kw)\u001b[0m\n\u001b[1;32m    178\u001b[0m     \u001b[0;31m# a debuggability cost\u001b[0m\u001b[0;34m\u001b[0m\u001b[0;34m\u001b[0m\u001b[0;34m\u001b[0m\u001b[0m\n\u001b[1;32m    179\u001b[0m     \u001b[0;32mfor\u001b[0m \u001b[0mchunk\u001b[0m \u001b[0;32min\u001b[0m \u001b[0miterable\u001b[0m\u001b[0;34m:\u001b[0m\u001b[0;34m\u001b[0m\u001b[0;34m\u001b[0m\u001b[0m\n\u001b[0;32m--> 180\u001b[0;31m         \u001b[0mfp\u001b[0m\u001b[0;34m.\u001b[0m\u001b[0mwrite\u001b[0m\u001b[0;34m(\u001b[0m\u001b[0mchunk\u001b[0m\u001b[0;34m)\u001b[0m\u001b[0;34m\u001b[0m\u001b[0;34m\u001b[0m\u001b[0m\n\u001b[0m\u001b[1;32m    181\u001b[0m \u001b[0;34m\u001b[0m\u001b[0m\n\u001b[1;32m    182\u001b[0m \u001b[0;34m\u001b[0m\u001b[0m\n",
            "\u001b[0;31mKeyboardInterrupt\u001b[0m: "
          ]
        }
      ]
    },
    {
      "cell_type": "code",
      "metadata": {
        "id": "rirZ-FNFfVal",
        "colab_type": "code",
        "outputId": "0d5512f4-0da7-4f98-b60b-3bba68ee36c6",
        "cellView": "form",
        "colab": {
          "base_uri": "https://localhost:8080/",
          "height": 119
        }
      },
      "source": [
        "#@title Show stats\n",
        "\n",
        "print(len(reddit_corpus.get_utterance_ids()))\n",
        "print(len(reddit_corpus.get_conversation_ids()))\n",
        "print(len(reddit_corpus.get_usernames()))\n",
        "reddit_corpus.print_summary_stats()"
      ],
      "execution_count": 0,
      "outputs": [
        {
          "output_type": "stream",
          "text": [
            "115827\n",
            "9483\n",
            "63573\n",
            "Number of Users: 63573\n",
            "Number of Utterances: 115827\n",
            "Number of Conversations: 9483\n"
          ],
          "name": "stdout"
        }
      ]
    },
    {
      "cell_type": "markdown",
      "metadata": {
        "id": "p3_-wTJ-ftnN",
        "colab_type": "text"
      },
      "source": [
        "# Part D: Stats and politeness transform"
      ]
    },
    {
      "cell_type": "markdown",
      "metadata": {
        "id": "o5ZGJxemEfVz",
        "colab_type": "text"
      },
      "source": [
        "## Discourse type stats"
      ]
    },
    {
      "cell_type": "code",
      "metadata": {
        "id": "_8vnE_4zvgd2",
        "colab_type": "code",
        "colab": {}
      },
      "source": [
        "type_corpus = {}\n",
        "type_list = []\n",
        "\n",
        "for x in utterance_corpus:\n",
        "  #type_corpus[x] = utterance_corpus[x].meta[\"majority_type\"]\n",
        "  if(utterance_corpus[x].meta[\"majority_type\"]==None):\n",
        "    type_list.append(\"no consensus\")\n",
        "  else:\n",
        "    type_list.append(utterance_corpus[x].meta[\"majority_type\"])\n",
        "  \n",
        "#print(type_list)\n",
        "\n",
        "from collections import Counter\n",
        "\n",
        "ctrdata = Counter(type_list)"
      ],
      "execution_count": 0,
      "outputs": []
    },
    {
      "cell_type": "code",
      "metadata": {
        "id": "qwIIIVs8ySGU",
        "colab_type": "code",
        "outputId": "eded14bc-5bb7-4c3e-8121-6d334ec04b9c",
        "colab": {
          "base_uri": "https://localhost:8080/",
          "height": 442
        }
      },
      "source": [
        "#https://pythontic.com/visualization/charts/piechart\n",
        "import matplotlib.pyplot as plotter\n",
        "\n",
        "for x in ctrdata:\n",
        "  y = ctrdata[x]\n",
        "  percenty = y / 115827 * 100;\n",
        "  print(x + \" \" + str(y) + \" \" + str(round(percenty,2)) + \"%\")\n",
        "\n",
        "uttlabels = ctrdata.keys()\n",
        "data = ctrdata.values()\n",
        "\n",
        "explode = (0.8, 0.0, 0.6, 0.0, 0.0, 0.0, 0.0, 0.0, 0.2, 0.4, 0.6)\n",
        "\n",
        "figureObject, axesObject = plotter.subplots()\n",
        "\n",
        "# Draw the pie chart\n",
        "\n",
        "axesObject.pie(data,explode=explode,\n",
        "\n",
        "        labels=uttlabels,\n",
        "\n",
        "        autopct='%1.2f',\n",
        "\n",
        "        startangle=90)\n",
        "\n",
        " \n",
        "\n",
        "# Aspect ratio - equal means pie is a circle\n",
        "\n",
        "axesObject.axis('equal')\n",
        "\n",
        " \n",
        "\n",
        "plotter.show()"
      ],
      "execution_count": 0,
      "outputs": [
        {
          "output_type": "stream",
          "text": [
            "announcement 2002 1.73%\n",
            "elaboration 19258 16.63%\n",
            "humor 2417 2.09%\n",
            "appreciation 8710 7.52%\n",
            "question 17594 15.19%\n",
            "answer 41162 35.54%\n",
            "no consensus 12277 10.6%\n",
            "agreement 5040 4.35%\n",
            "negativereaction 1896 1.64%\n",
            "disagreement 3422 2.95%\n",
            "other 2049 1.77%\n"
          ],
          "name": "stdout"
        },
        {
          "output_type": "display_data",
          "data": {
            "image/png": "[encoded data removed]",
            "text/plain": [
              "<Figure size 432x288 with 1 Axes>"
            ]
          },
          "metadata": {
            "tags": []
          }
        }
      ]
    },
    {
      "cell_type": "markdown",
      "metadata": {
        "id": "JSgoPLK6EZja",
        "colab_type": "text"
      },
      "source": [
        "## Politeness transform"
      ]
    },
    {
      "cell_type": "code",
      "metadata": {
        "colab_type": "code",
        "id": "Fw6NFPBaFIkJ",
        "colab": {}
      },
      "source": [
        "#@title Prep corpus by running parser\n",
        "parser = convokit.Parser()\n",
        "reddit_corpus = parser.transform(reddit_corpus)"
      ],
      "execution_count": 0,
      "outputs": []
    },
    {
      "cell_type": "code",
      "metadata": {
        "colab_type": "code",
        "id": "eVlqbUhbFIkM",
        "colab": {}
      },
      "source": [
        "# @title Save again\n",
        "reddit_corpus.dump(\"reddit_coarse_discourse_with_parsed\", base_path = \"gdrive/My Drive/CS6742/\")\n",
        "\n",
        "with ZipFile(\"gdrive/My Drive/CS6742/reddit_coarse_discourse_with_parsed.zip\", 'w') as zip_f:\n",
        "  for fname in os.listdir(\"gdrive/My Drive/CS6742/reddit_coarse_discourse_with_parsed\"):\n",
        "    zip_f.write(\"gdrive/My Drive/CS6742/reddit_coarse_discourse_with_parsed/\"+fname)"
      ],
      "execution_count": 0,
      "outputs": []
    },
    {
      "cell_type": "code",
      "metadata": {
        "colab_type": "code",
        "id": "U2CzWW1kFIkO",
        "colab": {}
      },
      "source": [
        "#@title Get politeness strategies\n",
        "\n",
        "ps = convokit.PolitenessStrategies()\n",
        "reddit_corpus = ps.transform(reddit_corpus)"
      ],
      "execution_count": 0,
      "outputs": []
    },
    {
      "cell_type": "code",
      "metadata": {
        "id": "oHNlirW3Esxh",
        "colab_type": "code",
        "colab": {}
      },
      "source": [
        "# @title Save one more time\n",
        "reddit_corpus.dump(\"reddit_coarse_discourse_with_parsed_and_politeness\", base_path = \"gdrive/My Drive/CS6742/\")\n",
        "\n",
        "with ZipFile(\"gdrive/My Drive/CS6742/reddit_coarse_discourse_with_parsed_and_politeness.zip\", 'w') as zip_f:\n",
        "  for fname in os.listdir(\"gdrive/My Drive/CS6742/reddit_coarse_discourse_with_parsed_and_politeness\"):\n",
        "    zip_f.write(\"gdrive/My Drive/CS6742/reddit_coarse_discourse_with_parsed_and_politeness/\"+fname)"
      ],
      "execution_count": 0,
      "outputs": []
    }
  ]
}